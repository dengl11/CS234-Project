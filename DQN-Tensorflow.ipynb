{
 "cells": [
  {
   "cell_type": "markdown",
   "metadata": {},
   "source": [
    "# DQN\n"
   ]
  },
  {
   "cell_type": "markdown",
   "metadata": {},
   "source": [
    "### Training of DQN in Tensorflow\n",
    "--------------------------"
   ]
  },
  {
   "cell_type": "code",
   "execution_count": 33,
   "metadata": {
    "code_folding": []
   },
   "outputs": [
    {
     "name": "stdout",
     "output_type": "stream",
     "text": [
      "The autoreload extension is already loaded. To reload it, use:\n",
      "  %reload_ext autoreload\n"
     ]
    }
   ],
   "source": [
    "#\n",
    "from util import *\n",
    "from dlg_manager import *\n",
    "from alg import *\n",
    "from agent import *\n",
    "from user_sim import *\n",
    "from state_tracker import *\n",
    "import random\n",
    "from config import *\n",
    "import matplotlib.pyplot as plt\n",
    "import numpy as np\n",
    "from nlg import *\n",
    "from six.moves import cPickle as pickle\n",
    "import IPython\n",
    "import copy, argparse, json\n",
    "\n",
    "%matplotlib inline\n",
    "%load_ext autoreload\n",
    "%autoreload 2"
   ]
  },
  {
   "cell_type": "markdown",
   "metadata": {},
   "source": [
    "# Load Data\n",
    "-------------------"
   ]
  },
  {
   "cell_type": "markdown",
   "metadata": {},
   "source": [
    "#### Action Set"
   ]
  },
  {
   "cell_type": "code",
   "execution_count": 2,
   "metadata": {
    "code_folding": []
   },
   "outputs": [
    {
     "name": "stdout",
     "output_type": "stream",
     "text": [
      "keys = 11\n",
      "Sample of dict:\n",
      "- greeting: 4\n",
      "- confirm_question: 2\n",
      "- closing: 5\n",
      "- inform: 1\n",
      "- thanks: 7\n"
     ]
    }
   ],
   "source": [
    "#\n",
    "act_set_path = './data/dia_acts.txt'\n",
    "act_set = text_to_dict(act_set_path)\n",
    "sample_dict(act_set)"
   ]
  },
  {
   "cell_type": "markdown",
   "metadata": {},
   "source": [
    "### slot set"
   ]
  },
  {
   "cell_type": "code",
   "execution_count": 3,
   "metadata": {
    "code_folding": []
   },
   "outputs": [
    {
     "name": "stdout",
     "output_type": "stream",
     "text": [
      "keys = 29\n",
      "Sample of dict:\n",
      "- starttime: 20\n",
      "- greeting: 9\n",
      "- price: 18\n",
      "- video_format: 24\n",
      "- critic_rating: 4\n"
     ]
    }
   ],
   "source": [
    "#\n",
    "slots_set_path = \"./data/slot_set.txt\"\n",
    "slot_set = text_to_dict(slots_set_path)\n",
    "sample_dict(slot_set)"
   ]
  },
  {
   "cell_type": "markdown",
   "metadata": {},
   "source": [
    "### movie dic: info about movie"
   ]
  },
  {
   "cell_type": "code",
   "execution_count": 4,
   "metadata": {
    "code_folding": []
   },
   "outputs": [
    {
     "name": "stdout",
     "output_type": "stream",
     "text": [
      "keys = 991\n",
      "Sample of dict:\n",
      "- 110: {'date': 'tonight', 'city': 'los angeles', 'moviename': 'The Witch', 'theater': 'Regal LA LIVE Stadium 14', 'starttime': '8:30pm'}\n"
     ]
    }
   ],
   "source": [
    "#\n",
    "movie_kb_path = \"./data/movie_kb.1k.p\"\n",
    "movie_kb = pickle.load(open(movie_kb_path, 'rb'), encoding=\"latin\")\n",
    "sample_dict(movie_kb, sample_size=1)"
   ]
  },
  {
   "cell_type": "markdown",
   "metadata": {},
   "source": [
    "# Language Generator (pretrained)\n",
    "-------------------"
   ]
  },
  {
   "cell_type": "code",
   "execution_count": 5,
   "metadata": {
    "code_folding": [],
    "collapsed": true
   },
   "outputs": [],
   "source": [
    "#\n",
    "nlg_model_path = './data/trained_model/nlg/lstm_tanh_relu_[1468202263.38]_2_0.610.p'\n",
    "nlg_model = Nlg()\n",
    "nlg_model.load_nlg_model(nlg_model_path)\n",
    "diaact_nl_pairs_path = \"./data/nlg/dia_act_nl_pairs.v6.json\"\n",
    "nlg_model.load_predefine_act_nl_pairs(diaact_nl_pairs_path)"
   ]
  },
  {
   "cell_type": "markdown",
   "metadata": {},
   "source": [
    "## Model Params"
   ]
  },
  {
   "cell_type": "code",
   "execution_count": 6,
   "metadata": {
    "code_folding": []
   },
   "outputs": [
    {
     "name": "stdout",
     "output_type": "stream",
     "text": [
      "grad_clip: -0.0001\n",
      "dia_slot_val: 2\n",
      "reg_cost: 0.001\n",
      "data_path: .\\data\\movieMultiLine.Annot.Corrected.Final.v3.csv\n",
      "save_check_point: 20\n",
      "slot_rep: 1\n",
      "max_epochs: 200\n",
      "sdgtype: rmsprop\n",
      "init_rnn: 0\n",
      "cv_fold: 6\n",
      "write_model_dir: .\\checkpoints\\template\\07102016\\\n",
      "valid_test: 0\n",
      "pretrained_model_path: None\n",
      "check_point: 20\n",
      "decay_rate: 0.999\n",
      "feed_recurrence: 0\n",
      "hidden_size: 100\n",
      "activation_func: relu\n",
      "momentum: 0.1\n",
      "learning_rate: 0.001\n",
      "batch_size: 16\n",
      "act_set: data/dia_acts.txt\n",
      "smooth_eps: 1e-08\n",
      "split_method: 1\n",
      "slot_set: data/slot_set.txt\n",
      "eva_metric: 2\n",
      "model: lstm_tanh\n",
      "trained_model_path: None\n"
     ]
    }
   ],
   "source": [
    "#\n",
    "model_params = pickle.load(open(nlg_model_path, 'rb'), encoding='latin1')\n",
    "params = model_params['params']\n",
    "params['batch_size'] = 16\n",
    "batch_size = 16\n",
    "save_check_point = 20\n",
    "params['trained_model_path'] = None\n",
    "for k in params:\n",
    "    print(\"{}: {}\".format(k, params[k]))"
   ]
  },
  {
   "cell_type": "markdown",
   "metadata": {},
   "source": [
    "# User Simulator\n",
    "-------------------"
   ]
  },
  {
   "cell_type": "markdown",
   "metadata": {},
   "source": [
    "### goal"
   ]
  },
  {
   "cell_type": "code",
   "execution_count": 7,
   "metadata": {
    "code_folding": []
   },
   "outputs": [
    {
     "name": "stdout",
     "output_type": "stream",
     "text": [
      "goals length: 128\n",
      "Sample the first goal: \n",
      "{'request_slots': {}, 'diaact': 'request', 'inform_slots': {'city': 'birmingham', 'numberofpeople': '1', 'theater': 'carmike summit 16', 'state': 'al', 'starttime': 'around 2pm', 'date': 'today', 'moviename': 'zootopia'}}\n"
     ]
    }
   ],
   "source": [
    "#\n",
    "goal_file_path = './data/user_goals_first_turn_template.part.movie.v1.p'\n",
    "all_goal_set = pickle.load(open(goal_file_path, 'rb'), encoding=\"latin\")\n",
    "print(\"goals length: {}\".format(len(all_goal_set)))\n",
    "print(\"Sample the first goal: \\n{}\".format(all_goal_set[0]))"
   ]
  },
  {
   "cell_type": "markdown",
   "metadata": {},
   "source": [
    "### Split goal set"
   ]
  },
  {
   "cell_type": "code",
   "execution_count": 8,
   "metadata": {
    "code_folding": []
   },
   "outputs": [
    {
     "name": "stdout",
     "output_type": "stream",
     "text": [
      "102\n",
      "0\n",
      "26\n",
      "128\n"
     ]
    }
   ],
   "source": [
    "# split goal set\n",
    "split_fold = params.get('split_fold', 5)\n",
    "goal_set = {'train':[], 'valid':[], 'test':[], 'all':[]}\n",
    "for u_goal_id, u_goal in enumerate(all_goal_set):\n",
    "    if u_goal_id % split_fold == 1: goal_set['test'].append(u_goal)\n",
    "    else: goal_set['train'].append(u_goal)\n",
    "    goal_set['all'].append(u_goal)\n",
    "print(len(goal_set['train']))\n",
    "print(len(goal_set['valid']))\n",
    "print(len(goal_set['test']))\n",
    "print(len(goal_set['all']))"
   ]
  },
  {
   "cell_type": "markdown",
   "metadata": {},
   "source": [
    "### user simulator param"
   ]
  },
  {
   "cell_type": "code",
   "execution_count": 9,
   "metadata": {
    "code_folding": [],
    "collapsed": true
   },
   "outputs": [],
   "source": [
    "#\n",
    "usersim_params = {}\n",
    "usersim_params['max_turn'] = 40\n",
    "usersim_params['slot_err_prob'] = 0.00\n",
    "# slot_err_mode: 0 for slot_val only; 1 for three errs\n",
    "usersim_params['slot_err_mode'] = 0\n",
    "usersim_params['intent_err_prob'] = 0\n",
    "# run_mode: 0 for default NL; 1 for dia_act; 2 for both\n",
    "usersim_params['run_mode'] = 0\n",
    "# 0 for dia_act level; 1 for NL level\n",
    "usersim_params['act_level'] = 0\n",
    "# train/test/all; default is all\n",
    "usersim_params['learn_phase'] = 'all'"
   ]
  },
  {
   "cell_type": "markdown",
   "metadata": {},
   "source": [
    "### a movie dictionary for user simulator - slot:possible values"
   ]
  },
  {
   "cell_type": "code",
   "execution_count": 10,
   "metadata": {
    "code_folding": []
   },
   "outputs": [
    {
     "name": "stdout",
     "output_type": "stream",
     "text": [
      "keys = 20\n",
      "Sample of dict:\n",
      "- price: ['$20', '$10', 'cheapest', 'adult price is 8', '32']\n"
     ]
    }
   ],
   "source": [
    "#\n",
    "movie_dict_path = './data/user/dicts.v3.p'\n",
    "movie_dictionary = pickle.load(open(movie_dict_path, 'rb'), encoding=\"latin\")\n",
    "samples = sample_dict(movie_dictionary, sample_size=1)"
   ]
  },
  {
   "cell_type": "markdown",
   "metadata": {},
   "source": [
    "###  Create a User"
   ]
  },
  {
   "cell_type": "code",
   "execution_count": 11,
   "metadata": {
    "collapsed": true
   },
   "outputs": [],
   "source": [
    "user = RuleSimulator(movie_dictionary, act_set, slot_set, goal_set, usersim_params)\n",
    "user.set_nlg_model(nlg_model)"
   ]
  },
  {
   "cell_type": "markdown",
   "metadata": {},
   "source": [
    "# Agent\n",
    "-------------------"
   ]
  },
  {
   "cell_type": "markdown",
   "metadata": {},
   "source": [
    "## param"
   ]
  },
  {
   "cell_type": "code",
   "execution_count": 12,
   "metadata": {
    "code_folding": []
   },
   "outputs": [
    {
     "name": "stdout",
     "output_type": "stream",
     "text": [
      "pretrained model path = None\n"
     ]
    }
   ],
   "source": [
    "#\n",
    "agent_params = {}\n",
    "# maximum length of each dialog (default=20, 0=no maximum length)\n",
    "agent_params['max_turn'] = 40\n",
    "# Epsilon to determine stochasticity of epsilon-greedy agent policies\n",
    "agent_params['epsilon'] = 0\n",
    "# run_mode: 0 for default NL; 1 for dia_act; 2 for both\n",
    "agent_params['agent_run_mode'] = 3\n",
    "# 0 for dia_act level; 1 for NL level\n",
    "agent_params['agent_act_level'] = 0\n",
    "\n",
    "############### DQN #################\n",
    "# the size for experience replay\n",
    "agent_params['experience_replay_pool_size'] = 10000\n",
    "# # the hidden size for DQN\n",
    "agent_params['dqn_hidden_size'] = 60\n",
    "agent_params['batch_size'] = 16\n",
    "# # gamma for DQN\n",
    "agent_params['gamma'] = 0.9\n",
    "# # predict model for DQN\n",
    "agent_params['predict_mode'] = True\n",
    "agent_params['trained_model_path'] = params['pretrained_model_path']\n",
    "#####################################\n",
    "print(\"pretrained model path = {}\".format(agent_params['trained_model_path']))\n",
    "# 0: no warm start; 1: warm start for training\n",
    "agent_params['warm_start'] = 1\n",
    "# run_mode: 0 for NL; 1 for dia_act\n",
    "agent_params['cmd_input_mode'] = 0\n",
    "\n",
    "success_rate_threshold = 0.3"
   ]
  },
  {
   "cell_type": "markdown",
   "metadata": {},
   "source": [
    "### create an agent"
   ]
  },
  {
   "cell_type": "code",
   "execution_count": 13,
   "metadata": {
    "code_folding": [],
    "scrolled": false
   },
   "outputs": [
    {
     "name": "stdout",
     "output_type": "stream",
     "text": [
      "80\n"
     ]
    }
   ],
   "source": [
    "# agent = RequestBasicsAgent(movie_kb, act_set, slot_set, agent_params)\n",
    "# agent = AgentDQN(movie_kb, act_set, slot_set, agent_params)\n",
    "# agt = 9\n",
    "agt = 10\n",
    "agent_params['batch_size']  = batch_size\n",
    "if agt == 9:\n",
    "    agent = AgentDQN(movie_kb, act_set, slot_set, agent_params)\n",
    "else:\n",
    "    agent = DQNAgentTF(movie_kb, act_set, slot_set, agent_params)\n",
    "\n",
    "agent.set_nlg_model(nlg_model)"
   ]
  },
  {
   "cell_type": "markdown",
   "metadata": {},
   "source": [
    "# Dialog Manager\n",
    "-------------------"
   ]
  },
  {
   "cell_type": "code",
   "execution_count": 14,
   "metadata": {
    "collapsed": true
   },
   "outputs": [],
   "source": [
    "dlg_manager = DlgManager(agent, user, act_set, slot_set, movie_kb)"
   ]
  },
  {
   "cell_type": "markdown",
   "metadata": {},
   "source": [
    "## Running Episodes\n",
    "-------------------"
   ]
  },
  {
   "cell_type": "markdown",
   "metadata": {},
   "source": [
    "### Param"
   ]
  },
  {
   "cell_type": "code",
   "execution_count": 15,
   "metadata": {
    "code_folding": [],
    "collapsed": true
   },
   "outputs": [],
   "source": [
    "#\n",
    "status = {'successes': 0, 'count': 0, 'cumulative_reward': 0}\n",
    "# the size of validation set\n",
    "simulation_epoch_size = 100\n",
    "# the number of epochs for warm start \n",
    "warm_start_epochs = 120\n",
    "# num_episodes = 60"
   ]
  },
  {
   "cell_type": "code",
   "execution_count": 16,
   "metadata": {
    "collapsed": true
   },
   "outputs": [],
   "source": [
    "\"\"\" Warm_Start Simulation (by Rule Policy) \"\"\"\n",
    "def warm_start_simulation():\n",
    "    successes = 0\n",
    "    cumulative_reward = 0\n",
    "    cumulative_turns = 0\n",
    "    \n",
    "    res = {}\n",
    "    for episode in range(warm_start_epochs):\n",
    "        dlg_manager.init_episode()\n",
    "        episode_over = False\n",
    "        while(not episode_over):\n",
    "            episode_over, reward = dlg_manager.step()\n",
    "            cumulative_reward += reward\n",
    "            if episode_over:\n",
    "                if reward > 0: \n",
    "                    successes += 1\n",
    "#                     print (\"warm_start simulation episode %s: Success\" % (episode))\n",
    "#                 else: print (\"warm_start simulation episode %s: Fail\" % (episode))\n",
    "                cumulative_turns += dlg_manager.state_tracker.turn_count\n",
    "        \n",
    "        if len(agent.experience_replay_pool) >= agent.experience_replay_pool_size:\n",
    "            break\n",
    "    \n",
    "    agent.warm_start = 2\n",
    "    res['success_rate'] = float(successes)/simulation_epoch_size\n",
    "    res['ave_reward'] = float(cumulative_reward)/simulation_epoch_size\n",
    "    res['ave_turns'] = float(cumulative_turns)/simulation_epoch_size\n",
    "    print (\"Warm_Start %s epochs, success rate %s, ave reward %s, ave turns %s\" % (episode+1, res['success_rate'], res['ave_reward'], res['ave_turns']))\n",
    "    print (\"Current experience replay buffer size %s\" % (len(agent.experience_replay_pool)))"
   ]
  },
  {
   "cell_type": "code",
   "execution_count": 17,
   "metadata": {
    "collapsed": true
   },
   "outputs": [],
   "source": [
    "def simulation_epoch(simulation_epoch_size):\n",
    "    successes = 0\n",
    "    cumulative_reward = 0\n",
    "    cumulative_turns = 0\n",
    "    \n",
    "    res = {}\n",
    "    for episode in range(simulation_epoch_size):\n",
    "        dlg_manager.init_episode()\n",
    "        episode_over = False\n",
    "        while(not episode_over):\n",
    "            episode_over, reward = dlg_manager.step()\n",
    "            cumulative_reward += reward\n",
    "            if episode_over:\n",
    "                if reward > 0: \n",
    "                    successes += 1\n",
    "#                     print (\"simulation episode %s: Success\" % (episode))\n",
    "#                 else: print (\"simulation episode %s: Fail\" % (episode))\n",
    "                cumulative_turns += dlg_manager.state_tracker.turn_count\n",
    "    \n",
    "    res['success_rate'] = float(successes)/simulation_epoch_size\n",
    "    res['ave_reward'] = float(cumulative_reward)/simulation_epoch_size\n",
    "    res['ave_turns'] = float(cumulative_turns)/simulation_epoch_size\n",
    "    print(\"simulation success rate %s, ave reward %s, ave turns %s\" % (res['success_rate'], res['ave_reward'], res['ave_turns']))\n",
    "    return res"
   ]
  },
  {
   "cell_type": "code",
   "execution_count": 18,
   "metadata": {
    "code_folding": [],
    "collapsed": true
   },
   "outputs": [],
   "source": [
    "def run_episodes(count, status):\n",
    "    successes = 0\n",
    "    cumulative_reward = 0\n",
    "    cumulative_turns = 0\n",
    "    \n",
    "    \n",
    "    if agt >= 9 and params['trained_model_path'] == None and agent.warm_start == 1:\n",
    "        print ('warm_start starting ...')\n",
    "        warm_start_simulation()\n",
    "        print ('warm_start finished, start RL training ...')\n",
    "    \n",
    "    for episode in range(count):\n",
    "        print (\"----------------- Episode: %s ----------------- \" % (episode))\n",
    "        dlg_manager.init_episode()\n",
    "        episode_over = False\n",
    "        \n",
    "        while(not episode_over):\n",
    "            episode_over, reward = dlg_manager.step()\n",
    "            cumulative_reward += reward\n",
    "                \n",
    "            if episode_over:\n",
    "                if reward > 0:\n",
    "                    print (\"Successful Dialog!\")\n",
    "                    successes += 1\n",
    "#                 else: print (\"Failed Dialog!\")\n",
    "                \n",
    "                cumulative_turns += dlg_manager.state_tracker.turn_count\n",
    "        \n",
    "        # simulation\n",
    "        if agt >= 9 and params['trained_model_path'] == None:\n",
    "            agent.predict_mode = True\n",
    "            simulation_res = simulation_epoch(simulation_epoch_size)\n",
    "            \n",
    "            performance_records['success_rate'][episode] = simulation_res['success_rate']\n",
    "            performance_records['ave_turns'][episode] = simulation_res['ave_turns']\n",
    "            performance_records['ave_reward'][episode] = simulation_res['ave_reward']\n",
    "            \n",
    "            if simulation_res['success_rate'] >= best_res['success_rate']:\n",
    "                if simulation_res['success_rate'] >= success_rate_threshold: # threshold = 0.30\n",
    "                    agent.experience_replay_pool = [] \n",
    "                    simulation_epoch(simulation_epoch_size)\n",
    "                \n",
    "#             if simulation_res['success_rate'] > best_res['success_rate']:\n",
    "#                 best_model['model'] = copy.deepcopy(agent)\n",
    "#                 best_res['success_rate'] = simulation_res['success_rate']\n",
    "#                 best_res['ave_reward'] = simulation_res['ave_reward']\n",
    "#                 best_res['ave_turns'] = simulation_res['ave_turns']\n",
    "#                 best_res['epoch'] = episode\n",
    "                \n",
    "            loss = agent.train(batch_size, 1)\n",
    "            if agt == 10: \n",
    "                agent.model.update_target_params()\n",
    "            else: \n",
    "                agent.clone_dqn = copy.deepcopy(agent.dqn)\n",
    "                \n",
    "            agent.predict_mode = False\n",
    "            \n",
    "            print (\"Simulation success rate %s, Ave reward %s, Ave turns %s, Best success rate %s\" % (performance_records['success_rate'][episode], performance_records['ave_reward'][episode], performance_records['ave_turns'][episode], best_res['success_rate']))\n",
    "#             if episode % save_check_point == 0 and params['trained_model_path'] == None: # save the model every 10 episodes\n",
    "#                 save_model(params['write_model_dir'], agt, best_res['success_rate'], best_model['model'], best_res['epoch'], episode)\n",
    "#                 save_performance_records(params['write_model_dir'], agt, performance_records)\n",
    "        curve.append(successes/(episode+1))\n",
    "        losses.append(loss)\n",
    "        print(\"Progress: %s / %s, Success rate: %s / %s Avg reward: %.2f Avg turns: %.2f\" % (episode+1, count, successes, episode+1, float(cumulative_reward)/(episode+1), float(cumulative_turns)/(episode+1)))\n",
    "    print(\"Success rate: %s / %s Avg reward: %.2f Avg turns: %.2f\" % (successes, count, float(cumulative_reward)/count, float(cumulative_turns)/count))\n",
    "    status['successes'] += successes\n",
    "    status['count'] += count\n",
    "    \n",
    "#     if agt == 9 and params['traained_model_path'] == None:\n",
    "#         save_model(params['write_model_dir'], agt, float(successes)/count, best_model['model'], best_res['epoch'], count)\n",
    "#         save_performance_records(params['write_model_dir'], agt, performance_records)\n"
   ]
  },
  {
   "cell_type": "markdown",
   "metadata": {},
   "source": [
    "## Run a Warm Start"
   ]
  },
  {
   "cell_type": "markdown",
   "metadata": {},
   "source": [
    "# Train & Eval\n",
    "-------------------"
   ]
  },
  {
   "cell_type": "code",
   "execution_count": 19,
   "metadata": {
    "scrolled": false
   },
   "outputs": [
    {
     "name": "stdout",
     "output_type": "stream",
     "text": [
      "warm_start starting ...\n",
      "Warm_Start 120 epochs, success rate 0.39, ave reward -9.6, ave turns 19.2\n",
      "Current experience replay buffer size 960\n",
      "warm_start finished, start RL training ...\n",
      "----------------- Episode: 0 ----------------- \n",
      "simulation success rate 0.0, ave reward -58.9, ave turns 39.8\n",
      "Train on : 2971\n",
      "- cur bellman err 10.2900, experience replay pool 2971\n",
      "Simulation success rate 0.0, Ave reward -58.9, Ave turns 39.8, Best success rate 0\n",
      "Progress: 1 / 100, Success rate: 0 / 1 Avg reward: -60.00 Avg turns: 42.00\n",
      "----------------- Episode: 1 ----------------- \n",
      "simulation success rate 0.0, ave reward -56.22, ave turns 34.44\n",
      "Train on : 4693\n",
      "- cur bellman err 5.5386, experience replay pool 4693\n",
      "Simulation success rate 0.0, Ave reward -56.22, Ave turns 34.44, Best success rate 0\n",
      "Progress: 2 / 100, Success rate: 0 / 2 Avg reward: -60.00 Avg turns: 42.00\n",
      "----------------- Episode: 2 ----------------- \n",
      "simulation success rate 0.0, ave reward -60.0, ave turns 42.0\n",
      "Train on : 6793\n",
      "- cur bellman err 1.7907, experience replay pool 6793\n",
      "Simulation success rate 0.0, Ave reward -60.0, Ave turns 42.0, Best success rate 0\n",
      "Progress: 3 / 100, Success rate: 0 / 3 Avg reward: -60.00 Avg turns: 42.00\n",
      "----------------- Episode: 3 ----------------- \n",
      "simulation success rate 0.0, ave reward -60.0, ave turns 42.0\n",
      "Train on : 8893\n",
      "- cur bellman err 1.2626, experience replay pool 8893\n",
      "Simulation success rate 0.0, Ave reward -60.0, Ave turns 42.0, Best success rate 0\n",
      "Progress: 4 / 100, Success rate: 0 / 4 Avg reward: -60.00 Avg turns: 42.00\n",
      "----------------- Episode: 4 ----------------- \n",
      "simulation success rate 0.0, ave reward -59.06, ave turns 40.12\n",
      "Train on : 10899\n",
      "- cur bellman err 1.0918, experience replay pool 10899\n",
      "Simulation success rate 0.0, Ave reward -59.06, Ave turns 40.12, Best success rate 0\n",
      "Progress: 5 / 100, Success rate: 0 / 5 Avg reward: -60.00 Avg turns: 42.00\n",
      "----------------- Episode: 5 ----------------- \n",
      "simulation success rate 0.0, ave reward -60.0, ave turns 42.0\n",
      "Train on : 12999\n",
      "- cur bellman err 0.6279, experience replay pool 12999\n",
      "Simulation success rate 0.0, Ave reward -60.0, Ave turns 42.0, Best success rate 0\n",
      "Progress: 6 / 100, Success rate: 0 / 6 Avg reward: -60.00 Avg turns: 42.00\n",
      "----------------- Episode: 6 ----------------- \n",
      "simulation success rate 0.0, ave reward -60.0, ave turns 42.0\n",
      "Train on : 15099\n",
      "- cur bellman err 0.5198, experience replay pool 15099\n",
      "Simulation success rate 0.0, Ave reward -60.0, Ave turns 42.0, Best success rate 0\n",
      "Progress: 7 / 100, Success rate: 0 / 7 Avg reward: -60.00 Avg turns: 42.00\n",
      "----------------- Episode: 7 ----------------- \n",
      "simulation success rate 0.09, ave reward -47.93, ave turns 39.46\n",
      "Train on : 17072\n",
      "- cur bellman err 0.4266, experience replay pool 17072\n",
      "Simulation success rate 0.09, Ave reward -47.93, Ave turns 39.46, Best success rate 0\n",
      "Progress: 8 / 100, Success rate: 0 / 8 Avg reward: -60.00 Avg turns: 42.00\n",
      "----------------- Episode: 8 ----------------- \n",
      "simulation success rate 0.05, ave reward -51.94, ave turns 37.88\n",
      "Train on : 18966\n",
      "- cur bellman err 0.5743, experience replay pool 18966\n",
      "Simulation success rate 0.05, Ave reward -51.94, Ave turns 37.88, Best success rate 0\n",
      "Progress: 9 / 100, Success rate: 0 / 9 Avg reward: -60.00 Avg turns: 42.00\n",
      "----------------- Episode: 9 ----------------- \n",
      "Successful Dialog!\n",
      "simulation success rate 0.05, ave reward -53.25, ave turns 40.5\n",
      "Train on : 20991\n",
      "- cur bellman err 0.4404, experience replay pool 20991\n",
      "Simulation success rate 0.05, Ave reward -53.25, Ave turns 40.5, Best success rate 0\n",
      "Progress: 10 / 100, Success rate: 1 / 10 Avg reward: -46.50 Avg turns: 39.00\n",
      "----------------- Episode: 10 ----------------- \n",
      "simulation success rate 0.05, ave reward -53.25, ave turns 40.5\n",
      "Train on : 23016\n",
      "- cur bellman err 0.2750, experience replay pool 23016\n",
      "Simulation success rate 0.05, Ave reward -53.25, Ave turns 40.5, Best success rate 0\n",
      "Progress: 11 / 100, Success rate: 1 / 11 Avg reward: -47.73 Avg turns: 39.27\n",
      "----------------- Episode: 11 ----------------- \n",
      "simulation success rate 0.06, ave reward -51.94, ave turns 40.28\n",
      "Train on : 25030\n",
      "- cur bellman err 0.2059, experience replay pool 25030\n",
      "Simulation success rate 0.06, Ave reward -51.94, Ave turns 40.28, Best success rate 0\n",
      "Progress: 12 / 100, Success rate: 1 / 12 Avg reward: -48.75 Avg turns: 39.50\n",
      "----------------- Episode: 12 ----------------- \n",
      "simulation success rate 0.07, ave reward -50.71, ave turns 40.22\n",
      "Train on : 27041\n",
      "- cur bellman err 0.2602, experience replay pool 27041\n",
      "Simulation success rate 0.07, Ave reward -50.71, Ave turns 40.22, Best success rate 0\n",
      "Progress: 13 / 100, Success rate: 1 / 13 Avg reward: -49.62 Avg turns: 39.69\n",
      "----------------- Episode: 13 ----------------- \n",
      "simulation success rate 0.13, ave reward -42.92, ave turns 39.04\n",
      "Train on : 28993\n",
      "- cur bellman err 0.2782, experience replay pool 28993\n",
      "Simulation success rate 0.13, Ave reward -42.92, Ave turns 39.04, Best success rate 0\n",
      "Progress: 14 / 100, Success rate: 1 / 14 Avg reward: -50.36 Avg turns: 39.86\n",
      "----------------- Episode: 14 ----------------- \n",
      "simulation success rate 0.02, ave reward -56.75, ave turns 40.3\n",
      "Train on : 31008\n",
      "- cur bellman err 0.5002, experience replay pool 31008\n",
      "Simulation success rate 0.02, Ave reward -56.75, Ave turns 40.3, Best success rate 0\n",
      "Progress: 15 / 100, Success rate: 1 / 15 Avg reward: -51.00 Avg turns: 40.00\n",
      "----------------- Episode: 15 ----------------- \n",
      "simulation success rate 0.4, ave reward -7.02, ave turns 32.04\n",
      "simulation success rate 0.36, ave reward -12.15, ave turns 32.7\n",
      "Train on : 1635\n",
      "- cur bellman err 1.3795, experience replay pool 1635\n",
      "Simulation success rate 0.4, Ave reward -7.02, Ave turns 32.04, Best success rate 0\n",
      "Progress: 16 / 100, Success rate: 1 / 16 Avg reward: -51.56 Avg turns: 40.12\n",
      "----------------- Episode: 16 ----------------- \n",
      "simulation success rate 0.28, ave reward -22.24, ave turns 33.68\n",
      "Train on : 3319\n",
      "- cur bellman err 1.1711, experience replay pool 3319\n",
      "Simulation success rate 0.28, Ave reward -22.24, Ave turns 33.68, Best success rate 0\n",
      "Progress: 17 / 100, Success rate: 1 / 17 Avg reward: -52.06 Avg turns: 40.24\n",
      "----------------- Episode: 17 ----------------- \n",
      "simulation success rate 0.26, ave reward -23.28, ave turns 30.96\n",
      "Train on : 4867\n",
      "- cur bellman err 1.8714, experience replay pool 4867\n",
      "Simulation success rate 0.26, Ave reward -23.28, Ave turns 30.96, Best success rate 0\n",
      "Progress: 18 / 100, Success rate: 1 / 18 Avg reward: -52.50 Avg turns: 40.33\n",
      "----------------- Episode: 18 ----------------- \n",
      "Successful Dialog!\n",
      "simulation success rate 0.27, ave reward -23.67, ave turns 34.14\n",
      "Train on : 6574\n",
      "- cur bellman err 1.0572, experience replay pool 6574\n",
      "Simulation success rate 0.27, Ave reward -23.67, Ave turns 34.14, Best success rate 0\n",
      "Progress: 19 / 100, Success rate: 2 / 19 Avg reward: -45.84 Avg turns: 38.95\n",
      "----------------- Episode: 19 ----------------- \n",
      "simulation success rate 0.0, ave reward -60.0, ave turns 42.0\n",
      "Train on : 8674\n",
      "- cur bellman err 0.6625, experience replay pool 8674\n",
      "Simulation success rate 0.0, Ave reward -60.0, Ave turns 42.0, Best success rate 0\n",
      "Progress: 20 / 100, Success rate: 2 / 20 Avg reward: -46.55 Avg turns: 39.10\n",
      "----------------- Episode: 20 ----------------- \n",
      "Successful Dialog!\n",
      "simulation success rate 0.43, ave reward -2.28, ave turns 29.76\n",
      "simulation success rate 0.43, ave reward -2.45, ave turns 30.1\n",
      "Train on : 1505\n",
      "- cur bellman err 1.3852, experience replay pool 1505\n",
      "Simulation success rate 0.43, Ave reward -2.28, Ave turns 29.76, Best success rate 0\n",
      "Progress: 21 / 100, Success rate: 3 / 21 Avg reward: -40.81 Avg turns: 37.90\n",
      "----------------- Episode: 21 ----------------- \n",
      "simulation success rate 0.36, ave reward -11.94, ave turns 32.28\n",
      "simulation success rate 0.37, ave reward -10.33, ave turns 31.46\n",
      "Train on : 1573\n",
      "- cur bellman err 1.3861, experience replay pool 1573\n",
      "Simulation success rate 0.36, Ave reward -11.94, Ave turns 32.28, Best success rate 0\n",
      "Progress: 22 / 100, Success rate: 3 / 22 Avg reward: -41.68 Avg turns: 38.09\n",
      "----------------- Episode: 22 ----------------- \n",
      "Successful Dialog!\n",
      "simulation success rate 0.38, ave reward -9.14, ave turns 31.48\n",
      "simulation success rate 0.43, ave reward -2.72, ave turns 30.64\n",
      "Train on : 1532\n",
      "- cur bellman err 0.7531, experience replay pool 1532\n",
      "Simulation success rate 0.38, Ave reward -9.14, Ave turns 31.48, Best success rate 0\n",
      "Progress: 23 / 100, Success rate: 4 / 23 Avg reward: -36.78 Avg turns: 37.30\n",
      "----------------- Episode: 23 ----------------- \n"
     ]
    },
    {
     "name": "stdout",
     "output_type": "stream",
     "text": [
      "Successful Dialog!\n",
      "simulation success rate 0.26, ave reward -25.1, ave turns 34.6\n",
      "Train on : 3262\n",
      "- cur bellman err 0.5792, experience replay pool 3262\n",
      "Simulation success rate 0.26, Ave reward -25.1, Ave turns 34.6, Best success rate 0\n",
      "Progress: 24 / 100, Success rate: 5 / 24 Avg reward: -32.21 Avg turns: 36.42\n",
      "----------------- Episode: 24 ----------------- \n",
      "simulation success rate 0.44, ave reward -0.79, ave turns 29.18\n",
      "simulation success rate 0.39, ave reward -7.27, ave turns 30.14\n",
      "Train on : 1507\n",
      "- cur bellman err 1.5979, experience replay pool 1507\n",
      "Simulation success rate 0.44, Ave reward -0.79, Ave turns 29.18, Best success rate 0\n",
      "Progress: 25 / 100, Success rate: 5 / 25 Avg reward: -33.32 Avg turns: 36.64\n",
      "----------------- Episode: 25 ----------------- \n",
      "simulation success rate 0.42, ave reward -3.54, ave turns 29.88\n",
      "simulation success rate 0.3, ave reward -19.75, ave turns 33.5\n",
      "Train on : 1675\n",
      "- cur bellman err 0.8341, experience replay pool 1675\n",
      "Simulation success rate 0.42, Ave reward -3.54, Ave turns 29.88, Best success rate 0\n",
      "Progress: 26 / 100, Success rate: 5 / 26 Avg reward: -34.35 Avg turns: 36.85\n",
      "----------------- Episode: 26 ----------------- \n",
      "Successful Dialog!\n",
      "simulation success rate 0.4, ave reward -6.39, ave turns 30.78\n",
      "simulation success rate 0.44, ave reward -1.01, ave turns 29.62\n",
      "Train on : 1481\n",
      "- cur bellman err 0.9810, experience replay pool 1481\n",
      "Simulation success rate 0.4, Ave reward -6.39, Ave turns 30.78, Best success rate 0\n",
      "Progress: 27 / 100, Success rate: 6 / 27 Avg reward: -30.33 Avg turns: 36.00\n",
      "----------------- Episode: 27 ----------------- \n",
      "Successful Dialog!\n",
      "simulation success rate 0.42, ave reward -3.48, ave turns 29.76\n",
      "simulation success rate 0.48, ave reward 4.47, ave turns 28.26\n",
      "Train on : 1413\n",
      "- cur bellman err 1.4298, experience replay pool 1413\n",
      "Simulation success rate 0.42, Ave reward -3.48, Ave turns 29.76, Best success rate 0\n",
      "Progress: 28 / 100, Success rate: 7 / 28 Avg reward: -26.68 Avg turns: 35.36\n",
      "----------------- Episode: 28 ----------------- \n",
      "simulation success rate 0.44, ave reward -0.91, ave turns 29.42\n",
      "simulation success rate 0.35, ave reward -13.0, ave turns 32.0\n",
      "Train on : 1600\n",
      "- cur bellman err 1.7195, experience replay pool 1600\n",
      "Simulation success rate 0.44, Ave reward -0.91, Ave turns 29.42, Best success rate 0\n",
      "Progress: 29 / 100, Success rate: 7 / 29 Avg reward: -27.45 Avg turns: 34.83\n",
      "----------------- Episode: 29 ----------------- \n",
      "simulation success rate 0.45, ave reward 0.17, ave turns 29.66\n",
      "simulation success rate 0.29, ave reward -20.85, ave turns 33.3\n",
      "Train on : 1665\n",
      "- cur bellman err 1.2563, experience replay pool 1665\n",
      "Simulation success rate 0.45, Ave reward 0.17, Ave turns 29.66, Best success rate 0\n",
      "Progress: 30 / 100, Success rate: 7 / 30 Avg reward: -28.53 Avg turns: 35.07\n",
      "----------------- Episode: 30 ----------------- \n",
      "Successful Dialog!\n",
      "simulation success rate 0.43, ave reward -2.32, ave turns 29.84\n",
      "simulation success rate 0.33, ave reward -16.04, ave turns 33.28\n",
      "Train on : 1664\n",
      "- cur bellman err 1.1945, experience replay pool 1664\n",
      "Simulation success rate 0.43, Ave reward -2.32, Ave turns 29.84, Best success rate 0\n",
      "Progress: 31 / 100, Success rate: 8 / 31 Avg reward: -25.32 Avg turns: 34.58\n",
      "----------------- Episode: 31 ----------------- \n",
      "simulation success rate 0.07, ave reward -50.55, ave turns 39.9\n",
      "Train on : 3659\n",
      "- cur bellman err 1.2106, experience replay pool 3659\n",
      "Simulation success rate 0.07, Ave reward -50.55, Ave turns 39.9, Best success rate 0\n",
      "Progress: 32 / 100, Success rate: 8 / 32 Avg reward: -26.41 Avg turns: 34.81\n",
      "----------------- Episode: 32 ----------------- \n",
      "Successful Dialog!\n",
      "simulation success rate 0.31, ave reward -18.44, ave turns 33.28\n",
      "simulation success rate 0.42, ave reward -3.88, ave turns 30.56\n",
      "Train on : 1528\n",
      "- cur bellman err 1.3793, experience replay pool 1528\n",
      "Simulation success rate 0.31, Ave reward -18.44, Ave turns 33.28, Best success rate 0\n",
      "Progress: 33 / 100, Success rate: 9 / 33 Avg reward: -23.36 Avg turns: 34.18\n",
      "----------------- Episode: 33 ----------------- \n",
      "simulation success rate 0.39, ave reward -7.92, ave turns 31.44\n",
      "simulation success rate 0.43, ave reward -2.54, ave turns 30.28\n",
      "Train on : 1514\n",
      "- cur bellman err 1.4867, experience replay pool 1514\n",
      "Simulation success rate 0.39, Ave reward -7.92, Ave turns 31.44, Best success rate 0\n",
      "Progress: 34 / 100, Success rate: 9 / 34 Avg reward: -24.44 Avg turns: 34.41\n",
      "----------------- Episode: 34 ----------------- \n",
      "Successful Dialog!\n",
      "simulation success rate 0.32, ave reward -15.13, ave turns 29.06\n",
      "simulation success rate 0.35, ave reward -11.38, ave turns 28.76\n",
      "Train on : 1438\n",
      "- cur bellman err 1.6449, experience replay pool 1438\n",
      "Simulation success rate 0.32, Ave reward -15.13, Ave turns 29.06, Best success rate 0\n",
      "Progress: 35 / 100, Success rate: 10 / 35 Avg reward: -21.60 Avg turns: 33.77\n",
      "----------------- Episode: 35 ----------------- \n",
      "simulation success rate 0.42, ave reward -2.53, ave turns 27.86\n",
      "simulation success rate 0.48, ave reward 4.68, ave turns 27.84\n",
      "Train on : 1392\n",
      "- cur bellman err 1.4837, experience replay pool 1392\n",
      "Simulation success rate 0.42, Ave reward -2.53, Ave turns 27.86, Best success rate 0\n",
      "Progress: 36 / 100, Success rate: 10 / 36 Avg reward: -22.67 Avg turns: 34.00\n",
      "----------------- Episode: 36 ----------------- \n",
      "simulation success rate 0.44, ave reward -0.34, ave turns 28.28\n",
      "simulation success rate 0.42, ave reward -2.52, ave turns 27.84\n",
      "Train on : 1392\n",
      "- cur bellman err 1.6203, experience replay pool 1392\n",
      "Simulation success rate 0.44, Ave reward -0.34, Ave turns 28.28, Best success rate 0\n",
      "Progress: 37 / 100, Success rate: 10 / 37 Avg reward: -23.30 Avg turns: 33.46\n",
      "----------------- Episode: 37 ----------------- \n",
      "Successful Dialog!\n",
      "simulation success rate 0.57, ave reward 16.89, ave turns 25.02\n",
      "simulation success rate 0.52, ave reward 10.46, ave turns 25.88\n",
      "Train on : 1294\n",
      "- cur bellman err 0.9214, experience replay pool 1294\n",
      "Simulation success rate 0.57, Ave reward 16.89, Ave turns 25.02, Best success rate 0\n",
      "Progress: 38 / 100, Success rate: 11 / 38 Avg reward: -20.71 Avg turns: 32.89\n",
      "----------------- Episode: 38 ----------------- \n",
      "Successful Dialog!\n",
      "simulation success rate 0.4, ave reward -5.27, ave turns 28.54\n",
      "simulation success rate 0.52, ave reward 10.23, ave turns 26.34\n",
      "Train on : 1317\n",
      "- cur bellman err 2.5877, experience replay pool 1317\n",
      "Simulation success rate 0.4, Ave reward -5.27, Ave turns 28.54, Best success rate 0\n",
      "Progress: 39 / 100, Success rate: 12 / 39 Avg reward: -18.33 Avg turns: 32.51\n",
      "----------------- Episode: 39 ----------------- \n",
      "Successful Dialog!\n",
      "simulation success rate 0.42, ave reward -3.37, ave turns 29.54\n",
      "simulation success rate 0.43, ave reward -2.58, ave turns 30.36\n",
      "Train on : 1518\n",
      "- cur bellman err 2.6785, experience replay pool 1518\n",
      "Simulation success rate 0.42, Ave reward -3.37, Ave turns 29.54, Best success rate 0\n",
      "Progress: 40 / 100, Success rate: 13 / 40 Avg reward: -16.02 Avg turns: 32.05\n",
      "----------------- Episode: 40 ----------------- \n",
      "Successful Dialog!\n",
      "simulation success rate 0.55, ave reward 15.02, ave turns 23.96\n",
      "simulation success rate 0.46, ave reward 3.13, ave turns 26.14\n",
      "Train on : 1307\n",
      "- cur bellman err 2.6608, experience replay pool 1307\n",
      "Simulation success rate 0.55, Ave reward 15.02, Ave turns 23.96, Best success rate 0\n",
      "Progress: 41 / 100, Success rate: 14 / 41 Avg reward: -13.80 Avg turns: 31.56\n",
      "----------------- Episode: 41 ----------------- \n",
      "Successful Dialog!\n",
      "simulation success rate 0.41, ave reward -4.92, ave turns 30.24\n",
      "simulation success rate 0.43, ave reward -2.03, ave turns 29.26\n",
      "Train on : 1463\n",
      "- cur bellman err 2.0091, experience replay pool 1463\n",
      "Simulation success rate 0.41, Ave reward -4.92, Ave turns 30.24, Best success rate 0\n",
      "Progress: 42 / 100, Success rate: 15 / 42 Avg reward: -11.86 Avg turns: 31.43\n",
      "----------------- Episode: 42 ----------------- \n",
      "simulation success rate 0.51, ave reward 8.59, ave turns 27.22\n",
      "simulation success rate 0.39, ave reward -7.63, ave turns 30.86\n",
      "Train on : 1543\n",
      "- cur bellman err 2.5222, experience replay pool 1543\n",
      "Simulation success rate 0.51, Ave reward 8.59, Ave turns 27.22, Best success rate 0\n",
      "Progress: 43 / 100, Success rate: 15 / 43 Avg reward: -12.98 Avg turns: 31.67\n",
      "----------------- Episode: 43 ----------------- \n",
      "Successful Dialog!\n"
     ]
    },
    {
     "name": "stdout",
     "output_type": "stream",
     "text": [
      "simulation success rate 0.43, ave reward -2.02, ave turns 29.24\n",
      "simulation success rate 0.54, ave reward 12.97, ave turns 25.66\n",
      "Train on : 1283\n",
      "- cur bellman err 1.6261, experience replay pool 1283\n",
      "Simulation success rate 0.43, Ave reward -2.02, Ave turns 29.24, Best success rate 0\n",
      "Progress: 44 / 100, Success rate: 16 / 44 Avg reward: -10.98 Avg turns: 31.23\n",
      "----------------- Episode: 44 ----------------- \n",
      "simulation success rate 0.51, ave reward 8.99, ave turns 26.42\n",
      "simulation success rate 0.51, ave reward 8.92, ave turns 26.56\n",
      "Train on : 1328\n",
      "- cur bellman err 2.4803, experience replay pool 1328\n",
      "Simulation success rate 0.51, Ave reward 8.99, Ave turns 26.42, Best success rate 0\n",
      "Progress: 45 / 100, Success rate: 16 / 45 Avg reward: -12.07 Avg turns: 31.47\n",
      "----------------- Episode: 45 ----------------- \n",
      "simulation success rate 0.48, ave reward 4.82, ave turns 27.56\n",
      "simulation success rate 0.46, ave reward 2.12, ave turns 28.16\n",
      "Train on : 1408\n",
      "- cur bellman err 2.8598, experience replay pool 1408\n",
      "Simulation success rate 0.48, Ave reward 4.82, Ave turns 27.56, Best success rate 0\n",
      "Progress: 46 / 100, Success rate: 16 / 46 Avg reward: -13.11 Avg turns: 31.70\n",
      "----------------- Episode: 46 ----------------- \n",
      "Successful Dialog!\n",
      "simulation success rate 0.45, ave reward 0.31, ave turns 29.38\n",
      "simulation success rate 0.44, ave reward -0.71, ave turns 29.02\n",
      "Train on : 1451\n",
      "- cur bellman err 2.3589, experience replay pool 1451\n",
      "Simulation success rate 0.45, Ave reward 0.31, Ave turns 29.38, Best success rate 0\n",
      "Progress: 47 / 100, Success rate: 17 / 47 Avg reward: -11.23 Avg turns: 31.28\n",
      "----------------- Episode: 47 ----------------- \n",
      "simulation success rate 0.53, ave reward 12.47, ave turns 24.26\n",
      "simulation success rate 0.41, ave reward -3.41, ave turns 27.22\n",
      "Train on : 1361\n",
      "- cur bellman err 1.8591, experience replay pool 1361\n",
      "Simulation success rate 0.53, Ave reward 12.47, Ave turns 24.26, Best success rate 0\n",
      "Progress: 48 / 100, Success rate: 17 / 48 Avg reward: -12.19 Avg turns: 31.38\n",
      "----------------- Episode: 48 ----------------- \n",
      "simulation success rate 0.55, ave reward 14.4, ave turns 25.2\n",
      "simulation success rate 0.5, ave reward 8.04, ave turns 25.92\n",
      "Train on : 1296\n",
      "- cur bellman err 5.8260, experience replay pool 1296\n",
      "Simulation success rate 0.55, Ave reward 14.4, Ave turns 25.2, Best success rate 0\n",
      "Progress: 49 / 100, Success rate: 17 / 49 Avg reward: -13.16 Avg turns: 31.59\n",
      "----------------- Episode: 49 ----------------- \n",
      "simulation success rate 0.65, ave reward 27.8, ave turns 22.4\n",
      "simulation success rate 0.47, ave reward 4.14, ave turns 26.52\n",
      "Train on : 1326\n",
      "- cur bellman err 6.1144, experience replay pool 1326\n",
      "Simulation success rate 0.65, Ave reward 27.8, Ave turns 22.4, Best success rate 0\n",
      "Progress: 50 / 100, Success rate: 17 / 50 Avg reward: -14.10 Avg turns: 31.80\n",
      "----------------- Episode: 50 ----------------- \n",
      "simulation success rate 0.58, ave reward 18.03, ave turns 25.14\n",
      "simulation success rate 0.59, ave reward 19.12, ave turns 25.36\n",
      "Train on : 1268\n",
      "- cur bellman err 3.0867, experience replay pool 1268\n",
      "Simulation success rate 0.58, Ave reward 18.03, Ave turns 25.14, Best success rate 0\n",
      "Progress: 51 / 100, Success rate: 17 / 51 Avg reward: -15.00 Avg turns: 32.00\n",
      "----------------- Episode: 51 ----------------- \n",
      "simulation success rate 0.55, ave reward 17.86, ave turns 18.28\n",
      "simulation success rate 0.64, ave reward 28.29, ave turns 19.02\n",
      "Train on : 951\n",
      "- cur bellman err 11.8007, experience replay pool 951\n",
      "Simulation success rate 0.55, Ave reward 17.86, Ave turns 18.28, Best success rate 0\n",
      "Progress: 52 / 100, Success rate: 17 / 52 Avg reward: -15.58 Avg turns: 31.62\n",
      "----------------- Episode: 52 ----------------- \n",
      "Successful Dialog!\n",
      "simulation success rate 0.55, ave reward 16.44, ave turns 21.12\n",
      "simulation success rate 0.62, ave reward 25.41, ave turns 19.98\n",
      "Train on : 999\n",
      "- cur bellman err 9.1406, experience replay pool 999\n",
      "Simulation success rate 0.55, Ave reward 16.44, Ave turns 21.12, Best success rate 0\n",
      "Progress: 53 / 100, Success rate: 18 / 53 Avg reward: -13.87 Avg turns: 31.25\n",
      "----------------- Episode: 53 ----------------- \n",
      "Successful Dialog!\n",
      "simulation success rate 0.53, ave reward 12.23, ave turns 24.74\n",
      "simulation success rate 0.62, ave reward 24.33, ave turns 22.14\n",
      "Train on : 1107\n",
      "- cur bellman err 6.1952, experience replay pool 1107\n",
      "Simulation success rate 0.53, Ave reward 12.23, Ave turns 24.74, Best success rate 0\n",
      "Progress: 54 / 100, Success rate: 19 / 54 Avg reward: -12.20 Avg turns: 30.85\n",
      "----------------- Episode: 54 ----------------- \n",
      "Successful Dialog!\n",
      "simulation success rate 0.57, ave reward 19.76, ave turns 19.28\n",
      "simulation success rate 0.55, ave reward 17.06, ave turns 19.88\n",
      "Train on : 994\n",
      "- cur bellman err 8.0482, experience replay pool 994\n",
      "Simulation success rate 0.57, Ave reward 19.76, Ave turns 19.28, Best success rate 0\n",
      "Progress: 55 / 100, Success rate: 20 / 55 Avg reward: -10.65 Avg turns: 30.58\n",
      "----------------- Episode: 55 ----------------- \n",
      "simulation success rate 0.63, ave reward 25.17, ave turns 22.86\n",
      "simulation success rate 0.64, ave reward 26.88, ave turns 21.84\n",
      "Train on : 1092\n",
      "- cur bellman err 3.9975, experience replay pool 1092\n",
      "Simulation success rate 0.63, Ave reward 25.17, Ave turns 22.86, Best success rate 0\n",
      "Progress: 56 / 100, Success rate: 20 / 56 Avg reward: -11.54 Avg turns: 30.79\n",
      "----------------- Episode: 56 ----------------- \n",
      "Successful Dialog!\n",
      "simulation success rate 0.67, ave reward 32.96, ave turns 16.88\n",
      "simulation success rate 0.58, ave reward 20.89, ave turns 19.42\n",
      "Train on : 971\n",
      "- cur bellman err 6.2082, experience replay pool 971\n",
      "Simulation success rate 0.67, Ave reward 32.96, Ave turns 16.88, Best success rate 0\n",
      "Progress: 57 / 100, Success rate: 21 / 57 Avg reward: -10.02 Avg turns: 30.46\n",
      "----------------- Episode: 57 ----------------- \n",
      "Successful Dialog!\n",
      "simulation success rate 0.54, ave reward 15.29, ave turns 21.02\n",
      "simulation success rate 0.58, ave reward 20.22, ave turns 20.76\n",
      "Train on : 1038\n",
      "- cur bellman err 5.0198, experience replay pool 1038\n",
      "Simulation success rate 0.54, Ave reward 15.29, Ave turns 21.02, Best success rate 0\n",
      "Progress: 58 / 100, Success rate: 22 / 58 Avg reward: -8.52 Avg turns: 30.07\n",
      "----------------- Episode: 58 ----------------- \n",
      "simulation success rate 0.47, ave reward 6.35, ave turns 22.1\n",
      "simulation success rate 0.38, ave reward -5.17, ave turns 23.54\n",
      "Train on : 1177\n",
      "- cur bellman err 12.3349, experience replay pool 1177\n",
      "Simulation success rate 0.47, Ave reward 6.35, Ave turns 22.1, Best success rate 0\n",
      "Progress: 59 / 100, Success rate: 22 / 59 Avg reward: -9.39 Avg turns: 30.27\n",
      "----------------- Episode: 59 ----------------- \n",
      "simulation success rate 0.17, ave reward -37.51, ave turns 37.82\n",
      "Train on : 3068\n",
      "- cur bellman err 5.5782, experience replay pool 3068\n",
      "Simulation success rate 0.17, Ave reward -37.51, Ave turns 37.82, Best success rate 0\n",
      "Progress: 60 / 100, Success rate: 22 / 60 Avg reward: -10.23 Avg turns: 30.47\n",
      "----------------- Episode: 60 ----------------- \n",
      "simulation success rate 0.23, ave reward -25.21, ave turns 27.62\n",
      "Train on : 4449\n",
      "- cur bellman err 4.2289, experience replay pool 4449\n",
      "Simulation success rate 0.23, Ave reward -25.21, Ave turns 27.62, Best success rate 0\n",
      "Progress: 61 / 100, Success rate: 22 / 61 Avg reward: -11.05 Avg turns: 30.66\n",
      "----------------- Episode: 61 ----------------- \n",
      "simulation success rate 0.44, ave reward -1.35, ave turns 30.3\n",
      "simulation success rate 0.58, ave reward 17.02, ave turns 27.16\n",
      "Train on : 1358\n",
      "- cur bellman err 2.7079, experience replay pool 1358\n",
      "Simulation success rate 0.44, Ave reward -1.35, Ave turns 30.3, Best success rate 0\n",
      "Progress: 62 / 100, Success rate: 22 / 62 Avg reward: -11.84 Avg turns: 30.84\n",
      "----------------- Episode: 62 ----------------- \n",
      "simulation success rate 0.67, ave reward 32.24, ave turns 18.32\n",
      "simulation success rate 0.6, ave reward 22.38, ave turns 21.24\n",
      "Train on : 1062\n",
      "- cur bellman err 5.9127, experience replay pool 1062\n",
      "Simulation success rate 0.67, Ave reward 32.24, Ave turns 18.32, Best success rate 0\n",
      "Progress: 63 / 100, Success rate: 22 / 63 Avg reward: -12.60 Avg turns: 31.02\n",
      "----------------- Episode: 63 ----------------- \n",
      "Successful Dialog!\n",
      "simulation success rate 0.71, ave reward 37.01, ave turns 18.38\n"
     ]
    },
    {
     "name": "stdout",
     "output_type": "stream",
     "text": [
      "simulation success rate 0.65, ave reward 29.0, ave turns 20.0\n",
      "Train on : 1000\n",
      "- cur bellman err 5.1024, experience replay pool 1000\n",
      "Simulation success rate 0.71, Ave reward 37.01, Ave turns 18.38, Best success rate 0\n",
      "Progress: 64 / 100, Success rate: 23 / 64 Avg reward: -11.23 Avg turns: 30.72\n",
      "----------------- Episode: 64 ----------------- \n",
      "simulation success rate 0.55, ave reward 15.37, ave turns 23.26\n",
      "simulation success rate 0.53, ave reward 12.44, ave turns 24.32\n",
      "Train on : 1216\n",
      "- cur bellman err 4.6904, experience replay pool 1216\n",
      "Simulation success rate 0.55, Ave reward 15.37, Ave turns 23.26, Best success rate 0\n",
      "Progress: 65 / 100, Success rate: 23 / 65 Avg reward: -11.98 Avg turns: 30.89\n",
      "----------------- Episode: 65 ----------------- \n",
      "Successful Dialog!\n",
      "simulation success rate 0.68, ave reward 32.2, ave turns 20.8\n",
      "simulation success rate 0.62, ave reward 24.55, ave turns 21.7\n",
      "Train on : 1085\n",
      "- cur bellman err 3.0242, experience replay pool 1085\n",
      "Simulation success rate 0.68, Ave reward 32.2, Ave turns 20.8, Best success rate 0\n",
      "Progress: 66 / 100, Success rate: 24 / 66 Avg reward: -10.77 Avg turns: 30.82\n",
      "----------------- Episode: 66 ----------------- \n",
      "Successful Dialog!\n",
      "simulation success rate 0.56, ave reward 15.26, ave turns 25.88\n",
      "simulation success rate 0.67, ave reward 30.13, ave turns 22.54\n",
      "Train on : 1127\n",
      "- cur bellman err 3.4489, experience replay pool 1127\n",
      "Simulation success rate 0.56, Ave reward 15.26, Ave turns 25.88, Best success rate 0\n",
      "Progress: 67 / 100, Success rate: 25 / 67 Avg reward: -9.49 Avg turns: 30.54\n",
      "----------------- Episode: 67 ----------------- \n",
      "Successful Dialog!\n",
      "simulation success rate 0.68, ave reward 31.73, ave turns 21.74\n",
      "simulation success rate 0.68, ave reward 31.59, ave turns 22.02\n",
      "Train on : 1101\n",
      "- cur bellman err 1.8737, experience replay pool 1101\n",
      "Simulation success rate 0.68, Ave reward 31.73, Ave turns 21.74, Best success rate 0\n",
      "Progress: 68 / 100, Success rate: 26 / 68 Avg reward: -8.26 Avg turns: 30.29\n",
      "----------------- Episode: 68 ----------------- \n",
      "simulation success rate 0.65, ave reward 28.43, ave turns 21.14\n",
      "simulation success rate 0.65, ave reward 28.83, ave turns 20.34\n",
      "Train on : 1017\n",
      "- cur bellman err 3.5230, experience replay pool 1017\n",
      "Simulation success rate 0.65, Ave reward 28.43, Ave turns 21.14, Best success rate 0\n",
      "Progress: 69 / 100, Success rate: 26 / 69 Avg reward: -8.87 Avg turns: 30.17\n",
      "----------------- Episode: 69 ----------------- \n",
      "Successful Dialog!\n",
      "simulation success rate 0.65, ave reward 28.34, ave turns 21.32\n",
      "simulation success rate 0.6, ave reward 21.86, ave turns 22.28\n",
      "Train on : 1114\n",
      "- cur bellman err 3.8020, experience replay pool 1114\n",
      "Simulation success rate 0.65, Ave reward 28.34, Ave turns 21.32, Best success rate 0\n",
      "Progress: 70 / 100, Success rate: 27 / 70 Avg reward: -7.67 Avg turns: 29.91\n",
      "----------------- Episode: 70 ----------------- \n",
      "simulation success rate 0.67, ave reward 30.4, ave turns 22.0\n",
      "simulation success rate 0.55, ave reward 14.14, ave turns 25.72\n",
      "Train on : 1286\n",
      "- cur bellman err 2.7444, experience replay pool 1286\n",
      "Simulation success rate 0.67, Ave reward 30.4, Ave turns 22.0, Best success rate 0\n",
      "Progress: 71 / 100, Success rate: 27 / 71 Avg reward: -8.41 Avg turns: 30.08\n",
      "----------------- Episode: 71 ----------------- \n",
      "simulation success rate 0.6, ave reward 21.02, ave turns 23.96\n",
      "simulation success rate 0.54, ave reward 13.45, ave turns 24.7\n",
      "Train on : 1235\n",
      "- cur bellman err 3.4811, experience replay pool 1235\n",
      "Simulation success rate 0.6, Ave reward 21.02, Ave turns 23.96, Best success rate 0\n",
      "Progress: 72 / 100, Success rate: 27 / 72 Avg reward: -9.12 Avg turns: 30.25\n",
      "----------------- Episode: 72 ----------------- \n",
      "simulation success rate 0.67, ave reward 30.14, ave turns 22.52\n",
      "simulation success rate 0.64, ave reward 26.11, ave turns 23.38\n",
      "Train on : 1169\n",
      "- cur bellman err 3.1078, experience replay pool 1169\n",
      "Simulation success rate 0.67, Ave reward 30.14, Ave turns 22.52, Best success rate 0\n",
      "Progress: 73 / 100, Success rate: 27 / 73 Avg reward: -9.82 Avg turns: 30.41\n",
      "----------------- Episode: 73 ----------------- \n",
      "Successful Dialog!\n",
      "simulation success rate 0.58, ave reward 18.15, ave turns 24.9\n",
      "simulation success rate 0.65, ave reward 27.86, ave turns 22.28\n",
      "Train on : 1114\n",
      "- cur bellman err 4.0093, experience replay pool 1114\n",
      "Simulation success rate 0.58, Ave reward 18.15, Ave turns 24.9, Best success rate 0\n",
      "Progress: 74 / 100, Success rate: 28 / 74 Avg reward: -8.69 Avg turns: 30.19\n",
      "----------------- Episode: 74 ----------------- \n",
      "Successful Dialog!\n",
      "simulation success rate 0.54, ave reward 13.35, ave turns 24.9\n",
      "simulation success rate 0.59, ave reward 20.94, ave turns 21.72\n",
      "Train on : 1086\n",
      "- cur bellman err 4.5282, experience replay pool 1086\n",
      "Simulation success rate 0.54, Ave reward 13.35, Ave turns 24.9, Best success rate 0\n",
      "Progress: 75 / 100, Success rate: 29 / 75 Avg reward: -7.64 Avg turns: 30.08\n",
      "----------------- Episode: 75 ----------------- \n",
      "simulation success rate 0.6, ave reward 20.9, ave turns 24.2\n",
      "simulation success rate 0.63, ave reward 25.01, ave turns 23.18\n",
      "Train on : 1159\n",
      "- cur bellman err 2.7339, experience replay pool 1159\n",
      "Simulation success rate 0.6, Ave reward 20.9, Ave turns 24.2, Best success rate 0\n",
      "Progress: 76 / 100, Success rate: 29 / 76 Avg reward: -8.33 Avg turns: 30.24\n",
      "----------------- Episode: 76 ----------------- \n",
      "Successful Dialog!\n",
      "simulation success rate 0.64, ave reward 26.05, ave turns 23.5\n",
      "simulation success rate 0.65, ave reward 27.56, ave turns 22.88\n",
      "Train on : 1144\n",
      "- cur bellman err 3.5585, experience replay pool 1144\n",
      "Simulation success rate 0.64, Ave reward 26.05, Ave turns 23.5, Best success rate 0\n",
      "Progress: 77 / 100, Success rate: 30 / 77 Avg reward: -7.29 Avg turns: 30.08\n",
      "----------------- Episode: 77 ----------------- \n",
      "Successful Dialog!\n",
      "simulation success rate 0.64, ave reward 26.57, ave turns 22.46\n",
      "simulation success rate 0.6, ave reward 21.42, ave turns 23.16\n",
      "Train on : 1158\n",
      "- cur bellman err 3.2543, experience replay pool 1158\n",
      "Simulation success rate 0.64, Ave reward 26.57, Ave turns 22.46, Best success rate 0\n",
      "Progress: 78 / 100, Success rate: 31 / 78 Avg reward: -6.23 Avg turns: 29.85\n",
      "----------------- Episode: 78 ----------------- \n",
      "Successful Dialog!\n",
      "simulation success rate 0.56, ave reward 16.61, ave turns 23.18\n",
      "simulation success rate 0.62, ave reward 23.83, ave turns 23.14\n",
      "Train on : 1157\n",
      "- cur bellman err 3.7291, experience replay pool 1157\n",
      "Simulation success rate 0.56, Ave reward 16.61, Ave turns 23.18, Best success rate 0\n",
      "Progress: 79 / 100, Success rate: 32 / 79 Avg reward: -5.20 Avg turns: 29.62\n",
      "----------------- Episode: 79 ----------------- \n",
      "Successful Dialog!\n",
      "simulation success rate 0.68, ave reward 31.86, ave turns 21.48\n",
      "simulation success rate 0.59, ave reward 20.09, ave turns 23.42\n",
      "Train on : 1171\n",
      "- cur bellman err 2.3919, experience replay pool 1171\n",
      "Simulation success rate 0.68, Ave reward 31.86, Ave turns 21.48, Best success rate 0\n",
      "Progress: 80 / 100, Success rate: 33 / 80 Avg reward: -4.19 Avg turns: 29.38\n",
      "----------------- Episode: 80 ----------------- \n",
      "simulation success rate 0.58, ave reward 18.6, ave turns 24.0\n",
      "simulation success rate 0.64, ave reward 26.66, ave turns 22.28\n",
      "Train on : 1114\n",
      "- cur bellman err 2.4626, experience replay pool 1114\n",
      "Simulation success rate 0.58, Ave reward 18.6, Ave turns 24.0, Best success rate 0\n",
      "Progress: 81 / 100, Success rate: 33 / 81 Avg reward: -4.88 Avg turns: 29.53\n",
      "----------------- Episode: 81 ----------------- \n",
      "Successful Dialog!\n",
      "simulation success rate 0.57, ave reward 17.89, ave turns 23.02\n",
      "simulation success rate 0.63, ave reward 26.84, ave turns 19.52\n",
      "Train on : 976\n",
      "- cur bellman err 5.6356, experience replay pool 976\n",
      "Simulation success rate 0.57, Ave reward 17.89, Ave turns 23.02, Best success rate 0\n",
      "Progress: 82 / 100, Success rate: 34 / 82 Avg reward: -3.90 Avg turns: 29.32\n",
      "----------------- Episode: 82 ----------------- \n",
      "simulation success rate 0.58, ave reward 17.86, ave turns 25.48\n",
      "simulation success rate 0.57, ave reward 16.84, ave turns 25.12\n",
      "Train on : 1256\n",
      "- cur bellman err 4.4024, experience replay pool 1256\n",
      "Simulation success rate 0.58, Ave reward 17.86, Ave turns 25.48, Best success rate 0\n",
      "Progress: 83 / 100, Success rate: 34 / 83 Avg reward: -4.58 Avg turns: 29.47\n",
      "----------------- Episode: 83 ----------------- \n"
     ]
    },
    {
     "name": "stdout",
     "output_type": "stream",
     "text": [
      "Successful Dialog!\n",
      "simulation success rate 0.64, ave reward 26.62, ave turns 22.36\n",
      "simulation success rate 0.59, ave reward 19.83, ave turns 23.94\n",
      "Train on : 1197\n",
      "- cur bellman err 3.9904, experience replay pool 1197\n",
      "Simulation success rate 0.64, Ave reward 26.62, Ave turns 22.36, Best success rate 0\n",
      "Progress: 84 / 100, Success rate: 35 / 84 Avg reward: -3.63 Avg turns: 29.26\n",
      "----------------- Episode: 84 ----------------- \n",
      "Successful Dialog!\n",
      "simulation success rate 0.81, ave reward 49.17, ave turns 18.06\n",
      "simulation success rate 0.78, ave reward 44.7, ave turns 19.8\n",
      "Train on : 990\n",
      "- cur bellman err 5.6771, experience replay pool 990\n",
      "Simulation success rate 0.81, Ave reward 49.17, Ave turns 18.06, Best success rate 0\n",
      "Progress: 85 / 100, Success rate: 36 / 85 Avg reward: -2.69 Avg turns: 29.04\n",
      "----------------- Episode: 85 ----------------- \n",
      "Successful Dialog!\n",
      "simulation success rate 0.85, ave reward 56.17, ave turns 13.66\n",
      "simulation success rate 0.81, ave reward 51.19, ave turns 14.02\n",
      "Train on : 701\n",
      "- cur bellman err 6.7934, experience replay pool 701\n",
      "Simulation success rate 0.85, Ave reward 56.17, Ave turns 13.66, Best success rate 0\n",
      "Progress: 86 / 100, Success rate: 37 / 86 Avg reward: -1.79 Avg turns: 28.84\n",
      "----------------- Episode: 86 ----------------- \n",
      "Successful Dialog!\n",
      "simulation success rate 0.85, ave reward 55.44, ave turns 15.12\n",
      "simulation success rate 0.85, ave reward 55.53, ave turns 14.94\n",
      "Train on : 747\n",
      "- cur bellman err 6.6606, experience replay pool 747\n",
      "Simulation success rate 0.85, Ave reward 55.44, Ave turns 15.12, Best success rate 0\n",
      "Progress: 87 / 100, Success rate: 38 / 87 Avg reward: -0.91 Avg turns: 28.64\n",
      "----------------- Episode: 87 ----------------- \n",
      "Successful Dialog!\n",
      "simulation success rate 0.85, ave reward 55.94, ave turns 14.12\n",
      "simulation success rate 0.82, ave reward 51.73, ave turns 15.34\n",
      "Train on : 767\n",
      "- cur bellman err 7.0825, experience replay pool 767\n",
      "Simulation success rate 0.85, Ave reward 55.94, Ave turns 14.12, Best success rate 0\n",
      "Progress: 88 / 100, Success rate: 39 / 88 Avg reward: -0.05 Avg turns: 28.45\n",
      "----------------- Episode: 88 ----------------- \n",
      "Successful Dialog!\n",
      "simulation success rate 0.82, ave reward 50.85, ave turns 17.1\n",
      "simulation success rate 0.83, ave reward 52.69, ave turns 15.82\n",
      "Train on : 791\n",
      "- cur bellman err 5.2513, experience replay pool 791\n",
      "Simulation success rate 0.82, Ave reward 50.85, Ave turns 17.1, Best success rate 0\n",
      "Progress: 89 / 100, Success rate: 40 / 89 Avg reward: 0.81 Avg turns: 28.25\n",
      "----------------- Episode: 89 ----------------- \n",
      "Successful Dialog!\n",
      "simulation success rate 0.89, ave reward 60.39, ave turns 14.82\n",
      "simulation success rate 0.85, ave reward 54.72, ave turns 16.56\n",
      "Train on : 828\n",
      "- cur bellman err 3.8143, experience replay pool 828\n",
      "Simulation success rate 0.89, Ave reward 60.39, Ave turns 14.82, Best success rate 0\n",
      "Progress: 90 / 100, Success rate: 41 / 90 Avg reward: 1.63 Avg turns: 28.07\n",
      "----------------- Episode: 90 ----------------- \n",
      "Successful Dialog!\n",
      "simulation success rate 0.88, ave reward 59.4, ave turns 14.4\n",
      "simulation success rate 0.86, ave reward 56.78, ave turns 14.84\n",
      "Train on : 742\n",
      "- cur bellman err 7.2257, experience replay pool 742\n",
      "Simulation success rate 0.88, Ave reward 59.4, Ave turns 14.4, Best success rate 0\n",
      "Progress: 91 / 100, Success rate: 42 / 91 Avg reward: 2.44 Avg turns: 27.89\n",
      "----------------- Episode: 91 ----------------- \n",
      "Successful Dialog!\n",
      "simulation success rate 0.87, ave reward 57.39, ave turns 16.02\n",
      "simulation success rate 0.86, ave reward 56.13, ave turns 16.14\n",
      "Train on : 807\n",
      "- cur bellman err 3.6699, experience replay pool 807\n",
      "Simulation success rate 0.87, Ave reward 57.39, Ave turns 16.02, Best success rate 0\n",
      "Progress: 92 / 100, Success rate: 43 / 92 Avg reward: 3.23 Avg turns: 27.72\n",
      "----------------- Episode: 92 ----------------- \n",
      "Successful Dialog!\n",
      "simulation success rate 0.84, ave reward 53.76, ave turns 16.08\n",
      "simulation success rate 0.9, ave reward 61.72, ave turns 14.56\n",
      "Train on : 728\n",
      "- cur bellman err 5.3755, experience replay pool 728\n",
      "Simulation success rate 0.84, Ave reward 53.76, Ave turns 16.08, Best success rate 0\n",
      "Progress: 93 / 100, Success rate: 44 / 93 Avg reward: 3.96 Avg turns: 27.63\n",
      "----------------- Episode: 93 ----------------- \n",
      "simulation success rate 0.87, ave reward 57.51, ave turns 15.78\n",
      "simulation success rate 0.89, ave reward 60.69, ave turns 14.22\n",
      "Train on : 711\n",
      "- cur bellman err 6.8146, experience replay pool 711\n",
      "Simulation success rate 0.87, Ave reward 57.51, Ave turns 15.78, Best success rate 0\n",
      "Progress: 94 / 100, Success rate: 44 / 94 Avg reward: 3.45 Avg turns: 27.45\n",
      "----------------- Episode: 94 ----------------- \n",
      "Successful Dialog!\n",
      "simulation success rate 0.9, ave reward 62.2, ave turns 13.6\n",
      "simulation success rate 0.84, ave reward 53.47, ave turns 16.66\n",
      "Train on : 833\n",
      "- cur bellman err 4.1076, experience replay pool 833\n",
      "Simulation success rate 0.9, Ave reward 62.2, Ave turns 13.6, Best success rate 0\n",
      "Progress: 95 / 100, Success rate: 45 / 95 Avg reward: 4.20 Avg turns: 27.28\n",
      "----------------- Episode: 95 ----------------- \n",
      "Successful Dialog!\n",
      "simulation success rate 0.86, ave reward 56.36, ave turns 15.68\n",
      "simulation success rate 0.82, ave reward 51.04, ave turns 16.72\n",
      "Train on : 836\n",
      "- cur bellman err 3.7089, experience replay pool 836\n",
      "Simulation success rate 0.86, Ave reward 56.36, Ave turns 15.68, Best success rate 0\n",
      "Progress: 96 / 100, Success rate: 46 / 96 Avg reward: 4.93 Avg turns: 27.15\n",
      "----------------- Episode: 96 ----------------- \n",
      "simulation success rate 0.8, ave reward 48.46, ave turns 17.08\n",
      "simulation success rate 0.88, ave reward 58.96, ave turns 15.28\n",
      "Train on : 764\n",
      "- cur bellman err 4.3842, experience replay pool 764\n",
      "Simulation success rate 0.8, Ave reward 48.46, Ave turns 17.08, Best success rate 0\n",
      "Progress: 97 / 100, Success rate: 46 / 97 Avg reward: 4.26 Avg turns: 27.30\n",
      "----------------- Episode: 97 ----------------- \n",
      "simulation success rate 0.79, ave reward 46.85, ave turns 17.9\n",
      "simulation success rate 0.88, ave reward 58.9, ave turns 15.4\n",
      "Train on : 770\n",
      "- cur bellman err 4.5991, experience replay pool 770\n",
      "Simulation success rate 0.79, Ave reward 46.85, Ave turns 17.9, Best success rate 0\n",
      "Progress: 98 / 100, Success rate: 46 / 98 Avg reward: 3.60 Avg turns: 27.45\n",
      "----------------- Episode: 98 ----------------- \n",
      "Successful Dialog!\n",
      "simulation success rate 0.88, ave reward 59.1, ave turns 15.0\n",
      "simulation success rate 0.87, ave reward 58.01, ave turns 14.78\n",
      "Train on : 739\n",
      "- cur bellman err 6.4033, experience replay pool 739\n",
      "Simulation success rate 0.88, Ave reward 59.1, Ave turns 15.0, Best success rate 0\n",
      "Progress: 99 / 100, Success rate: 47 / 99 Avg reward: 4.32 Avg turns: 27.29\n",
      "----------------- Episode: 99 ----------------- \n",
      "Successful Dialog!\n",
      "simulation success rate 0.84, ave reward 53.74, ave turns 16.12\n",
      "simulation success rate 0.86, ave reward 56.25, ave turns 15.9\n",
      "Train on : 795\n",
      "- cur bellman err 3.9057, experience replay pool 795\n",
      "Simulation success rate 0.84, Ave reward 53.74, Ave turns 16.12, Best success rate 0\n",
      "Progress: 100 / 100, Success rate: 48 / 100 Avg reward: 5.03 Avg turns: 27.14\n",
      "Success rate: 48 / 100 Avg reward: 5.03 Avg turns: 27.14\n"
     ]
    }
   ],
   "source": [
    "performance_records = {}\n",
    "performance_records['success_rate'] = {}\n",
    "performance_records['ave_turns'] = {}\n",
    "performance_records['ave_reward'] = {}\n",
    "\n",
    "best_model = {}\n",
    "best_res = {'success_rate': 0, 'ave_reward':float('-inf'), 'ave_turns': float('inf'), 'epoch':0}\n",
    "\n",
    "curve = []\n",
    "losses = []\n",
    "agent.warm_start = 1\n",
    "run_episodes(100, status)"
   ]
  },
  {
   "cell_type": "code",
   "execution_count": 59,
   "metadata": {},
   "outputs": [
    {
     "data": {
      "image/png": "[encoded data removed]",
      "text/plain": [
       "<matplotlib.figure.Figure at 0x11eeb5438>"
      ]
     },
     "metadata": {},
     "output_type": "display_data"
    }
   ],
   "source": [
    "draw_learning_curve(curve)"
   ]
  },
  {
   "cell_type": "code",
   "execution_count": 31,
   "metadata": {},
   "outputs": [],
   "source": [
    "import matplotlib.ft2font"
   ]
  },
  {
   "cell_type": "code",
   "execution_count": 41,
   "metadata": {},
   "outputs": [
    {
     "data": {
      "image/png": "[encoded data removed]",
      "text/plain": [
       "<matplotlib.figure.Figure at 0x12198ecc0>"
      ]
     },
     "metadata": {},
     "output_type": "display_data"
    }
   ],
   "source": [
    "draw_loss_curve(losses)"
   ]
  },
  {
   "cell_type": "code",
   "execution_count": null,
   "metadata": {
    "collapsed": true
   },
   "outputs": [],
   "source": [
    "draw_loss_curve(losses[-100:])"
   ]
  },
  {
   "cell_type": "code",
   "execution_count": null,
   "metadata": {
    "collapsed": true
   },
   "outputs": [],
   "source": []
  }
 ],
 "metadata": {
  "kernelspec": {
   "display_name": "Python 3",
   "language": "python",
   "name": "python3"
  },
  "language_info": {
   "codemirror_mode": {
    "name": "ipython",
    "version": 3
   },
   "file_extension": ".py",
   "mimetype": "text/x-python",
   "name": "python",
   "nbconvert_exporter": "python",
   "pygments_lexer": "ipython3",
   "version": "3.6.1"
  }
 },
 "nbformat": 4,
 "nbformat_minor": 2
}
