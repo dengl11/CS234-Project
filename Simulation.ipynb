{
 "cells": [
  {
   "cell_type": "markdown",
   "metadata": {},
   "source": [
    "# Simulation\n"
   ]
  },
  {
   "cell_type": "markdown",
   "metadata": {},
   "source": [
    "### End2End Workflow of Task Completion \n",
    "--------------------------"
   ]
  },
  {
   "cell_type": "code",
   "execution_count": 1,
   "metadata": {
    "code_folding": []
   },
   "outputs": [],
   "source": [
    "#\n",
    "from util import *\n",
    "from dlg_manager import *\n",
    "from alg import *\n",
    "from agent import *\n",
    "from user_sim import *\n",
    "from state_tracker import *\n",
    "import random\n",
    "from config import *\n",
    "import numpy as np\n",
    "from nlg import *\n",
    "from six.moves import cPickle as pickle\n",
    "import IPython\n",
    "import copy, argparse, json\n",
    "%matplotlib inline\n",
    "%load_ext autoreload\n",
    "%autoreload 2"
   ]
  },
  {
   "cell_type": "markdown",
   "metadata": {},
   "source": [
    "# Load Data\n",
    "-------------------"
   ]
  },
  {
   "cell_type": "markdown",
   "metadata": {},
   "source": [
    "#### Action Set"
   ]
  },
  {
   "cell_type": "code",
   "execution_count": 2,
   "metadata": {
    "code_folding": [
     0
    ]
   },
   "outputs": [
    {
     "name": "stdout",
     "output_type": "stream",
     "text": [
      "keys = 11\n",
      "Sample of dict:\n",
      "- confirm_question: 2\n",
      "- greeting: 4\n",
      "- multiple_choice: 6\n",
      "- request: 0\n",
      "- closing: 5\n"
     ]
    }
   ],
   "source": [
    "#\n",
    "act_set_path = './data/dia_acts.txt'\n",
    "act_set = text_to_dict(act_set_path)\n",
    "sample_dict(act_set)"
   ]
  },
  {
   "cell_type": "markdown",
   "metadata": {},
   "source": [
    "### slot set"
   ]
  },
  {
   "cell_type": "code",
   "execution_count": 3,
   "metadata": {
    "code_folding": [
     0
    ]
   },
   "outputs": [
    {
     "name": "stdout",
     "output_type": "stream",
     "text": [
      "keys = 29\n",
      "Sample of dict:\n",
      "- distanceconstraints: 7\n",
      "- critic_rating: 4\n",
      "- starttime: 20\n",
      "- seating: 19\n",
      "- description: 6\n"
     ]
    }
   ],
   "source": [
    "#\n",
    "slots_set_path = \"./data/slot_set.txt\"\n",
    "slot_set = text_to_dict(slots_set_path)\n",
    "sample_dict(slot_set)"
   ]
  },
  {
   "cell_type": "markdown",
   "metadata": {},
   "source": [
    "### movie dic: info about movie"
   ]
  },
  {
   "cell_type": "code",
   "execution_count": 4,
   "metadata": {
    "code_folding": [
     0
    ]
   },
   "outputs": [
    {
     "name": "stdout",
     "output_type": "stream",
     "text": [
      "keys = 991\n",
      "Sample of dict:\n",
      "- 89: {'city': 'bellevue', 'theater': 'bellevue lincoln square cinemas', 'zip': '98004', 'distanceconstraints': 'near 98119', 'actor': 'ryan reynolds', 'date': 'tonight', 'state': 'wa', 'starttime': '8:15pm', 'genre': 'superhero', 'moviename': 'deadpool'}\n"
     ]
    }
   ],
   "source": [
    "#\n",
    "movie_kb_path = \"./data/movie_kb.1k.p\"\n",
    "movie_kb = pickle.load(open(movie_kb_path, 'rb'), encoding=\"latin\")\n",
    "sample_dict(movie_kb, sample_size=1)"
   ]
  },
  {
   "cell_type": "markdown",
   "metadata": {},
   "source": [
    "# Language Generator (pretrained)\n",
    "-------------------"
   ]
  },
  {
   "cell_type": "code",
   "execution_count": 5,
   "metadata": {
    "code_folding": [
     0
    ]
   },
   "outputs": [],
   "source": [
    "#\n",
    "nlg_model_path = './data/trained_model/nlg/lstm_tanh_relu_[1468202263.38]_2_0.610.p'\n",
    "nlg_model = Nlg()\n",
    "nlg_model.load_nlg_model(nlg_model_path)\n",
    "diaact_nl_pairs_path = \"./data/nlg/dia_act_nl_pairs.v6.json\"\n",
    "nlg_model.load_predefine_act_nl_pairs(diaact_nl_pairs_path)"
   ]
  },
  {
   "cell_type": "markdown",
   "metadata": {},
   "source": [
    "## Model Params"
   ]
  },
  {
   "cell_type": "code",
   "execution_count": 6,
   "metadata": {
    "code_folding": [
     0
    ]
   },
   "outputs": [
    {
     "name": "stdout",
     "output_type": "stream",
     "text": [
      "dict_keys(['grad_clip', 'dia_slot_val', 'reg_cost', 'data_path', 'save_check_point', 'slot_rep', 'max_epochs', 'sdgtype', 'init_rnn', 'cv_fold', 'write_model_dir', 'valid_test', 'pretrained_model_path', 'check_point', 'decay_rate', 'feed_recurrence', 'hidden_size', 'activation_func', 'momentum', 'learning_rate', 'batch_size', 'act_set', 'smooth_eps', 'split_method', 'slot_set', 'eva_metric', 'model'])\n",
      "1\n",
      ".\\checkpoints\\template\\07102016\\\n"
     ]
    }
   ],
   "source": [
    "#\n",
    "model_params = pickle.load(open(nlg_model_path, 'rb'), encoding='latin1')\n",
    "params = model_params['params']\n",
    "print(params.keys())\n",
    "print(params['split_method'])\n",
    "print(params['write_model_dir'])"
   ]
  },
  {
   "cell_type": "markdown",
   "metadata": {},
   "source": [
    "# User Simulator\n",
    "-------------------"
   ]
  },
  {
   "cell_type": "markdown",
   "metadata": {},
   "source": [
    "### goal"
   ]
  },
  {
   "cell_type": "code",
   "execution_count": 7,
   "metadata": {
    "code_folding": [
     0
    ]
   },
   "outputs": [
    {
     "name": "stdout",
     "output_type": "stream",
     "text": [
      "goals length: 128\n",
      "Sample the first goal: \n",
      "{'request_slots': {}, 'diaact': 'request', 'inform_slots': {'city': 'birmingham', 'numberofpeople': '1', 'theater': 'carmike summit 16', 'state': 'al', 'starttime': 'around 2pm', 'date': 'today', 'moviename': 'zootopia'}}\n"
     ]
    }
   ],
   "source": [
    "#\n",
    "goal_file_path = './data/user_goals_first_turn_template.part.movie.v1.p'\n",
    "all_goal_set = pickle.load(open(goal_file_path, 'rb'), encoding=\"latin\")\n",
    "print(\"goals length: {}\".format(len(all_goal_set)))\n",
    "print(\"Sample the first goal: \\n{}\".format(all_goal_set[0]))"
   ]
  },
  {
   "cell_type": "markdown",
   "metadata": {},
   "source": [
    "### Split goal set"
   ]
  },
  {
   "cell_type": "code",
   "execution_count": 8,
   "metadata": {
    "code_folding": [
     0
    ]
   },
   "outputs": [
    {
     "name": "stdout",
     "output_type": "stream",
     "text": [
      "102\n",
      "0\n",
      "26\n",
      "128\n"
     ]
    }
   ],
   "source": [
    "# split goal set\n",
    "split_fold = params.get('split_fold', 5)\n",
    "goal_set = {'train':[], 'valid':[], 'test':[], 'all':[]}\n",
    "for u_goal_id, u_goal in enumerate(all_goal_set):\n",
    "    if u_goal_id % split_fold == 1: goal_set['test'].append(u_goal)\n",
    "    else: goal_set['train'].append(u_goal)\n",
    "    goal_set['all'].append(u_goal)\n",
    "print(len(goal_set['train']))\n",
    "print(len(goal_set['valid']))\n",
    "print(len(goal_set['test']))\n",
    "print(len(goal_set['all']))"
   ]
  },
  {
   "cell_type": "markdown",
   "metadata": {},
   "source": [
    "### user simulator param"
   ]
  },
  {
   "cell_type": "code",
   "execution_count": 9,
   "metadata": {
    "code_folding": [
     0
    ],
    "collapsed": true
   },
   "outputs": [],
   "source": [
    "#\n",
    "usersim_params = {}\n",
    "usersim_params['max_turn'] = 40\n",
    "usersim_params['slot_err_prob'] = 0.05\n",
    "# slot_err_mode: 0 for slot_val only; 1 for three errs\n",
    "usersim_params['slot_err_mode'] = 0\n",
    "usersim_params['intent_err_prob'] = 0\n",
    "# run_mode: 0 for default NL; 1 for dia_act; 2 for both\n",
    "usersim_params['run_mode'] = 0\n",
    "# 0 for dia_act level; 1 for NL level\n",
    "usersim_params['act_level'] = 0\n",
    "# train/test/all; default is all\n",
    "usersim_params['learn_phase'] = 'all'"
   ]
  },
  {
   "cell_type": "markdown",
   "metadata": {},
   "source": [
    "### a movie dictionary for user simulator - slot:possible values"
   ]
  },
  {
   "cell_type": "code",
   "execution_count": 10,
   "metadata": {
    "code_folding": [
     0
    ]
   },
   "outputs": [
    {
     "name": "stdout",
     "output_type": "stream",
     "text": [
      "keys = 20\n",
      "Sample of dict:\n",
      "- video_format: ['3d', 'standard', '2d', 'standard/2D version', 'IMAX', 'imax', 'regular', 'imax 3d', ' standard']\n"
     ]
    }
   ],
   "source": [
    "#\n",
    "movie_dict_path = './data/user/dicts.v3.p'\n",
    "movie_dictionary = pickle.load(open(movie_dict_path, 'rb'), encoding=\"latin\")\n",
    "samples = sample_dict(movie_dictionary, sample_size=1)"
   ]
  },
  {
   "cell_type": "markdown",
   "metadata": {},
   "source": [
    "###  Create a User"
   ]
  },
  {
   "cell_type": "code",
   "execution_count": 11,
   "metadata": {
    "collapsed": true
   },
   "outputs": [],
   "source": [
    "user = RuleSimulator(movie_dictionary, act_set, slot_set, goal_set, usersim_params)\n",
    "user.set_nlg_model(nlg_model)"
   ]
  },
  {
   "cell_type": "markdown",
   "metadata": {},
   "source": [
    "# Agent\n",
    "-------------------"
   ]
  },
  {
   "cell_type": "markdown",
   "metadata": {},
   "source": [
    "## param"
   ]
  },
  {
   "cell_type": "code",
   "execution_count": 12,
   "metadata": {
    "code_folding": [
     0
    ]
   },
   "outputs": [
    {
     "name": "stdout",
     "output_type": "stream",
     "text": [
      "pretrained model path = None\n"
     ]
    }
   ],
   "source": [
    "#\n",
    "agent_params = {}\n",
    "# maximum length of each dialog (default=20, 0=no maximum length)\n",
    "agent_params['max_turn'] = 20\n",
    "# Epsilon to determine stochasticity of epsilon-greedy agent policies\n",
    "agent_params['epsilon'] = 0\n",
    "# run_mode: 0 for default NL; 1 for dia_act; 2 for both\n",
    "agent_params['agent_run_mode'] = 3\n",
    "# 0 for dia_act level; 1 for NL level\n",
    "agent_params['agent_act_level'] = 0\n",
    "\n",
    "############### DQN #################\n",
    "# the size for experience replay\n",
    "agent_params['experience_replay_pool_size'] = 10000\n",
    "# # the hidden size for DQN\n",
    "agent_params['dqn_hidden_size'] = 60\n",
    "agent_params['batch_size'] = 16\n",
    "# # gamma for DQN\n",
    "agent_params['gamma'] = 0.9\n",
    "# # predict model for DQN\n",
    "agent_params['predict_mode'] = False\n",
    "agent_params['trained_model_path'] = params['pretrained_model_path']\n",
    "#####################################\n",
    "print(\"pretrained model path = {}\".format(agent_params['trained_model_path']))\n",
    "# 0: no warm start; 1: warm start for training\n",
    "agent_params['warm_start'] = 1\n",
    "# run_mode: 0 for NL; 1 for dia_act\n",
    "agent_params['cmd_input_mode'] = 0"
   ]
  },
  {
   "cell_type": "markdown",
   "metadata": {},
   "source": [
    "### create an agent"
   ]
  },
  {
   "cell_type": "code",
   "execution_count": 13,
   "metadata": {
    "code_folding": [
     0
    ]
   },
   "outputs": [
    {
     "name": "stdout",
     "output_type": "stream",
     "text": [
      "agent_run_mode:3\n"
     ]
    }
   ],
   "source": [
    "# agent = RequestBasicsAgent(movie_kb, act_set, slot_set, agent_params)\n",
    "agent = AgentDQN(movie_kb, act_set, slot_set, agent_params)\n",
    "agent.set_nlg_model(nlg_model)"
   ]
  },
  {
   "cell_type": "markdown",
   "metadata": {},
   "source": [
    "# Dialog Manager\n",
    "-------------------"
   ]
  },
  {
   "cell_type": "code",
   "execution_count": 14,
   "metadata": {},
   "outputs": [],
   "source": [
    "dlg_manager = DlgManager(agent, user, act_set, slot_set, movie_kb)"
   ]
  },
  {
   "cell_type": "markdown",
   "metadata": {},
   "source": [
    "## Running Episodes\n",
    "-------------------"
   ]
  },
  {
   "cell_type": "markdown",
   "metadata": {},
   "source": [
    "### Param"
   ]
  },
  {
   "cell_type": "code",
   "execution_count": 15,
   "metadata": {
    "code_folding": [
     0
    ],
    "collapsed": true
   },
   "outputs": [],
   "source": [
    "#\n",
    "status = {'successes': 0, 'count': 0, 'cumulative_reward': 0}\n",
    "# the size of validation set\n",
    "simulation_epoch_size = 50\n",
    "# the number of epochs for warm start \n",
    "warm_start_epochs = 100"
   ]
  },
  {
   "cell_type": "code",
   "execution_count": 16,
   "metadata": {
    "code_folding": [
     0
    ],
    "collapsed": true
   },
   "outputs": [],
   "source": [
    "def run_episodes(num_episode, status, verbose = False, record_training_data = True):\n",
    "    num_success = 0\n",
    "    accu_reward = 0.\n",
    "    accu_episodes = 0.\n",
    "    for i in range(1, num_episode+1):\n",
    "#         print(\"\\nEpisode {} starts!\".format(i))\n",
    "        dlg_manager.init_episode()\n",
    "        done = False\n",
    "        while not done:\n",
    "            done, reward = dlg_manager.step()\n",
    "            accu_reward += reward\n",
    "            if done:\n",
    "                if reward > 0: num_success += 1\n",
    "                accu_episodes += dlg_manager.state_tracker.turn_count\n",
    "#         print(\"Progress: %s / %s, Success rate: %s / %s Avg reward: %.2f Avg turns: %.2f\" % (i+1, num_episode, num_success, i+1, float(accu_reward/(i+1)), float(accu_episodes)/(i+1)))\n",
    "    succ_rate = num_success/num_episode\n",
    "    if verbose: print(\"Success rate: %s / %s Avg reward: %.2f Avg turns: %.2f\" % (num_success, num_episode, succ_rate, float(accu_episodes)/num_episode))\n",
    "    status['successes'] += num_success\n",
    "    status['count'] += num_episode\n",
    "    return num_success, succ_rate"
   ]
  },
  {
   "cell_type": "markdown",
   "metadata": {},
   "source": [
    "## Run !"
   ]
  },
  {
   "cell_type": "code",
   "execution_count": 17,
   "metadata": {
    "scrolled": false
   },
   "outputs": [
    {
     "name": "stdout",
     "output_type": "stream",
     "text": [
      "Success rate: 0 / 1 Avg reward: 0.00 Avg turns: 16.00\n"
     ]
    },
    {
     "data": {
      "text/html": [
       "<h3>Success Rate: 0.0</h3> "
      ],
      "text/plain": [
       "<IPython.core.display.HTML object>"
      ]
     },
     "execution_count": 17,
     "metadata": {},
     "output_type": "execute_result"
    }
   ],
   "source": [
    "num_episodes = 1\n",
    "agt = 2\n",
    "_, succ_rate = run_episodes(num_episodes, status, verbose = True, record_training_data=False)\n",
    "display.HTML('<h3>{}</h3> '.format(\"Success Rate: {}\".format(succ_rate)))"
   ]
  },
  {
   "cell_type": "markdown",
   "metadata": {},
   "source": [
    "# Train & Eval\n",
    "-------------------"
   ]
  },
  {
   "cell_type": "code",
   "execution_count": 18,
   "metadata": {
    "collapsed": true
   },
   "outputs": [],
   "source": [
    "def train_agent(num_episode = 100, num_batches = 100, batch_size = 10, status=status, eval_every = 10, show_every = 100):\n",
    "    succ_rates = []\n",
    "    num_succ = 0\n",
    "    epochs = list(range(eval_every, num_episode+1, eval_every))\n",
    "    for n_epo in epochs:\n",
    "        # collect experience\n",
    "        run_episodes(num_episode=eval_every, status=status, record_training_data = True)\n",
    "        # train\n",
    "        agent.train(batch_size=batch_size, num_batches=num_batches, show_every = show_every)\n",
    "        # eval\n",
    "        curr_num_succ, _ = run_episodes(num_episode=eval_every, status=status, record_training_data = False)\n",
    "        num_succ += curr_num_succ\n",
    "        succ_rates.append(num_succ/n_epo)\n",
    "        \n",
    "    return {\"x\": epochs, 'success_rate': succ_rates}"
   ]
  },
  {
   "cell_type": "code",
   "execution_count": 19,
   "metadata": {},
   "outputs": [
    {
     "name": "stdout",
     "output_type": "stream",
     "text": [
      "Train on : 8\n",
      "cur bellman err 0.0000, experience replay pool 8\n",
      "cur bellman err 0.0000, experience replay pool 8\n",
      "cur bellman err 0.0000, experience replay pool 8\n",
      "cur bellman err 0.0000, experience replay pool 8\n",
      "cur bellman err 0.0000, experience replay pool 8\n",
      "cur bellman err 0.0000, experience replay pool 8\n",
      "cur bellman err 0.0000, experience replay pool 8\n",
      "cur bellman err 0.0000, experience replay pool 8\n",
      "cur bellman err 0.0000, experience replay pool 8\n",
      "cur bellman err 0.0000, experience replay pool 8\n",
      "Train on : 24\n",
      "cur bellman err 13.4017, experience replay pool 24\n",
      "cur bellman err 31.7344, experience replay pool 24\n",
      "cur bellman err 21.0918, experience replay pool 24\n",
      "cur bellman err 4.4258, experience replay pool 24\n",
      "cur bellman err 7.9798, experience replay pool 24\n",
      "cur bellman err 12.6815, experience replay pool 24\n",
      "cur bellman err 0.0059, experience replay pool 24\n",
      "cur bellman err 2.1656, experience replay pool 24\n",
      "cur bellman err 1.8946, experience replay pool 24\n",
      "cur bellman err 7.7861, experience replay pool 24\n",
      "Train on : 40\n",
      "cur bellman err 3.1875, experience replay pool 40\n",
      "cur bellman err 1.8623, experience replay pool 40\n",
      "cur bellman err 0.9245, experience replay pool 40\n",
      "cur bellman err 0.2334, experience replay pool 40\n",
      "cur bellman err 0.1798, experience replay pool 40\n",
      "cur bellman err 0.0507, experience replay pool 40\n",
      "cur bellman err 0.0038, experience replay pool 40\n",
      "cur bellman err 0.0602, experience replay pool 40\n",
      "cur bellman err 0.1111, experience replay pool 40\n",
      "cur bellman err 0.0582, experience replay pool 40\n",
      "Train on : 56\n",
      "cur bellman err 0.0728, experience replay pool 56\n",
      "cur bellman err 0.1267, experience replay pool 56\n",
      "cur bellman err 0.0657, experience replay pool 56\n",
      "cur bellman err 0.0534, experience replay pool 56\n",
      "cur bellman err 0.0065, experience replay pool 56\n",
      "cur bellman err 0.0354, experience replay pool 56\n",
      "cur bellman err 0.0153, experience replay pool 56\n",
      "cur bellman err 0.0062, experience replay pool 56\n",
      "cur bellman err 0.0055, experience replay pool 56\n",
      "cur bellman err 0.0780, experience replay pool 56\n",
      "Train on : 72\n",
      "cur bellman err 0.0250, experience replay pool 72\n",
      "cur bellman err 0.0257, experience replay pool 72\n",
      "cur bellman err 0.0091, experience replay pool 72\n",
      "cur bellman err 0.0656, experience replay pool 72\n",
      "cur bellman err 0.0124, experience replay pool 72\n",
      "cur bellman err 0.0043, experience replay pool 72\n",
      "cur bellman err 0.0046, experience replay pool 72\n",
      "cur bellman err 0.0235, experience replay pool 72\n",
      "cur bellman err 0.0258, experience replay pool 72\n",
      "cur bellman err 0.0150, experience replay pool 72\n",
      "Train on : 88\n",
      "cur bellman err 0.1213, experience replay pool 88\n",
      "cur bellman err 0.1042, experience replay pool 88\n",
      "cur bellman err 0.1626, experience replay pool 88\n",
      "cur bellman err 0.0159, experience replay pool 88\n",
      "cur bellman err 0.1185, experience replay pool 88\n",
      "cur bellman err 0.0587, experience replay pool 88\n",
      "cur bellman err 0.0576, experience replay pool 88\n",
      "cur bellman err 0.0649, experience replay pool 88\n",
      "cur bellman err 0.0604, experience replay pool 88\n",
      "cur bellman err 0.0610, experience replay pool 88\n",
      "Train on : 104\n",
      "cur bellman err 39.1767, experience replay pool 104\n",
      "cur bellman err 1.4693, experience replay pool 104\n",
      "cur bellman err 0.3423, experience replay pool 104\n",
      "cur bellman err 12.6345, experience replay pool 104\n",
      "cur bellman err 0.5132, experience replay pool 104\n",
      "cur bellman err 12.5584, experience replay pool 104\n",
      "cur bellman err 0.2481, experience replay pool 104\n",
      "cur bellman err 12.0774, experience replay pool 104\n",
      "cur bellman err 0.3412, experience replay pool 104\n",
      "cur bellman err 11.7194, experience replay pool 104\n",
      "Train on : 120\n",
      "cur bellman err 27.5434, experience replay pool 120\n",
      "cur bellman err 17.2670, experience replay pool 120\n",
      "cur bellman err 20.1820, experience replay pool 120\n",
      "cur bellman err 8.2081, experience replay pool 120\n",
      "cur bellman err 31.0574, experience replay pool 120\n",
      "cur bellman err 16.6328, experience replay pool 120\n",
      "cur bellman err 16.8041, experience replay pool 120\n",
      "cur bellman err 20.9658, experience replay pool 120\n",
      "cur bellman err 7.3627, experience replay pool 120\n",
      "cur bellman err 1.8240, experience replay pool 120\n",
      "Train on : 136\n",
      "cur bellman err 16.2538, experience replay pool 136\n",
      "cur bellman err 22.0142, experience replay pool 136\n",
      "cur bellman err 12.0980, experience replay pool 136\n",
      "cur bellman err 11.0475, experience replay pool 136\n",
      "cur bellman err 29.9375, experience replay pool 136\n",
      "cur bellman err 14.2594, experience replay pool 136\n",
      "cur bellman err 22.8499, experience replay pool 136\n",
      "cur bellman err 1.5418, experience replay pool 136\n",
      "cur bellman err 22.7322, experience replay pool 136\n",
      "cur bellman err 11.4333, experience replay pool 136\n",
      "Train on : 152\n",
      "cur bellman err 17.6219, experience replay pool 152\n",
      "cur bellman err 29.6908, experience replay pool 152\n",
      "cur bellman err 29.6371, experience replay pool 152\n",
      "cur bellman err 15.9838, experience replay pool 152\n",
      "cur bellman err 20.2021, experience replay pool 152\n",
      "cur bellman err 11.7230, experience replay pool 152\n",
      "cur bellman err 15.2962, experience replay pool 152\n",
      "cur bellman err 14.3429, experience replay pool 152\n",
      "cur bellman err 21.2193, experience replay pool 152\n",
      "cur bellman err 4.0231, experience replay pool 152\n"
     ]
    }
   ],
   "source": [
    "agent.clear_exp_pool()\n",
    "succ_rates = train_agent(num_episode = 10, num_batches = 10, show_every = 1, eval_every = 1)"
   ]
  },
  {
   "cell_type": "code",
   "execution_count": 20,
   "metadata": {
    "scrolled": false
   },
   "outputs": [
    {
     "data": {
      "image/png": "[encoded data removed]",
      "text/plain": [
       "<matplotlib.figure.Figure at 0x10cb189b0>"
      ]
     },
     "metadata": {},
     "output_type": "display_data"
    }
   ],
   "source": [
    "draw_learning_curve(succ_rates)"
   ]
  },
  {
   "cell_type": "code",
   "execution_count": null,
   "metadata": {
    "collapsed": true
   },
   "outputs": [],
   "source": []
  }
 ],
 "metadata": {
  "kernelspec": {
   "display_name": "Python 3",
   "language": "python",
   "name": "python3"
  },
  "language_info": {
   "codemirror_mode": {
    "name": "ipython",
    "version": 3
   },
   "file_extension": ".py",
   "mimetype": "text/x-python",
   "name": "python",
   "nbconvert_exporter": "python",
   "pygments_lexer": "ipython3",
   "version": "3.6.1"
  }
 },
 "nbformat": 4,
 "nbformat_minor": 2
}
