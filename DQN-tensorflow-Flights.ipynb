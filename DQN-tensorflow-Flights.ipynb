{
 "cells": [
  {
   "cell_type": "markdown",
   "metadata": {},
   "source": [
    "# DQN\n"
   ]
  },
  {
   "cell_type": "markdown",
   "metadata": {},
   "source": [
    "### Training of DQN in Tensorflow\n",
    "--------------------------"
   ]
  },
  {
   "cell_type": "code",
   "execution_count": 26,
   "metadata": {
    "code_folding": [],
    "init_cell": true
   },
   "outputs": [
    {
     "name": "stdout",
     "output_type": "stream",
     "text": [
      "The autoreload extension is already loaded. To reload it, use:\n",
      "  %reload_ext autoreload\n"
     ]
    }
   ],
   "source": [
    "#\n",
    "from util import *\n",
    "from dlg_manager import *\n",
    "from alg import *\n",
    "from agent import *\n",
    "from user_sim import *\n",
    "from state_tracker import *\n",
    "import random\n",
    "from config import *\n",
    "import matplotlib.pyplot as plt\n",
    "import numpy as np\n",
    "from nlg import *\n",
    "from six.moves import cPickle as pickle\n",
    "import IPython\n",
    "import copy, argparse, json\n",
    "\n",
    "%matplotlib inline\n",
    "%load_ext autoreload\n",
    "%autoreload 2"
   ]
  },
  {
   "cell_type": "markdown",
   "metadata": {},
   "source": [
    "# Load Data\n",
    "-------------------"
   ]
  },
  {
   "cell_type": "markdown",
   "metadata": {},
   "source": [
    "#### Action Set"
   ]
  },
  {
   "cell_type": "code",
   "execution_count": 27,
   "metadata": {
    "code_folding": [],
    "init_cell": true
   },
   "outputs": [
    {
     "name": "stdout",
     "output_type": "stream",
     "text": [
      "keys = 11\n",
      "Sample of dict:\n",
      "- welcome: 8\n",
      "- greeting: 4\n",
      "- deny: 9\n",
      "- multiple_choice: 6\n",
      "- confirm_answer: 3\n"
     ]
    }
   ],
   "source": [
    "#\n",
    "act_set_path = './data/dia_acts.txt'\n",
    "act_set = text_to_dict(act_set_path)\n",
    "sample_dict(act_set)"
   ]
  },
  {
   "cell_type": "markdown",
   "metadata": {},
   "source": [
    "### slot set"
   ]
  },
  {
   "cell_type": "code",
   "execution_count": 28,
   "metadata": {
    "code_folding": [],
    "init_cell": true
   },
   "outputs": [
    {
     "name": "stdout",
     "output_type": "stream",
     "text": [
      "keys = 7\n",
      "Sample of dict:\n",
      "- travelers: 4\n",
      "- flightDate1: 2\n",
      "- taskcomplete: 6\n",
      "- origin1: 3\n",
      "- destination1: 0\n"
     ]
    }
   ],
   "source": [
    "#\n",
    "slots_set_path = \"./parser/slot_set.txt\"\n",
    "slot_set = text_to_dict(slots_set_path)\n",
    "sample_dict(slot_set)"
   ]
  },
  {
   "cell_type": "markdown",
   "metadata": {},
   "source": [
    "### flight dic: info about flights"
   ]
  },
  {
   "cell_type": "code",
   "execution_count": 29,
   "metadata": {
    "code_folding": [],
    "init_cell": true
   },
   "outputs": [
    {
     "name": "stdout",
     "output_type": "stream",
     "text": [
      "keys = 1000\n",
      "Sample of dict:\n",
      "- 346: {'destination1': 'BCN', 'travelers': '2', 'flightDate1': '2', 'flightDate2': '6', 'origin1': 'YYZ'}\n"
     ]
    }
   ],
   "source": [
    "#\n",
    "flight_kb_path = \"./parser/fkb.json.p\"\n",
    "flight_kb = pickle.load(open(flight_kb_path, 'rb'), encoding=\"latin\")\n",
    "sample_dict(flight_kb, sample_size=1)"
   ]
  },
  {
   "cell_type": "markdown",
   "metadata": {},
   "source": [
    "# Language Generator (pretrained)\n",
    "-------------------"
   ]
  },
  {
   "cell_type": "code",
   "execution_count": 30,
   "metadata": {
    "code_folding": [],
    "collapsed": true
   },
   "outputs": [],
   "source": [
    "#\n",
    "nlg_model_path ='data/trained_model/nlg/lstm_tanh_relu_[1468202263.38]_2_0.610.p'\n",
    "nlg_model = Nlg()\n",
    "nlg_model.load_nlg_model(nlg_model_path)\n",
    "diaact_nl_pairs_path = \"./parser/flight.nl.pairs.json\"\n",
    "nlg_model.load_predefine_act_nl_pairs(diaact_nl_pairs_path)"
   ]
  },
  {
   "cell_type": "markdown",
   "metadata": {},
   "source": [
    "## Model Params"
   ]
  },
  {
   "cell_type": "code",
   "execution_count": 31,
   "metadata": {
    "code_folding": [],
    "init_cell": true
   },
   "outputs": [
    {
     "name": "stdout",
     "output_type": "stream",
     "text": [
      "dia_slot_val: 2\n",
      "max_epochs: 200\n",
      "grad_clip: -0.0001\n",
      "hidden_size: 100\n",
      "feed_recurrence: 0\n",
      "slot_set: data/slot_set.txt\n",
      "eva_metric: 2\n",
      "data_path: .\\data\\movieMultiLine.Annot.Corrected.Final.v3.csv\n",
      "init_rnn: 0\n",
      "reg_cost: 0.001\n",
      "sdgtype: rmsprop\n",
      "split_method: 1\n",
      "slot_rep: 1\n",
      "valid_test: 0\n",
      "decay_rate: 0.999\n",
      "save_check_point: 20\n",
      "activation_func: relu\n",
      "pretrained_model_path: None\n",
      "momentum: 0.1\n",
      "batch_size: 16\n",
      "write_model_dir: .\\checkpoints\\template\\07102016\\\n",
      "cv_fold: 6\n",
      "act_set: data/dia_acts.txt\n",
      "trained_model_path: None\n",
      "smooth_eps: 1e-08\n",
      "learning_rate: 0.001\n",
      "model: lstm_tanh\n",
      "check_point: 20\n"
     ]
    }
   ],
   "source": [
    "#\n",
    "model_params = pickle.load(open(nlg_model_path, 'rb'), encoding='latin1')\n",
    "params = model_params['params']\n",
    "params['batch_size'] = 16\n",
    "batch_size = 16\n",
    "save_check_point = 20\n",
    "params['trained_model_path'] = None\n",
    "for k in params:\n",
    "    print(\"{}: {}\".format(k, params[k]))"
   ]
  },
  {
   "cell_type": "markdown",
   "metadata": {},
   "source": [
    "# User Simulator\n",
    "-------------------"
   ]
  },
  {
   "cell_type": "markdown",
   "metadata": {},
   "source": [
    "### goal"
   ]
  },
  {
   "cell_type": "code",
   "execution_count": 32,
   "metadata": {
    "code_folding": [],
    "init_cell": true
   },
   "outputs": [
    {
     "name": "stdout",
     "output_type": "stream",
     "text": [
      "goals length: 128\n",
      "Sample the first goal: \n",
      "{'diaact': 'request', 'request_slots': {}, 'inform_slots': {'destination1': 'MCO', 'travelers': '4', 'flightDate1': '2', 'flightDate2': '3', 'origin1': 'MUC'}}\n"
     ]
    }
   ],
   "source": [
    "#\n",
    "goal_file_path = './parser/fg.json.p'\n",
    "all_goal_set = pickle.load(open(goal_file_path, 'rb'), encoding=\"latin\")\n",
    "print(\"goals length: {}\".format(len(all_goal_set)))\n",
    "print(\"Sample the first goal: \\n{}\".format(all_goal_set[0]))"
   ]
  },
  {
   "cell_type": "markdown",
   "metadata": {},
   "source": [
    "### Split goal set"
   ]
  },
  {
   "cell_type": "code",
   "execution_count": 33,
   "metadata": {
    "code_folding": []
   },
   "outputs": [
    {
     "name": "stdout",
     "output_type": "stream",
     "text": [
      "102\n",
      "0\n",
      "26\n",
      "128\n"
     ]
    }
   ],
   "source": [
    "# split goal set\n",
    "split_fold = params.get('split_fold', 5)\n",
    "goal_set = {'train':[], 'valid':[], 'test':[], 'all':[]}\n",
    "for u_goal_id, u_goal in enumerate(all_goal_set):\n",
    "    if u_goal_id % split_fold == 1: goal_set['test'].append(u_goal)\n",
    "    else: goal_set['train'].append(u_goal)\n",
    "    goal_set['all'].append(u_goal)\n",
    "print(len(goal_set['train']))\n",
    "print(len(goal_set['valid']))\n",
    "print(len(goal_set['test']))\n",
    "print(len(goal_set['all']))"
   ]
  },
  {
   "cell_type": "markdown",
   "metadata": {},
   "source": [
    "### user simulator param"
   ]
  },
  {
   "cell_type": "code",
   "execution_count": 34,
   "metadata": {
    "code_folding": [],
    "collapsed": true
   },
   "outputs": [],
   "source": [
    "#\n",
    "usersim_params = {}\n",
    "usersim_params['max_turn'] = 40\n",
    "usersim_params['slot_err_prob'] = 0.00\n",
    "# slot_err_mode: 0 for slot_val only; 1 for three errs\n",
    "usersim_params['slot_err_mode'] = 0\n",
    "usersim_params['intent_err_prob'] = 0\n",
    "# run_mode: 0 for default NL; 1 for dia_act; 2 for both\n",
    "usersim_params['run_mode'] = 0\n",
    "# 0 for dia_act level; 1 for NL level\n",
    "usersim_params['act_level'] = 0\n",
    "# train/test/all; default is all\n",
    "usersim_params['learn_phase'] = 'all'"
   ]
  },
  {
   "cell_type": "markdown",
   "metadata": {},
   "source": [
    "### a flights dictionary for user simulator - slot:possible values"
   ]
  },
  {
   "cell_type": "code",
   "execution_count": 35,
   "metadata": {
    "code_folding": []
   },
   "outputs": [
    {
     "name": "stdout",
     "output_type": "stream",
     "text": [
      "keys = 20\n",
      "Sample of dict:\n",
      "- theater: ['manville 12 plex', 'amc dine-in theatres bridgewater 7', 'bridgewater', 'every single theatre', 'bellevue lincoln square cinemas', 'regal meridian 16', 'regal meridian', 'carmike summit 16', 'carmike summit', 'century centre 9', 'Redwood City 20', 'many', 'amc pacific place 11 theater', 'regal lloyd center 10', 'carmike 16', 'river east 21', 'emagine theater', 'emagine', 'different', 'amc star john r 15', 'any', 'FLIX BREWHOUSE DES MOINES', 'CARMIKE COBBLESTONE 9', 'cinemas', 'regal visalia stadium 10', 'amc pacific place 11', 'amc loews boston common 19', 'amc showplace carbondale 8', 'amc lowes oak tree', 'amc lowes oak tree 6', 'royal oak emagine theater', 'Regal LA LIVE Stadium 14', 'regal la live stadium', 'Big Picture', 'Cinerama', 'Central Cinema', 'century rowland plaza', 'the century rowland plaza', 'regency commerce 14', 'bellevue lincoln square', 'amc west shore 14 210 Westshore Plaza', 'pacific science center imax theaters', 'carmike patton creek', 'regal meridian sundance cinemas', 'regal thornton place', 'REGAL NATOMAS MARKETPLACE STADIUM 16 & RPX', 'Regal Natomas Marketplace', 'amc hamilton 24', 'regal meridan 16', 'elmwood palace 20', 'regal hollywood stadium 27', 'chase park plaza cinemas', 'regal lloyd center century eastport 16', 'regal movies on tv stadium 16', 'regal lloyd', 'Regal South Beach', 'Cinepolis USA', 'Cobb Dolphin Cinemas', 'cobb dolphin cinemas', 'amc southcenter 16', 'ua kaufman astoria stadium 14', 'regal theater', 'the Holiday 6', ' the Stadium 5', 'the Natomas Marketplace Stadium', 'Natomas Marketplace Stadium', 'regal natomas marketplace stadium', 'richland cinemas', 'this theater', 'amc loews waterfront 22', 'amc phipps plaza 14', 'south barrington', 'regal la live stadium 14', 'pacific theatres at the grove', 'regal la stadium 14', 'regal la', 'varsity theater', 'theaters all over', 'alamo draft house', 'alamo drafthouse dallas', 'century Eastport 16', 'regal pioneer place', 'regal lloyd center 10 & IMAX', 'CENTURY 16 EASTPORT PLAZA', 'century 16 EASTPORT PLAZA', 'century 16', 'regal barkley village stadium 16', 'amc loews cascade mall', 'regal marysville 14', 'park west 14', 'fangandgo', 'Frank Theatres Parkside Town Commons Stadium 11', 'Frank Theatres', 'whittier village stadium cinemas', 'cinemar downey', 'amc theaters puente hills', \"wehrenberg o'fallon 15 cine\", 'wehrenberg st clair 10 cine', 'WEHRENBERG CAMPBELL 16', 'pacific place 11', 'regal clifton park stadium', 'century eastport 16', 'amc houma palace 10', 'olympic blvd', 'Regal Meridan 16 Bellevue Lincoln Square Cinemas', 'Pacific Science Center IMAX Theaters', 'box office window', 'amc showplace carbondale', 'Main Street Carbondale', 'AMC UNIVERSITY PLACE 8', 'amc pacific place 11 600 pine s', 'loews stony brook 17', 'amc loews stony brook', 'regal fox tower stadium', 'flix brewhouse des moines', 'carmike cobblestone 9', 'amc van ness 14', 'AMC Van Ness', 'amc van ness', 'SIFF Cinema Uptown', 'Ark Lodge Cinemas', 'Regal Crossroads', 'cinema uptown', 'regal crossroad', 'regal crossroads', 'pacific place 11 theater', 'wehrenberg ronnies 20', 'imax 5320', 'blvd', 'big picture seattle', 'regal macarthur center stadium 18 & RPX CINEMARK 18', 'regal', 'regal macarthur center stadium 18', 'chase park plaza', 'regal live stadium 14', 'IMAX Century Eastport 16', 'Century Clackmas Town Center', 'XD', 'theaters all across seattle', 'Regal Meridian 16', 'Pacific Science Center', 'Admiral Theater', 'pacific science center', 'pacific science theater', 'Regal meridian 16', 'regal thornton place stadium', 'amc star fairlane 21', 'regency academy 6', 'Regal LA Live Stadium 14', 'cinemark tinseltown 9', 'AMC LOEWS OAK TREE 6 10006 aurora', 'theatre avenue north', 'amc marketfair 10', 'amc university place', 'amc pacific place', 'mall of georgia movie', 'current', 'Visalia', 'regal colonnade 14', 'zeus', 'confirmed', 'creed', 'pacific sherman oaks 5', 'amc la mirada 7', 'AMC La Mirada', 'amc', '15', 'buford georgia', 'whisky foxtrot tango', 'mall of georgia', '', 'finding dory', 'carmike the summit 16', 'lake theater', 'Mason city IA cinema west', 'cinema west', 'carmike 12', 'Living Room Theaters Century Eastport 16', 'Century Clackamas Town Center', 'XD among others in your area', 'Living Room Theaters', 'amc west oaks 14', 'regency academy', 'cinemakr egyptian 24', 'pacific theatres', 'pacific theater', 'Richland Cinemas', 'living room theaters', '...', 'shelby township', 'the pearl theatre', 'century 20 daly city', 'carmike 10', 'please', 'mesa grand 24', 'mesa grand', 'boyou vista la', 'bayou vista', 'fairview cinema work', 'fairview', 'regal south beach', 'amc sunset place 24', 'regency norwalk 8', 'amc la 7', 'amc la mirada', 'amc la', 'wehrenberg ronnies 20 cine and imax', 'all', 'paradise cinema 7', 'tinseltown', 'cinemark 14', ' paradisa cinema 7', 'beaver creek stadium 12', 'varsity theatre', 'regal mayfaire stadium 16 imax', 'regal lloyd center century 16', 'ncg eastwood cinemas', 'regal cinemas', 'cinema lansing', 'big picture', 'cinerama', 'central cinema', 'amc elmwood palace 20', 'fairview cinema', 'shields ave', 'maya fresno 16', 'campus pointe dr', 'Regal Pioneer Place Stadium', 'Regal Lloyd Center 10', 'Bagdad Theatre', 'regal pioneer place stadium', 'wehrenberg campbell 16 cine moviename', 'Big Picture Sundance Cinemas', 'southpoint casino', 'cinemark lincoln square cinemas', 'regal meridian 16 theater', 'amc river east 21', 'cinpolis coconut grove', 'COBB DOLPHIN 19', 'cinepolis coconut grove', 'cinepolis', 'cCENTURY 16 SOUTH POINT AND XD', 'Las Vegas NV 89183', 'Century 16 South Point']\n"
     ]
    }
   ],
   "source": [
    "#\n",
    "flight_dict_path = './parser/dicts.v3.p'\n",
    "flight_dictionary = pickle.load(open(flight_dict_path, 'rb'), encoding=\"latin\")\n",
    "samples = sample_dict(flight_dictionary, sample_size=1)"
   ]
  },
  {
   "cell_type": "markdown",
   "metadata": {},
   "source": [
    "###  Create a User"
   ]
  },
  {
   "cell_type": "code",
   "execution_count": 36,
   "metadata": {
    "collapsed": true
   },
   "outputs": [],
   "source": [
    "user = RuleSimulator(flight_dictionary, act_set, slot_set, goal_set, usersim_params)\n",
    "# user = AlternateSimulator(flight_dictionary, act_set, slot_set, goal_set, usersim_params)\n",
    "user.set_nlg_model(nlg_model)"
   ]
  },
  {
   "cell_type": "markdown",
   "metadata": {},
   "source": [
    "# Agent\n",
    "-------------------"
   ]
  },
  {
   "cell_type": "markdown",
   "metadata": {},
   "source": [
    "## param"
   ]
  },
  {
   "cell_type": "code",
   "execution_count": 37,
   "metadata": {
    "code_folding": []
   },
   "outputs": [
    {
     "name": "stdout",
     "output_type": "stream",
     "text": [
      "pretrained model path = None\n"
     ]
    }
   ],
   "source": [
    "#\n",
    "agent_params = {}\n",
    "# maximum length of each dialog (default=20, 0=no maximum length)\n",
    "agent_params['max_turn'] = 40\n",
    "# Epsilon to determine stochasticity of epsilon-greedy agent policies\n",
    "agent_params['epsilon'] = 0\n",
    "# run_mode: 0 for default NL; 1 for dia_act; 2 for both\n",
    "agent_params['agent_run_mode'] = 3\n",
    "# 0 for dia_act level; 1 for NL level\n",
    "agent_params['agent_act_level'] = 0\n",
    "\n",
    "############### DQN #################\n",
    "# the size for experience replay\n",
    "agent_params['experience_replay_pool_size'] = 10000\n",
    "# # the hidden size for DQN\n",
    "agent_params['dqn_hidden_size'] = 60\n",
    "agent_params['batch_size'] = 16\n",
    "# # gamma for DQN\n",
    "agent_params['gamma'] = 0.9\n",
    "# # predict model for DQN\n",
    "agent_params['predict_mode'] = True\n",
    "agent_params['trained_model_path'] = params['pretrained_model_path']\n",
    "#####################################\n",
    "print(\"pretrained model path = {}\".format(agent_params['trained_model_path']))\n",
    "# 0: no warm start; 1: warm start for training\n",
    "agent_params['warm_start'] = 1\n",
    "# run_mode: 0 for NL; 1 for dia_act\n",
    "agent_params['cmd_input_mode'] = 0\n",
    "\n",
    "success_rate_threshold = 0.3"
   ]
  },
  {
   "cell_type": "markdown",
   "metadata": {},
   "source": [
    "### create an agent"
   ]
  },
  {
   "cell_type": "code",
   "execution_count": 38,
   "metadata": {
    "code_folding": [],
    "scrolled": false
   },
   "outputs": [
    {
     "name": "stdout",
     "output_type": "stream",
     "text": [
      "act_cardinality  11\n",
      "feasible_actions 16\n",
      "80\n"
     ]
    }
   ],
   "source": [
    "# agent = RequestBasicsAgent(movie_kb, act_set, slot_set, agent_params)\n",
    "# agent = AgentDQN(movie_kb, act_set, slot_set, agent_params)\n",
    "# agt = 9\n",
    "agt = 10\n",
    "agent_params['batch_size']  = batch_size\n",
    "if agt == 9:\n",
    "    agent = AgentDQN(flight_kb, act_set, slot_set, agent_params)\n",
    "else:\n",
    "    agent = DQNAgentTF(flight_kb, act_set, slot_set, agent_params, transfer=False, path=\"trained_model/tf_100/model.ckpt\")\n",
    "\n",
    "agent.set_nlg_model(nlg_model)"
   ]
  },
  {
   "cell_type": "markdown",
   "metadata": {},
   "source": [
    "# Dialog Manager\n",
    "-------------------"
   ]
  },
  {
   "cell_type": "code",
   "execution_count": 39,
   "metadata": {
    "collapsed": true
   },
   "outputs": [],
   "source": [
    "dlg_manager = DlgManager(agent, user, act_set, slot_set, flight_kb)"
   ]
  },
  {
   "cell_type": "markdown",
   "metadata": {},
   "source": [
    "## Running Episodes\n",
    "-------------------"
   ]
  },
  {
   "cell_type": "markdown",
   "metadata": {},
   "source": [
    "### Param"
   ]
  },
  {
   "cell_type": "code",
   "execution_count": 40,
   "metadata": {
    "code_folding": [],
    "collapsed": true
   },
   "outputs": [],
   "source": [
    "#\n",
    "status = {'successes': 0, 'count': 0, 'cumulative_reward': 0}\n",
    "# the size of validation set\n",
    "simulation_epoch_size = 100\n",
    "# the number of epochs for warm start \n",
    "warm_start_epochs = 40\n",
    "# num_episodes = 60"
   ]
  },
  {
   "cell_type": "code",
   "execution_count": 41,
   "metadata": {
    "collapsed": true
   },
   "outputs": [],
   "source": [
    "\"\"\" Warm_Start Simulation (by Rule Policy) \"\"\"\n",
    "def warm_start_simulation():\n",
    "    successes = 0\n",
    "    cumulative_reward = 0\n",
    "    cumulative_turns = 0\n",
    "    \n",
    "    res = {}\n",
    "    for episode in range(warm_start_epochs):\n",
    "        dlg_manager.init_episode()\n",
    "        episode_over = False\n",
    "        while(not episode_over):\n",
    "            episode_over, reward = dlg_manager.step()\n",
    "            cumulative_reward += reward\n",
    "            if episode_over:\n",
    "                if reward > 0: \n",
    "                    successes += 1\n",
    "#                     print (\"warm_start simulation episode %s: Success\" % (episode))\n",
    "#                 else: print (\"warm_start simulation episode %s: Fail\" % (episode))\n",
    "                cumulative_turns += dlg_manager.state_tracker.turn_count\n",
    "        \n",
    "        if len(agent.experience_replay_pool) >= agent.experience_replay_pool_size:\n",
    "            break\n",
    "    \n",
    "    agent.warm_start = 2\n",
    "    res['success_rate'] = float(successes)/simulation_epoch_size\n",
    "    res['ave_reward'] = float(cumulative_reward)/simulation_epoch_size\n",
    "    res['ave_turns'] = float(cumulative_turns)/simulation_epoch_size\n",
    "    print (\"Warm_Start %s epochs, success rate %s, ave reward %s, ave turns %s\" % (episode+1, res['success_rate'], res['ave_reward'], res['ave_turns']))\n",
    "    print (\"Current experience replay buffer size %s\" % (len(agent.experience_replay_pool)))"
   ]
  },
  {
   "cell_type": "code",
   "execution_count": 42,
   "metadata": {
    "collapsed": true
   },
   "outputs": [],
   "source": [
    "def simulation_epoch(simulation_epoch_size):\n",
    "    successes = 0\n",
    "    cumulative_reward = 0\n",
    "    cumulative_turns = 0\n",
    "    \n",
    "    res = {}\n",
    "    for episode in range(simulation_epoch_size):\n",
    "        dlg_manager.init_episode()\n",
    "        episode_over = False\n",
    "        while(not episode_over):\n",
    "            episode_over, reward = dlg_manager.step()\n",
    "            cumulative_reward += reward\n",
    "            if episode_over:\n",
    "                if reward > 0: \n",
    "                    successes += 1\n",
    "#                     print (\"simulation episode %s: Success\" % (episode))\n",
    "#                 else: print (\"simulation episode %s: Fail\" % (episode))\n",
    "                cumulative_turns += dlg_manager.state_tracker.turn_count\n",
    "    \n",
    "    res['success_rate'] = float(successes)/simulation_epoch_size\n",
    "    res['ave_reward'] = float(cumulative_reward)/simulation_epoch_size\n",
    "    res['ave_turns'] = float(cumulative_turns)/simulation_epoch_size\n",
    "    print(\"simulation success rate %s, ave reward %s, ave turns %s\" % (res['success_rate'], res['ave_reward'], res['ave_turns']))\n",
    "    return res"
   ]
  },
  {
   "cell_type": "code",
   "execution_count": 43,
   "metadata": {
    "code_folding": [],
    "collapsed": true,
    "init_cell": true
   },
   "outputs": [],
   "source": [
    "def run_episodes(count, status):\n",
    "    successes = 0\n",
    "    cumulative_reward = 0\n",
    "    cumulative_turns = 0\n",
    "    \n",
    "    \n",
    "    if agt >= 9 and params['trained_model_path'] == None and agent.warm_start == 1:\n",
    "        print ('warm_start starting ...')\n",
    "        warm_start_simulation()\n",
    "        print ('warm_start finished, start RL training ...')\n",
    "    \n",
    "    for episode in range(count):\n",
    "        print (\"----------------- Episode: %s ----------------- \" % (episode))\n",
    "        dlg_manager.init_episode()\n",
    "        episode_over = False\n",
    "        \n",
    "        while(not episode_over):\n",
    "            episode_over, reward = dlg_manager.step()\n",
    "            cumulative_reward += reward\n",
    "                \n",
    "            if episode_over:\n",
    "                if reward > 0:\n",
    "                    print (\"Successful Dialog!\")\n",
    "                    successes += 1\n",
    "#                 else: print (\"Failed Dialog!\")\n",
    "                \n",
    "                cumulative_turns += dlg_manager.state_tracker.turn_count\n",
    "        \n",
    "        # simulation\n",
    "        if agt >= 9 and params['trained_model_path'] == None:\n",
    "            agent.predict_mode = True\n",
    "            simulation_res = simulation_epoch(simulation_epoch_size)\n",
    "            \n",
    "            performance_records['success_rate'][episode] = simulation_res['success_rate']\n",
    "            performance_records['ave_turns'][episode] = simulation_res['ave_turns']\n",
    "            performance_records['ave_reward'][episode] = simulation_res['ave_reward']\n",
    "            \n",
    "            if simulation_res['success_rate'] >= best_res['success_rate']:\n",
    "                if simulation_res['success_rate'] >= success_rate_threshold: # threshold = 0.30\n",
    "                    agent.experience_replay_pool = [] \n",
    "                    simulation_epoch(simulation_epoch_size)\n",
    "                \n",
    "#             if simulation_res['success_rate'] > best_res['success_rate']:\n",
    "#                 best_model['model'] = copy.deepcopy(agent)\n",
    "#                 best_res['success_rate'] = simulation_res['success_rate']\n",
    "#                 best_res['ave_reward'] = simulation_res['ave_reward']\n",
    "#                 best_res['ave_turns'] = simulation_res['ave_turns']\n",
    "#                 best_res['epoch'] = episode\n",
    "                \n",
    "            loss = agent.train(batch_size, 1)\n",
    "            if agt == 10: \n",
    "                agent.model.update_target_params()\n",
    "            else: \n",
    "                agent.clone_dqn = copy.deepcopy(agent.dqn)\n",
    "                \n",
    "            agent.predict_mode = False\n",
    "            \n",
    "            print (\"Simulation success rate %s, Ave reward %s, Ave turns %s, Best success rate %s\" % (performance_records['success_rate'][episode], performance_records['ave_reward'][episode], performance_records['ave_turns'][episode], best_res['success_rate']))\n",
    "#             if episode % save_check_point == 0 and params['trained_model_path'] == None: # save the model every 10 episodes\n",
    "#                 save_model(params['write_model_dir'], agt, best_res['success_rate'], best_model['model'], best_res['epoch'], episode)\n",
    "#                 save_performance_records(params['write_model_dir'], agt, performance_records)\n",
    "        curve.append(successes/(episode+1))\n",
    "        losses.append(loss)\n",
    "        print(\"Progress: %s / %s, Success rate: %s / %s Avg reward: %.2f Avg turns: %.2f\" % (episode+1, count, successes, episode+1, float(cumulative_reward)/(episode+1), float(cumulative_turns)/(episode+1)))\n",
    "    print(\"Success rate: %s / %s Avg reward: %.2f Avg turns: %.2f\" % (successes, count, float(cumulative_reward)/count, float(cumulative_turns)/count))\n",
    "    status['successes'] += successes\n",
    "    status['count'] += count\n",
    "    \n",
    "#     if agt == 9 and params['traained_model_path'] == None:\n",
    "#         save_model(params['write_model_dir'], agt, float(successes)/count, best_model['model'], best_res['epoch'], count)\n",
    "#         save_performance_records(params['write_model_dir'], agt, performance_records)\n"
   ]
  },
  {
   "cell_type": "markdown",
   "metadata": {},
   "source": [
    "## Run a Warm Start"
   ]
  },
  {
   "cell_type": "markdown",
   "metadata": {},
   "source": [
    "# Train & Eval\n",
    "-------------------"
   ]
  },
  {
   "cell_type": "code",
   "execution_count": 44,
   "metadata": {
    "scrolled": false
   },
   "outputs": [
    {
     "name": "stdout",
     "output_type": "stream",
     "text": [
      "warm_start starting ...\n",
      "Warm_Start 40 epochs, success rate 0.4, ave reward 29.6, ave turns 5.6\n",
      "Current experience replay buffer size 280\n",
      "warm_start finished, start RL training ...\n",
      "----------------- Episode: 0 ----------------- \n",
      "simulation success rate 0.0, ave reward -43.65, ave turns 9.3\n",
      "Train on : 749\n",
      "- cur bellman err 32.5166, experience replay pool 749\n",
      "Simulation success rate 0.0, Ave reward -43.65, Ave turns 9.3, Best success rate 0\n",
      "Progress: 1 / 100, Success rate: 0 / 1 Avg reward: -43.00 Avg turns: 8.00\n",
      "----------------- Episode: 1 ----------------- \n",
      "simulation success rate 0.0, ave reward -48.16, ave turns 18.32\n",
      "Train on : 1665\n",
      "- cur bellman err 13.5451, experience replay pool 1665\n",
      "Simulation success rate 0.0, Ave reward -48.16, Ave turns 18.32, Best success rate 0\n",
      "Progress: 2 / 100, Success rate: 0 / 2 Avg reward: -43.00 Avg turns: 8.00\n",
      "----------------- Episode: 2 ----------------- \n",
      "simulation success rate 0.0, ave reward -41.0, ave turns 4.0\n",
      "Train on : 1865\n",
      "- cur bellman err 12.7545, experience replay pool 1865\n",
      "Simulation success rate 0.0, Ave reward -41.0, Ave turns 4.0, Best success rate 0\n",
      "Progress: 3 / 100, Success rate: 0 / 3 Avg reward: -42.33 Avg turns: 6.67\n",
      "----------------- Episode: 3 ----------------- \n",
      "simulation success rate 0.0, ave reward -47.17, ave turns 16.34\n",
      "Train on : 2682\n",
      "- cur bellman err 11.1948, experience replay pool 2682\n",
      "Simulation success rate 0.0, Ave reward -47.17, Ave turns 16.34, Best success rate 0\n",
      "Progress: 4 / 100, Success rate: 0 / 4 Avg reward: -42.75 Avg turns: 7.50\n",
      "----------------- Episode: 4 ----------------- \n",
      "simulation success rate 0.0, ave reward -60.0, ave turns 42.0\n",
      "Train on : 4782\n",
      "- cur bellman err 6.3400, experience replay pool 4782\n",
      "Simulation success rate 0.0, Ave reward -60.0, Ave turns 42.0, Best success rate 0\n",
      "Progress: 5 / 100, Success rate: 0 / 5 Avg reward: -46.20 Avg turns: 14.40\n",
      "----------------- Episode: 5 ----------------- \n",
      "simulation success rate 0.0, ave reward -60.0, ave turns 42.0\n",
      "Train on : 6882\n",
      "- cur bellman err 5.4113, experience replay pool 6882\n",
      "Simulation success rate 0.0, Ave reward -60.0, Ave turns 42.0, Best success rate 0\n",
      "Progress: 6 / 100, Success rate: 0 / 6 Avg reward: -48.50 Avg turns: 19.00\n",
      "----------------- Episode: 6 ----------------- \n",
      "simulation success rate 0.0, ave reward -53.7, ave turns 29.4\n",
      "Train on : 8352\n",
      "- cur bellman err 5.2071, experience replay pool 8352\n",
      "Simulation success rate 0.0, Ave reward -53.7, Ave turns 29.4, Best success rate 0\n",
      "Progress: 7 / 100, Success rate: 0 / 7 Avg reward: -50.14 Avg turns: 22.29\n",
      "----------------- Episode: 7 ----------------- \n",
      "simulation success rate 0.0, ave reward -60.0, ave turns 42.0\n",
      "Train on : 10452\n",
      "- cur bellman err 2.6049, experience replay pool 10452\n",
      "Simulation success rate 0.0, Ave reward -60.0, Ave turns 42.0, Best success rate 0\n",
      "Progress: 8 / 100, Success rate: 0 / 8 Avg reward: -51.38 Avg turns: 24.75\n",
      "----------------- Episode: 8 ----------------- \n",
      "simulation success rate 0.0, ave reward -60.0, ave turns 42.0\n",
      "Train on : 12552\n",
      "- cur bellman err 1.4630, experience replay pool 12552\n",
      "Simulation success rate 0.0, Ave reward -60.0, Ave turns 42.0, Best success rate 0\n",
      "Progress: 9 / 100, Success rate: 0 / 9 Avg reward: -52.33 Avg turns: 26.67\n",
      "----------------- Episode: 9 ----------------- \n",
      "Successful Dialog!\n",
      "simulation success rate 1.0, ave reward 72.85, ave turns 16.3\n",
      "simulation success rate 1.0, ave reward 72.99, ave turns 16.02\n",
      "Train on : 801\n",
      "- cur bellman err 0.8131, experience replay pool 801\n",
      "Simulation success rate 1.0, Ave reward 72.85, Ave turns 16.3, Best success rate 0\n",
      "Progress: 10 / 100, Success rate: 1 / 10 Avg reward: -39.60 Avg turns: 25.20\n",
      "----------------- Episode: 10 ----------------- \n",
      "simulation success rate 0.07, ave reward -36.36, ave turns 11.52\n",
      "Train on : 1377\n",
      "- cur bellman err 14.3377, experience replay pool 1377\n",
      "Simulation success rate 0.07, Ave reward -36.36, Ave turns 11.52, Best success rate 0\n",
      "Progress: 11 / 100, Success rate: 1 / 11 Avg reward: -40.18 Avg turns: 24.18\n",
      "----------------- Episode: 11 ----------------- \n",
      "simulation success rate 0.0, ave reward -60.0, ave turns 42.0\n",
      "Train on : 3477\n",
      "- cur bellman err 3.1575, experience replay pool 3477\n",
      "Simulation success rate 0.0, Ave reward -60.0, Ave turns 42.0, Best success rate 0\n",
      "Progress: 12 / 100, Success rate: 1 / 12 Avg reward: -41.83 Avg turns: 25.67\n",
      "----------------- Episode: 12 ----------------- \n",
      "simulation success rate 0.0, ave reward -60.0, ave turns 42.0\n",
      "Train on : 5577\n",
      "- cur bellman err 1.1604, experience replay pool 5577\n",
      "Simulation success rate 0.0, Ave reward -60.0, Ave turns 42.0, Best success rate 0\n",
      "Progress: 13 / 100, Success rate: 1 / 13 Avg reward: -43.23 Avg turns: 26.92\n",
      "----------------- Episode: 13 ----------------- \n",
      "simulation success rate 0.2, ave reward -30.14, ave turns 30.28\n",
      "Train on : 7091\n",
      "- cur bellman err 2.4289, experience replay pool 7091\n",
      "Simulation success rate 0.2, Ave reward -30.14, Ave turns 30.28, Best success rate 0\n",
      "Progress: 14 / 100, Success rate: 1 / 14 Avg reward: -44.43 Avg turns: 28.00\n",
      "----------------- Episode: 14 ----------------- \n",
      "Successful Dialog!\n",
      "simulation success rate 0.71, ave reward 34.65, ave turns 23.1\n",
      "simulation success rate 0.77, ave reward 42.7, ave turns 21.4\n",
      "Train on : 1070\n",
      "- cur bellman err 8.5231, experience replay pool 1070\n",
      "Simulation success rate 0.71, Ave reward 34.65, Ave turns 23.1, Best success rate 0\n",
      "Progress: 15 / 100, Success rate: 2 / 15 Avg reward: -36.67 Avg turns: 27.33\n",
      "----------------- Episode: 15 ----------------- \n",
      "simulation success rate 0.58, ave reward 17.47, ave turns 26.26\n",
      "simulation success rate 0.44, ave reward -1.12, ave turns 29.84\n",
      "Train on : 1492\n",
      "- cur bellman err 9.8206, experience replay pool 1492\n",
      "Simulation success rate 0.58, Ave reward 17.47, Ave turns 26.26, Best success rate 0\n",
      "Progress: 16 / 100, Success rate: 2 / 16 Avg reward: -38.12 Avg turns: 28.25\n",
      "----------------- Episode: 16 ----------------- \n",
      "simulation success rate 0.0, ave reward -60.0, ave turns 42.0\n",
      "Train on : 3592\n",
      "- cur bellman err 4.5564, experience replay pool 3592\n",
      "Simulation success rate 0.0, Ave reward -60.0, Ave turns 42.0, Best success rate 0\n",
      "Progress: 17 / 100, Success rate: 2 / 17 Avg reward: -39.41 Avg turns: 29.06\n",
      "----------------- Episode: 17 ----------------- \n",
      "simulation success rate 0.0, ave reward -60.0, ave turns 42.0\n",
      "Train on : 5692\n",
      "- cur bellman err 2.0311, experience replay pool 5692\n",
      "Simulation success rate 0.0, Ave reward -60.0, Ave turns 42.0, Best success rate 0\n",
      "Progress: 18 / 100, Success rate: 2 / 18 Avg reward: -40.56 Avg turns: 29.78\n",
      "----------------- Episode: 18 ----------------- \n",
      "Successful Dialog!\n",
      "simulation success rate 1.0, ave reward 71.6, ave turns 18.8\n",
      "simulation success rate 1.0, ave reward 71.93, ave turns 18.14\n",
      "Train on : 907\n",
      "- cur bellman err 1.8443, experience replay pool 907\n",
      "Simulation success rate 1.0, Ave reward 71.6, Ave turns 18.8, Best success rate 0\n",
      "Progress: 19 / 100, Success rate: 3 / 19 Avg reward: -34.74 Avg turns: 29.37\n",
      "----------------- Episode: 19 ----------------- \n",
      "Successful Dialog!\n",
      "simulation success rate 0.73, ave reward 37.01, ave turns 23.18\n",
      "simulation success rate 0.69, ave reward 31.91, ave turns 23.78\n",
      "Train on : 1189\n",
      "- cur bellman err 6.5839, experience replay pool 1189\n",
      "Simulation success rate 0.73, Ave reward 37.01, Ave turns 23.18, Best success rate 0\n",
      "Progress: 20 / 100, Success rate: 4 / 20 Avg reward: -29.35 Avg turns: 28.70\n",
      "----------------- Episode: 20 ----------------- \n",
      "Successful Dialog!\n",
      "simulation success rate 1.0, ave reward 73.5, ave turns 15.0\n",
      "simulation success rate 1.0, ave reward 73.79, ave turns 14.42\n",
      "Train on : 721\n",
      "- cur bellman err 1.8554, experience replay pool 721\n",
      "Simulation success rate 1.0, Ave reward 73.5, Ave turns 15.0, Best success rate 0\n",
      "Progress: 21 / 100, Success rate: 5 / 21 Avg reward: -24.43 Avg turns: 28.00\n",
      "----------------- Episode: 21 ----------------- \n",
      "Successful Dialog!\n",
      "simulation success rate 0.88, ave reward 57.55, ave turns 18.1\n",
      "simulation success rate 0.9, ave reward 60.18, ave turns 17.64\n",
      "Train on : 882\n",
      "- cur bellman err 1.8546, experience replay pool 882\n",
      "Simulation success rate 0.88, Ave reward 57.55, Ave turns 18.1, Best success rate 0\n",
      "Progress: 22 / 100, Success rate: 6 / 22 Avg reward: -20.00 Avg turns: 27.45\n",
      "----------------- Episode: 22 ----------------- \n",
      "Successful Dialog!\n"
     ]
    },
    {
     "name": "stdout",
     "output_type": "stream",
     "text": [
      "simulation success rate 1.0, ave reward 73.05, ave turns 15.9\n",
      "simulation success rate 1.0, ave reward 73.28, ave turns 15.44\n",
      "Train on : 772\n",
      "- cur bellman err 1.2976, experience replay pool 772\n",
      "Simulation success rate 1.0, Ave reward 73.05, Ave turns 15.9, Best success rate 0\n",
      "Progress: 23 / 100, Success rate: 7 / 23 Avg reward: -15.87 Avg turns: 26.78\n",
      "----------------- Episode: 23 ----------------- \n",
      "Successful Dialog!\n",
      "simulation success rate 1.0, ave reward 73.22, ave turns 15.56\n",
      "simulation success rate 1.0, ave reward 73.39, ave turns 15.22\n",
      "Train on : 761\n",
      "- cur bellman err 0.7377, experience replay pool 761\n",
      "Simulation success rate 1.0, Ave reward 73.22, Ave turns 15.56, Best success rate 0\n",
      "Progress: 24 / 100, Success rate: 8 / 24 Avg reward: -12.17 Avg turns: 26.33\n",
      "----------------- Episode: 24 ----------------- \n",
      "Successful Dialog!\n",
      "simulation success rate 1.0, ave reward 73.91, ave turns 14.18\n",
      "simulation success rate 1.0, ave reward 73.79, ave turns 14.42\n",
      "Train on : 721\n",
      "- cur bellman err 0.4849, experience replay pool 721\n",
      "Simulation success rate 1.0, Ave reward 73.91, Ave turns 14.18, Best success rate 0\n",
      "Progress: 25 / 100, Success rate: 9 / 25 Avg reward: -8.68 Avg turns: 25.76\n",
      "----------------- Episode: 25 ----------------- \n",
      "Successful Dialog!\n",
      "simulation success rate 0.43, ave reward -2.21, ave turns 29.62\n",
      "simulation success rate 0.4, ave reward -6.35, ave turns 30.7\n",
      "Train on : 1535\n",
      "- cur bellman err 1.9336, experience replay pool 1535\n",
      "Simulation success rate 0.43, Ave reward -2.21, Ave turns 29.62, Best success rate 0\n",
      "Progress: 26 / 100, Success rate: 10 / 26 Avg reward: -5.50 Avg turns: 25.31\n",
      "----------------- Episode: 26 ----------------- \n",
      "Successful Dialog!\n",
      "simulation success rate 0.89, ave reward 59.13, ave turns 17.34\n",
      "simulation success rate 0.88, ave reward 57.83, ave turns 17.54\n",
      "Train on : 877\n",
      "- cur bellman err 0.9805, experience replay pool 877\n",
      "Simulation success rate 0.89, Ave reward 59.13, Ave turns 17.34, Best success rate 0\n",
      "Progress: 27 / 100, Success rate: 11 / 27 Avg reward: -2.56 Avg turns: 24.89\n",
      "----------------- Episode: 27 ----------------- \n",
      "Successful Dialog!\n",
      "simulation success rate 1.0, ave reward 73.51, ave turns 14.98\n",
      "simulation success rate 1.0, ave reward 73.56, ave turns 14.88\n",
      "Train on : 744\n",
      "- cur bellman err 0.6559, experience replay pool 744\n",
      "Simulation success rate 1.0, Ave reward 73.51, Ave turns 14.98, Best success rate 0\n",
      "Progress: 28 / 100, Success rate: 12 / 28 Avg reward: 0.18 Avg turns: 24.50\n",
      "----------------- Episode: 28 ----------------- \n",
      "Successful Dialog!\n",
      "simulation success rate 1.0, ave reward 74.05, ave turns 13.9\n",
      "simulation success rate 1.0, ave reward 73.98, ave turns 14.04\n",
      "Train on : 702\n",
      "- cur bellman err 0.4995, experience replay pool 702\n",
      "Simulation success rate 1.0, Ave reward 74.05, Ave turns 13.9, Best success rate 0\n",
      "Progress: 29 / 100, Success rate: 13 / 29 Avg reward: 2.69 Avg turns: 24.21\n",
      "----------------- Episode: 29 ----------------- \n",
      "Successful Dialog!\n",
      "simulation success rate 0.87, ave reward 56.5, ave turns 17.8\n",
      "simulation success rate 0.86, ave reward 55.07, ave turns 18.26\n",
      "Train on : 913\n",
      "- cur bellman err 1.9502, experience replay pool 913\n",
      "Simulation success rate 0.87, Ave reward 56.5, Ave turns 17.8, Best success rate 0\n",
      "Progress: 30 / 100, Success rate: 14 / 30 Avg reward: 5.07 Avg turns: 23.87\n",
      "----------------- Episode: 30 ----------------- \n",
      "Successful Dialog!\n",
      "simulation success rate 1.0, ave reward 73.58, ave turns 14.84\n",
      "simulation success rate 1.0, ave reward 73.49, ave turns 15.02\n",
      "Train on : 751\n",
      "- cur bellman err 0.6890, experience replay pool 751\n",
      "Simulation success rate 1.0, Ave reward 73.58, Ave turns 14.84, Best success rate 0\n",
      "Progress: 31 / 100, Success rate: 15 / 31 Avg reward: 7.32 Avg turns: 23.48\n",
      "----------------- Episode: 31 ----------------- \n",
      "Successful Dialog!\n",
      "simulation success rate 1.0, ave reward 74.14, ave turns 13.72\n",
      "simulation success rate 1.0, ave reward 74.07, ave turns 13.86\n",
      "Train on : 693\n",
      "- cur bellman err 0.2791, experience replay pool 693\n",
      "Simulation success rate 1.0, Ave reward 74.14, Ave turns 13.72, Best success rate 0\n",
      "Progress: 32 / 100, Success rate: 16 / 32 Avg reward: 9.41 Avg turns: 23.19\n",
      "----------------- Episode: 32 ----------------- \n",
      "Successful Dialog!\n",
      "simulation success rate 1.0, ave reward 74.04, ave turns 13.92\n",
      "simulation success rate 1.0, ave reward 74.12, ave turns 13.76\n",
      "Train on : 688\n",
      "- cur bellman err 0.2799, experience replay pool 688\n",
      "Simulation success rate 1.0, Ave reward 74.04, Ave turns 13.92, Best success rate 0\n",
      "Progress: 33 / 100, Success rate: 17 / 33 Avg reward: 11.39 Avg turns: 22.85\n",
      "----------------- Episode: 33 ----------------- \n",
      "Successful Dialog!\n",
      "simulation success rate 0.79, ave reward 45.74, ave turns 20.12\n",
      "simulation success rate 0.81, ave reward 48.42, ave turns 19.56\n",
      "Train on : 978\n",
      "- cur bellman err 1.3175, experience replay pool 978\n",
      "Simulation success rate 0.79, Ave reward 45.74, Ave turns 20.12, Best success rate 0\n",
      "Progress: 34 / 100, Success rate: 18 / 34 Avg reward: 13.24 Avg turns: 22.59\n",
      "----------------- Episode: 34 ----------------- \n",
      "Successful Dialog!\n",
      "simulation success rate 1.0, ave reward 74.03, ave turns 13.94\n",
      "simulation success rate 1.0, ave reward 74.12, ave turns 13.76\n",
      "Train on : 688\n",
      "- cur bellman err 0.5292, experience replay pool 688\n",
      "Simulation success rate 1.0, Ave reward 74.03, Ave turns 13.94, Best success rate 0\n",
      "Progress: 35 / 100, Success rate: 19 / 35 Avg reward: 14.97 Avg turns: 22.34\n",
      "----------------- Episode: 35 ----------------- \n",
      "Successful Dialog!\n",
      "simulation success rate 1.0, ave reward 73.59, ave turns 14.82\n",
      "simulation success rate 1.0, ave reward 72.95, ave turns 16.1\n",
      "Train on : 805\n",
      "- cur bellman err 1.8804, experience replay pool 805\n",
      "Simulation success rate 1.0, Ave reward 73.59, Ave turns 14.82, Best success rate 0\n",
      "Progress: 36 / 100, Success rate: 20 / 36 Avg reward: 16.61 Avg turns: 22.11\n",
      "----------------- Episode: 36 ----------------- \n",
      "Successful Dialog!\n",
      "simulation success rate 1.0, ave reward 73.75, ave turns 14.5\n",
      "simulation success rate 1.0, ave reward 74.01, ave turns 13.98\n",
      "Train on : 699\n",
      "- cur bellman err 0.4601, experience replay pool 699\n",
      "Simulation success rate 1.0, Ave reward 73.75, Ave turns 14.5, Best success rate 0\n",
      "Progress: 37 / 100, Success rate: 21 / 37 Avg reward: 18.16 Avg turns: 21.89\n",
      "----------------- Episode: 37 ----------------- \n",
      "Successful Dialog!\n",
      "simulation success rate 1.0, ave reward 74.05, ave turns 13.9\n",
      "simulation success rate 1.0, ave reward 74.01, ave turns 13.98\n",
      "Train on : 699\n",
      "- cur bellman err 0.1553, experience replay pool 699\n",
      "Simulation success rate 1.0, Ave reward 74.05, Ave turns 13.9, Best success rate 0\n",
      "Progress: 38 / 100, Success rate: 22 / 38 Avg reward: 19.61 Avg turns: 21.74\n",
      "----------------- Episode: 38 ----------------- \n",
      "Successful Dialog!\n",
      "simulation success rate 1.0, ave reward 74.1, ave turns 13.8\n",
      "simulation success rate 1.0, ave reward 74.09, ave turns 13.82\n",
      "Train on : 691\n",
      "- cur bellman err 0.1689, experience replay pool 691\n",
      "Simulation success rate 1.0, Ave reward 74.1, Ave turns 13.8, Best success rate 0\n",
      "Progress: 39 / 100, Success rate: 23 / 39 Avg reward: 21.00 Avg turns: 21.54\n",
      "----------------- Episode: 39 ----------------- \n",
      "Successful Dialog!\n",
      "simulation success rate 1.0, ave reward 74.05, ave turns 13.9\n",
      "simulation success rate 1.0, ave reward 74.07, ave turns 13.86\n",
      "Train on : 693\n",
      "- cur bellman err 0.1878, experience replay pool 693\n",
      "Simulation success rate 1.0, Ave reward 74.05, Ave turns 13.9, Best success rate 0\n",
      "Progress: 40 / 100, Success rate: 24 / 40 Avg reward: 22.32 Avg turns: 21.35\n",
      "----------------- Episode: 40 ----------------- \n",
      "Successful Dialog!\n",
      "simulation success rate 1.0, ave reward 74.05, ave turns 13.9\n",
      "simulation success rate 1.0, ave reward 73.99, ave turns 14.02\n",
      "Train on : 701\n",
      "- cur bellman err 0.1514, experience replay pool 701\n",
      "Simulation success rate 1.0, Ave reward 74.05, Ave turns 13.9, Best success rate 0\n",
      "Progress: 41 / 100, Success rate: 25 / 41 Avg reward: 23.59 Avg turns: 21.17\n",
      "----------------- Episode: 41 ----------------- \n",
      "Successful Dialog!\n",
      "simulation success rate 1.0, ave reward 73.84, ave turns 14.32\n",
      "simulation success rate 1.0, ave reward 73.87, ave turns 14.26\n",
      "Train on : 713\n",
      "- cur bellman err 4.0549, experience replay pool 713\n",
      "Simulation success rate 1.0, Ave reward 73.84, Ave turns 14.32, Best success rate 0\n",
      "Progress: 42 / 100, Success rate: 26 / 42 Avg reward: 24.79 Avg turns: 21.00\n",
      "----------------- Episode: 42 ----------------- \n",
      "Successful Dialog!\n"
     ]
    },
    {
     "name": "stdout",
     "output_type": "stream",
     "text": [
      "simulation success rate 1.0, ave reward 73.16, ave turns 15.68\n",
      "simulation success rate 1.0, ave reward 73.08, ave turns 15.84\n",
      "Train on : 792\n",
      "- cur bellman err 0.6419, experience replay pool 792\n",
      "Simulation success rate 1.0, Ave reward 73.16, Ave turns 15.68, Best success rate 0\n",
      "Progress: 43 / 100, Success rate: 27 / 43 Avg reward: 25.91 Avg turns: 20.88\n",
      "----------------- Episode: 43 ----------------- \n",
      "Successful Dialog!\n",
      "simulation success rate 1.0, ave reward 73.29, ave turns 15.42\n",
      "simulation success rate 1.0, ave reward 73.3, ave turns 15.4\n",
      "Train on : 770\n",
      "- cur bellman err 0.3777, experience replay pool 770\n",
      "Simulation success rate 1.0, Ave reward 73.29, Ave turns 15.42, Best success rate 0\n",
      "Progress: 44 / 100, Success rate: 28 / 44 Avg reward: 26.98 Avg turns: 20.77\n",
      "----------------- Episode: 44 ----------------- \n",
      "Successful Dialog!\n",
      "simulation success rate 1.0, ave reward 73.88, ave turns 14.24\n",
      "simulation success rate 1.0, ave reward 73.89, ave turns 14.22\n",
      "Train on : 711\n",
      "- cur bellman err 0.4184, experience replay pool 711\n",
      "Simulation success rate 1.0, Ave reward 73.88, Ave turns 14.24, Best success rate 0\n",
      "Progress: 45 / 100, Success rate: 29 / 45 Avg reward: 28.04 Avg turns: 20.58\n",
      "----------------- Episode: 45 ----------------- \n",
      "Successful Dialog!\n",
      "simulation success rate 1.0, ave reward 73.91, ave turns 14.18\n",
      "simulation success rate 1.0, ave reward 74.06, ave turns 13.88\n",
      "Train on : 694\n",
      "- cur bellman err 1.8081, experience replay pool 694\n",
      "Simulation success rate 1.0, Ave reward 73.91, Ave turns 14.18, Best success rate 0\n",
      "Progress: 46 / 100, Success rate: 30 / 46 Avg reward: 29.04 Avg turns: 20.43\n",
      "----------------- Episode: 46 ----------------- \n",
      "Successful Dialog!\n",
      "simulation success rate 1.0, ave reward 74.03, ave turns 13.94\n",
      "simulation success rate 1.0, ave reward 74.06, ave turns 13.88\n",
      "Train on : 694\n",
      "- cur bellman err 0.4819, experience replay pool 694\n",
      "Simulation success rate 1.0, Ave reward 74.03, Ave turns 13.94, Best success rate 0\n",
      "Progress: 47 / 100, Success rate: 31 / 47 Avg reward: 30.00 Avg turns: 20.30\n",
      "----------------- Episode: 47 ----------------- \n",
      "Successful Dialog!\n",
      "simulation success rate 1.0, ave reward 74.09, ave turns 13.82\n",
      "simulation success rate 1.0, ave reward 73.99, ave turns 14.02\n",
      "Train on : 701\n",
      "- cur bellman err 0.2784, experience replay pool 701\n",
      "Simulation success rate 1.0, Ave reward 74.09, Ave turns 13.82, Best success rate 0\n",
      "Progress: 48 / 100, Success rate: 32 / 48 Avg reward: 30.90 Avg turns: 20.21\n",
      "----------------- Episode: 48 ----------------- \n",
      "Successful Dialog!\n",
      "simulation success rate 1.0, ave reward 74.13, ave turns 13.74\n",
      "simulation success rate 1.0, ave reward 74.0, ave turns 14.0\n",
      "Train on : 700\n",
      "- cur bellman err 0.2060, experience replay pool 700\n",
      "Simulation success rate 1.0, Ave reward 74.13, Ave turns 13.74, Best success rate 0\n",
      "Progress: 49 / 100, Success rate: 33 / 49 Avg reward: 31.78 Avg turns: 20.08\n",
      "----------------- Episode: 49 ----------------- \n",
      "Successful Dialog!\n",
      "simulation success rate 1.0, ave reward 74.11, ave turns 13.78\n",
      "simulation success rate 1.0, ave reward 74.1, ave turns 13.8\n",
      "Train on : 690\n",
      "- cur bellman err 0.1628, experience replay pool 690\n",
      "Simulation success rate 1.0, Ave reward 74.11, Ave turns 13.78, Best success rate 0\n",
      "Progress: 50 / 100, Success rate: 34 / 50 Avg reward: 32.64 Avg turns: 19.92\n",
      "----------------- Episode: 50 ----------------- \n",
      "Successful Dialog!\n",
      "simulation success rate 1.0, ave reward 73.98, ave turns 14.04\n",
      "simulation success rate 1.0, ave reward 74.16, ave turns 13.68\n",
      "Train on : 684\n",
      "- cur bellman err 0.1694, experience replay pool 684\n",
      "Simulation success rate 1.0, Ave reward 73.98, Ave turns 14.04, Best success rate 0\n",
      "Progress: 51 / 100, Success rate: 35 / 51 Avg reward: 33.47 Avg turns: 19.76\n",
      "----------------- Episode: 51 ----------------- \n",
      "Successful Dialog!\n",
      "simulation success rate 1.0, ave reward 74.03, ave turns 13.94\n",
      "simulation success rate 1.0, ave reward 74.07, ave turns 13.86\n",
      "Train on : 693\n",
      "- cur bellman err 0.1507, experience replay pool 693\n",
      "Simulation success rate 1.0, Ave reward 74.03, Ave turns 13.94, Best success rate 0\n",
      "Progress: 52 / 100, Success rate: 36 / 52 Avg reward: 34.23 Avg turns: 19.69\n",
      "----------------- Episode: 52 ----------------- \n",
      "Successful Dialog!\n",
      "simulation success rate 1.0, ave reward 74.08, ave turns 13.84\n",
      "simulation success rate 1.0, ave reward 74.09, ave turns 13.82\n",
      "Train on : 691\n",
      "- cur bellman err 0.1666, experience replay pool 691\n",
      "Simulation success rate 1.0, Ave reward 74.08, Ave turns 13.84, Best success rate 0\n",
      "Progress: 53 / 100, Success rate: 37 / 53 Avg reward: 34.98 Avg turns: 19.58\n",
      "----------------- Episode: 53 ----------------- \n",
      "Successful Dialog!\n",
      "simulation success rate 1.0, ave reward 74.06, ave turns 13.88\n",
      "simulation success rate 1.0, ave reward 74.04, ave turns 13.92\n",
      "Train on : 696\n",
      "- cur bellman err 0.1062, experience replay pool 696\n",
      "Simulation success rate 1.0, Ave reward 74.06, Ave turns 13.88, Best success rate 0\n",
      "Progress: 54 / 100, Success rate: 38 / 54 Avg reward: 35.70 Avg turns: 19.48\n",
      "----------------- Episode: 54 ----------------- \n",
      "Successful Dialog!\n",
      "simulation success rate 1.0, ave reward 74.02, ave turns 13.96\n",
      "simulation success rate 1.0, ave reward 74.1, ave turns 13.8\n",
      "Train on : 690\n",
      "- cur bellman err 0.1495, experience replay pool 690\n",
      "Simulation success rate 1.0, Ave reward 74.02, Ave turns 13.96, Best success rate 0\n",
      "Progress: 55 / 100, Success rate: 39 / 55 Avg reward: 36.40 Avg turns: 19.38\n",
      "----------------- Episode: 55 ----------------- \n",
      "Successful Dialog!\n",
      "simulation success rate 1.0, ave reward 74.02, ave turns 13.96\n",
      "simulation success rate 1.0, ave reward 74.05, ave turns 13.9\n",
      "Train on : 695\n",
      "- cur bellman err 0.0883, experience replay pool 695\n",
      "Simulation success rate 1.0, Ave reward 74.02, Ave turns 13.96, Best success rate 0\n",
      "Progress: 56 / 100, Success rate: 40 / 56 Avg reward: 37.07 Avg turns: 19.29\n",
      "----------------- Episode: 56 ----------------- \n",
      "Successful Dialog!\n",
      "simulation success rate 1.0, ave reward 74.01, ave turns 13.98\n",
      "simulation success rate 1.0, ave reward 74.14, ave turns 13.72\n",
      "Train on : 686\n",
      "- cur bellman err 0.1194, experience replay pool 686\n",
      "Simulation success rate 1.0, Ave reward 74.01, Ave turns 13.98, Best success rate 0\n",
      "Progress: 57 / 100, Success rate: 41 / 57 Avg reward: 37.74 Avg turns: 19.16\n",
      "----------------- Episode: 57 ----------------- \n",
      "Successful Dialog!\n",
      "simulation success rate 1.0, ave reward 74.13, ave turns 13.74\n",
      "simulation success rate 1.0, ave reward 74.13, ave turns 13.74\n",
      "Train on : 687\n",
      "- cur bellman err 0.0893, experience replay pool 687\n",
      "Simulation success rate 1.0, Ave reward 74.13, Ave turns 13.74, Best success rate 0\n",
      "Progress: 58 / 100, Success rate: 42 / 58 Avg reward: 38.38 Avg turns: 19.03\n",
      "----------------- Episode: 58 ----------------- \n",
      "Successful Dialog!\n",
      "simulation success rate 1.0, ave reward 74.14, ave turns 13.72\n",
      "simulation success rate 1.0, ave reward 74.2, ave turns 13.6\n",
      "Train on : 680\n",
      "- cur bellman err 0.0960, experience replay pool 680\n",
      "Simulation success rate 1.0, Ave reward 74.14, Ave turns 13.72, Best success rate 0\n",
      "Progress: 59 / 100, Success rate: 43 / 59 Avg reward: 38.98 Avg turns: 18.95\n",
      "----------------- Episode: 59 ----------------- \n",
      "Successful Dialog!\n",
      "simulation success rate 1.0, ave reward 74.14, ave turns 13.72\n",
      "simulation success rate 1.0, ave reward 74.02, ave turns 13.96\n",
      "Train on : 698\n",
      "- cur bellman err 0.0740, experience replay pool 698\n",
      "Simulation success rate 1.0, Ave reward 74.14, Ave turns 13.72, Best success rate 0\n",
      "Progress: 60 / 100, Success rate: 44 / 60 Avg reward: 39.58 Avg turns: 18.83\n",
      "----------------- Episode: 60 ----------------- \n",
      "Successful Dialog!\n",
      "simulation success rate 1.0, ave reward 74.11, ave turns 13.78\n",
      "simulation success rate 1.0, ave reward 74.1, ave turns 13.8\n",
      "Train on : 690\n",
      "- cur bellman err 0.0778, experience replay pool 690\n",
      "Simulation success rate 1.0, Ave reward 74.11, Ave turns 13.78, Best success rate 0\n",
      "Progress: 61 / 100, Success rate: 45 / 61 Avg reward: 40.16 Avg turns: 18.72\n",
      "----------------- Episode: 61 ----------------- \n",
      "Successful Dialog!\n",
      "simulation success rate 1.0, ave reward 74.02, ave turns 13.96\n",
      "simulation success rate 1.0, ave reward 73.98, ave turns 14.04\n",
      "Train on : 702\n",
      "- cur bellman err 0.0866, experience replay pool 702\n",
      "Simulation success rate 1.0, Ave reward 74.02, Ave turns 13.96, Best success rate 0\n",
      "Progress: 62 / 100, Success rate: 46 / 62 Avg reward: 40.71 Avg turns: 18.65\n",
      "----------------- Episode: 62 ----------------- \n",
      "Successful Dialog!\n"
     ]
    },
    {
     "name": "stdout",
     "output_type": "stream",
     "text": [
      "simulation success rate 1.0, ave reward 74.08, ave turns 13.84\n",
      "simulation success rate 1.0, ave reward 74.1, ave turns 13.8\n",
      "Train on : 690\n",
      "- cur bellman err 0.0577, experience replay pool 690\n",
      "Simulation success rate 1.0, Ave reward 74.08, Ave turns 13.84, Best success rate 0\n",
      "Progress: 63 / 100, Success rate: 47 / 63 Avg reward: 41.24 Avg turns: 18.57\n",
      "----------------- Episode: 63 ----------------- \n",
      "Successful Dialog!\n",
      "simulation success rate 1.0, ave reward 74.1, ave turns 13.8\n",
      "simulation success rate 1.0, ave reward 74.09, ave turns 13.82\n",
      "Train on : 691\n",
      "- cur bellman err 0.0773, experience replay pool 691\n",
      "Simulation success rate 1.0, Ave reward 74.1, Ave turns 13.8, Best success rate 0\n",
      "Progress: 64 / 100, Success rate: 48 / 64 Avg reward: 41.75 Avg turns: 18.50\n",
      "----------------- Episode: 64 ----------------- \n",
      "Successful Dialog!\n",
      "simulation success rate 1.0, ave reward 74.06, ave turns 13.88\n",
      "simulation success rate 1.0, ave reward 74.03, ave turns 13.94\n",
      "Train on : 697\n",
      "- cur bellman err 0.0772, experience replay pool 697\n",
      "Simulation success rate 1.0, Ave reward 74.06, Ave turns 13.88, Best success rate 0\n",
      "Progress: 65 / 100, Success rate: 49 / 65 Avg reward: 42.25 Avg turns: 18.43\n",
      "----------------- Episode: 65 ----------------- \n",
      "Successful Dialog!\n",
      "simulation success rate 1.0, ave reward 74.15, ave turns 13.7\n",
      "simulation success rate 1.0, ave reward 73.99, ave turns 14.02\n",
      "Train on : 701\n",
      "- cur bellman err 0.0635, experience replay pool 701\n",
      "Simulation success rate 1.0, Ave reward 74.15, Ave turns 13.7, Best success rate 0\n",
      "Progress: 66 / 100, Success rate: 50 / 66 Avg reward: 42.73 Avg turns: 18.36\n",
      "----------------- Episode: 66 ----------------- \n",
      "Successful Dialog!\n",
      "simulation success rate 1.0, ave reward 74.21, ave turns 13.58\n",
      "simulation success rate 1.0, ave reward 74.09, ave turns 13.82\n",
      "Train on : 691\n",
      "- cur bellman err 0.0663, experience replay pool 691\n",
      "Simulation success rate 1.0, Ave reward 74.21, Ave turns 13.58, Best success rate 0\n",
      "Progress: 67 / 100, Success rate: 51 / 67 Avg reward: 43.19 Avg turns: 18.30\n",
      "----------------- Episode: 67 ----------------- \n",
      "Successful Dialog!\n",
      "simulation success rate 1.0, ave reward 74.1, ave turns 13.8\n",
      "simulation success rate 1.0, ave reward 73.97, ave turns 14.06\n",
      "Train on : 703\n",
      "- cur bellman err 0.0641, experience replay pool 703\n",
      "Simulation success rate 1.0, Ave reward 74.1, Ave turns 13.8, Best success rate 0\n",
      "Progress: 68 / 100, Success rate: 52 / 68 Avg reward: 43.66 Avg turns: 18.21\n",
      "----------------- Episode: 68 ----------------- \n",
      "Successful Dialog!\n",
      "simulation success rate 1.0, ave reward 74.04, ave turns 13.92\n",
      "simulation success rate 1.0, ave reward 74.12, ave turns 13.76\n",
      "Train on : 688\n",
      "- cur bellman err 0.0849, experience replay pool 688\n",
      "Simulation success rate 1.0, Ave reward 74.04, Ave turns 13.92, Best success rate 0\n",
      "Progress: 69 / 100, Success rate: 53 / 69 Avg reward: 44.12 Avg turns: 18.12\n",
      "----------------- Episode: 69 ----------------- \n",
      "Successful Dialog!\n",
      "simulation success rate 1.0, ave reward 74.08, ave turns 13.84\n",
      "simulation success rate 1.0, ave reward 73.98, ave turns 14.04\n",
      "Train on : 702\n",
      "- cur bellman err 0.3059, experience replay pool 702\n",
      "Simulation success rate 1.0, Ave reward 74.08, Ave turns 13.84, Best success rate 0\n",
      "Progress: 70 / 100, Success rate: 54 / 70 Avg reward: 44.57 Avg turns: 18.00\n",
      "----------------- Episode: 70 ----------------- \n",
      "Successful Dialog!\n",
      "simulation success rate 1.0, ave reward 73.96, ave turns 14.08\n",
      "simulation success rate 1.0, ave reward 74.07, ave turns 13.86\n",
      "Train on : 693\n",
      "- cur bellman err 0.1150, experience replay pool 693\n",
      "Simulation success rate 1.0, Ave reward 73.96, Ave turns 14.08, Best success rate 0\n",
      "Progress: 71 / 100, Success rate: 55 / 71 Avg reward: 44.99 Avg turns: 17.94\n",
      "----------------- Episode: 71 ----------------- \n",
      "Successful Dialog!\n",
      "simulation success rate 1.0, ave reward 74.13, ave turns 13.74\n",
      "simulation success rate 1.0, ave reward 74.13, ave turns 13.74\n",
      "Train on : 687\n",
      "- cur bellman err 0.0900, experience replay pool 687\n",
      "Simulation success rate 1.0, Ave reward 74.13, Ave turns 13.74, Best success rate 0\n",
      "Progress: 72 / 100, Success rate: 56 / 72 Avg reward: 45.40 Avg turns: 17.86\n",
      "----------------- Episode: 72 ----------------- \n",
      "Successful Dialog!\n",
      "simulation success rate 1.0, ave reward 74.14, ave turns 13.72\n",
      "simulation success rate 1.0, ave reward 74.32, ave turns 13.36\n",
      "Train on : 668\n",
      "- cur bellman err 0.2238, experience replay pool 668\n",
      "Simulation success rate 1.0, Ave reward 74.14, Ave turns 13.72, Best success rate 0\n",
      "Progress: 73 / 100, Success rate: 57 / 73 Avg reward: 45.79 Avg turns: 17.81\n",
      "----------------- Episode: 73 ----------------- \n",
      "Successful Dialog!\n",
      "simulation success rate 1.0, ave reward 74.29, ave turns 13.42\n",
      "simulation success rate 1.0, ave reward 74.18, ave turns 13.64\n",
      "Train on : 682\n",
      "- cur bellman err 0.1569, experience replay pool 682\n",
      "Simulation success rate 1.0, Ave reward 74.29, Ave turns 13.42, Best success rate 0\n",
      "Progress: 74 / 100, Success rate: 58 / 74 Avg reward: 46.18 Avg turns: 17.76\n",
      "----------------- Episode: 74 ----------------- \n",
      "Successful Dialog!\n",
      "simulation success rate 1.0, ave reward 74.11, ave turns 13.78\n",
      "simulation success rate 1.0, ave reward 74.14, ave turns 13.72\n",
      "Train on : 686\n",
      "- cur bellman err 0.0901, experience replay pool 686\n",
      "Simulation success rate 1.0, Ave reward 74.11, Ave turns 13.78, Best success rate 0\n",
      "Progress: 75 / 100, Success rate: 59 / 75 Avg reward: 46.53 Avg turns: 17.73\n",
      "----------------- Episode: 75 ----------------- \n",
      "Successful Dialog!\n",
      "simulation success rate 1.0, ave reward 74.27, ave turns 13.46\n",
      "simulation success rate 1.0, ave reward 74.17, ave turns 13.66\n",
      "Train on : 683\n",
      "- cur bellman err 0.1460, experience replay pool 683\n",
      "Simulation success rate 1.0, Ave reward 74.27, Ave turns 13.46, Best success rate 0\n",
      "Progress: 76 / 100, Success rate: 60 / 76 Avg reward: 46.89 Avg turns: 17.68\n",
      "----------------- Episode: 76 ----------------- \n",
      "Successful Dialog!\n",
      "simulation success rate 1.0, ave reward 74.34, ave turns 13.32\n",
      "simulation success rate 1.0, ave reward 74.15, ave turns 13.7\n",
      "Train on : 685\n",
      "- cur bellman err 0.1088, experience replay pool 685\n",
      "Simulation success rate 1.0, Ave reward 74.34, Ave turns 13.32, Best success rate 0\n",
      "Progress: 77 / 100, Success rate: 61 / 77 Avg reward: 47.23 Avg turns: 17.66\n",
      "----------------- Episode: 77 ----------------- \n",
      "Successful Dialog!\n",
      "simulation success rate 1.0, ave reward 74.34, ave turns 13.32\n",
      "simulation success rate 1.0, ave reward 74.22, ave turns 13.56\n",
      "Train on : 678\n",
      "- cur bellman err 0.1565, experience replay pool 678\n",
      "Simulation success rate 1.0, Ave reward 74.34, Ave turns 13.32, Best success rate 0\n",
      "Progress: 78 / 100, Success rate: 62 / 78 Avg reward: 47.58 Avg turns: 17.62\n",
      "----------------- Episode: 78 ----------------- \n",
      "Successful Dialog!\n",
      "simulation success rate 1.0, ave reward 74.36, ave turns 13.28\n",
      "simulation success rate 1.0, ave reward 74.28, ave turns 13.44\n",
      "Train on : 672\n",
      "- cur bellman err 0.1832, experience replay pool 672\n",
      "Simulation success rate 1.0, Ave reward 74.36, Ave turns 13.28, Best success rate 0\n",
      "Progress: 79 / 100, Success rate: 63 / 79 Avg reward: 47.91 Avg turns: 17.57\n",
      "----------------- Episode: 79 ----------------- \n",
      "Successful Dialog!\n",
      "simulation success rate 1.0, ave reward 74.26, ave turns 13.48\n",
      "simulation success rate 1.0, ave reward 74.05, ave turns 13.9\n",
      "Train on : 695\n",
      "- cur bellman err 0.1400, experience replay pool 695\n",
      "Simulation success rate 1.0, Ave reward 74.26, Ave turns 13.48, Best success rate 0\n",
      "Progress: 80 / 100, Success rate: 64 / 80 Avg reward: 48.24 Avg turns: 17.52\n",
      "----------------- Episode: 80 ----------------- \n",
      "Successful Dialog!\n",
      "simulation success rate 1.0, ave reward 74.68, ave turns 12.64\n",
      "simulation success rate 1.0, ave reward 74.55, ave turns 12.9\n",
      "Train on : 645\n",
      "- cur bellman err 0.2704, experience replay pool 645\n",
      "Simulation success rate 1.0, Ave reward 74.68, Ave turns 12.64, Best success rate 0\n",
      "Progress: 81 / 100, Success rate: 65 / 81 Avg reward: 48.57 Avg turns: 17.46\n",
      "----------------- Episode: 81 ----------------- \n",
      "Successful Dialog!\n",
      "simulation success rate 1.0, ave reward 74.31, ave turns 13.38\n",
      "simulation success rate 1.0, ave reward 74.28, ave turns 13.44\n",
      "Train on : 672\n",
      "- cur bellman err 0.2155, experience replay pool 672\n",
      "Simulation success rate 1.0, Ave reward 74.31, Ave turns 13.38, Best success rate 0\n",
      "Progress: 82 / 100, Success rate: 66 / 82 Avg reward: 48.88 Avg turns: 17.41\n",
      "----------------- Episode: 82 ----------------- \n",
      "Successful Dialog!\n"
     ]
    },
    {
     "name": "stdout",
     "output_type": "stream",
     "text": [
      "simulation success rate 1.0, ave reward 74.24, ave turns 13.52\n",
      "simulation success rate 1.0, ave reward 74.41, ave turns 13.18\n",
      "Train on : 659\n",
      "- cur bellman err 0.1768, experience replay pool 659\n",
      "Simulation success rate 1.0, Ave reward 74.24, Ave turns 13.52, Best success rate 0\n",
      "Progress: 83 / 100, Success rate: 67 / 83 Avg reward: 49.18 Avg turns: 17.37\n",
      "----------------- Episode: 83 ----------------- \n",
      "Successful Dialog!\n",
      "simulation success rate 1.0, ave reward 74.27, ave turns 13.46\n",
      "simulation success rate 1.0, ave reward 74.53, ave turns 12.94\n",
      "Train on : 647\n",
      "- cur bellman err 0.3882, experience replay pool 647\n",
      "Simulation success rate 1.0, Ave reward 74.27, Ave turns 13.46, Best success rate 0\n",
      "Progress: 84 / 100, Success rate: 68 / 84 Avg reward: 49.46 Avg turns: 17.36\n",
      "----------------- Episode: 84 ----------------- \n",
      "Successful Dialog!\n",
      "simulation success rate 1.0, ave reward 74.2, ave turns 13.6\n",
      "simulation success rate 1.0, ave reward 74.3, ave turns 13.4\n",
      "Train on : 670\n",
      "- cur bellman err 0.2471, experience replay pool 670\n",
      "Simulation success rate 1.0, Ave reward 74.2, Ave turns 13.6, Best success rate 0\n",
      "Progress: 85 / 100, Success rate: 69 / 85 Avg reward: 49.75 Avg turns: 17.32\n",
      "----------------- Episode: 85 ----------------- \n",
      "Successful Dialog!\n",
      "simulation success rate 1.0, ave reward 74.45, ave turns 13.1\n",
      "simulation success rate 1.0, ave reward 74.48, ave turns 13.04\n",
      "Train on : 652\n",
      "- cur bellman err 0.2822, experience replay pool 652\n",
      "Simulation success rate 1.0, Ave reward 74.45, Ave turns 13.1, Best success rate 0\n",
      "Progress: 86 / 100, Success rate: 70 / 86 Avg reward: 50.06 Avg turns: 17.23\n",
      "----------------- Episode: 86 ----------------- \n",
      "Successful Dialog!\n",
      "simulation success rate 1.0, ave reward 74.41, ave turns 13.18\n",
      "simulation success rate 1.0, ave reward 74.53, ave turns 12.94\n",
      "Train on : 647\n",
      "- cur bellman err 0.3243, experience replay pool 647\n",
      "Simulation success rate 1.0, Ave reward 74.41, Ave turns 13.18, Best success rate 0\n",
      "Progress: 87 / 100, Success rate: 71 / 87 Avg reward: 50.32 Avg turns: 17.22\n",
      "----------------- Episode: 87 ----------------- \n",
      "Successful Dialog!\n",
      "simulation success rate 1.0, ave reward 74.21, ave turns 13.58\n",
      "simulation success rate 1.0, ave reward 74.26, ave turns 13.48\n",
      "Train on : 674\n",
      "- cur bellman err 0.2024, experience replay pool 674\n",
      "Simulation success rate 1.0, Ave reward 74.21, Ave turns 13.58, Best success rate 0\n",
      "Progress: 88 / 100, Success rate: 72 / 88 Avg reward: 50.59 Avg turns: 17.18\n",
      "----------------- Episode: 88 ----------------- \n",
      "Successful Dialog!\n",
      "simulation success rate 1.0, ave reward 74.34, ave turns 13.32\n",
      "simulation success rate 1.0, ave reward 74.55, ave turns 12.9\n",
      "Train on : 645\n",
      "- cur bellman err 0.2986, experience replay pool 645\n",
      "Simulation success rate 1.0, Ave reward 74.34, Ave turns 13.32, Best success rate 0\n",
      "Progress: 89 / 100, Success rate: 73 / 89 Avg reward: 50.88 Avg turns: 17.10\n",
      "----------------- Episode: 89 ----------------- \n",
      "Successful Dialog!\n",
      "simulation success rate 1.0, ave reward 74.37, ave turns 13.26\n",
      "simulation success rate 1.0, ave reward 74.6, ave turns 12.8\n",
      "Train on : 640\n",
      "- cur bellman err 0.3085, experience replay pool 640\n",
      "Simulation success rate 1.0, Ave reward 74.37, Ave turns 13.26, Best success rate 0\n",
      "Progress: 90 / 100, Success rate: 74 / 90 Avg reward: 51.13 Avg turns: 17.07\n",
      "----------------- Episode: 90 ----------------- \n",
      "Successful Dialog!\n",
      "simulation success rate 1.0, ave reward 74.78, ave turns 12.44\n",
      "simulation success rate 1.0, ave reward 74.51, ave turns 12.98\n",
      "Train on : 649\n",
      "- cur bellman err 0.2204, experience replay pool 649\n",
      "Simulation success rate 1.0, Ave reward 74.78, Ave turns 12.44, Best success rate 0\n",
      "Progress: 91 / 100, Success rate: 75 / 91 Avg reward: 51.41 Avg turns: 16.99\n",
      "----------------- Episode: 91 ----------------- \n",
      "Successful Dialog!\n",
      "simulation success rate 1.0, ave reward 74.51, ave turns 12.98\n",
      "simulation success rate 1.0, ave reward 74.55, ave turns 12.9\n",
      "Train on : 645\n",
      "- cur bellman err 0.2337, experience replay pool 645\n",
      "Simulation success rate 1.0, Ave reward 74.51, Ave turns 12.98, Best success rate 0\n",
      "Progress: 92 / 100, Success rate: 76 / 92 Avg reward: 51.66 Avg turns: 16.93\n",
      "----------------- Episode: 92 ----------------- \n",
      "Successful Dialog!\n",
      "simulation success rate 1.0, ave reward 74.59, ave turns 12.82\n",
      "simulation success rate 1.0, ave reward 74.52, ave turns 12.96\n",
      "Train on : 648\n",
      "- cur bellman err 0.2689, experience replay pool 648\n",
      "Simulation success rate 1.0, Ave reward 74.59, Ave turns 12.82, Best success rate 0\n",
      "Progress: 93 / 100, Success rate: 77 / 93 Avg reward: 51.92 Avg turns: 16.86\n",
      "----------------- Episode: 93 ----------------- \n",
      "Successful Dialog!\n",
      "simulation success rate 1.0, ave reward 74.7, ave turns 12.6\n",
      "simulation success rate 1.0, ave reward 74.55, ave turns 12.9\n",
      "Train on : 645\n",
      "- cur bellman err 0.2362, experience replay pool 645\n",
      "Simulation success rate 1.0, Ave reward 74.7, Ave turns 12.6, Best success rate 0\n",
      "Progress: 94 / 100, Success rate: 78 / 94 Avg reward: 52.16 Avg turns: 16.83\n",
      "----------------- Episode: 94 ----------------- \n",
      "Successful Dialog!\n",
      "simulation success rate 1.0, ave reward 74.59, ave turns 12.82\n",
      "simulation success rate 1.0, ave reward 74.51, ave turns 12.98\n",
      "Train on : 649\n",
      "- cur bellman err 0.2542, experience replay pool 649\n",
      "Simulation success rate 1.0, Ave reward 74.59, Ave turns 12.82, Best success rate 0\n",
      "Progress: 95 / 100, Success rate: 79 / 95 Avg reward: 52.38 Avg turns: 16.82\n",
      "----------------- Episode: 95 ----------------- \n",
      "Successful Dialog!\n",
      "simulation success rate 1.0, ave reward 74.27, ave turns 13.46\n",
      "simulation success rate 1.0, ave reward 74.52, ave turns 12.96\n",
      "Train on : 648\n",
      "- cur bellman err 0.2059, experience replay pool 648\n",
      "Simulation success rate 1.0, Ave reward 74.27, Ave turns 13.46, Best success rate 0\n",
      "Progress: 96 / 100, Success rate: 80 / 96 Avg reward: 52.62 Avg turns: 16.75\n",
      "----------------- Episode: 96 ----------------- \n",
      "Successful Dialog!\n",
      "simulation success rate 1.0, ave reward 73.85, ave turns 14.3\n",
      "simulation success rate 1.0, ave reward 73.96, ave turns 14.08\n",
      "Train on : 704\n",
      "- cur bellman err 0.4007, experience replay pool 704\n",
      "Simulation success rate 1.0, Ave reward 73.85, Ave turns 14.3, Best success rate 0\n",
      "Progress: 97 / 100, Success rate: 81 / 97 Avg reward: 52.84 Avg turns: 16.74\n",
      "----------------- Episode: 97 ----------------- \n",
      "Successful Dialog!\n",
      "simulation success rate 1.0, ave reward 74.6, ave turns 12.8\n",
      "simulation success rate 1.0, ave reward 74.62, ave turns 12.76\n",
      "Train on : 638\n",
      "- cur bellman err 0.2482, experience replay pool 638\n",
      "Simulation success rate 1.0, Ave reward 74.6, Ave turns 12.8, Best success rate 0\n",
      "Progress: 98 / 100, Success rate: 82 / 98 Avg reward: 53.05 Avg turns: 16.71\n",
      "----------------- Episode: 98 ----------------- \n",
      "Successful Dialog!\n",
      "simulation success rate 1.0, ave reward 74.49, ave turns 13.02\n",
      "simulation success rate 1.0, ave reward 74.61, ave turns 12.78\n",
      "Train on : 639\n",
      "- cur bellman err 0.2803, experience replay pool 639\n",
      "Simulation success rate 1.0, Ave reward 74.49, Ave turns 13.02, Best success rate 0\n",
      "Progress: 99 / 100, Success rate: 83 / 99 Avg reward: 53.27 Avg turns: 16.67\n",
      "----------------- Episode: 99 ----------------- \n",
      "Successful Dialog!\n",
      "simulation success rate 1.0, ave reward 74.75, ave turns 12.5\n",
      "simulation success rate 1.0, ave reward 74.33, ave turns 13.34\n",
      "Train on : 667\n",
      "- cur bellman err 0.3947, experience replay pool 667\n",
      "Simulation success rate 1.0, Ave reward 74.75, Ave turns 12.5, Best success rate 0\n",
      "Progress: 100 / 100, Success rate: 84 / 100 Avg reward: 53.48 Avg turns: 16.64\n",
      "Success rate: 84 / 100 Avg reward: 53.48 Avg turns: 16.64\n"
     ]
    }
   ],
   "source": [
    "performance_records = {}\n",
    "performance_records['success_rate'] = {}\n",
    "performance_records['ave_turns'] = {}\n",
    "performance_records['ave_reward'] = {}\n",
    "\n",
    "best_model = {}\n",
    "best_res = {'success_rate': 0, 'ave_reward':float('-inf'), 'ave_turns': float('inf'), 'epoch':0}\n",
    "\n",
    "curve = []\n",
    "losses = []\n",
    "agent.warm_start = 1\n",
    "run_episodes(100, status)"
   ]
  },
  {
   "cell_type": "code",
   "execution_count": 45,
   "metadata": {},
   "outputs": [
    {
     "data": {
      "image/png": "[encoded data removed]",
      "text/plain": [
       "<matplotlib.figure.Figure at 0x7f2b5d6f2518>"
      ]
     },
     "metadata": {},
     "output_type": "display_data"
    }
   ],
   "source": [
    "draw_learning_curve(curve)"
   ]
  },
  {
   "cell_type": "code",
   "execution_count": 51,
   "metadata": {},
   "outputs": [
    {
     "data": {
      "image/png": "[encoded data removed]",
      "text/plain": [
       "<matplotlib.figure.Figure at 0x7f2b5c94ccc0>"
      ]
     },
     "metadata": {},
     "output_type": "display_data"
    }
   ],
   "source": [
    "draw_loss_curve(losses)"
   ]
  },
  {
   "cell_type": "code",
   "execution_count": 52,
   "metadata": {},
   "outputs": [
    {
     "data": {
      "image/png": "[encoded data removed]",
      "text/plain": [
       "<matplotlib.figure.Figure at 0x7f2b5d7757b8>"
      ]
     },
     "metadata": {},
     "output_type": "display_data"
    }
   ],
   "source": [
    "draw_loss_curve(losses[-100:])"
   ]
  },
  {
   "cell_type": "code",
   "execution_count": 53,
   "metadata": {
    "collapsed": true
   },
   "outputs": [],
   "source": [
    "saver = tf.train.Saver()"
   ]
  },
  {
   "cell_type": "code",
   "execution_count": 55,
   "metadata": {},
   "outputs": [
    {
     "data": {
      "text/plain": [
       "'trained_model/flight_100/model.ckpt'"
      ]
     },
     "execution_count": 55,
     "metadata": {},
     "output_type": "execute_result"
    }
   ],
   "source": [
    "saver.save(agent.model.sess, \"trained_model/flight_100/model.ckpt\")  "
   ]
  },
  {
   "cell_type": "code",
   "execution_count": 50,
   "metadata": {},
   "outputs": [
    {
     "data": {
      "text/plain": [
       "[0.0,\n",
       " 0.0,\n",
       " 0.0,\n",
       " 0.0,\n",
       " 0.0,\n",
       " 0.0,\n",
       " 0.0,\n",
       " 0.0,\n",
       " 0.0,\n",
       " 0.1,\n",
       " 0.09090909090909091,\n",
       " 0.08333333333333333,\n",
       " 0.07692307692307693,\n",
       " 0.07142857142857142,\n",
       " 0.13333333333333333,\n",
       " 0.125,\n",
       " 0.11764705882352941,\n",
       " 0.1111111111111111,\n",
       " 0.15789473684210525,\n",
       " 0.2,\n",
       " 0.23809523809523808,\n",
       " 0.2727272727272727,\n",
       " 0.30434782608695654,\n",
       " 0.3333333333333333,\n",
       " 0.36,\n",
       " 0.38461538461538464,\n",
       " 0.4074074074074074,\n",
       " 0.42857142857142855,\n",
       " 0.4482758620689655,\n",
       " 0.4666666666666667,\n",
       " 0.4838709677419355,\n",
       " 0.5,\n",
       " 0.5151515151515151,\n",
       " 0.5294117647058824,\n",
       " 0.5428571428571428,\n",
       " 0.5555555555555556,\n",
       " 0.5675675675675675,\n",
       " 0.5789473684210527,\n",
       " 0.5897435897435898,\n",
       " 0.6,\n",
       " 0.6097560975609756,\n",
       " 0.6190476190476191,\n",
       " 0.627906976744186,\n",
       " 0.6363636363636364,\n",
       " 0.6444444444444445,\n",
       " 0.6521739130434783,\n",
       " 0.6595744680851063,\n",
       " 0.6666666666666666,\n",
       " 0.673469387755102,\n",
       " 0.68,\n",
       " 0.6862745098039216,\n",
       " 0.6923076923076923,\n",
       " 0.6981132075471698,\n",
       " 0.7037037037037037,\n",
       " 0.7090909090909091,\n",
       " 0.7142857142857143,\n",
       " 0.7192982456140351,\n",
       " 0.7241379310344828,\n",
       " 0.7288135593220338,\n",
       " 0.7333333333333333,\n",
       " 0.7377049180327869,\n",
       " 0.7419354838709677,\n",
       " 0.746031746031746,\n",
       " 0.75,\n",
       " 0.7538461538461538,\n",
       " 0.7575757575757576,\n",
       " 0.7611940298507462,\n",
       " 0.7647058823529411,\n",
       " 0.7681159420289855,\n",
       " 0.7714285714285715,\n",
       " 0.7746478873239436,\n",
       " 0.7777777777777778,\n",
       " 0.7808219178082192,\n",
       " 0.7837837837837838,\n",
       " 0.7866666666666666,\n",
       " 0.7894736842105263,\n",
       " 0.7922077922077922,\n",
       " 0.7948717948717948,\n",
       " 0.7974683544303798,\n",
       " 0.8,\n",
       " 0.8024691358024691,\n",
       " 0.8048780487804879,\n",
       " 0.8072289156626506,\n",
       " 0.8095238095238095,\n",
       " 0.8117647058823529,\n",
       " 0.813953488372093,\n",
       " 0.8160919540229885,\n",
       " 0.8181818181818182,\n",
       " 0.8202247191011236,\n",
       " 0.8222222222222222,\n",
       " 0.8241758241758241,\n",
       " 0.8260869565217391,\n",
       " 0.8279569892473119,\n",
       " 0.8297872340425532,\n",
       " 0.8315789473684211,\n",
       " 0.8333333333333334,\n",
       " 0.8350515463917526,\n",
       " 0.8367346938775511,\n",
       " 0.8383838383838383,\n",
       " 0.84]"
      ]
     },
     "execution_count": 50,
     "metadata": {},
     "output_type": "execute_result"
    }
   ],
   "source": [
    "curve"
   ]
  },
  {
   "cell_type": "code",
   "execution_count": null,
   "metadata": {
    "collapsed": true
   },
   "outputs": [],
   "source": []
  },
  {
   "cell_type": "code",
   "execution_count": null,
   "metadata": {
    "collapsed": true
   },
   "outputs": [],
   "source": []
  },
  {
   "cell_type": "code",
   "execution_count": null,
   "metadata": {
    "collapsed": true
   },
   "outputs": [],
   "source": []
  },
  {
   "cell_type": "code",
   "execution_count": null,
   "metadata": {
    "collapsed": true
   },
   "outputs": [],
   "source": []
  },
  {
   "cell_type": "code",
   "execution_count": null,
   "metadata": {
    "collapsed": true
   },
   "outputs": [],
   "source": []
  },
  {
   "cell_type": "code",
   "execution_count": null,
   "metadata": {
    "collapsed": true
   },
   "outputs": [],
   "source": []
  },
  {
   "cell_type": "code",
   "execution_count": null,
   "metadata": {
    "collapsed": true
   },
   "outputs": [],
   "source": []
  },
  {
   "cell_type": "code",
   "execution_count": null,
   "metadata": {
    "collapsed": true
   },
   "outputs": [],
   "source": []
  },
  {
   "cell_type": "code",
   "execution_count": null,
   "metadata": {
    "collapsed": true
   },
   "outputs": [],
   "source": []
  },
  {
   "cell_type": "code",
   "execution_count": null,
   "metadata": {
    "collapsed": true
   },
   "outputs": [],
   "source": []
  },
  {
   "cell_type": "code",
   "execution_count": null,
   "metadata": {
    "collapsed": true
   },
   "outputs": [],
   "source": []
  },
  {
   "cell_type": "code",
   "execution_count": null,
   "metadata": {
    "collapsed": true
   },
   "outputs": [],
   "source": []
  }
 ],
 "metadata": {
  "celltoolbar": "Initialization Cell",
  "kernelspec": {
   "display_name": "Python 3",
   "language": "python",
   "name": "python3"
  },
  "language_info": {
   "codemirror_mode": {
    "name": "ipython",
    "version": 3
   },
   "file_extension": ".py",
   "mimetype": "text/x-python",
   "name": "python",
   "nbconvert_exporter": "python",
   "pygments_lexer": "ipython3",
   "version": "3.5.2"
  },
  "latex_envs": {
   "LaTeX_envs_menu_present": true,
   "autocomplete": true,
   "bibliofile": "biblio.bib",
   "cite_by": "apalike",
   "current_citInitial": 1,
   "eqLabelWithNumbers": true,
   "eqNumInitial": 1,
   "hotkeys": {
    "equation": "Ctrl-E",
    "itemize": "Ctrl-I"
   },
   "labels_anchors": false,
   "latex_user_defs": false,
   "report_style_numbering": false,
   "user_envs_cfg": false
  },
  "nbTranslate": {
   "displayLangs": [
    "*"
   ],
   "hotkey": "alt-t",
   "langInMainMenu": true,
   "sourceLang": "en",
   "targetLang": "fr",
   "useGoogleTranslate": true
  },
  "varInspector": {
   "cols": {
    "lenName": 16,
    "lenType": 16,
    "lenVar": 40
   },
   "kernels_config": {
    "python": {
     "delete_cmd_postfix": "",
     "delete_cmd_prefix": "del ",
     "library": "var_list.py",
     "varRefreshCmd": "print(var_dic_list())"
    },
    "r": {
     "delete_cmd_postfix": ") ",
     "delete_cmd_prefix": "rm(",
     "library": "var_list.r",
     "varRefreshCmd": "cat(var_dic_list()) "
    }
   },
   "types_to_exclude": [
    "module",
    "function",
    "builtin_function_or_method",
    "instance",
    "_Feature"
   ],
   "window_display": false
  }
 },
 "nbformat": 4,
 "nbformat_minor": 2
}
