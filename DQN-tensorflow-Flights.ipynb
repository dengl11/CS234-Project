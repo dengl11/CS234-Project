{
 "cells": [
  {
   "cell_type": "markdown",
   "metadata": {},
   "source": [
    "# DQN\n"
   ]
  },
  {
   "cell_type": "markdown",
   "metadata": {},
   "source": [
    "### Training of DQN in Tensorflow\n",
    "--------------------------"
   ]
  },
  {
   "cell_type": "code",
   "execution_count": 1,
   "metadata": {
    "code_folding": [],
    "init_cell": true
   },
   "outputs": [
    {
     "name": "stderr",
     "output_type": "stream",
     "text": [
      "/usr/local/lib/python3.5/dist-packages/matplotlib/__init__.py:1401: UserWarning:  This call to matplotlib.use() has no effect\n",
      "because the backend has already been chosen;\n",
      "matplotlib.use() must be called *before* pylab, matplotlib.pyplot,\n",
      "or matplotlib.backends is imported for the first time.\n",
      "\n",
      "  warnings.warn(_use_error_msg)\n"
     ]
    }
   ],
   "source": [
    "#\n",
    "from util import *\n",
    "from dlg_manager import *\n",
    "from alg import *\n",
    "from agent import *\n",
    "from user_sim import *\n",
    "from state_tracker import *\n",
    "import random\n",
    "from config import *\n",
    "import matplotlib.pyplot as plt\n",
    "import numpy as np\n",
    "from nlg import *\n",
    "from six.moves import cPickle as pickle\n",
    "import IPython\n",
    "import copy, argparse, json\n",
    "\n",
    "%matplotlib inline\n",
    "%load_ext autoreload\n",
    "%autoreload 2"
   ]
  },
  {
   "cell_type": "markdown",
   "metadata": {},
   "source": [
    "# Load Data\n",
    "-------------------"
   ]
  },
  {
   "cell_type": "markdown",
   "metadata": {},
   "source": [
    "#### Action Set"
   ]
  },
  {
   "cell_type": "code",
   "execution_count": 2,
   "metadata": {
    "code_folding": [],
    "init_cell": true
   },
   "outputs": [
    {
     "name": "stdout",
     "output_type": "stream",
     "text": [
      "keys = 11\n",
      "Sample of dict:\n",
      "- confirm_answer: 3\n",
      "- welcome: 8\n",
      "- multiple_choice: 6\n",
      "- request: 0\n",
      "- not_sure: 10\n"
     ]
    }
   ],
   "source": [
    "#\n",
    "act_set_path = './data/dia_acts.txt'\n",
    "act_set = text_to_dict(act_set_path)\n",
    "sample_dict(act_set)"
   ]
  },
  {
   "cell_type": "markdown",
   "metadata": {},
   "source": [
    "### slot set"
   ]
  },
  {
   "cell_type": "code",
   "execution_count": 3,
   "metadata": {
    "code_folding": [],
    "init_cell": true
   },
   "outputs": [
    {
     "name": "stdout",
     "output_type": "stream",
     "text": [
      "keys = 7\n",
      "Sample of dict:\n",
      "- flightDate1: 2\n",
      "- origin1: 3\n",
      "- flightDate2: 1\n",
      "- travelers: 4\n",
      "- ticket: 5\n"
     ]
    }
   ],
   "source": [
    "#\n",
    "slots_set_path = \"./parser/slot_set.txt\"\n",
    "slot_set = text_to_dict(slots_set_path)\n",
    "sample_dict(slot_set)"
   ]
  },
  {
   "cell_type": "markdown",
   "metadata": {},
   "source": [
    "### flight dic: info about flights"
   ]
  },
  {
   "cell_type": "code",
   "execution_count": 4,
   "metadata": {
    "code_folding": [],
    "init_cell": true
   },
   "outputs": [
    {
     "name": "stdout",
     "output_type": "stream",
     "text": [
      "keys = 1000\n",
      "Sample of dict:\n",
      "- 38: {'destination1': 'SZX', 'travelers': '4', 'flightDate1': '2', 'flightDate2': '5', 'origin1': 'MUC'}\n"
     ]
    }
   ],
   "source": [
    "#\n",
    "flight_kb_path = \"./parser/fkb.json.p\"\n",
    "flight_kb = pickle.load(open(flight_kb_path, 'rb'), encoding=\"latin\")\n",
    "sample_dict(flight_kb, sample_size=1)"
   ]
  },
  {
   "cell_type": "markdown",
   "metadata": {},
   "source": [
    "# Language Generator (pretrained)\n",
    "-------------------"
   ]
  },
  {
   "cell_type": "code",
   "execution_count": 5,
   "metadata": {
    "code_folding": [],
    "collapsed": true
   },
   "outputs": [],
   "source": [
    "#\n",
    "nlg_model_path ='data/trained_model/nlg/lstm_tanh_relu_[1468202263.38]_2_0.610.p'\n",
    "nlg_model = Nlg()\n",
    "nlg_model.load_nlg_model(nlg_model_path)\n",
    "diaact_nl_pairs_path = \"./parser/flight.nl.pairs.json\"\n",
    "nlg_model.load_predefine_act_nl_pairs(diaact_nl_pairs_path)"
   ]
  },
  {
   "cell_type": "markdown",
   "metadata": {},
   "source": [
    "## Model Params"
   ]
  },
  {
   "cell_type": "code",
   "execution_count": 6,
   "metadata": {
    "code_folding": [],
    "init_cell": true
   },
   "outputs": [
    {
     "name": "stdout",
     "output_type": "stream",
     "text": [
      "slot_rep: 1\n",
      "reg_cost: 0.001\n",
      "cv_fold: 6\n",
      "act_set: data/dia_acts.txt\n",
      "data_path: .\\data\\movieMultiLine.Annot.Corrected.Final.v3.csv\n",
      "eva_metric: 2\n",
      "model: lstm_tanh\n",
      "batch_size: 16\n",
      "pretrained_model_path: None\n",
      "hidden_size: 100\n",
      "smooth_eps: 1e-08\n",
      "feed_recurrence: 0\n",
      "dia_slot_val: 2\n",
      "learning_rate: 0.001\n",
      "max_epochs: 200\n",
      "check_point: 20\n",
      "trained_model_path: None\n",
      "split_method: 1\n",
      "sdgtype: rmsprop\n",
      "decay_rate: 0.999\n",
      "save_check_point: 20\n",
      "valid_test: 0\n",
      "init_rnn: 0\n",
      "momentum: 0.1\n",
      "write_model_dir: .\\checkpoints\\template\\07102016\\\n",
      "grad_clip: -0.0001\n",
      "slot_set: data/slot_set.txt\n",
      "activation_func: relu\n"
     ]
    }
   ],
   "source": [
    "#\n",
    "model_params = pickle.load(open(nlg_model_path, 'rb'), encoding='latin1')\n",
    "params = model_params['params']\n",
    "params['batch_size'] = 16\n",
    "batch_size = 16\n",
    "save_check_point = 20\n",
    "params['trained_model_path'] = None\n",
    "for k in params:\n",
    "    print(\"{}: {}\".format(k, params[k]))"
   ]
  },
  {
   "cell_type": "markdown",
   "metadata": {},
   "source": [
    "# User Simulator\n",
    "-------------------"
   ]
  },
  {
   "cell_type": "markdown",
   "metadata": {},
   "source": [
    "### goal"
   ]
  },
  {
   "cell_type": "code",
   "execution_count": 7,
   "metadata": {
    "code_folding": [],
    "init_cell": true
   },
   "outputs": [
    {
     "name": "stdout",
     "output_type": "stream",
     "text": [
      "goals length: 128\n",
      "Sample the first goal: \n",
      "{'diaact': 'request', 'request_slots': {}, 'inform_slots': {'destination1': 'MCO', 'travelers': '4', 'flightDate1': '2', 'flightDate2': '3', 'origin1': 'MUC'}}\n"
     ]
    }
   ],
   "source": [
    "#\n",
    "goal_file_path = './parser/fg.json.p'\n",
    "all_goal_set = pickle.load(open(goal_file_path, 'rb'), encoding=\"latin\")\n",
    "print(\"goals length: {}\".format(len(all_goal_set)))\n",
    "print(\"Sample the first goal: \\n{}\".format(all_goal_set[0]))"
   ]
  },
  {
   "cell_type": "markdown",
   "metadata": {},
   "source": [
    "### Split goal set"
   ]
  },
  {
   "cell_type": "code",
   "execution_count": 8,
   "metadata": {
    "code_folding": []
   },
   "outputs": [
    {
     "name": "stdout",
     "output_type": "stream",
     "text": [
      "102\n",
      "0\n",
      "26\n",
      "128\n"
     ]
    }
   ],
   "source": [
    "# split goal set\n",
    "split_fold = params.get('split_fold', 5)\n",
    "goal_set = {'train':[], 'valid':[], 'test':[], 'all':[]}\n",
    "for u_goal_id, u_goal in enumerate(all_goal_set):\n",
    "    if u_goal_id % split_fold == 1: goal_set['test'].append(u_goal)\n",
    "    else: goal_set['train'].append(u_goal)\n",
    "    goal_set['all'].append(u_goal)\n",
    "print(len(goal_set['train']))\n",
    "print(len(goal_set['valid']))\n",
    "print(len(goal_set['test']))\n",
    "print(len(goal_set['all']))"
   ]
  },
  {
   "cell_type": "markdown",
   "metadata": {},
   "source": [
    "### user simulator param"
   ]
  },
  {
   "cell_type": "code",
   "execution_count": 9,
   "metadata": {
    "code_folding": [],
    "collapsed": true
   },
   "outputs": [],
   "source": [
    "#\n",
    "usersim_params = {}\n",
    "usersim_params['max_turn'] = 40\n",
    "usersim_params['slot_err_prob'] = 0.00\n",
    "# slot_err_mode: 0 for slot_val only; 1 for three errs\n",
    "usersim_params['slot_err_mode'] = 0\n",
    "usersim_params['intent_err_prob'] = 0\n",
    "# run_mode: 0 for default NL; 1 for dia_act; 2 for both\n",
    "usersim_params['run_mode'] = 0\n",
    "# 0 for dia_act level; 1 for NL level\n",
    "usersim_params['act_level'] = 0\n",
    "# train/test/all; default is all\n",
    "usersim_params['learn_phase'] = 'all'"
   ]
  },
  {
   "cell_type": "markdown",
   "metadata": {},
   "source": [
    "### a flights dictionary for user simulator - slot:possible values"
   ]
  },
  {
   "cell_type": "code",
   "execution_count": 10,
   "metadata": {
    "code_folding": []
   },
   "outputs": [
    {
     "name": "stdout",
     "output_type": "stream",
     "text": [
      "keys = 20\n",
      "Sample of dict:\n",
      "- description: ['is still playing in theaters', 'violence', 'violent', 'good intelligent', 'The critics consensus is that it is Fast funny and gleefully profane the fourth-wall-busting Deadpool subverts superhero film formula with wildly entertaining -- and decidedly non-family-friendly -- results', 'disney', 'A woman (Mary Elizabeth Winstead) discovers the horrifying truth about the outside world while living in an underground shelter with two men (John Goodman John Gallagher Jr)', 'highest rated pizza', \"Mortal hero Bek teams with the god Horus in an alliance against Set the merciless god of darkness who has usurped Egypt's throne plunging the once peaceful and prosperous empire into chaos and conflict\", 'scary']\n"
     ]
    }
   ],
   "source": [
    "#\n",
    "flight_dict_path = './parser/dicts.v3.p'\n",
    "flight_dictionary = pickle.load(open(flight_dict_path, 'rb'), encoding=\"latin\")\n",
    "samples = sample_dict(flight_dictionary, sample_size=1)"
   ]
  },
  {
   "cell_type": "markdown",
   "metadata": {},
   "source": [
    "###  Create a User"
   ]
  },
  {
   "cell_type": "code",
   "execution_count": 11,
   "metadata": {
    "collapsed": true
   },
   "outputs": [],
   "source": [
    "user = RuleSimulator(flight_dictionary, act_set, slot_set, goal_set, usersim_params)\n",
    "# user = AlternateSimulator(flight_dictionary, act_set, slot_set, goal_set, usersim_params)\n",
    "user.set_nlg_model(nlg_model)"
   ]
  },
  {
   "cell_type": "markdown",
   "metadata": {},
   "source": [
    "# Agent\n",
    "-------------------"
   ]
  },
  {
   "cell_type": "markdown",
   "metadata": {},
   "source": [
    "## param"
   ]
  },
  {
   "cell_type": "code",
   "execution_count": 12,
   "metadata": {
    "code_folding": []
   },
   "outputs": [
    {
     "name": "stdout",
     "output_type": "stream",
     "text": [
      "pretrained model path = None\n"
     ]
    }
   ],
   "source": [
    "#\n",
    "agent_params = {}\n",
    "# maximum length of each dialog (default=20, 0=no maximum length)\n",
    "agent_params['max_turn'] = 40\n",
    "# Epsilon to determine stochasticity of epsilon-greedy agent policies\n",
    "agent_params['epsilon'] = 0\n",
    "# run_mode: 0 for default NL; 1 for dia_act; 2 for both\n",
    "agent_params['agent_run_mode'] = 3\n",
    "# 0 for dia_act level; 1 for NL level\n",
    "agent_params['agent_act_level'] = 0\n",
    "\n",
    "############### DQN #################\n",
    "# the size for experience replay\n",
    "agent_params['experience_replay_pool_size'] = 10000\n",
    "# # the hidden size for DQN\n",
    "agent_params['dqn_hidden_size'] = 60\n",
    "agent_params['batch_size'] = 16\n",
    "# # gamma for DQN\n",
    "agent_params['gamma'] = 0.9\n",
    "# # predict model for DQN\n",
    "agent_params['predict_mode'] = True\n",
    "agent_params['trained_model_path'] = params['pretrained_model_path']\n",
    "#####################################\n",
    "print(\"pretrained model path = {}\".format(agent_params['trained_model_path']))\n",
    "# 0: no warm start; 1: warm start for training\n",
    "agent_params['warm_start'] = 1\n",
    "# run_mode: 0 for NL; 1 for dia_act\n",
    "agent_params['cmd_input_mode'] = 0\n",
    "\n",
    "success_rate_threshold = 0.3"
   ]
  },
  {
   "cell_type": "markdown",
   "metadata": {},
   "source": [
    "### create an agent"
   ]
  },
  {
   "cell_type": "code",
   "execution_count": 13,
   "metadata": {
    "code_folding": [],
    "scrolled": false
   },
   "outputs": [
    {
     "name": "stdout",
     "output_type": "stream",
     "text": [
      "act_cardinality  11\n",
      "feasible_actions 16\n",
      "80\n"
     ]
    }
   ],
   "source": [
    "# agent = RequestBasicsAgent(movie_kb, act_set, slot_set, agent_params)\n",
    "# agent = AgentDQN(movie_kb, act_set, slot_set, agent_params)\n",
    "# agt = 9\n",
    "agt = 10\n",
    "agent_params['batch_size']  = batch_size\n",
    "if agt == 9:\n",
    "    agent = AgentDQN(flight_kb, act_set, slot_set, agent_params)\n",
    "else:\n",
    "    agent = DQNAgentTF(flight_kb, act_set, slot_set, agent_params, transfer=False, path=\"trained_model/tf_100/model.ckpt\")\n",
    "\n",
    "agent.set_nlg_model(nlg_model)"
   ]
  },
  {
   "cell_type": "markdown",
   "metadata": {},
   "source": [
    "# Dialog Manager\n",
    "-------------------"
   ]
  },
  {
   "cell_type": "code",
   "execution_count": 14,
   "metadata": {
    "collapsed": true
   },
   "outputs": [],
   "source": [
    "dlg_manager = DlgManager(agent, user, act_set, slot_set, flight_kb)"
   ]
  },
  {
   "cell_type": "markdown",
   "metadata": {},
   "source": [
    "## Running Episodes\n",
    "-------------------"
   ]
  },
  {
   "cell_type": "markdown",
   "metadata": {},
   "source": [
    "### Param"
   ]
  },
  {
   "cell_type": "code",
   "execution_count": 15,
   "metadata": {
    "code_folding": [],
    "collapsed": true
   },
   "outputs": [],
   "source": [
    "#\n",
    "status = {'successes': 0, 'count': 0, 'cumulative_reward': 0}\n",
    "# the size of validation set\n",
    "simulation_epoch_size = 100\n",
    "# the number of epochs for warm start \n",
    "warm_start_epochs = 100\n",
    "# num_episodes = 60"
   ]
  },
  {
   "cell_type": "code",
   "execution_count": 16,
   "metadata": {
    "collapsed": true
   },
   "outputs": [],
   "source": [
    "\"\"\" Warm_Start Simulation (by Rule Policy) \"\"\"\n",
    "def warm_start_simulation():\n",
    "    successes = 0\n",
    "    cumulative_reward = 0\n",
    "    cumulative_turns = 0\n",
    "    \n",
    "    res = {}\n",
    "    for episode in range(warm_start_epochs):\n",
    "        dlg_manager.init_episode()\n",
    "        episode_over = False\n",
    "        while(not episode_over):\n",
    "            episode_over, reward = dlg_manager.step()\n",
    "            cumulative_reward += reward\n",
    "            if episode_over:\n",
    "                if reward > 0: \n",
    "                    successes += 1\n",
    "#                     print (\"warm_start simulation episode %s: Success\" % (episode))\n",
    "#                 else: print (\"warm_start simulation episode %s: Fail\" % (episode))\n",
    "                cumulative_turns += dlg_manager.state_tracker.turn_count\n",
    "        \n",
    "        if len(agent.experience_replay_pool) >= agent.experience_replay_pool_size:\n",
    "            break\n",
    "    \n",
    "    agent.warm_start = 2\n",
    "    res['success_rate'] = float(successes)/simulation_epoch_size\n",
    "    res['ave_reward'] = float(cumulative_reward)/simulation_epoch_size\n",
    "    res['ave_turns'] = float(cumulative_turns)/simulation_epoch_size\n",
    "    print (\"Warm_Start %s epochs, success rate %s, ave reward %s, ave turns %s\" % (episode+1, res['success_rate'], res['ave_reward'], res['ave_turns']))\n",
    "    print (\"Current experience replay buffer size %s\" % (len(agent.experience_replay_pool)))"
   ]
  },
  {
   "cell_type": "code",
   "execution_count": 17,
   "metadata": {
    "collapsed": true
   },
   "outputs": [],
   "source": [
    "def simulation_epoch(simulation_epoch_size):\n",
    "    successes = 0\n",
    "    cumulative_reward = 0\n",
    "    cumulative_turns = 0\n",
    "    \n",
    "    res = {}\n",
    "    for episode in range(simulation_epoch_size):\n",
    "        dlg_manager.init_episode()\n",
    "        episode_over = False\n",
    "        while(not episode_over):\n",
    "            episode_over, reward = dlg_manager.step()\n",
    "            cumulative_reward += reward\n",
    "            if episode_over:\n",
    "                if reward > 0: \n",
    "                    successes += 1\n",
    "#                     print (\"simulation episode %s: Success\" % (episode))\n",
    "#                 else: print (\"simulation episode %s: Fail\" % (episode))\n",
    "                cumulative_turns += dlg_manager.state_tracker.turn_count\n",
    "    \n",
    "    res['success_rate'] = float(successes)/simulation_epoch_size\n",
    "    res['ave_reward'] = float(cumulative_reward)/simulation_epoch_size\n",
    "    res['ave_turns'] = float(cumulative_turns)/simulation_epoch_size\n",
    "    print(\"simulation success rate %s, ave reward %s, ave turns %s\" % (res['success_rate'], res['ave_reward'], res['ave_turns']))\n",
    "    return res"
   ]
  },
  {
   "cell_type": "code",
   "execution_count": 18,
   "metadata": {
    "code_folding": [],
    "collapsed": true,
    "init_cell": true
   },
   "outputs": [],
   "source": [
    "def run_episodes(count, status):\n",
    "    successes = 0\n",
    "    cumulative_reward = 0\n",
    "    cumulative_turns = 0\n",
    "    \n",
    "    \n",
    "    if agt >= 9 and params['trained_model_path'] == None and agent.warm_start == 1:\n",
    "        print ('warm_start starting ...')\n",
    "        warm_start_simulation()\n",
    "        print ('warm_start finished, start RL training ...')\n",
    "    \n",
    "    for episode in range(count):\n",
    "        print (\"----------------- Episode: %s ----------------- \" % (episode))\n",
    "        dlg_manager.init_episode()\n",
    "        episode_over = False\n",
    "        \n",
    "        while(not episode_over):\n",
    "            episode_over, reward = dlg_manager.step()\n",
    "            cumulative_reward += reward\n",
    "                \n",
    "            if episode_over:\n",
    "                if reward > 0:\n",
    "                    print (\"Successful Dialog!\")\n",
    "                    successes += 1\n",
    "#                 else: print (\"Failed Dialog!\")\n",
    "                \n",
    "                cumulative_turns += dlg_manager.state_tracker.turn_count\n",
    "        \n",
    "        # simulation\n",
    "        if agt >= 9 and params['trained_model_path'] == None:\n",
    "            agent.predict_mode = True\n",
    "            simulation_res = simulation_epoch(simulation_epoch_size)\n",
    "            \n",
    "            performance_records['success_rate'][episode] = simulation_res['success_rate']\n",
    "            performance_records['ave_turns'][episode] = simulation_res['ave_turns']\n",
    "            performance_records['ave_reward'][episode] = simulation_res['ave_reward']\n",
    "            \n",
    "            if simulation_res['success_rate'] >= best_res['success_rate']:\n",
    "                if simulation_res['success_rate'] >= success_rate_threshold: # threshold = 0.30\n",
    "                    agent.experience_replay_pool = [] \n",
    "                    simulation_epoch(simulation_epoch_size)\n",
    "                \n",
    "#             if simulation_res['success_rate'] > best_res['success_rate']:\n",
    "#                 best_model['model'] = copy.deepcopy(agent)\n",
    "#                 best_res['success_rate'] = simulation_res['success_rate']\n",
    "#                 best_res['ave_reward'] = simulation_res['ave_reward']\n",
    "#                 best_res['ave_turns'] = simulation_res['ave_turns']\n",
    "#                 best_res['epoch'] = episode\n",
    "                \n",
    "            loss = agent.train(batch_size, 1)\n",
    "            if agt == 10: \n",
    "                agent.model.update_target_params()\n",
    "            else: \n",
    "                agent.clone_dqn = copy.deepcopy(agent.dqn)\n",
    "                \n",
    "            agent.predict_mode = False\n",
    "            \n",
    "            print (\"Simulation success rate %s, Ave reward %s, Ave turns %s, Best success rate %s\" % (performance_records['success_rate'][episode], performance_records['ave_reward'][episode], performance_records['ave_turns'][episode], best_res['success_rate']))\n",
    "#             if episode % save_check_point == 0 and params['trained_model_path'] == None: # save the model every 10 episodes\n",
    "#                 save_model(params['write_model_dir'], agt, best_res['success_rate'], best_model['model'], best_res['epoch'], episode)\n",
    "#                 save_performance_records(params['write_model_dir'], agt, performance_records)\n",
    "        curve.append(successes/(episode+1))\n",
    "        losses.append(loss)\n",
    "        print(\"Progress: %s / %s, Success rate: %s / %s Avg reward: %.2f Avg turns: %.2f\" % (episode+1, count, successes, episode+1, float(cumulative_reward)/(episode+1), float(cumulative_turns)/(episode+1)))\n",
    "    print(\"Success rate: %s / %s Avg reward: %.2f Avg turns: %.2f\" % (successes, count, float(cumulative_reward)/count, float(cumulative_turns)/count))\n",
    "    status['successes'] += successes\n",
    "    status['count'] += count\n",
    "    \n",
    "#     if agt == 9 and params['traained_model_path'] == None:\n",
    "#         save_model(params['write_model_dir'], agt, float(successes)/count, best_model['model'], best_res['epoch'], count)\n",
    "#         save_performance_records(params['write_model_dir'], agt, performance_records)\n"
   ]
  },
  {
   "cell_type": "markdown",
   "metadata": {},
   "source": [
    "## Run a Warm Start"
   ]
  },
  {
   "cell_type": "markdown",
   "metadata": {},
   "source": [
    "# Train & Eval\n",
    "-------------------"
   ]
  },
  {
   "cell_type": "code",
   "execution_count": 19,
   "metadata": {
    "scrolled": false
   },
   "outputs": [
    {
     "name": "stdout",
     "output_type": "stream",
     "text": [
      "warm_start starting ...\n",
      "Warm_Start 100 epochs, success rate 1.0, ave reward 74.0, ave turns 14.0\n",
      "Current experience replay buffer size 700\n",
      "warm_start finished, start RL training ...\n",
      "----------------- Episode: 0 ----------------- \n",
      "simulation success rate 0.0, ave reward -60.0, ave turns 42.0\n",
      "Train on : 2821\n",
      "- cur bellman err 14.9250, experience replay pool 2821\n",
      "Simulation success rate 0.0, Ave reward -60.0, Ave turns 42.0, Best success rate 0\n",
      "Progress: 1 / 100, Success rate: 0 / 1 Avg reward: -60.00 Avg turns: 42.00\n",
      "----------------- Episode: 1 ----------------- \n",
      "simulation success rate 0.0, ave reward -40.0, ave turns 2.0\n",
      "Train on : 2921\n",
      "- cur bellman err 14.5856, experience replay pool 2921\n",
      "Simulation success rate 0.0, Ave reward -40.0, Ave turns 2.0, Best success rate 0\n",
      "Progress: 2 / 100, Success rate: 0 / 2 Avg reward: -50.00 Avg turns: 22.00\n",
      "----------------- Episode: 2 ----------------- \n",
      "simulation success rate 0.0, ave reward -41.68, ave turns 5.36\n",
      "Train on : 3189\n",
      "- cur bellman err 14.4095, experience replay pool 3189\n",
      "Simulation success rate 0.0, Ave reward -41.68, Ave turns 5.36, Best success rate 0\n",
      "Progress: 3 / 100, Success rate: 0 / 3 Avg reward: -47.33 Avg turns: 16.67\n",
      "----------------- Episode: 3 ----------------- \n",
      "simulation success rate 0.0, ave reward -51.6, ave turns 25.2\n",
      "Train on : 4449\n",
      "- cur bellman err 13.3496, experience replay pool 4449\n",
      "Simulation success rate 0.0, Ave reward -51.6, Ave turns 25.2, Best success rate 0\n",
      "Progress: 4 / 100, Success rate: 0 / 4 Avg reward: -50.50 Avg turns: 23.00\n",
      "----------------- Episode: 4 ----------------- \n",
      "simulation success rate 0.0, ave reward -60.0, ave turns 42.0\n",
      "Train on : 6549\n",
      "- cur bellman err 9.0388, experience replay pool 6549\n",
      "Simulation success rate 0.0, Ave reward -60.0, Ave turns 42.0, Best success rate 0\n",
      "Progress: 5 / 100, Success rate: 0 / 5 Avg reward: -52.40 Avg turns: 26.80\n",
      "----------------- Episode: 5 ----------------- \n",
      "simulation success rate 0.0, ave reward -60.0, ave turns 42.0\n",
      "Train on : 8649\n",
      "- cur bellman err 9.5870, experience replay pool 8649\n",
      "Simulation success rate 0.0, Ave reward -60.0, Ave turns 42.0, Best success rate 0\n",
      "Progress: 6 / 100, Success rate: 0 / 6 Avg reward: -53.67 Avg turns: 29.33\n",
      "----------------- Episode: 6 ----------------- \n",
      "simulation success rate 0.0, ave reward -60.0, ave turns 42.0\n",
      "Train on : 10749\n",
      "- cur bellman err 5.7941, experience replay pool 10749\n",
      "Simulation success rate 0.0, Ave reward -60.0, Ave turns 42.0, Best success rate 0\n",
      "Progress: 7 / 100, Success rate: 0 / 7 Avg reward: -54.57 Avg turns: 31.14\n",
      "----------------- Episode: 7 ----------------- \n",
      "simulation success rate 0.0, ave reward -60.0, ave turns 42.0\n",
      "Train on : 12849\n",
      "- cur bellman err 3.4613, experience replay pool 12849\n",
      "Simulation success rate 0.0, Ave reward -60.0, Ave turns 42.0, Best success rate 0\n",
      "Progress: 8 / 100, Success rate: 0 / 8 Avg reward: -55.25 Avg turns: 32.50\n",
      "----------------- Episode: 8 ----------------- \n",
      "simulation success rate 0.0, ave reward -60.0, ave turns 42.0\n",
      "Train on : 14949\n",
      "- cur bellman err 1.7134, experience replay pool 14949\n",
      "Simulation success rate 0.0, Ave reward -60.0, Ave turns 42.0, Best success rate 0\n",
      "Progress: 9 / 100, Success rate: 0 / 9 Avg reward: -55.78 Avg turns: 33.56\n",
      "----------------- Episode: 9 ----------------- \n",
      "Successful Dialog!\n",
      "simulation success rate 0.77, ave reward 33.94, ave turns 38.92\n",
      "simulation success rate 0.84, ave reward 42.48, ave turns 38.64\n",
      "Train on : 1932\n",
      "- cur bellman err 2.7375, experience replay pool 1932\n",
      "Simulation success rate 0.77, Ave reward 33.94, Ave turns 38.92, Best success rate 0\n",
      "Progress: 10 / 100, Success rate: 1 / 10 Avg reward: -44.00 Avg turns: 34.00\n",
      "----------------- Episode: 10 ----------------- \n",
      "simulation success rate 0.0, ave reward -59.28, ave turns 40.56\n",
      "Train on : 3960\n",
      "- cur bellman err 4.0175, experience replay pool 3960\n",
      "Simulation success rate 0.0, Ave reward -59.28, Ave turns 40.56, Best success rate 0\n",
      "Progress: 11 / 100, Success rate: 1 / 11 Avg reward: -45.27 Avg turns: 34.36\n",
      "----------------- Episode: 11 ----------------- \n",
      "simulation success rate 0.0, ave reward -60.0, ave turns 42.0\n",
      "Train on : 6060\n",
      "- cur bellman err 1.4645, experience replay pool 6060\n",
      "Simulation success rate 0.0, Ave reward -60.0, Ave turns 42.0, Best success rate 0\n",
      "Progress: 12 / 100, Success rate: 1 / 12 Avg reward: -46.50 Avg turns: 35.00\n",
      "----------------- Episode: 12 ----------------- \n",
      "simulation success rate 0.22, ave reward -30.41, ave turns 35.62\n",
      "Train on : 7841\n",
      "- cur bellman err 2.2816, experience replay pool 7841\n",
      "Simulation success rate 0.22, Ave reward -30.41, Ave turns 35.62, Best success rate 0\n",
      "Progress: 13 / 100, Success rate: 1 / 13 Avg reward: -47.54 Avg turns: 35.54\n",
      "----------------- Episode: 13 ----------------- \n",
      "Successful Dialog!\n",
      "simulation success rate 1.0, ave reward 74.59, ave turns 12.82\n",
      "simulation success rate 1.0, ave reward 74.58, ave turns 12.84\n",
      "Train on : 642\n",
      "- cur bellman err 1.3929, experience replay pool 642\n",
      "Simulation success rate 1.0, Ave reward 74.59, Ave turns 12.82, Best success rate 0\n",
      "Progress: 14 / 100, Success rate: 2 / 14 Avg reward: -38.79 Avg turns: 33.86\n",
      "----------------- Episode: 14 ----------------- \n",
      "simulation success rate 0.0, ave reward -60.0, ave turns 42.0\n",
      "Train on : 2742\n",
      "- cur bellman err 2.1795, experience replay pool 2742\n",
      "Simulation success rate 0.0, Ave reward -60.0, Ave turns 42.0, Best success rate 0\n",
      "Progress: 15 / 100, Success rate: 2 / 15 Avg reward: -40.20 Avg turns: 34.40\n",
      "----------------- Episode: 15 ----------------- \n",
      "simulation success rate 0.0, ave reward -60.0, ave turns 42.0\n",
      "Train on : 4842\n",
      "- cur bellman err 0.9826, experience replay pool 4842\n",
      "Simulation success rate 0.0, Ave reward -60.0, Ave turns 42.0, Best success rate 0\n",
      "Progress: 16 / 100, Success rate: 2 / 16 Avg reward: -41.44 Avg turns: 34.88\n",
      "----------------- Episode: 16 ----------------- \n",
      "Successful Dialog!\n",
      "simulation success rate 1.0, ave reward 62.0, ave turns 38.0\n",
      "simulation success rate 1.0, ave reward 62.0, ave turns 38.0\n",
      "Train on : 1900\n",
      "- cur bellman err 0.8469, experience replay pool 1900\n",
      "Simulation success rate 1.0, Ave reward 62.0, Ave turns 38.0, Best success rate 0\n",
      "Progress: 17 / 100, Success rate: 3 / 17 Avg reward: -35.35 Avg turns: 35.06\n",
      "----------------- Episode: 17 ----------------- \n",
      "Successful Dialog!\n",
      "simulation success rate 1.0, ave reward 75.0, ave turns 12.0\n",
      "simulation success rate 1.0, ave reward 75.0, ave turns 12.0\n",
      "Train on : 600\n",
      "- cur bellman err 1.8647, experience replay pool 600\n",
      "Simulation success rate 1.0, Ave reward 75.0, Ave turns 12.0, Best success rate 0\n",
      "Progress: 18 / 100, Success rate: 4 / 18 Avg reward: -29.22 Avg turns: 33.78\n",
      "----------------- Episode: 18 ----------------- \n",
      "simulation success rate 0.41, ave reward -9.98, ave turns 40.36\n",
      "simulation success rate 0.39, ave reward -12.42, ave turns 40.44\n",
      "Train on : 2022\n",
      "- cur bellman err 3.1365, experience replay pool 2022\n",
      "Simulation success rate 0.41, Ave reward -9.98, Ave turns 40.36, Best success rate 0\n",
      "Progress: 19 / 100, Success rate: 4 / 19 Avg reward: -30.84 Avg turns: 34.21\n",
      "----------------- Episode: 19 ----------------- \n",
      "simulation success rate 0.0, ave reward -60.0, ave turns 42.0\n",
      "Train on : 4122\n",
      "- cur bellman err 1.8120, experience replay pool 4122\n",
      "Simulation success rate 0.0, Ave reward -60.0, Ave turns 42.0, Best success rate 0\n",
      "Progress: 20 / 100, Success rate: 4 / 20 Avg reward: -32.30 Avg turns: 34.60\n",
      "----------------- Episode: 20 ----------------- \n",
      "Successful Dialog!\n",
      "simulation success rate 1.0, ave reward 70.64, ave turns 20.72\n",
      "simulation success rate 1.0, ave reward 71.68, ave turns 18.64\n",
      "Train on : 932\n",
      "- cur bellman err 2.9003, experience replay pool 932\n",
      "Simulation success rate 1.0, Ave reward 70.64, Ave turns 20.72, Best success rate 0\n",
      "Progress: 21 / 100, Success rate: 5 / 21 Avg reward: -27.24 Avg turns: 33.62\n",
      "----------------- Episode: 21 ----------------- \n",
      "simulation success rate 0.0, ave reward -60.0, ave turns 42.0\n",
      "Train on : 3032\n",
      "- cur bellman err 1.7168, experience replay pool 3032\n",
      "Simulation success rate 0.0, Ave reward -60.0, Ave turns 42.0, Best success rate 0\n",
      "Progress: 22 / 100, Success rate: 5 / 22 Avg reward: -28.73 Avg turns: 34.00\n",
      "----------------- Episode: 22 ----------------- \n",
      "Successful Dialog!\n"
     ]
    },
    {
     "name": "stdout",
     "output_type": "stream",
     "text": [
      "simulation success rate 1.0, ave reward 63.0, ave turns 36.0\n",
      "simulation success rate 1.0, ave reward 63.0, ave turns 36.0\n",
      "Train on : 1800\n",
      "- cur bellman err 0.9317, experience replay pool 1800\n",
      "Simulation success rate 1.0, Ave reward 63.0, Ave turns 36.0, Best success rate 0\n",
      "Progress: 23 / 100, Success rate: 6 / 23 Avg reward: -24.74 Avg turns: 34.09\n",
      "----------------- Episode: 23 ----------------- \n",
      "Successful Dialog!\n",
      "simulation success rate 1.0, ave reward 75.0, ave turns 12.0\n",
      "simulation success rate 1.0, ave reward 75.0, ave turns 12.0\n",
      "Train on : 600\n",
      "- cur bellman err 1.1916, experience replay pool 600\n",
      "Simulation success rate 1.0, Ave reward 75.0, Ave turns 12.0, Best success rate 0\n",
      "Progress: 24 / 100, Success rate: 7 / 24 Avg reward: -20.58 Avg turns: 33.17\n",
      "----------------- Episode: 24 ----------------- \n",
      "Successful Dialog!\n",
      "simulation success rate 1.0, ave reward 73.0, ave turns 16.0\n",
      "simulation success rate 1.0, ave reward 73.0, ave turns 16.0\n",
      "Train on : 800\n",
      "- cur bellman err 0.7275, experience replay pool 800\n",
      "Simulation success rate 1.0, Ave reward 73.0, Ave turns 16.0, Best success rate 0\n",
      "Progress: 25 / 100, Success rate: 8 / 25 Avg reward: -16.84 Avg turns: 32.48\n",
      "----------------- Episode: 25 ----------------- \n",
      "Successful Dialog!\n",
      "simulation success rate 1.0, ave reward 73.0, ave turns 16.0\n",
      "simulation success rate 1.0, ave reward 73.0, ave turns 16.0\n",
      "Train on : 800\n",
      "- cur bellman err 0.5957, experience replay pool 800\n",
      "Simulation success rate 1.0, Ave reward 73.0, Ave turns 16.0, Best success rate 0\n",
      "Progress: 26 / 100, Success rate: 9 / 26 Avg reward: -13.38 Avg turns: 31.85\n",
      "----------------- Episode: 26 ----------------- \n",
      "Successful Dialog!\n",
      "simulation success rate 1.0, ave reward 74.43, ave turns 13.14\n",
      "simulation success rate 1.0, ave reward 74.36, ave turns 13.28\n",
      "Train on : 664\n",
      "- cur bellman err 0.4130, experience replay pool 664\n",
      "Simulation success rate 1.0, Ave reward 74.43, Ave turns 13.14, Best success rate 0\n",
      "Progress: 27 / 100, Success rate: 10 / 27 Avg reward: -10.11 Avg turns: 31.11\n",
      "----------------- Episode: 27 ----------------- \n",
      "Successful Dialog!\n",
      "simulation success rate 1.0, ave reward 75.0, ave turns 12.0\n",
      "simulation success rate 1.0, ave reward 75.0, ave turns 12.0\n",
      "Train on : 600\n",
      "- cur bellman err 0.3552, experience replay pool 600\n",
      "Simulation success rate 1.0, Ave reward 75.0, Ave turns 12.0, Best success rate 0\n",
      "Progress: 28 / 100, Success rate: 11 / 28 Avg reward: -7.07 Avg turns: 30.43\n",
      "----------------- Episode: 28 ----------------- \n",
      "Successful Dialog!\n",
      "simulation success rate 1.0, ave reward 75.0, ave turns 12.0\n",
      "simulation success rate 1.0, ave reward 74.97, ave turns 12.06\n",
      "Train on : 603\n",
      "- cur bellman err 0.6816, experience replay pool 603\n",
      "Simulation success rate 1.0, Ave reward 75.0, Ave turns 12.0, Best success rate 0\n",
      "Progress: 29 / 100, Success rate: 12 / 29 Avg reward: -4.24 Avg turns: 29.79\n",
      "----------------- Episode: 29 ----------------- \n",
      "Successful Dialog!\n",
      "simulation success rate 1.0, ave reward 75.0, ave turns 12.0\n",
      "simulation success rate 1.0, ave reward 75.0, ave turns 12.0\n",
      "Train on : 600\n",
      "- cur bellman err 0.1945, experience replay pool 600\n",
      "Simulation success rate 1.0, Ave reward 75.0, Ave turns 12.0, Best success rate 0\n",
      "Progress: 30 / 100, Success rate: 13 / 30 Avg reward: -1.60 Avg turns: 29.20\n",
      "----------------- Episode: 30 ----------------- \n",
      "Successful Dialog!\n",
      "simulation success rate 1.0, ave reward 75.0, ave turns 12.0\n",
      "simulation success rate 1.0, ave reward 75.0, ave turns 12.0\n",
      "Train on : 600\n",
      "- cur bellman err 0.1195, experience replay pool 600\n",
      "Simulation success rate 1.0, Ave reward 75.0, Ave turns 12.0, Best success rate 0\n",
      "Progress: 31 / 100, Success rate: 14 / 31 Avg reward: 0.87 Avg turns: 28.65\n",
      "----------------- Episode: 31 ----------------- \n",
      "Successful Dialog!\n",
      "simulation success rate 1.0, ave reward 75.0, ave turns 12.0\n",
      "simulation success rate 1.0, ave reward 75.0, ave turns 12.0\n",
      "Train on : 600\n",
      "- cur bellman err 0.0483, experience replay pool 600\n",
      "Simulation success rate 1.0, Ave reward 75.0, Ave turns 12.0, Best success rate 0\n",
      "Progress: 32 / 100, Success rate: 15 / 32 Avg reward: 3.19 Avg turns: 28.12\n",
      "----------------- Episode: 32 ----------------- \n",
      "Successful Dialog!\n",
      "simulation success rate 1.0, ave reward 75.0, ave turns 12.0\n",
      "simulation success rate 1.0, ave reward 75.0, ave turns 12.0\n",
      "Train on : 600\n",
      "- cur bellman err 0.0369, experience replay pool 600\n",
      "Simulation success rate 1.0, Ave reward 75.0, Ave turns 12.0, Best success rate 0\n",
      "Progress: 33 / 100, Success rate: 16 / 33 Avg reward: 5.36 Avg turns: 27.64\n",
      "----------------- Episode: 33 ----------------- \n",
      "Successful Dialog!\n",
      "simulation success rate 1.0, ave reward 75.0, ave turns 12.0\n",
      "simulation success rate 1.0, ave reward 75.0, ave turns 12.0\n",
      "Train on : 600\n",
      "- cur bellman err 0.0307, experience replay pool 600\n",
      "Simulation success rate 1.0, Ave reward 75.0, Ave turns 12.0, Best success rate 0\n",
      "Progress: 34 / 100, Success rate: 17 / 34 Avg reward: 7.41 Avg turns: 27.18\n",
      "----------------- Episode: 34 ----------------- \n",
      "Successful Dialog!\n",
      "simulation success rate 1.0, ave reward 75.0, ave turns 12.0\n",
      "simulation success rate 1.0, ave reward 75.0, ave turns 12.0\n",
      "Train on : 600\n",
      "- cur bellman err 0.0260, experience replay pool 600\n",
      "Simulation success rate 1.0, Ave reward 75.0, Ave turns 12.0, Best success rate 0\n",
      "Progress: 35 / 100, Success rate: 18 / 35 Avg reward: 9.34 Avg turns: 26.74\n",
      "----------------- Episode: 35 ----------------- \n",
      "Successful Dialog!\n",
      "simulation success rate 1.0, ave reward 75.0, ave turns 12.0\n",
      "simulation success rate 1.0, ave reward 75.0, ave turns 12.0\n",
      "Train on : 600\n",
      "- cur bellman err 0.0175, experience replay pool 600\n",
      "Simulation success rate 1.0, Ave reward 75.0, Ave turns 12.0, Best success rate 0\n",
      "Progress: 36 / 100, Success rate: 19 / 36 Avg reward: 11.17 Avg turns: 26.33\n",
      "----------------- Episode: 36 ----------------- \n",
      "Successful Dialog!\n",
      "simulation success rate 1.0, ave reward 75.0, ave turns 12.0\n",
      "simulation success rate 1.0, ave reward 75.0, ave turns 12.0\n",
      "Train on : 600\n",
      "- cur bellman err 0.0161, experience replay pool 600\n",
      "Simulation success rate 1.0, Ave reward 75.0, Ave turns 12.0, Best success rate 0\n",
      "Progress: 37 / 100, Success rate: 20 / 37 Avg reward: 12.89 Avg turns: 25.95\n",
      "----------------- Episode: 37 ----------------- \n",
      "Successful Dialog!\n",
      "simulation success rate 1.0, ave reward 75.0, ave turns 12.0\n",
      "simulation success rate 1.0, ave reward 75.0, ave turns 12.0\n",
      "Train on : 600\n",
      "- cur bellman err 0.0176, experience replay pool 600\n",
      "Simulation success rate 1.0, Ave reward 75.0, Ave turns 12.0, Best success rate 0\n",
      "Progress: 38 / 100, Success rate: 21 / 38 Avg reward: 14.53 Avg turns: 25.58\n",
      "----------------- Episode: 38 ----------------- \n",
      "Successful Dialog!\n",
      "simulation success rate 1.0, ave reward 75.0, ave turns 12.0\n",
      "simulation success rate 1.0, ave reward 75.0, ave turns 12.0\n",
      "Train on : 600\n",
      "- cur bellman err 0.0165, experience replay pool 600\n",
      "Simulation success rate 1.0, Ave reward 75.0, Ave turns 12.0, Best success rate 0\n",
      "Progress: 39 / 100, Success rate: 22 / 39 Avg reward: 16.08 Avg turns: 25.23\n",
      "----------------- Episode: 39 ----------------- \n",
      "Successful Dialog!\n",
      "simulation success rate 1.0, ave reward 75.0, ave turns 12.0\n",
      "simulation success rate 1.0, ave reward 75.0, ave turns 12.0\n",
      "Train on : 600\n",
      "- cur bellman err 0.0169, experience replay pool 600\n",
      "Simulation success rate 1.0, Ave reward 75.0, Ave turns 12.0, Best success rate 0\n",
      "Progress: 40 / 100, Success rate: 23 / 40 Avg reward: 17.55 Avg turns: 24.90\n",
      "----------------- Episode: 40 ----------------- \n",
      "Successful Dialog!\n",
      "simulation success rate 1.0, ave reward 75.0, ave turns 12.0\n",
      "simulation success rate 1.0, ave reward 75.0, ave turns 12.0\n",
      "Train on : 600\n",
      "- cur bellman err 0.0123, experience replay pool 600\n",
      "Simulation success rate 1.0, Ave reward 75.0, Ave turns 12.0, Best success rate 0\n",
      "Progress: 41 / 100, Success rate: 24 / 41 Avg reward: 18.95 Avg turns: 24.59\n",
      "----------------- Episode: 41 ----------------- \n",
      "Successful Dialog!\n",
      "simulation success rate 1.0, ave reward 75.0, ave turns 12.0\n",
      "simulation success rate 1.0, ave reward 75.0, ave turns 12.0\n",
      "Train on : 600\n",
      "- cur bellman err 0.0120, experience replay pool 600\n",
      "Simulation success rate 1.0, Ave reward 75.0, Ave turns 12.0, Best success rate 0\n",
      "Progress: 42 / 100, Success rate: 25 / 42 Avg reward: 20.29 Avg turns: 24.29\n",
      "----------------- Episode: 42 ----------------- \n",
      "Successful Dialog!\n"
     ]
    },
    {
     "name": "stdout",
     "output_type": "stream",
     "text": [
      "simulation success rate 1.0, ave reward 75.0, ave turns 12.0\n",
      "simulation success rate 1.0, ave reward 75.0, ave turns 12.0\n",
      "Train on : 600\n",
      "- cur bellman err 0.0129, experience replay pool 600\n",
      "Simulation success rate 1.0, Ave reward 75.0, Ave turns 12.0, Best success rate 0\n",
      "Progress: 43 / 100, Success rate: 26 / 43 Avg reward: 21.56 Avg turns: 24.00\n",
      "----------------- Episode: 43 ----------------- \n",
      "Successful Dialog!\n",
      "simulation success rate 1.0, ave reward 75.0, ave turns 12.0\n",
      "simulation success rate 1.0, ave reward 75.0, ave turns 12.0\n",
      "Train on : 600\n",
      "- cur bellman err 0.0124, experience replay pool 600\n",
      "Simulation success rate 1.0, Ave reward 75.0, Ave turns 12.0, Best success rate 0\n",
      "Progress: 44 / 100, Success rate: 27 / 44 Avg reward: 22.77 Avg turns: 23.73\n",
      "----------------- Episode: 44 ----------------- \n",
      "Successful Dialog!\n",
      "simulation success rate 1.0, ave reward 75.0, ave turns 12.0\n",
      "simulation success rate 1.0, ave reward 75.0, ave turns 12.0\n",
      "Train on : 600\n",
      "- cur bellman err 0.0122, experience replay pool 600\n",
      "Simulation success rate 1.0, Ave reward 75.0, Ave turns 12.0, Best success rate 0\n",
      "Progress: 45 / 100, Success rate: 28 / 45 Avg reward: 23.93 Avg turns: 23.47\n",
      "----------------- Episode: 45 ----------------- \n",
      "Successful Dialog!\n",
      "simulation success rate 1.0, ave reward 75.0, ave turns 12.0\n",
      "simulation success rate 1.0, ave reward 75.0, ave turns 12.0\n",
      "Train on : 600\n",
      "- cur bellman err 0.0112, experience replay pool 600\n",
      "Simulation success rate 1.0, Ave reward 75.0, Ave turns 12.0, Best success rate 0\n",
      "Progress: 46 / 100, Success rate: 29 / 46 Avg reward: 25.04 Avg turns: 23.22\n",
      "----------------- Episode: 46 ----------------- \n",
      "Successful Dialog!\n",
      "simulation success rate 1.0, ave reward 75.0, ave turns 12.0\n",
      "simulation success rate 1.0, ave reward 75.0, ave turns 12.0\n",
      "Train on : 600\n",
      "- cur bellman err 0.0111, experience replay pool 600\n",
      "Simulation success rate 1.0, Ave reward 75.0, Ave turns 12.0, Best success rate 0\n",
      "Progress: 47 / 100, Success rate: 30 / 47 Avg reward: 26.11 Avg turns: 22.98\n",
      "----------------- Episode: 47 ----------------- \n",
      "Successful Dialog!\n",
      "simulation success rate 1.0, ave reward 75.0, ave turns 12.0\n",
      "simulation success rate 1.0, ave reward 75.0, ave turns 12.0\n",
      "Train on : 600\n",
      "- cur bellman err 0.0091, experience replay pool 600\n",
      "Simulation success rate 1.0, Ave reward 75.0, Ave turns 12.0, Best success rate 0\n",
      "Progress: 48 / 100, Success rate: 31 / 48 Avg reward: 27.12 Avg turns: 22.75\n",
      "----------------- Episode: 48 ----------------- \n",
      "Successful Dialog!\n",
      "simulation success rate 1.0, ave reward 75.0, ave turns 12.0\n",
      "simulation success rate 1.0, ave reward 75.0, ave turns 12.0\n",
      "Train on : 600\n",
      "- cur bellman err 0.0091, experience replay pool 600\n",
      "Simulation success rate 1.0, Ave reward 75.0, Ave turns 12.0, Best success rate 0\n",
      "Progress: 49 / 100, Success rate: 32 / 49 Avg reward: 28.10 Avg turns: 22.53\n",
      "----------------- Episode: 49 ----------------- \n",
      "Successful Dialog!\n",
      "simulation success rate 1.0, ave reward 75.0, ave turns 12.0\n",
      "simulation success rate 1.0, ave reward 75.0, ave turns 12.0\n",
      "Train on : 600\n",
      "- cur bellman err 0.0082, experience replay pool 600\n",
      "Simulation success rate 1.0, Ave reward 75.0, Ave turns 12.0, Best success rate 0\n",
      "Progress: 50 / 100, Success rate: 33 / 50 Avg reward: 29.04 Avg turns: 22.32\n",
      "----------------- Episode: 50 ----------------- \n",
      "Successful Dialog!\n",
      "simulation success rate 1.0, ave reward 75.0, ave turns 12.0\n",
      "simulation success rate 1.0, ave reward 75.0, ave turns 12.0\n",
      "Train on : 600\n",
      "- cur bellman err 0.0069, experience replay pool 600\n",
      "Simulation success rate 1.0, Ave reward 75.0, Ave turns 12.0, Best success rate 0\n",
      "Progress: 51 / 100, Success rate: 34 / 51 Avg reward: 29.94 Avg turns: 22.12\n",
      "----------------- Episode: 51 ----------------- \n",
      "Successful Dialog!\n",
      "simulation success rate 1.0, ave reward 75.0, ave turns 12.0\n",
      "simulation success rate 1.0, ave reward 75.0, ave turns 12.0\n",
      "Train on : 600\n",
      "- cur bellman err 0.0078, experience replay pool 600\n",
      "Simulation success rate 1.0, Ave reward 75.0, Ave turns 12.0, Best success rate 0\n",
      "Progress: 52 / 100, Success rate: 35 / 52 Avg reward: 30.81 Avg turns: 21.92\n",
      "----------------- Episode: 52 ----------------- \n",
      "Successful Dialog!\n",
      "simulation success rate 1.0, ave reward 75.0, ave turns 12.0\n",
      "simulation success rate 1.0, ave reward 75.0, ave turns 12.0\n",
      "Train on : 600\n",
      "- cur bellman err 0.0076, experience replay pool 600\n",
      "Simulation success rate 1.0, Ave reward 75.0, Ave turns 12.0, Best success rate 0\n",
      "Progress: 53 / 100, Success rate: 36 / 53 Avg reward: 31.64 Avg turns: 21.74\n",
      "----------------- Episode: 53 ----------------- \n",
      "Successful Dialog!\n",
      "simulation success rate 1.0, ave reward 75.0, ave turns 12.0\n",
      "simulation success rate 1.0, ave reward 75.0, ave turns 12.0\n",
      "Train on : 600\n",
      "- cur bellman err 0.0075, experience replay pool 600\n",
      "Simulation success rate 1.0, Ave reward 75.0, Ave turns 12.0, Best success rate 0\n",
      "Progress: 54 / 100, Success rate: 37 / 54 Avg reward: 32.44 Avg turns: 21.56\n",
      "----------------- Episode: 54 ----------------- \n",
      "Successful Dialog!\n",
      "simulation success rate 1.0, ave reward 75.0, ave turns 12.0\n",
      "simulation success rate 1.0, ave reward 75.0, ave turns 12.0\n",
      "Train on : 600\n",
      "- cur bellman err 0.0077, experience replay pool 600\n",
      "Simulation success rate 1.0, Ave reward 75.0, Ave turns 12.0, Best success rate 0\n",
      "Progress: 55 / 100, Success rate: 38 / 55 Avg reward: 33.22 Avg turns: 21.38\n",
      "----------------- Episode: 55 ----------------- \n",
      "Successful Dialog!\n",
      "simulation success rate 1.0, ave reward 75.0, ave turns 12.0\n",
      "simulation success rate 1.0, ave reward 75.0, ave turns 12.0\n",
      "Train on : 600\n",
      "- cur bellman err 0.0065, experience replay pool 600\n",
      "Simulation success rate 1.0, Ave reward 75.0, Ave turns 12.0, Best success rate 0\n",
      "Progress: 56 / 100, Success rate: 39 / 56 Avg reward: 33.96 Avg turns: 21.21\n",
      "----------------- Episode: 56 ----------------- \n",
      "Successful Dialog!\n",
      "simulation success rate 1.0, ave reward 75.0, ave turns 12.0\n",
      "simulation success rate 1.0, ave reward 75.0, ave turns 12.0\n",
      "Train on : 600\n",
      "- cur bellman err 0.0065, experience replay pool 600\n",
      "Simulation success rate 1.0, Ave reward 75.0, Ave turns 12.0, Best success rate 0\n",
      "Progress: 57 / 100, Success rate: 40 / 57 Avg reward: 34.68 Avg turns: 21.05\n",
      "----------------- Episode: 57 ----------------- \n",
      "Successful Dialog!\n",
      "simulation success rate 1.0, ave reward 75.0, ave turns 12.0\n",
      "simulation success rate 1.0, ave reward 75.0, ave turns 12.0\n",
      "Train on : 600\n",
      "- cur bellman err 0.0069, experience replay pool 600\n",
      "Simulation success rate 1.0, Ave reward 75.0, Ave turns 12.0, Best success rate 0\n",
      "Progress: 58 / 100, Success rate: 41 / 58 Avg reward: 35.38 Avg turns: 20.90\n",
      "----------------- Episode: 58 ----------------- \n",
      "Successful Dialog!\n",
      "simulation success rate 1.0, ave reward 75.0, ave turns 12.0\n",
      "simulation success rate 1.0, ave reward 75.0, ave turns 12.0\n",
      "Train on : 600\n",
      "- cur bellman err 0.0078, experience replay pool 600\n",
      "Simulation success rate 1.0, Ave reward 75.0, Ave turns 12.0, Best success rate 0\n",
      "Progress: 59 / 100, Success rate: 42 / 59 Avg reward: 36.05 Avg turns: 20.75\n",
      "----------------- Episode: 59 ----------------- \n",
      "Successful Dialog!\n",
      "simulation success rate 1.0, ave reward 75.0, ave turns 12.0\n",
      "simulation success rate 1.0, ave reward 75.0, ave turns 12.0\n",
      "Train on : 600\n",
      "- cur bellman err 0.0061, experience replay pool 600\n",
      "Simulation success rate 1.0, Ave reward 75.0, Ave turns 12.0, Best success rate 0\n",
      "Progress: 60 / 100, Success rate: 43 / 60 Avg reward: 36.70 Avg turns: 20.60\n",
      "----------------- Episode: 60 ----------------- \n",
      "Successful Dialog!\n",
      "simulation success rate 1.0, ave reward 75.0, ave turns 12.0\n",
      "simulation success rate 1.0, ave reward 75.0, ave turns 12.0\n",
      "Train on : 600\n",
      "- cur bellman err 0.0049, experience replay pool 600\n",
      "Simulation success rate 1.0, Ave reward 75.0, Ave turns 12.0, Best success rate 0\n",
      "Progress: 61 / 100, Success rate: 44 / 61 Avg reward: 37.33 Avg turns: 20.46\n",
      "----------------- Episode: 61 ----------------- \n",
      "Successful Dialog!\n",
      "simulation success rate 1.0, ave reward 75.0, ave turns 12.0\n",
      "simulation success rate 1.0, ave reward 75.0, ave turns 12.0\n",
      "Train on : 600\n",
      "- cur bellman err 0.0055, experience replay pool 600\n",
      "Simulation success rate 1.0, Ave reward 75.0, Ave turns 12.0, Best success rate 0\n",
      "Progress: 62 / 100, Success rate: 45 / 62 Avg reward: 37.94 Avg turns: 20.32\n",
      "----------------- Episode: 62 ----------------- \n",
      "Successful Dialog!\n"
     ]
    },
    {
     "name": "stdout",
     "output_type": "stream",
     "text": [
      "simulation success rate 1.0, ave reward 75.0, ave turns 12.0\n",
      "simulation success rate 1.0, ave reward 75.0, ave turns 12.0\n",
      "Train on : 600\n",
      "- cur bellman err 0.0063, experience replay pool 600\n",
      "Simulation success rate 1.0, Ave reward 75.0, Ave turns 12.0, Best success rate 0\n",
      "Progress: 63 / 100, Success rate: 46 / 63 Avg reward: 38.52 Avg turns: 20.19\n",
      "----------------- Episode: 63 ----------------- \n",
      "Successful Dialog!\n",
      "simulation success rate 1.0, ave reward 75.0, ave turns 12.0\n",
      "simulation success rate 1.0, ave reward 75.0, ave turns 12.0\n",
      "Train on : 600\n",
      "- cur bellman err 0.0062, experience replay pool 600\n",
      "Simulation success rate 1.0, Ave reward 75.0, Ave turns 12.0, Best success rate 0\n",
      "Progress: 64 / 100, Success rate: 47 / 64 Avg reward: 39.09 Avg turns: 20.06\n",
      "----------------- Episode: 64 ----------------- \n",
      "Successful Dialog!\n",
      "simulation success rate 1.0, ave reward 75.0, ave turns 12.0\n",
      "simulation success rate 1.0, ave reward 75.0, ave turns 12.0\n",
      "Train on : 600\n",
      "- cur bellman err 0.0058, experience replay pool 600\n",
      "Simulation success rate 1.0, Ave reward 75.0, Ave turns 12.0, Best success rate 0\n",
      "Progress: 65 / 100, Success rate: 48 / 65 Avg reward: 39.65 Avg turns: 19.94\n",
      "----------------- Episode: 65 ----------------- \n",
      "Successful Dialog!\n",
      "simulation success rate 1.0, ave reward 75.0, ave turns 12.0\n",
      "simulation success rate 1.0, ave reward 75.0, ave turns 12.0\n",
      "Train on : 600\n",
      "- cur bellman err 0.0055, experience replay pool 600\n",
      "Simulation success rate 1.0, Ave reward 75.0, Ave turns 12.0, Best success rate 0\n",
      "Progress: 66 / 100, Success rate: 49 / 66 Avg reward: 40.18 Avg turns: 19.82\n",
      "----------------- Episode: 66 ----------------- \n",
      "Successful Dialog!\n",
      "simulation success rate 1.0, ave reward 75.0, ave turns 12.0\n",
      "simulation success rate 1.0, ave reward 75.0, ave turns 12.0\n",
      "Train on : 600\n",
      "- cur bellman err 0.0049, experience replay pool 600\n",
      "Simulation success rate 1.0, Ave reward 75.0, Ave turns 12.0, Best success rate 0\n",
      "Progress: 67 / 100, Success rate: 50 / 67 Avg reward: 40.70 Avg turns: 19.70\n",
      "----------------- Episode: 67 ----------------- \n",
      "Successful Dialog!\n",
      "simulation success rate 1.0, ave reward 75.0, ave turns 12.0\n",
      "simulation success rate 1.0, ave reward 75.0, ave turns 12.0\n",
      "Train on : 600\n",
      "- cur bellman err 0.0060, experience replay pool 600\n",
      "Simulation success rate 1.0, Ave reward 75.0, Ave turns 12.0, Best success rate 0\n",
      "Progress: 68 / 100, Success rate: 51 / 68 Avg reward: 41.21 Avg turns: 19.59\n",
      "----------------- Episode: 68 ----------------- \n",
      "Successful Dialog!\n",
      "simulation success rate 1.0, ave reward 75.0, ave turns 12.0\n",
      "simulation success rate 1.0, ave reward 75.0, ave turns 12.0\n",
      "Train on : 600\n",
      "- cur bellman err 0.0055, experience replay pool 600\n",
      "Simulation success rate 1.0, Ave reward 75.0, Ave turns 12.0, Best success rate 0\n",
      "Progress: 69 / 100, Success rate: 52 / 69 Avg reward: 41.70 Avg turns: 19.48\n",
      "----------------- Episode: 69 ----------------- \n",
      "Successful Dialog!\n",
      "simulation success rate 1.0, ave reward 75.0, ave turns 12.0\n",
      "simulation success rate 1.0, ave reward 75.0, ave turns 12.0\n",
      "Train on : 600\n",
      "- cur bellman err 0.0050, experience replay pool 600\n",
      "Simulation success rate 1.0, Ave reward 75.0, Ave turns 12.0, Best success rate 0\n",
      "Progress: 70 / 100, Success rate: 53 / 70 Avg reward: 42.17 Avg turns: 19.37\n",
      "----------------- Episode: 70 ----------------- \n",
      "Successful Dialog!\n",
      "simulation success rate 1.0, ave reward 75.0, ave turns 12.0\n",
      "simulation success rate 1.0, ave reward 75.0, ave turns 12.0\n",
      "Train on : 600\n",
      "- cur bellman err 0.0047, experience replay pool 600\n",
      "Simulation success rate 1.0, Ave reward 75.0, Ave turns 12.0, Best success rate 0\n",
      "Progress: 71 / 100, Success rate: 54 / 71 Avg reward: 42.63 Avg turns: 19.27\n",
      "----------------- Episode: 71 ----------------- \n",
      "Successful Dialog!\n",
      "simulation success rate 1.0, ave reward 75.0, ave turns 12.0\n",
      "simulation success rate 1.0, ave reward 75.0, ave turns 12.0\n",
      "Train on : 600\n",
      "- cur bellman err 0.0056, experience replay pool 600\n",
      "Simulation success rate 1.0, Ave reward 75.0, Ave turns 12.0, Best success rate 0\n",
      "Progress: 72 / 100, Success rate: 55 / 72 Avg reward: 43.08 Avg turns: 19.17\n",
      "----------------- Episode: 72 ----------------- \n",
      "Successful Dialog!\n",
      "simulation success rate 1.0, ave reward 75.0, ave turns 12.0\n",
      "simulation success rate 1.0, ave reward 75.0, ave turns 12.0\n",
      "Train on : 600\n",
      "- cur bellman err 0.0054, experience replay pool 600\n",
      "Simulation success rate 1.0, Ave reward 75.0, Ave turns 12.0, Best success rate 0\n",
      "Progress: 73 / 100, Success rate: 56 / 73 Avg reward: 43.52 Avg turns: 19.07\n",
      "----------------- Episode: 73 ----------------- \n",
      "Successful Dialog!\n",
      "simulation success rate 1.0, ave reward 75.0, ave turns 12.0\n",
      "simulation success rate 1.0, ave reward 75.0, ave turns 12.0\n",
      "Train on : 600\n",
      "- cur bellman err 0.0055, experience replay pool 600\n",
      "Simulation success rate 1.0, Ave reward 75.0, Ave turns 12.0, Best success rate 0\n",
      "Progress: 74 / 100, Success rate: 57 / 74 Avg reward: 43.95 Avg turns: 18.97\n",
      "----------------- Episode: 74 ----------------- \n",
      "Successful Dialog!\n",
      "simulation success rate 1.0, ave reward 75.0, ave turns 12.0\n",
      "simulation success rate 1.0, ave reward 75.0, ave turns 12.0\n",
      "Train on : 600\n",
      "- cur bellman err 0.0050, experience replay pool 600\n",
      "Simulation success rate 1.0, Ave reward 75.0, Ave turns 12.0, Best success rate 0\n",
      "Progress: 75 / 100, Success rate: 58 / 75 Avg reward: 44.36 Avg turns: 18.88\n",
      "----------------- Episode: 75 ----------------- \n",
      "Successful Dialog!\n",
      "simulation success rate 1.0, ave reward 75.0, ave turns 12.0\n",
      "simulation success rate 1.0, ave reward 75.0, ave turns 12.0\n",
      "Train on : 600\n",
      "- cur bellman err 0.0049, experience replay pool 600\n",
      "Simulation success rate 1.0, Ave reward 75.0, Ave turns 12.0, Best success rate 0\n",
      "Progress: 76 / 100, Success rate: 59 / 76 Avg reward: 44.76 Avg turns: 18.79\n",
      "----------------- Episode: 76 ----------------- \n",
      "Successful Dialog!\n",
      "simulation success rate 1.0, ave reward 75.0, ave turns 12.0\n",
      "simulation success rate 1.0, ave reward 75.0, ave turns 12.0\n",
      "Train on : 600\n",
      "- cur bellman err 0.0038, experience replay pool 600\n",
      "Simulation success rate 1.0, Ave reward 75.0, Ave turns 12.0, Best success rate 0\n",
      "Progress: 77 / 100, Success rate: 60 / 77 Avg reward: 45.16 Avg turns: 18.70\n",
      "----------------- Episode: 77 ----------------- \n",
      "Successful Dialog!\n",
      "simulation success rate 1.0, ave reward 75.0, ave turns 12.0\n",
      "simulation success rate 1.0, ave reward 75.0, ave turns 12.0\n",
      "Train on : 600\n",
      "- cur bellman err 0.0047, experience replay pool 600\n",
      "Simulation success rate 1.0, Ave reward 75.0, Ave turns 12.0, Best success rate 0\n",
      "Progress: 78 / 100, Success rate: 61 / 78 Avg reward: 45.54 Avg turns: 18.62\n",
      "----------------- Episode: 78 ----------------- \n",
      "Successful Dialog!\n",
      "simulation success rate 1.0, ave reward 75.0, ave turns 12.0\n",
      "simulation success rate 1.0, ave reward 75.0, ave turns 12.0\n",
      "Train on : 600\n",
      "- cur bellman err 0.0044, experience replay pool 600\n",
      "Simulation success rate 1.0, Ave reward 75.0, Ave turns 12.0, Best success rate 0\n",
      "Progress: 79 / 100, Success rate: 62 / 79 Avg reward: 45.91 Avg turns: 18.53\n",
      "----------------- Episode: 79 ----------------- \n",
      "Successful Dialog!\n",
      "simulation success rate 1.0, ave reward 75.0, ave turns 12.0\n",
      "simulation success rate 1.0, ave reward 75.0, ave turns 12.0\n",
      "Train on : 600\n",
      "- cur bellman err 0.0044, experience replay pool 600\n",
      "Simulation success rate 1.0, Ave reward 75.0, Ave turns 12.0, Best success rate 0\n",
      "Progress: 80 / 100, Success rate: 63 / 80 Avg reward: 46.27 Avg turns: 18.45\n",
      "----------------- Episode: 80 ----------------- \n",
      "Successful Dialog!\n",
      "simulation success rate 1.0, ave reward 75.0, ave turns 12.0\n",
      "simulation success rate 1.0, ave reward 75.0, ave turns 12.0\n",
      "Train on : 600\n",
      "- cur bellman err 0.0053, experience replay pool 600\n",
      "Simulation success rate 1.0, Ave reward 75.0, Ave turns 12.0, Best success rate 0\n",
      "Progress: 81 / 100, Success rate: 64 / 81 Avg reward: 46.63 Avg turns: 18.37\n",
      "----------------- Episode: 81 ----------------- \n",
      "Successful Dialog!\n",
      "simulation success rate 1.0, ave reward 75.0, ave turns 12.0\n",
      "simulation success rate 1.0, ave reward 75.0, ave turns 12.0\n",
      "Train on : 600\n",
      "- cur bellman err 0.0055, experience replay pool 600\n",
      "Simulation success rate 1.0, Ave reward 75.0, Ave turns 12.0, Best success rate 0\n",
      "Progress: 82 / 100, Success rate: 65 / 82 Avg reward: 46.98 Avg turns: 18.29\n",
      "----------------- Episode: 82 ----------------- \n",
      "Successful Dialog!\n"
     ]
    },
    {
     "name": "stdout",
     "output_type": "stream",
     "text": [
      "simulation success rate 1.0, ave reward 75.0, ave turns 12.0\n",
      "simulation success rate 1.0, ave reward 75.0, ave turns 12.0\n",
      "Train on : 600\n",
      "- cur bellman err 0.0051, experience replay pool 600\n",
      "Simulation success rate 1.0, Ave reward 75.0, Ave turns 12.0, Best success rate 0\n",
      "Progress: 83 / 100, Success rate: 66 / 83 Avg reward: 47.31 Avg turns: 18.22\n",
      "----------------- Episode: 83 ----------------- \n",
      "Successful Dialog!\n",
      "simulation success rate 1.0, ave reward 75.0, ave turns 12.0\n",
      "simulation success rate 1.0, ave reward 75.0, ave turns 12.0\n",
      "Train on : 600\n",
      "- cur bellman err 0.0042, experience replay pool 600\n",
      "Simulation success rate 1.0, Ave reward 75.0, Ave turns 12.0, Best success rate 0\n",
      "Progress: 84 / 100, Success rate: 67 / 84 Avg reward: 47.64 Avg turns: 18.14\n",
      "----------------- Episode: 84 ----------------- \n",
      "Successful Dialog!\n",
      "simulation success rate 1.0, ave reward 75.0, ave turns 12.0\n",
      "simulation success rate 1.0, ave reward 75.0, ave turns 12.0\n",
      "Train on : 600\n",
      "- cur bellman err 0.0044, experience replay pool 600\n",
      "Simulation success rate 1.0, Ave reward 75.0, Ave turns 12.0, Best success rate 0\n",
      "Progress: 85 / 100, Success rate: 68 / 85 Avg reward: 47.96 Avg turns: 18.07\n",
      "----------------- Episode: 85 ----------------- \n",
      "Successful Dialog!\n",
      "simulation success rate 1.0, ave reward 75.0, ave turns 12.0\n",
      "simulation success rate 1.0, ave reward 75.0, ave turns 12.0\n",
      "Train on : 600\n",
      "- cur bellman err 0.0051, experience replay pool 600\n",
      "Simulation success rate 1.0, Ave reward 75.0, Ave turns 12.0, Best success rate 0\n",
      "Progress: 86 / 100, Success rate: 69 / 86 Avg reward: 48.28 Avg turns: 18.00\n",
      "----------------- Episode: 86 ----------------- \n",
      "Successful Dialog!\n",
      "simulation success rate 1.0, ave reward 75.0, ave turns 12.0\n",
      "simulation success rate 1.0, ave reward 75.0, ave turns 12.0\n",
      "Train on : 600\n",
      "- cur bellman err 0.0049, experience replay pool 600\n",
      "Simulation success rate 1.0, Ave reward 75.0, Ave turns 12.0, Best success rate 0\n",
      "Progress: 87 / 100, Success rate: 70 / 87 Avg reward: 48.59 Avg turns: 17.93\n",
      "----------------- Episode: 87 ----------------- \n",
      "Successful Dialog!\n",
      "simulation success rate 1.0, ave reward 75.0, ave turns 12.0\n",
      "simulation success rate 1.0, ave reward 75.0, ave turns 12.0\n",
      "Train on : 600\n",
      "- cur bellman err 0.0053, experience replay pool 600\n",
      "Simulation success rate 1.0, Ave reward 75.0, Ave turns 12.0, Best success rate 0\n",
      "Progress: 88 / 100, Success rate: 71 / 88 Avg reward: 48.89 Avg turns: 17.86\n",
      "----------------- Episode: 88 ----------------- \n",
      "Successful Dialog!\n",
      "simulation success rate 1.0, ave reward 75.0, ave turns 12.0\n",
      "simulation success rate 1.0, ave reward 75.0, ave turns 12.0\n",
      "Train on : 600\n",
      "- cur bellman err 0.0040, experience replay pool 600\n",
      "Simulation success rate 1.0, Ave reward 75.0, Ave turns 12.0, Best success rate 0\n",
      "Progress: 89 / 100, Success rate: 72 / 89 Avg reward: 49.18 Avg turns: 17.80\n",
      "----------------- Episode: 89 ----------------- \n",
      "Successful Dialog!\n",
      "simulation success rate 1.0, ave reward 75.0, ave turns 12.0\n",
      "simulation success rate 1.0, ave reward 75.0, ave turns 12.0\n",
      "Train on : 600\n",
      "- cur bellman err 0.0054, experience replay pool 600\n",
      "Simulation success rate 1.0, Ave reward 75.0, Ave turns 12.0, Best success rate 0\n",
      "Progress: 90 / 100, Success rate: 73 / 90 Avg reward: 49.47 Avg turns: 17.73\n",
      "----------------- Episode: 90 ----------------- \n",
      "Successful Dialog!\n",
      "simulation success rate 1.0, ave reward 75.0, ave turns 12.0\n",
      "simulation success rate 1.0, ave reward 75.0, ave turns 12.0\n",
      "Train on : 600\n",
      "- cur bellman err 0.0054, experience replay pool 600\n",
      "Simulation success rate 1.0, Ave reward 75.0, Ave turns 12.0, Best success rate 0\n",
      "Progress: 91 / 100, Success rate: 74 / 91 Avg reward: 49.75 Avg turns: 17.67\n",
      "----------------- Episode: 91 ----------------- \n",
      "Successful Dialog!\n",
      "simulation success rate 1.0, ave reward 75.0, ave turns 12.0\n",
      "simulation success rate 1.0, ave reward 75.0, ave turns 12.0\n",
      "Train on : 600\n",
      "- cur bellman err 0.0046, experience replay pool 600\n",
      "Simulation success rate 1.0, Ave reward 75.0, Ave turns 12.0, Best success rate 0\n",
      "Progress: 92 / 100, Success rate: 75 / 92 Avg reward: 50.02 Avg turns: 17.61\n",
      "----------------- Episode: 92 ----------------- \n",
      "Successful Dialog!\n",
      "simulation success rate 1.0, ave reward 75.0, ave turns 12.0\n",
      "simulation success rate 1.0, ave reward 75.0, ave turns 12.0\n",
      "Train on : 600\n",
      "- cur bellman err 0.0051, experience replay pool 600\n",
      "Simulation success rate 1.0, Ave reward 75.0, Ave turns 12.0, Best success rate 0\n",
      "Progress: 93 / 100, Success rate: 76 / 93 Avg reward: 50.29 Avg turns: 17.55\n",
      "----------------- Episode: 93 ----------------- \n",
      "Successful Dialog!\n",
      "simulation success rate 1.0, ave reward 75.0, ave turns 12.0\n",
      "simulation success rate 1.0, ave reward 75.0, ave turns 12.0\n",
      "Train on : 600\n",
      "- cur bellman err 0.0055, experience replay pool 600\n",
      "Simulation success rate 1.0, Ave reward 75.0, Ave turns 12.0, Best success rate 0\n",
      "Progress: 94 / 100, Success rate: 77 / 94 Avg reward: 50.55 Avg turns: 17.49\n",
      "----------------- Episode: 94 ----------------- \n",
      "Successful Dialog!\n",
      "simulation success rate 1.0, ave reward 75.0, ave turns 12.0\n",
      "simulation success rate 1.0, ave reward 75.0, ave turns 12.0\n",
      "Train on : 600\n",
      "- cur bellman err 0.0044, experience replay pool 600\n",
      "Simulation success rate 1.0, Ave reward 75.0, Ave turns 12.0, Best success rate 0\n",
      "Progress: 95 / 100, Success rate: 78 / 95 Avg reward: 50.81 Avg turns: 17.43\n",
      "----------------- Episode: 95 ----------------- \n",
      "Successful Dialog!\n",
      "simulation success rate 1.0, ave reward 75.0, ave turns 12.0\n",
      "simulation success rate 1.0, ave reward 75.0, ave turns 12.0\n",
      "Train on : 600\n",
      "- cur bellman err 0.0039, experience replay pool 600\n",
      "Simulation success rate 1.0, Ave reward 75.0, Ave turns 12.0, Best success rate 0\n",
      "Progress: 96 / 100, Success rate: 79 / 96 Avg reward: 51.06 Avg turns: 17.38\n",
      "----------------- Episode: 96 ----------------- \n",
      "Successful Dialog!\n",
      "simulation success rate 1.0, ave reward 75.0, ave turns 12.0\n",
      "simulation success rate 1.0, ave reward 75.0, ave turns 12.0\n",
      "Train on : 600\n",
      "- cur bellman err 0.0052, experience replay pool 600\n",
      "Simulation success rate 1.0, Ave reward 75.0, Ave turns 12.0, Best success rate 0\n",
      "Progress: 97 / 100, Success rate: 80 / 97 Avg reward: 51.31 Avg turns: 17.32\n",
      "----------------- Episode: 97 ----------------- \n",
      "Successful Dialog!\n",
      "simulation success rate 1.0, ave reward 75.0, ave turns 12.0\n",
      "simulation success rate 1.0, ave reward 75.0, ave turns 12.0\n",
      "Train on : 600\n",
      "- cur bellman err 0.0054, experience replay pool 600\n",
      "Simulation success rate 1.0, Ave reward 75.0, Ave turns 12.0, Best success rate 0\n",
      "Progress: 98 / 100, Success rate: 81 / 98 Avg reward: 51.55 Avg turns: 17.27\n",
      "----------------- Episode: 98 ----------------- \n",
      "Successful Dialog!\n",
      "simulation success rate 1.0, ave reward 75.0, ave turns 12.0\n",
      "simulation success rate 1.0, ave reward 75.0, ave turns 12.0\n",
      "Train on : 600\n",
      "- cur bellman err 0.0052, experience replay pool 600\n",
      "Simulation success rate 1.0, Ave reward 75.0, Ave turns 12.0, Best success rate 0\n",
      "Progress: 99 / 100, Success rate: 82 / 99 Avg reward: 51.79 Avg turns: 17.21\n",
      "----------------- Episode: 99 ----------------- \n",
      "Successful Dialog!\n",
      "simulation success rate 1.0, ave reward 75.0, ave turns 12.0\n",
      "simulation success rate 1.0, ave reward 75.0, ave turns 12.0\n",
      "Train on : 600\n",
      "- cur bellman err 0.0050, experience replay pool 600\n",
      "Simulation success rate 1.0, Ave reward 75.0, Ave turns 12.0, Best success rate 0\n",
      "Progress: 100 / 100, Success rate: 83 / 100 Avg reward: 52.02 Avg turns: 17.16\n",
      "Success rate: 83 / 100 Avg reward: 52.02 Avg turns: 17.16\n"
     ]
    }
   ],
   "source": [
    "performance_records = {}\n",
    "performance_records['success_rate'] = {}\n",
    "performance_records['ave_turns'] = {}\n",
    "performance_records['ave_reward'] = {}\n",
    "\n",
    "best_model = {}\n",
    "best_res = {'success_rate': 0, 'ave_reward':float('-inf'), 'ave_turns': float('inf'), 'epoch':0}\n",
    "\n",
    "curve = []\n",
    "losses = []\n",
    "agent.warm_start = 1\n",
    "run_episodes(100, status)"
   ]
  },
  {
   "cell_type": "code",
   "execution_count": 20,
   "metadata": {},
   "outputs": [
    {
     "data": {
      "image/png": "[encoded data removed]",
      "text/plain": [
       "<matplotlib.figure.Figure at 0x7f52e8050b70>"
      ]
     },
     "metadata": {},
     "output_type": "display_data"
    }
   ],
   "source": [
    "draw_learning_curve(curve)"
   ]
  },
  {
   "cell_type": "code",
   "execution_count": 21,
   "metadata": {},
   "outputs": [
    {
     "data": {
      "image/png": "[encoded data removed]",
      "text/plain": [
       "<matplotlib.figure.Figure at 0x7f52d2ee6898>"
      ]
     },
     "metadata": {},
     "output_type": "display_data"
    }
   ],
   "source": [
    "draw_loss_curve(losses)"
   ]
  },
  {
   "cell_type": "code",
   "execution_count": 22,
   "metadata": {},
   "outputs": [
    {
     "data": {
      "image/png": "[encoded data removed]",
      "text/plain": [
       "<matplotlib.figure.Figure at 0x7f52d23b1470>"
      ]
     },
     "metadata": {},
     "output_type": "display_data"
    }
   ],
   "source": [
    "draw_loss_curve(losses[-100:])"
   ]
  },
  {
   "cell_type": "code",
   "execution_count": 23,
   "metadata": {
    "collapsed": true
   },
   "outputs": [],
   "source": [
    "saver = tf.train.Saver()"
   ]
  },
  {
   "cell_type": "code",
   "execution_count": 24,
   "metadata": {},
   "outputs": [
    {
     "data": {
      "text/plain": [
       "'trained_model/flight_100/model.ckpt'"
      ]
     },
     "execution_count": 24,
     "metadata": {},
     "output_type": "execute_result"
    }
   ],
   "source": [
    "saver.save(agent.model.sess, \"trained_model/flight_100/model.ckpt\")  "
   ]
  },
  {
   "cell_type": "code",
   "execution_count": null,
   "metadata": {
    "collapsed": true
   },
   "outputs": [],
   "source": []
  },
  {
   "cell_type": "code",
   "execution_count": null,
   "metadata": {
    "collapsed": true
   },
   "outputs": [],
   "source": []
  },
  {
   "cell_type": "code",
   "execution_count": null,
   "metadata": {
    "collapsed": true
   },
   "outputs": [],
   "source": []
  },
  {
   "cell_type": "code",
   "execution_count": null,
   "metadata": {
    "collapsed": true
   },
   "outputs": [],
   "source": []
  },
  {
   "cell_type": "code",
   "execution_count": null,
   "metadata": {
    "collapsed": true
   },
   "outputs": [],
   "source": []
  },
  {
   "cell_type": "code",
   "execution_count": null,
   "metadata": {
    "collapsed": true
   },
   "outputs": [],
   "source": []
  },
  {
   "cell_type": "code",
   "execution_count": null,
   "metadata": {
    "collapsed": true
   },
   "outputs": [],
   "source": []
  },
  {
   "cell_type": "code",
   "execution_count": null,
   "metadata": {
    "collapsed": true
   },
   "outputs": [],
   "source": []
  },
  {
   "cell_type": "code",
   "execution_count": null,
   "metadata": {
    "collapsed": true
   },
   "outputs": [],
   "source": []
  },
  {
   "cell_type": "code",
   "execution_count": null,
   "metadata": {
    "collapsed": true
   },
   "outputs": [],
   "source": []
  },
  {
   "cell_type": "code",
   "execution_count": null,
   "metadata": {
    "collapsed": true
   },
   "outputs": [],
   "source": []
  },
  {
   "cell_type": "code",
   "execution_count": null,
   "metadata": {
    "collapsed": true
   },
   "outputs": [],
   "source": []
  },
  {
   "cell_type": "code",
   "execution_count": null,
   "metadata": {
    "collapsed": true
   },
   "outputs": [],
   "source": []
  }
 ],
 "metadata": {
  "celltoolbar": "Initialization Cell",
  "kernelspec": {
   "display_name": "Python 3",
   "language": "python",
   "name": "python3"
  },
  "language_info": {
   "codemirror_mode": {
    "name": "ipython",
    "version": 3
   },
   "file_extension": ".py",
   "mimetype": "text/x-python",
   "name": "python",
   "nbconvert_exporter": "python",
   "pygments_lexer": "ipython3",
   "version": "3.5.2"
  },
  "latex_envs": {
   "LaTeX_envs_menu_present": true,
   "autocomplete": true,
   "bibliofile": "biblio.bib",
   "cite_by": "apalike",
   "current_citInitial": 1,
   "eqLabelWithNumbers": true,
   "eqNumInitial": 1,
   "hotkeys": {
    "equation": "Ctrl-E",
    "itemize": "Ctrl-I"
   },
   "labels_anchors": false,
   "latex_user_defs": false,
   "report_style_numbering": false,
   "user_envs_cfg": false
  },
  "nbTranslate": {
   "displayLangs": [
    "*"
   ],
   "hotkey": "alt-t",
   "langInMainMenu": true,
   "sourceLang": "en",
   "targetLang": "fr",
   "useGoogleTranslate": true
  },
  "varInspector": {
   "cols": {
    "lenName": 16,
    "lenType": 16,
    "lenVar": 40
   },
   "kernels_config": {
    "python": {
     "delete_cmd_postfix": "",
     "delete_cmd_prefix": "del ",
     "library": "var_list.py",
     "varRefreshCmd": "print(var_dic_list())"
    },
    "r": {
     "delete_cmd_postfix": ") ",
     "delete_cmd_prefix": "rm(",
     "library": "var_list.r",
     "varRefreshCmd": "cat(var_dic_list()) "
    }
   },
   "types_to_exclude": [
    "module",
    "function",
    "builtin_function_or_method",
    "instance",
    "_Feature"
   ],
   "window_display": false
  }
 },
 "nbformat": 4,
 "nbformat_minor": 2
}
