{
 "cells": [
  {
   "cell_type": "markdown",
   "metadata": {},
   "source": [
    "# DQN\n"
   ]
  },
  {
   "cell_type": "markdown",
   "metadata": {},
   "source": [
    "### Training of DQN in Tensorflow\n",
    "--------------------------"
   ]
  },
  {
   "cell_type": "code",
   "execution_count": 1,
   "metadata": {
    "code_folding": [],
    "init_cell": true
   },
   "outputs": [
    {
     "name": "stderr",
     "output_type": "stream",
     "text": [
      "/usr/local/lib/python3.5/dist-packages/matplotlib/__init__.py:1401: UserWarning:  This call to matplotlib.use() has no effect\n",
      "because the backend has already been chosen;\n",
      "matplotlib.use() must be called *before* pylab, matplotlib.pyplot,\n",
      "or matplotlib.backends is imported for the first time.\n",
      "\n",
      "  warnings.warn(_use_error_msg)\n"
     ]
    }
   ],
   "source": [
    "#\n",
    "from util import *\n",
    "from dlg_manager import *\n",
    "from alg import *\n",
    "from agent import *\n",
    "from user_sim import *\n",
    "from state_tracker import *\n",
    "import random\n",
    "from config import *\n",
    "import matplotlib.pyplot as plt\n",
    "import numpy as np\n",
    "from nlg import *\n",
    "from six.moves import cPickle as pickle\n",
    "import IPython\n",
    "import copy, argparse, json\n",
    "\n",
    "%matplotlib inline\n",
    "%load_ext autoreload\n",
    "%autoreload 2"
   ]
  },
  {
   "cell_type": "markdown",
   "metadata": {},
   "source": [
    "# Load Data\n",
    "-------------------"
   ]
  },
  {
   "cell_type": "markdown",
   "metadata": {},
   "source": [
    "#### Action Set"
   ]
  },
  {
   "cell_type": "code",
   "execution_count": 2,
   "metadata": {
    "code_folding": [],
    "init_cell": true
   },
   "outputs": [
    {
     "name": "stdout",
     "output_type": "stream",
     "text": [
      "keys = 11\n",
      "Sample of dict:\n",
      "- welcome: 8\n",
      "- confirm_question: 2\n",
      "- request: 0\n",
      "- inform: 1\n",
      "- not_sure: 10\n"
     ]
    }
   ],
   "source": [
    "#\n",
    "act_set_path = './data/dia_acts.txt'\n",
    "act_set = text_to_dict(act_set_path)\n",
    "sample_dict(act_set)"
   ]
  },
  {
   "cell_type": "markdown",
   "metadata": {},
   "source": [
    "### slot set"
   ]
  },
  {
   "cell_type": "code",
   "execution_count": 3,
   "metadata": {
    "code_folding": [],
    "init_cell": true
   },
   "outputs": [
    {
     "name": "stdout",
     "output_type": "stream",
     "text": [
      "keys = 7\n",
      "Sample of dict:\n",
      "- destination1: 0\n",
      "- taskcomplete: 6\n",
      "- flightDate2: 1\n",
      "- travelers: 4\n",
      "- ticket: 5\n"
     ]
    }
   ],
   "source": [
    "#\n",
    "slots_set_path = \"./parser/slot_set.txt\"\n",
    "slot_set = text_to_dict(slots_set_path)\n",
    "sample_dict(slot_set)"
   ]
  },
  {
   "cell_type": "markdown",
   "metadata": {},
   "source": [
    "### flight dic: info about flights"
   ]
  },
  {
   "cell_type": "code",
   "execution_count": 4,
   "metadata": {
    "code_folding": [],
    "init_cell": true
   },
   "outputs": [
    {
     "name": "stdout",
     "output_type": "stream",
     "text": [
      "keys = 1000\n",
      "Sample of dict:\n",
      "- 995: {'travelers': '3', 'destination1': 'GRU', 'flightDate1': '1', 'flightDate2': '6', 'origin1': 'BOM'}\n"
     ]
    }
   ],
   "source": [
    "#\n",
    "flight_kb_path = \"./parser/fkb.json.p\"\n",
    "flight_kb = pickle.load(open(flight_kb_path, 'rb'), encoding=\"latin\")\n",
    "sample_dict(flight_kb, sample_size=1)"
   ]
  },
  {
   "cell_type": "markdown",
   "metadata": {},
   "source": [
    "# Language Generator (pretrained)\n",
    "-------------------"
   ]
  },
  {
   "cell_type": "code",
   "execution_count": 5,
   "metadata": {
    "code_folding": [],
    "collapsed": true
   },
   "outputs": [],
   "source": [
    "#\n",
    "nlg_model_path = './data/trained_model/nlg/lstm_tanh_relu_[1468202263.38]_2_0.610.p'\n",
    "nlg_model = Nlg()\n",
    "nlg_model.load_nlg_model(nlg_model_path)\n",
    "diaact_nl_pairs_path = \"./parser/flight.nl.pairs.json\"\n",
    "nlg_model.load_predefine_act_nl_pairs(diaact_nl_pairs_path)"
   ]
  },
  {
   "cell_type": "markdown",
   "metadata": {},
   "source": [
    "## Model Params"
   ]
  },
  {
   "cell_type": "code",
   "execution_count": 6,
   "metadata": {
    "code_folding": [],
    "init_cell": true
   },
   "outputs": [
    {
     "name": "stdout",
     "output_type": "stream",
     "text": [
      "save_check_point: 20\n",
      "eva_metric: 2\n",
      "check_point: 20\n",
      "model: lstm_tanh\n",
      "feed_recurrence: 0\n",
      "data_path: .\\data\\movieMultiLine.Annot.Corrected.Final.v3.csv\n",
      "trained_model_path: None\n",
      "smooth_eps: 1e-08\n",
      "pretrained_model_path: None\n",
      "slot_set: data/slot_set.txt\n",
      "grad_clip: -0.0001\n",
      "momentum: 0.1\n",
      "batch_size: 16\n",
      "init_rnn: 0\n",
      "decay_rate: 0.999\n",
      "cv_fold: 6\n",
      "max_epochs: 200\n",
      "slot_rep: 1\n",
      "sdgtype: rmsprop\n",
      "activation_func: relu\n",
      "reg_cost: 0.001\n",
      "split_method: 1\n",
      "learning_rate: 0.001\n",
      "valid_test: 0\n",
      "hidden_size: 100\n",
      "dia_slot_val: 2\n",
      "write_model_dir: .\\checkpoints\\template\\07102016\\\n",
      "act_set: data/dia_acts.txt\n"
     ]
    }
   ],
   "source": [
    "#\n",
    "model_params = pickle.load(open(nlg_model_path, 'rb'), encoding='latin1')\n",
    "params = model_params['params']\n",
    "params['batch_size'] = 16\n",
    "batch_size = 16\n",
    "save_check_point = 20\n",
    "params['trained_model_path'] = None\n",
    "for k in params:\n",
    "    print(\"{}: {}\".format(k, params[k]))"
   ]
  },
  {
   "cell_type": "markdown",
   "metadata": {},
   "source": [
    "# User Simulator\n",
    "-------------------"
   ]
  },
  {
   "cell_type": "markdown",
   "metadata": {},
   "source": [
    "### goal"
   ]
  },
  {
   "cell_type": "code",
   "execution_count": 7,
   "metadata": {
    "code_folding": [],
    "init_cell": true
   },
   "outputs": [
    {
     "name": "stdout",
     "output_type": "stream",
     "text": [
      "goals length: 128\n",
      "Sample the first goal: \n",
      "{'diaact': 'request', 'inform_slots': {'travelers': '4', 'destination1': 'MCO', 'flightDate1': '2', 'flightDate2': '3', 'origin1': 'MUC'}, 'request_slots': {}}\n"
     ]
    }
   ],
   "source": [
    "#\n",
    "goal_file_path = './parser/fg.json.p'\n",
    "all_goal_set = pickle.load(open(goal_file_path, 'rb'), encoding=\"latin\")\n",
    "print(\"goals length: {}\".format(len(all_goal_set)))\n",
    "print(\"Sample the first goal: \\n{}\".format(all_goal_set[0]))"
   ]
  },
  {
   "cell_type": "markdown",
   "metadata": {},
   "source": [
    "### Split goal set"
   ]
  },
  {
   "cell_type": "code",
   "execution_count": 8,
   "metadata": {
    "code_folding": []
   },
   "outputs": [
    {
     "name": "stdout",
     "output_type": "stream",
     "text": [
      "102\n",
      "0\n",
      "26\n",
      "128\n"
     ]
    }
   ],
   "source": [
    "# split goal set\n",
    "split_fold = params.get('split_fold', 5)\n",
    "goal_set = {'train':[], 'valid':[], 'test':[], 'all':[]}\n",
    "for u_goal_id, u_goal in enumerate(all_goal_set):\n",
    "    if u_goal_id % split_fold == 1: goal_set['test'].append(u_goal)\n",
    "    else: goal_set['train'].append(u_goal)\n",
    "    goal_set['all'].append(u_goal)\n",
    "print(len(goal_set['train']))\n",
    "print(len(goal_set['valid']))\n",
    "print(len(goal_set['test']))\n",
    "print(len(goal_set['all']))"
   ]
  },
  {
   "cell_type": "markdown",
   "metadata": {},
   "source": [
    "### user simulator param"
   ]
  },
  {
   "cell_type": "code",
   "execution_count": 9,
   "metadata": {
    "code_folding": [],
    "collapsed": true
   },
   "outputs": [],
   "source": [
    "#\n",
    "usersim_params = {}\n",
    "usersim_params['max_turn'] = 40\n",
    "usersim_params['slot_err_prob'] = 0.00\n",
    "# slot_err_mode: 0 for slot_val only; 1 for three errs\n",
    "usersim_params['slot_err_mode'] = 0\n",
    "usersim_params['intent_err_prob'] = 0\n",
    "# run_mode: 0 for default NL; 1 for dia_act; 2 for both\n",
    "usersim_params['run_mode'] = 0\n",
    "# 0 for dia_act level; 1 for NL level\n",
    "usersim_params['act_level'] = 0\n",
    "# train/test/all; default is all\n",
    "usersim_params['learn_phase'] = 'all'"
   ]
  },
  {
   "cell_type": "markdown",
   "metadata": {},
   "source": [
    "### a flights dictionary for user simulator - slot:possible values"
   ]
  },
  {
   "cell_type": "code",
   "execution_count": 10,
   "metadata": {
    "code_folding": []
   },
   "outputs": [
    {
     "name": "stdout",
     "output_type": "stream",
     "text": [
      "keys = 20\n",
      "Sample of dict:\n",
      "- other: ['not available', 'movie assistant number', 'movie booking service', 'search theater', 'cannot book', 'servicing tickets', 'rotten tomatoes', 'pub serves good burgers', 'serves seafood', 'date', 'scary', 'restaurant', 'beer', 'mexican restaurant', 'best restaurant', 'japanese restaurant', \"that's odd\", 'crossed', 'little late', 'pub', 'number 1', 'switch cities', 'name', 'unable to book movies', 'I cannot understand your reply', 'purchase tickets', 'look up date', 'increased functionality', 'functionality', 'Master User', 'master user', 'two', 'another preference', 'no', 'check again', 'new release', 'new releases', 'place that serves seafood', 'favorite part', 'worth watching', 'subtitiles', 'subtitles', 'many many theaters', 'different selection of movies', 'search for a theater', 'latest showing', 'Italian restaurant', 'restaurant booking service', 'online ticketing', \"I can't remember\", \"can't think of\", 'search theaters', 'cheapest', 'do not know', 'date night', 'disney', 'search by movie or movie theater', 'indian restaurant', ' movie purchasing service', 'movie ticket buying service', 'early in the day', 'safeco field', 'many', 'pizza place', 'restaurant reservations', 'pizza restaurant', 'restaurant service', 'laughable', 'english and chinese subtitles', 'matinee', ' matinee', 'good restaurant', 'currently', 'george on the riverwak', 'purchase', 'odd', 'got crossed', '29 movies', 'I can bring my cat to', 'I can order beer in', \"don't know\", 'closed', 'serve alcohol', \"I don't know\", \"I'm not from around here\", 'restaurants', 'book movie tickets', 'before dinner']\n"
     ]
    }
   ],
   "source": [
    "#\n",
    "flight_dict_path = './parser/dicts.v3.p'\n",
    "flight_dictionary = pickle.load(open(flight_dict_path, 'rb'), encoding=\"latin\")\n",
    "samples = sample_dict(flight_dictionary, sample_size=1)"
   ]
  },
  {
   "cell_type": "markdown",
   "metadata": {},
   "source": [
    "###  Create a User"
   ]
  },
  {
   "cell_type": "code",
   "execution_count": 11,
   "metadata": {
    "collapsed": true
   },
   "outputs": [],
   "source": [
    "user = RuleSimulator(flight_dictionary, act_set, slot_set, goal_set, usersim_params)\n",
    "# user = AlternateSimulator(flight_dictionary, act_set, slot_set, goal_set, usersim_params)\n",
    "user.set_nlg_model(nlg_model)"
   ]
  },
  {
   "cell_type": "markdown",
   "metadata": {},
   "source": [
    "# Agent\n",
    "-------------------"
   ]
  },
  {
   "cell_type": "markdown",
   "metadata": {},
   "source": [
    "## param"
   ]
  },
  {
   "cell_type": "code",
   "execution_count": 12,
   "metadata": {
    "code_folding": []
   },
   "outputs": [
    {
     "name": "stdout",
     "output_type": "stream",
     "text": [
      "pretrained model path = None\n"
     ]
    }
   ],
   "source": [
    "#\n",
    "agent_params = {}\n",
    "# maximum length of each dialog (default=20, 0=no maximum length)\n",
    "agent_params['max_turn'] = 40\n",
    "# Epsilon to determine stochasticity of epsilon-greedy agent policies\n",
    "agent_params['epsilon'] = 0\n",
    "# run_mode: 0 for default NL; 1 for dia_act; 2 for both\n",
    "agent_params['agent_run_mode'] = 3\n",
    "# 0 for dia_act level; 1 for NL level\n",
    "agent_params['agent_act_level'] = 0\n",
    "\n",
    "############### DQN #################\n",
    "# the size for experience replay\n",
    "agent_params['experience_replay_pool_size'] = 10000\n",
    "# # the hidden size for DQN\n",
    "agent_params['dqn_hidden_size'] = 60\n",
    "agent_params['batch_size'] = 16\n",
    "# # gamma for DQN\n",
    "agent_params['gamma'] = 0.9\n",
    "# # predict model for DQN\n",
    "agent_params['predict_mode'] = True\n",
    "agent_params['trained_model_path'] = params['pretrained_model_path']\n",
    "#####################################\n",
    "print(\"pretrained model path = {}\".format(agent_params['trained_model_path']))\n",
    "# 0: no warm start; 1: warm start for training\n",
    "agent_params['warm_start'] = 1\n",
    "# run_mode: 0 for NL; 1 for dia_act\n",
    "agent_params['cmd_input_mode'] = 0\n",
    "\n",
    "success_rate_threshold = 0.3"
   ]
  },
  {
   "cell_type": "markdown",
   "metadata": {},
   "source": [
    "### create an agent"
   ]
  },
  {
   "cell_type": "code",
   "execution_count": 13,
   "metadata": {
    "code_folding": [],
    "scrolled": false
   },
   "outputs": [
    {
     "name": "stdout",
     "output_type": "stream",
     "text": [
      "80\n"
     ]
    }
   ],
   "source": [
    "# agent = RequestBasicsAgent(movie_kb, act_set, slot_set, agent_params)\n",
    "# agent = AgentDQN(movie_kb, act_set, slot_set, agent_params)\n",
    "# agt = 9\n",
    "agt = 10\n",
    "agent_params['batch_size']  = batch_size\n",
    "if agt == 9:\n",
    "    agent = AgentDQN(flight_kb, act_set, slot_set, agent_params)\n",
    "else:\n",
    "    agent = DQNAgentTF(flight_kb, act_set, slot_set, agent_params)\n",
    "\n",
    "agent.set_nlg_model(nlg_model)"
   ]
  },
  {
   "cell_type": "markdown",
   "metadata": {},
   "source": [
    "# Dialog Manager\n",
    "-------------------"
   ]
  },
  {
   "cell_type": "code",
   "execution_count": 14,
   "metadata": {
    "collapsed": true
   },
   "outputs": [],
   "source": [
    "dlg_manager = DlgManager(agent, user, act_set, slot_set, flight_kb)"
   ]
  },
  {
   "cell_type": "markdown",
   "metadata": {},
   "source": [
    "## Running Episodes\n",
    "-------------------"
   ]
  },
  {
   "cell_type": "markdown",
   "metadata": {},
   "source": [
    "### Param"
   ]
  },
  {
   "cell_type": "code",
   "execution_count": 15,
   "metadata": {
    "code_folding": [],
    "collapsed": true
   },
   "outputs": [],
   "source": [
    "#\n",
    "status = {'successes': 0, 'count': 0, 'cumulative_reward': 0}\n",
    "# the size of validation set\n",
    "simulation_epoch_size = 100\n",
    "# the number of epochs for warm start \n",
    "warm_start_epochs = 200\n",
    "# num_episodes = 60"
   ]
  },
  {
   "cell_type": "code",
   "execution_count": 16,
   "metadata": {
    "collapsed": true
   },
   "outputs": [],
   "source": [
    "\"\"\" Warm_Start Simulation (by Rule Policy) \"\"\"\n",
    "def warm_start_simulation():\n",
    "    successes = 0\n",
    "    cumulative_reward = 0\n",
    "    cumulative_turns = 0\n",
    "    \n",
    "    res = {}\n",
    "    for episode in range(warm_start_epochs):\n",
    "        dlg_manager.init_episode()\n",
    "        episode_over = False\n",
    "        while(not episode_over):\n",
    "            episode_over, reward = dlg_manager.step()\n",
    "            cumulative_reward += reward\n",
    "            if episode_over:\n",
    "                if reward > 0: \n",
    "                    successes += 1\n",
    "#                     print (\"warm_start simulation episode %s: Success\" % (episode))\n",
    "#                 else: print (\"warm_start simulation episode %s: Fail\" % (episode))\n",
    "                cumulative_turns += dlg_manager.state_tracker.turn_count\n",
    "        \n",
    "        if len(agent.experience_replay_pool) >= agent.experience_replay_pool_size:\n",
    "            break\n",
    "    \n",
    "    agent.warm_start = 2\n",
    "    res['success_rate'] = float(successes)/simulation_epoch_size\n",
    "    res['ave_reward'] = float(cumulative_reward)/simulation_epoch_size\n",
    "    res['ave_turns'] = float(cumulative_turns)/simulation_epoch_size\n",
    "    print (\"Warm_Start %s epochs, success rate %s, ave reward %s, ave turns %s\" % (episode+1, res['success_rate'], res['ave_reward'], res['ave_turns']))\n",
    "    print (\"Current experience replay buffer size %s\" % (len(agent.experience_replay_pool)))"
   ]
  },
  {
   "cell_type": "code",
   "execution_count": 17,
   "metadata": {
    "collapsed": true
   },
   "outputs": [],
   "source": [
    "def simulation_epoch(simulation_epoch_size):\n",
    "    successes = 0\n",
    "    cumulative_reward = 0\n",
    "    cumulative_turns = 0\n",
    "    \n",
    "    res = {}\n",
    "    for episode in range(simulation_epoch_size):\n",
    "        dlg_manager.init_episode()\n",
    "        episode_over = False\n",
    "        while(not episode_over):\n",
    "            episode_over, reward = dlg_manager.step()\n",
    "            cumulative_reward += reward\n",
    "            if episode_over:\n",
    "                if reward > 0: \n",
    "                    successes += 1\n",
    "#                     print (\"simulation episode %s: Success\" % (episode))\n",
    "#                 else: print (\"simulation episode %s: Fail\" % (episode))\n",
    "                cumulative_turns += dlg_manager.state_tracker.turn_count\n",
    "    \n",
    "    res['success_rate'] = float(successes)/simulation_epoch_size\n",
    "    res['ave_reward'] = float(cumulative_reward)/simulation_epoch_size\n",
    "    res['ave_turns'] = float(cumulative_turns)/simulation_epoch_size\n",
    "    print(\"simulation success rate %s, ave reward %s, ave turns %s\" % (res['success_rate'], res['ave_reward'], res['ave_turns']))\n",
    "    return res"
   ]
  },
  {
   "cell_type": "code",
   "execution_count": 18,
   "metadata": {
    "code_folding": [],
    "collapsed": true,
    "init_cell": true
   },
   "outputs": [],
   "source": [
    "def run_episodes(count, status):\n",
    "    successes = 0\n",
    "    cumulative_reward = 0\n",
    "    cumulative_turns = 0\n",
    "    \n",
    "    \n",
    "    if agt >= 9 and params['trained_model_path'] == None and agent.warm_start == 1:\n",
    "        print ('warm_start starting ...')\n",
    "        warm_start_simulation()\n",
    "        print ('warm_start finished, start RL training ...')\n",
    "    \n",
    "    for episode in range(count):\n",
    "        print (\"----------------- Episode: %s ----------------- \" % (episode))\n",
    "        dlg_manager.init_episode()\n",
    "        episode_over = False\n",
    "        \n",
    "        while(not episode_over):\n",
    "            episode_over, reward = dlg_manager.step()\n",
    "            cumulative_reward += reward\n",
    "                \n",
    "            if episode_over:\n",
    "                if reward > 0:\n",
    "                    print (\"Successful Dialog!\")\n",
    "                    successes += 1\n",
    "#                 else: print (\"Failed Dialog!\")\n",
    "                \n",
    "                cumulative_turns += dlg_manager.state_tracker.turn_count\n",
    "        \n",
    "        # simulation\n",
    "        if agt >= 9 and params['trained_model_path'] == None:\n",
    "            agent.predict_mode = True\n",
    "            simulation_res = simulation_epoch(simulation_epoch_size)\n",
    "            \n",
    "            performance_records['success_rate'][episode] = simulation_res['success_rate']\n",
    "            performance_records['ave_turns'][episode] = simulation_res['ave_turns']\n",
    "            performance_records['ave_reward'][episode] = simulation_res['ave_reward']\n",
    "            \n",
    "            if simulation_res['success_rate'] >= best_res['success_rate']:\n",
    "                if simulation_res['success_rate'] >= success_rate_threshold: # threshold = 0.30\n",
    "                    agent.experience_replay_pool = [] \n",
    "                    simulation_epoch(simulation_epoch_size)\n",
    "                \n",
    "#             if simulation_res['success_rate'] > best_res['success_rate']:\n",
    "#                 best_model['model'] = copy.deepcopy(agent)\n",
    "#                 best_res['success_rate'] = simulation_res['success_rate']\n",
    "#                 best_res['ave_reward'] = simulation_res['ave_reward']\n",
    "#                 best_res['ave_turns'] = simulation_res['ave_turns']\n",
    "#                 best_res['epoch'] = episode\n",
    "                \n",
    "            loss = agent.train(batch_size, 1)\n",
    "            if agt == 10: \n",
    "                agent.model.update_target_params()\n",
    "            else: \n",
    "                agent.clone_dqn = copy.deepcopy(agent.dqn)\n",
    "                \n",
    "            agent.predict_mode = False\n",
    "            \n",
    "            print (\"Simulation success rate %s, Ave reward %s, Ave turns %s, Best success rate %s\" % (performance_records['success_rate'][episode], performance_records['ave_reward'][episode], performance_records['ave_turns'][episode], best_res['success_rate']))\n",
    "#             if episode % save_check_point == 0 and params['trained_model_path'] == None: # save the model every 10 episodes\n",
    "#                 save_model(params['write_model_dir'], agt, best_res['success_rate'], best_model['model'], best_res['epoch'], episode)\n",
    "#                 save_performance_records(params['write_model_dir'], agt, performance_records)\n",
    "        curve.append(successes/(episode+1))\n",
    "        losses.append(loss)\n",
    "        print(\"Progress: %s / %s, Success rate: %s / %s Avg reward: %.2f Avg turns: %.2f\" % (episode+1, count, successes, episode+1, float(cumulative_reward)/(episode+1), float(cumulative_turns)/(episode+1)))\n",
    "    print(\"Success rate: %s / %s Avg reward: %.2f Avg turns: %.2f\" % (successes, count, float(cumulative_reward)/count, float(cumulative_turns)/count))\n",
    "    status['successes'] += successes\n",
    "    status['count'] += count\n",
    "    \n",
    "#     if agt == 9 and params['traained_model_path'] == None:\n",
    "#         save_model(params['write_model_dir'], agt, float(successes)/count, best_model['model'], best_res['epoch'], count)\n",
    "#         save_performance_records(params['write_model_dir'], agt, performance_records)\n"
   ]
  },
  {
   "cell_type": "markdown",
   "metadata": {},
   "source": [
    "## Run a Warm Start"
   ]
  },
  {
   "cell_type": "markdown",
   "metadata": {},
   "source": [
    "# Train & Eval\n",
    "-------------------"
   ]
  },
  {
   "cell_type": "code",
   "execution_count": 19,
   "metadata": {
    "scrolled": false
   },
   "outputs": [
    {
     "name": "stdout",
     "output_type": "stream",
     "text": [
      "warm_start starting ...\n",
      "Warm_Start 200 epochs, success rate 2.0, ave reward 148.0, ave turns 28.0\n",
      "Current experience replay buffer size 1400\n",
      "warm_start finished, start RL training ...\n",
      "----------------- Episode: 0 ----------------- \n",
      "simulation success rate 0.0, ave reward -60.0, ave turns 42.0\n",
      "Train on : 3521\n",
      "- cur bellman err 20.4383, experience replay pool 3521\n",
      "Simulation success rate 0.0, Ave reward -60.0, Ave turns 42.0, Best success rate 0\n",
      "Progress: 1 / 800, Success rate: 0 / 1 Avg reward: -60.00 Avg turns: 42.00\n",
      "----------------- Episode: 1 ----------------- \n",
      "simulation success rate 0.0, ave reward -40.0, ave turns 2.0\n",
      "Train on : 3621\n",
      "- cur bellman err 20.2859, experience replay pool 3621\n",
      "Simulation success rate 0.0, Ave reward -40.0, Ave turns 2.0, Best success rate 0\n",
      "Progress: 2 / 800, Success rate: 0 / 2 Avg reward: -50.00 Avg turns: 22.00\n",
      "----------------- Episode: 2 ----------------- \n",
      "simulation success rate 0.0, ave reward -41.82, ave turns 5.64\n",
      "Train on : 3903\n",
      "- cur bellman err 17.9835, experience replay pool 3903\n",
      "Simulation success rate 0.0, Ave reward -41.82, Ave turns 5.64, Best success rate 0\n",
      "Progress: 3 / 800, Success rate: 0 / 3 Avg reward: -47.33 Avg turns: 16.67\n",
      "----------------- Episode: 3 ----------------- \n",
      "simulation success rate 0.0, ave reward -60.0, ave turns 42.0\n",
      "Train on : 6003\n",
      "- cur bellman err 13.2665, experience replay pool 6003\n",
      "Simulation success rate 0.0, Ave reward -60.0, Ave turns 42.0, Best success rate 0\n",
      "Progress: 4 / 800, Success rate: 0 / 4 Avg reward: -50.50 Avg turns: 23.00\n",
      "----------------- Episode: 4 ----------------- \n",
      "simulation success rate 0.0, ave reward -60.0, ave turns 42.0\n",
      "Train on : 8103\n",
      "- cur bellman err 10.4683, experience replay pool 8103\n",
      "Simulation success rate 0.0, Ave reward -60.0, Ave turns 42.0, Best success rate 0\n",
      "Progress: 5 / 800, Success rate: 0 / 5 Avg reward: -52.40 Avg turns: 26.80\n",
      "----------------- Episode: 5 ----------------- \n",
      "simulation success rate 0.0, ave reward -60.0, ave turns 42.0\n",
      "Train on : 10203\n",
      "- cur bellman err 7.5256, experience replay pool 10203\n",
      "Simulation success rate 0.0, Ave reward -60.0, Ave turns 42.0, Best success rate 0\n",
      "Progress: 6 / 800, Success rate: 0 / 6 Avg reward: -53.67 Avg turns: 29.33\n",
      "----------------- Episode: 6 ----------------- \n",
      "simulation success rate 0.0, ave reward -60.0, ave turns 42.0\n",
      "Train on : 12303\n",
      "- cur bellman err 4.4330, experience replay pool 12303\n",
      "Simulation success rate 0.0, Ave reward -60.0, Ave turns 42.0, Best success rate 0\n",
      "Progress: 7 / 800, Success rate: 0 / 7 Avg reward: -54.57 Avg turns: 31.14\n",
      "----------------- Episode: 7 ----------------- \n",
      "simulation success rate 0.0, ave reward -60.0, ave turns 42.0\n",
      "Train on : 14403\n",
      "- cur bellman err 2.1626, experience replay pool 14403\n",
      "Simulation success rate 0.0, Ave reward -60.0, Ave turns 42.0, Best success rate 0\n",
      "Progress: 8 / 800, Success rate: 0 / 8 Avg reward: -55.25 Avg turns: 32.50\n",
      "----------------- Episode: 8 ----------------- \n",
      "Successful Dialog!\n",
      "simulation success rate 0.14, ave reward -41.24, ave turns 38.08\n",
      "Train on : 16307\n",
      "- cur bellman err 0.6541, experience replay pool 16307\n",
      "Simulation success rate 0.14, Ave reward -41.24, Ave turns 38.08, Best success rate 0\n",
      "Progress: 9 / 800, Success rate: 1 / 9 Avg reward: -40.89 Avg turns: 30.44\n",
      "----------------- Episode: 9 ----------------- \n",
      "simulation success rate 0.38, ave reward -9.08, ave turns 31.36\n",
      "simulation success rate 0.38, ave reward -9.08, ave turns 31.36\n",
      "Train on : 1568\n",
      "- cur bellman err 2.3057, experience replay pool 1568\n",
      "Simulation success rate 0.38, Ave reward -9.08, Ave turns 31.36, Best success rate 0\n",
      "Progress: 10 / 800, Success rate: 1 / 10 Avg reward: -42.80 Avg turns: 31.60\n",
      "----------------- Episode: 10 ----------------- \n",
      "Successful Dialog!\n",
      "simulation success rate 1.0, ave reward 73.15, ave turns 15.7\n",
      "simulation success rate 1.0, ave reward 73.01, ave turns 15.98\n",
      "Train on : 799\n",
      "- cur bellman err 1.2832, experience replay pool 799\n",
      "Simulation success rate 1.0, Ave reward 73.15, Ave turns 15.7, Best success rate 0\n",
      "Progress: 11 / 800, Success rate: 2 / 11 Avg reward: -32.18 Avg turns: 30.00\n",
      "----------------- Episode: 11 ----------------- \n",
      "Successful Dialog!\n",
      "simulation success rate 0.84, ave reward 52.56, ave turns 18.48\n",
      "simulation success rate 0.84, ave reward 52.56, ave turns 18.48\n",
      "Train on : 924\n",
      "- cur bellman err 2.8630, experience replay pool 924\n",
      "Simulation success rate 0.84, Ave reward 52.56, Ave turns 18.48, Best success rate 0\n",
      "Progress: 12 / 800, Success rate: 3 / 12 Avg reward: -23.33 Avg turns: 28.67\n",
      "----------------- Episode: 12 ----------------- \n",
      "Successful Dialog!\n",
      "simulation success rate 0.94, ave reward 65.09, ave turns 17.42\n",
      "simulation success rate 0.93, ave reward 64.04, ave turns 17.12\n",
      "Train on : 856\n",
      "- cur bellman err 3.3026, experience replay pool 856\n",
      "Simulation success rate 0.94, Ave reward 65.09, Ave turns 17.42, Best success rate 0\n",
      "Progress: 13 / 800, Success rate: 4 / 13 Avg reward: -15.92 Avg turns: 27.69\n",
      "----------------- Episode: 13 ----------------- \n",
      "simulation success rate 0.0, ave reward -47.26, ave turns 16.52\n",
      "Train on : 1682\n",
      "- cur bellman err 12.2252, experience replay pool 1682\n",
      "Simulation success rate 0.0, Ave reward -47.26, Ave turns 16.52, Best success rate 0\n",
      "Progress: 14 / 800, Success rate: 4 / 14 Avg reward: -18.07 Avg turns: 26.71\n",
      "----------------- Episode: 14 ----------------- \n",
      "simulation success rate 0.0, ave reward -57.62, ave turns 37.24\n",
      "Train on : 3544\n",
      "- cur bellman err 4.6612, experience replay pool 3544\n",
      "Simulation success rate 0.0, Ave reward -57.62, Ave turns 37.24, Best success rate 0\n",
      "Progress: 15 / 800, Success rate: 4 / 15 Avg reward: -19.93 Avg turns: 25.87\n",
      "----------------- Episode: 15 ----------------- \n",
      "simulation success rate 0.0, ave reward -60.0, ave turns 42.0\n",
      "Train on : 5644\n",
      "- cur bellman err 1.7721, experience replay pool 5644\n",
      "Simulation success rate 0.0, Ave reward -60.0, Ave turns 42.0, Best success rate 0\n",
      "Progress: 16 / 800, Success rate: 4 / 16 Avg reward: -22.44 Avg turns: 26.88\n",
      "----------------- Episode: 16 ----------------- \n",
      "Successful Dialog!\n",
      "simulation success rate 1.0, ave reward 73.74, ave turns 14.52\n",
      "simulation success rate 1.0, ave reward 73.74, ave turns 14.52\n",
      "Train on : 726\n",
      "- cur bellman err 0.7577, experience replay pool 726\n",
      "Simulation success rate 1.0, Ave reward 73.74, Ave turns 14.52, Best success rate 0\n",
      "Progress: 17 / 800, Success rate: 5 / 17 Avg reward: -16.82 Avg turns: 26.24\n",
      "----------------- Episode: 17 ----------------- \n",
      "Successful Dialog!\n",
      "simulation success rate 0.02, ave reward -57.3, ave turns 41.4\n",
      "Train on : 2796\n",
      "- cur bellman err 1.1510, experience replay pool 2796\n",
      "Simulation success rate 0.02, Ave reward -57.3, Ave turns 41.4, Best success rate 0\n",
      "Progress: 18 / 800, Success rate: 6 / 18 Avg reward: -11.72 Avg turns: 25.44\n",
      "----------------- Episode: 18 ----------------- \n",
      "Successful Dialog!\n",
      "simulation success rate 1.0, ave reward 74.0, ave turns 14.0\n",
      "simulation success rate 1.0, ave reward 74.0, ave turns 14.0\n",
      "Train on : 700\n",
      "- cur bellman err 0.7065, experience replay pool 700\n",
      "Simulation success rate 1.0, Ave reward 74.0, Ave turns 14.0, Best success rate 0\n",
      "Progress: 19 / 800, Success rate: 7 / 19 Avg reward: -7.21 Avg turns: 24.84\n",
      "----------------- Episode: 19 ----------------- \n",
      "Successful Dialog!\n",
      "simulation success rate 0.26, ave reward -24.94, ave turns 34.28\n",
      "Train on : 2414\n",
      "- cur bellman err 0.8431, experience replay pool 2414\n",
      "Simulation success rate 0.26, Ave reward -24.94, Ave turns 34.28, Best success rate 0\n",
      "Progress: 20 / 800, Success rate: 8 / 20 Avg reward: -3.10 Avg turns: 24.20\n",
      "----------------- Episode: 20 ----------------- \n",
      "Successful Dialog!\n",
      "simulation success rate 1.0, ave reward 73.8, ave turns 14.4\n",
      "simulation success rate 1.0, ave reward 73.79, ave turns 14.42\n",
      "Train on : 721\n",
      "- cur bellman err 0.5324, experience replay pool 721\n",
      "Simulation success rate 1.0, Ave reward 73.8, Ave turns 14.4, Best success rate 0\n",
      "Progress: 21 / 800, Success rate: 9 / 21 Avg reward: 0.57 Avg turns: 23.71\n",
      "----------------- Episode: 21 ----------------- \n",
      "Successful Dialog!\n",
      "simulation success rate 1.0, ave reward 73.99, ave turns 14.02\n",
      "simulation success rate 1.0, ave reward 74.0, ave turns 14.0\n",
      "Train on : 700\n",
      "- cur bellman err 0.2728, experience replay pool 700\n",
      "Simulation success rate 1.0, Ave reward 73.99, Ave turns 14.02, Best success rate 0\n",
      "Progress: 22 / 800, Success rate: 10 / 22 Avg reward: 3.91 Avg turns: 23.27\n",
      "----------------- Episode: 22 ----------------- \n",
      "Successful Dialog!\n"
     ]
    },
    {
     "name": "stdout",
     "output_type": "stream",
     "text": [
      "simulation success rate 1.0, ave reward 74.34, ave turns 13.32\n",
      "simulation success rate 1.0, ave reward 74.35, ave turns 13.3\n",
      "Train on : 665\n",
      "- cur bellman err 0.2248, experience replay pool 665\n",
      "Simulation success rate 1.0, Ave reward 74.34, Ave turns 13.32, Best success rate 0\n",
      "Progress: 23 / 800, Success rate: 11 / 23 Avg reward: 6.96 Avg turns: 22.87\n",
      "----------------- Episode: 23 ----------------- \n",
      "Successful Dialog!\n",
      "simulation success rate 0.87, ave reward 57.3, ave turns 16.2\n",
      "simulation success rate 0.81, ave reward 49.19, ave turns 18.02\n",
      "Train on : 901\n",
      "- cur bellman err 0.9875, experience replay pool 901\n",
      "Simulation success rate 0.87, Ave reward 57.3, Ave turns 16.2, Best success rate 0\n",
      "Progress: 24 / 800, Success rate: 12 / 24 Avg reward: 9.79 Avg turns: 22.42\n",
      "----------------- Episode: 24 ----------------- \n",
      "Successful Dialog!\n",
      "simulation success rate 0.96, ave reward 69.41, ave turns 13.58\n",
      "simulation success rate 0.96, ave reward 69.46, ave turns 13.48\n",
      "Train on : 674\n",
      "- cur bellman err 0.8031, experience replay pool 674\n",
      "Simulation success rate 0.96, Ave reward 69.41, Ave turns 13.58, Best success rate 0\n",
      "Progress: 25 / 800, Success rate: 13 / 25 Avg reward: 12.40 Avg turns: 22.00\n",
      "----------------- Episode: 25 ----------------- \n",
      "Successful Dialog!\n",
      "simulation success rate 0.98, ave reward 72.19, ave turns 12.82\n",
      "simulation success rate 0.98, ave reward 72.13, ave turns 12.94\n",
      "Train on : 647\n",
      "- cur bellman err 1.6648, experience replay pool 647\n",
      "Simulation success rate 0.98, Ave reward 72.19, Ave turns 12.82, Best success rate 0\n",
      "Progress: 26 / 800, Success rate: 14 / 26 Avg reward: 14.81 Avg turns: 21.62\n",
      "----------------- Episode: 26 ----------------- \n",
      "Successful Dialog!\n",
      "simulation success rate 1.0, ave reward 74.7, ave turns 12.6\n",
      "simulation success rate 1.0, ave reward 74.65, ave turns 12.7\n",
      "Train on : 635\n",
      "- cur bellman err 0.4635, experience replay pool 635\n",
      "Simulation success rate 1.0, Ave reward 74.7, Ave turns 12.6, Best success rate 0\n",
      "Progress: 27 / 800, Success rate: 15 / 27 Avg reward: 17.04 Avg turns: 21.26\n",
      "----------------- Episode: 27 ----------------- \n",
      "Successful Dialog!\n",
      "simulation success rate 1.0, ave reward 74.24, ave turns 13.52\n",
      "simulation success rate 1.0, ave reward 74.21, ave turns 13.58\n",
      "Train on : 679\n",
      "- cur bellman err 0.1650, experience replay pool 679\n",
      "Simulation success rate 1.0, Ave reward 74.24, Ave turns 13.52, Best success rate 0\n",
      "Progress: 28 / 800, Success rate: 16 / 28 Avg reward: 19.07 Avg turns: 21.00\n",
      "----------------- Episode: 28 ----------------- \n",
      "Successful Dialog!\n",
      "simulation success rate 1.0, ave reward 74.38, ave turns 13.24\n",
      "simulation success rate 1.0, ave reward 74.37, ave turns 13.26\n",
      "Train on : 663\n",
      "- cur bellman err 0.0847, experience replay pool 663\n",
      "Simulation success rate 1.0, Ave reward 74.38, Ave turns 13.24, Best success rate 0\n",
      "Progress: 29 / 800, Success rate: 17 / 29 Avg reward: 21.00 Avg turns: 20.69\n",
      "----------------- Episode: 29 ----------------- \n",
      "Successful Dialog!\n",
      "simulation success rate 0.99, ave reward 73.21, ave turns 13.18\n",
      "simulation success rate 1.0, ave reward 74.49, ave turns 13.02\n",
      "Train on : 651\n",
      "- cur bellman err 1.2242, experience replay pool 651\n",
      "Simulation success rate 0.99, Ave reward 73.21, Ave turns 13.18, Best success rate 0\n",
      "Progress: 30 / 800, Success rate: 18 / 30 Avg reward: 22.80 Avg turns: 20.40\n",
      "----------------- Episode: 30 ----------------- \n",
      "Successful Dialog!\n",
      "simulation success rate 1.0, ave reward 74.58, ave turns 12.84\n",
      "simulation success rate 1.0, ave reward 74.66, ave turns 12.68\n",
      "Train on : 634\n",
      "- cur bellman err 0.1190, experience replay pool 634\n",
      "Simulation success rate 1.0, Ave reward 74.58, Ave turns 12.84, Best success rate 0\n",
      "Progress: 31 / 800, Success rate: 19 / 31 Avg reward: 24.45 Avg turns: 20.19\n",
      "----------------- Episode: 31 ----------------- \n",
      "Successful Dialog!\n",
      "simulation success rate 0.89, ave reward 57.7, ave turns 20.2\n",
      "simulation success rate 0.93, ave reward 62.96, ave turns 19.28\n",
      "Train on : 964\n",
      "- cur bellman err 6.6600, experience replay pool 964\n",
      "Simulation success rate 0.89, Ave reward 57.7, Ave turns 20.2, Best success rate 0\n",
      "Progress: 32 / 800, Success rate: 20 / 32 Avg reward: 26.03 Avg turns: 19.94\n",
      "----------------- Episode: 32 ----------------- \n",
      "Successful Dialog!\n",
      "simulation success rate 1.0, ave reward 73.81, ave turns 14.38\n",
      "simulation success rate 1.0, ave reward 73.84, ave turns 14.32\n",
      "Train on : 716\n",
      "- cur bellman err 1.1001, experience replay pool 716\n",
      "Simulation success rate 1.0, Ave reward 73.81, Ave turns 14.38, Best success rate 0\n",
      "Progress: 33 / 800, Success rate: 21 / 33 Avg reward: 27.48 Avg turns: 19.76\n",
      "----------------- Episode: 33 ----------------- \n",
      "Successful Dialog!\n",
      "simulation success rate 1.0, ave reward 74.11, ave turns 13.78\n",
      "simulation success rate 1.0, ave reward 74.15, ave turns 13.7\n",
      "Train on : 685\n",
      "- cur bellman err 0.3333, experience replay pool 685\n",
      "Simulation success rate 1.0, Ave reward 74.11, Ave turns 13.78, Best success rate 0\n",
      "Progress: 34 / 800, Success rate: 22 / 34 Avg reward: 28.85 Avg turns: 19.59\n",
      "----------------- Episode: 34 ----------------- \n",
      "Successful Dialog!\n",
      "simulation success rate 1.0, ave reward 73.13, ave turns 15.74\n",
      "simulation success rate 1.0, ave reward 73.4, ave turns 15.2\n",
      "Train on : 760\n",
      "- cur bellman err 2.0635, experience replay pool 760\n",
      "Simulation success rate 1.0, Ave reward 73.13, Ave turns 15.74, Best success rate 0\n",
      "Progress: 35 / 800, Success rate: 23 / 35 Avg reward: 30.17 Avg turns: 19.37\n",
      "----------------- Episode: 35 ----------------- \n",
      "Successful Dialog!\n",
      "simulation success rate 1.0, ave reward 74.81, ave turns 12.38\n",
      "simulation success rate 1.0, ave reward 74.83, ave turns 12.34\n",
      "Train on : 617\n",
      "- cur bellman err 3.2428, experience replay pool 617\n",
      "Simulation success rate 1.0, Ave reward 74.81, Ave turns 12.38, Best success rate 0\n",
      "Progress: 36 / 800, Success rate: 24 / 36 Avg reward: 31.42 Avg turns: 19.17\n",
      "----------------- Episode: 36 ----------------- \n",
      "simulation success rate 0.31, ave reward -22.45, ave turns 41.3\n",
      "simulation success rate 0.33, ave reward -19.99, ave turns 41.18\n",
      "Train on : 2059\n",
      "- cur bellman err 7.0466, experience replay pool 2059\n",
      "Simulation success rate 0.31, Ave reward -22.45, Ave turns 41.3, Best success rate 0\n",
      "Progress: 37 / 800, Success rate: 24 / 37 Avg reward: 28.95 Avg turns: 19.78\n",
      "----------------- Episode: 37 ----------------- \n",
      "Successful Dialog!\n",
      "simulation success rate 1.0, ave reward 73.4, ave turns 15.2\n",
      "simulation success rate 1.0, ave reward 73.31, ave turns 15.38\n",
      "Train on : 769\n",
      "- cur bellman err 1.3874, experience replay pool 769\n",
      "Simulation success rate 1.0, Ave reward 73.4, Ave turns 15.2, Best success rate 0\n",
      "Progress: 38 / 800, Success rate: 25 / 38 Avg reward: 30.13 Avg turns: 19.63\n",
      "----------------- Episode: 38 ----------------- \n",
      "Successful Dialog!\n",
      "simulation success rate 1.0, ave reward 74.27, ave turns 13.46\n",
      "simulation success rate 1.0, ave reward 74.35, ave turns 13.3\n",
      "Train on : 665\n",
      "- cur bellman err 0.4130, experience replay pool 665\n",
      "Simulation success rate 1.0, Ave reward 74.27, Ave turns 13.46, Best success rate 0\n",
      "Progress: 39 / 800, Success rate: 26 / 39 Avg reward: 31.26 Avg turns: 19.49\n",
      "----------------- Episode: 39 ----------------- \n",
      "Successful Dialog!\n",
      "simulation success rate 1.0, ave reward 74.96, ave turns 12.08\n",
      "simulation success rate 1.0, ave reward 74.88, ave turns 12.24\n",
      "Train on : 612\n",
      "- cur bellman err 1.7819, experience replay pool 612\n",
      "Simulation success rate 1.0, Ave reward 74.96, Ave turns 12.08, Best success rate 0\n",
      "Progress: 40 / 800, Success rate: 27 / 40 Avg reward: 32.33 Avg turns: 19.35\n",
      "----------------- Episode: 40 ----------------- \n",
      "Successful Dialog!\n",
      "simulation success rate 1.0, ave reward 62.0, ave turns 38.0\n",
      "simulation success rate 1.0, ave reward 62.0, ave turns 38.0\n",
      "Train on : 1900\n",
      "- cur bellman err 1.9444, experience replay pool 1900\n",
      "Simulation success rate 1.0, Ave reward 62.0, Ave turns 38.0, Best success rate 0\n",
      "Progress: 41 / 800, Success rate: 28 / 41 Avg reward: 33.05 Avg turns: 19.80\n",
      "----------------- Episode: 41 ----------------- \n",
      "Successful Dialog!\n",
      "simulation success rate 1.0, ave reward 74.39, ave turns 13.22\n",
      "simulation success rate 1.0, ave reward 74.43, ave turns 13.14\n",
      "Train on : 657\n",
      "- cur bellman err 4.9326, experience replay pool 657\n",
      "Simulation success rate 1.0, Ave reward 74.39, Ave turns 13.22, Best success rate 0\n",
      "Progress: 42 / 800, Success rate: 29 / 42 Avg reward: 34.02 Avg turns: 19.67\n",
      "----------------- Episode: 42 ----------------- \n",
      "Successful Dialog!\n"
     ]
    },
    {
     "name": "stdout",
     "output_type": "stream",
     "text": [
      "simulation success rate 0.41, ave reward -10.21, ave turns 40.82\n",
      "simulation success rate 0.38, ave reward -13.88, ave turns 40.96\n",
      "Train on : 2048\n",
      "- cur bellman err 7.0822, experience replay pool 2048\n",
      "Simulation success rate 0.41, Ave reward -10.21, Ave turns 40.82, Best success rate 0\n",
      "Progress: 43 / 800, Success rate: 30 / 43 Avg reward: 34.65 Avg turns: 20.14\n",
      "----------------- Episode: 43 ----------------- \n",
      "Successful Dialog!\n",
      "simulation success rate 1.0, ave reward 74.4, ave turns 13.2\n",
      "simulation success rate 1.0, ave reward 74.45, ave turns 13.1\n",
      "Train on : 655\n",
      "- cur bellman err 1.4010, experience replay pool 655\n",
      "Simulation success rate 1.0, Ave reward 74.4, Ave turns 13.2, Best success rate 0\n",
      "Progress: 44 / 800, Success rate: 31 / 44 Avg reward: 35.57 Avg turns: 19.95\n",
      "----------------- Episode: 44 ----------------- \n",
      "Successful Dialog!\n",
      "simulation success rate 1.0, ave reward 74.25, ave turns 13.5\n",
      "simulation success rate 1.0, ave reward 74.21, ave turns 13.58\n",
      "Train on : 679\n",
      "- cur bellman err 0.4653, experience replay pool 679\n",
      "Simulation success rate 1.0, Ave reward 74.25, Ave turns 13.5, Best success rate 0\n",
      "Progress: 45 / 800, Success rate: 32 / 45 Avg reward: 36.42 Avg turns: 19.82\n",
      "----------------- Episode: 45 ----------------- \n",
      "Successful Dialog!\n",
      "simulation success rate 1.0, ave reward 74.38, ave turns 13.24\n",
      "simulation success rate 1.0, ave reward 74.53, ave turns 12.94\n",
      "Train on : 647\n",
      "- cur bellman err 0.7379, experience replay pool 647\n",
      "Simulation success rate 1.0, Ave reward 74.38, Ave turns 13.24, Best success rate 0\n",
      "Progress: 46 / 800, Success rate: 33 / 46 Avg reward: 37.24 Avg turns: 19.70\n",
      "----------------- Episode: 46 ----------------- \n",
      "Successful Dialog!\n",
      "simulation success rate 1.0, ave reward 74.87, ave turns 12.26\n",
      "simulation success rate 1.0, ave reward 74.89, ave turns 12.22\n",
      "Train on : 611\n",
      "- cur bellman err 0.4755, experience replay pool 611\n",
      "Simulation success rate 1.0, Ave reward 74.87, Ave turns 12.26, Best success rate 0\n",
      "Progress: 47 / 800, Success rate: 34 / 47 Avg reward: 38.04 Avg turns: 19.53\n",
      "----------------- Episode: 47 ----------------- \n",
      "Successful Dialog!\n",
      "simulation success rate 1.0, ave reward 72.19, ave turns 17.62\n",
      "simulation success rate 1.0, ave reward 71.49, ave turns 19.02\n",
      "Train on : 951\n",
      "- cur bellman err 2.0404, experience replay pool 951\n",
      "Simulation success rate 1.0, Ave reward 72.19, Ave turns 17.62, Best success rate 0\n",
      "Progress: 48 / 800, Success rate: 35 / 48 Avg reward: 38.75 Avg turns: 19.50\n",
      "----------------- Episode: 48 ----------------- \n",
      "Successful Dialog!\n",
      "simulation success rate 1.0, ave reward 74.32, ave turns 13.36\n",
      "simulation success rate 1.0, ave reward 74.29, ave turns 13.42\n",
      "Train on : 671\n",
      "- cur bellman err 0.3582, experience replay pool 671\n",
      "Simulation success rate 1.0, Ave reward 74.32, Ave turns 13.36, Best success rate 0\n",
      "Progress: 49 / 800, Success rate: 36 / 49 Avg reward: 39.47 Avg turns: 19.39\n",
      "----------------- Episode: 49 ----------------- \n",
      "Successful Dialog!\n",
      "simulation success rate 1.0, ave reward 74.86, ave turns 12.28\n",
      "simulation success rate 1.0, ave reward 74.84, ave turns 12.32\n",
      "Train on : 616\n",
      "- cur bellman err 0.2799, experience replay pool 616\n",
      "Simulation success rate 1.0, Ave reward 74.86, Ave turns 12.28, Best success rate 0\n",
      "Progress: 50 / 800, Success rate: 37 / 50 Avg reward: 40.18 Avg turns: 19.24\n",
      "----------------- Episode: 50 ----------------- \n",
      "Successful Dialog!\n",
      "simulation success rate 1.0, ave reward 74.88, ave turns 12.24\n",
      "simulation success rate 1.0, ave reward 74.83, ave turns 12.34\n",
      "Train on : 617\n",
      "- cur bellman err 0.2053, experience replay pool 617\n",
      "Simulation success rate 1.0, Ave reward 74.88, Ave turns 12.24, Best success rate 0\n",
      "Progress: 51 / 800, Success rate: 38 / 51 Avg reward: 40.86 Avg turns: 19.10\n",
      "----------------- Episode: 51 ----------------- \n",
      "Successful Dialog!\n",
      "simulation success rate 1.0, ave reward 74.99, ave turns 12.02\n",
      "simulation success rate 1.0, ave reward 74.89, ave turns 12.22\n",
      "Train on : 611\n",
      "- cur bellman err 0.5515, experience replay pool 611\n",
      "Simulation success rate 1.0, Ave reward 74.99, Ave turns 12.02, Best success rate 0\n",
      "Progress: 52 / 800, Success rate: 39 / 52 Avg reward: 41.52 Avg turns: 18.96\n",
      "----------------- Episode: 52 ----------------- \n",
      "Successful Dialog!\n",
      "simulation success rate 1.0, ave reward 74.87, ave turns 12.26\n",
      "simulation success rate 1.0, ave reward 74.83, ave turns 12.34\n",
      "Train on : 617\n",
      "- cur bellman err 0.1846, experience replay pool 617\n",
      "Simulation success rate 1.0, Ave reward 74.87, Ave turns 12.26, Best success rate 0\n",
      "Progress: 53 / 800, Success rate: 40 / 53 Avg reward: 42.15 Avg turns: 18.83\n",
      "----------------- Episode: 53 ----------------- \n",
      "Successful Dialog!\n",
      "simulation success rate 1.0, ave reward 74.87, ave turns 12.26\n",
      "simulation success rate 1.0, ave reward 74.92, ave turns 12.16\n",
      "Train on : 608\n",
      "- cur bellman err 0.3140, experience replay pool 608\n",
      "Simulation success rate 1.0, Ave reward 74.87, Ave turns 12.26, Best success rate 0\n",
      "Progress: 54 / 800, Success rate: 41 / 54 Avg reward: 42.76 Avg turns: 18.70\n",
      "----------------- Episode: 54 ----------------- \n",
      "Successful Dialog!\n",
      "simulation success rate 1.0, ave reward 74.83, ave turns 12.34\n",
      "simulation success rate 1.0, ave reward 74.79, ave turns 12.42\n",
      "Train on : 621\n",
      "- cur bellman err 0.1077, experience replay pool 621\n",
      "Simulation success rate 1.0, Ave reward 74.83, Ave turns 12.34, Best success rate 0\n",
      "Progress: 55 / 800, Success rate: 42 / 55 Avg reward: 43.35 Avg turns: 18.58\n",
      "----------------- Episode: 55 ----------------- \n",
      "Successful Dialog!\n",
      "simulation success rate 1.0, ave reward 74.83, ave turns 12.34\n",
      "simulation success rate 1.0, ave reward 74.72, ave turns 12.56\n",
      "Train on : 628\n",
      "- cur bellman err 0.1089, experience replay pool 628\n",
      "Simulation success rate 1.0, Ave reward 74.83, Ave turns 12.34, Best success rate 0\n",
      "Progress: 56 / 800, Success rate: 43 / 56 Avg reward: 43.91 Avg turns: 18.46\n",
      "----------------- Episode: 56 ----------------- \n",
      "Successful Dialog!\n",
      "simulation success rate 1.0, ave reward 74.79, ave turns 12.42\n",
      "simulation success rate 1.0, ave reward 74.9, ave turns 12.2\n",
      "Train on : 610\n",
      "- cur bellman err 0.0641, experience replay pool 610\n",
      "Simulation success rate 1.0, Ave reward 74.79, Ave turns 12.42, Best success rate 0\n",
      "Progress: 57 / 800, Success rate: 44 / 57 Avg reward: 44.44 Avg turns: 18.39\n",
      "----------------- Episode: 57 ----------------- \n",
      "Successful Dialog!\n",
      "simulation success rate 1.0, ave reward 74.84, ave turns 12.32\n",
      "simulation success rate 1.0, ave reward 74.82, ave turns 12.36\n",
      "Train on : 618\n",
      "- cur bellman err 0.0637, experience replay pool 618\n",
      "Simulation success rate 1.0, Ave reward 74.84, Ave turns 12.32, Best success rate 0\n",
      "Progress: 58 / 800, Success rate: 45 / 58 Avg reward: 44.97 Avg turns: 18.28\n",
      "----------------- Episode: 58 ----------------- \n",
      "Successful Dialog!\n",
      "simulation success rate 1.0, ave reward 74.92, ave turns 12.16\n",
      "simulation success rate 1.0, ave reward 74.82, ave turns 12.36\n",
      "Train on : 618\n",
      "- cur bellman err 0.0678, experience replay pool 618\n",
      "Simulation success rate 1.0, Ave reward 74.92, Ave turns 12.16, Best success rate 0\n",
      "Progress: 59 / 800, Success rate: 46 / 59 Avg reward: 45.46 Avg turns: 18.20\n",
      "----------------- Episode: 59 ----------------- \n",
      "Successful Dialog!\n",
      "simulation success rate 1.0, ave reward 74.87, ave turns 12.26\n",
      "simulation success rate 1.0, ave reward 74.81, ave turns 12.38\n",
      "Train on : 619\n",
      "- cur bellman err 0.0597, experience replay pool 619\n",
      "Simulation success rate 1.0, Ave reward 74.87, Ave turns 12.26, Best success rate 0\n",
      "Progress: 60 / 800, Success rate: 47 / 60 Avg reward: 45.95 Avg turns: 18.10\n",
      "----------------- Episode: 60 ----------------- \n",
      "Successful Dialog!\n",
      "simulation success rate 1.0, ave reward 74.81, ave turns 12.38\n"
     ]
    },
    {
     "ename": "KeyboardInterrupt",
     "evalue": "",
     "output_type": "error",
     "traceback": [
      "\u001b[0;31m---------------------------------------------------------------------------\u001b[0m",
      "\u001b[0;31mKeyboardInterrupt\u001b[0m                         Traceback (most recent call last)",
      "\u001b[0;32m<ipython-input-19-66f69a8b6886>\u001b[0m in \u001b[0;36m<module>\u001b[0;34m()\u001b[0m\n\u001b[1;32m     10\u001b[0m \u001b[0mlosses\u001b[0m \u001b[0;34m=\u001b[0m \u001b[0;34m[\u001b[0m\u001b[0;34m]\u001b[0m\u001b[0;34m\u001b[0m\u001b[0m\n\u001b[1;32m     11\u001b[0m \u001b[0magent\u001b[0m\u001b[0;34m.\u001b[0m\u001b[0mwarm_start\u001b[0m \u001b[0;34m=\u001b[0m \u001b[0;36m1\u001b[0m\u001b[0;34m\u001b[0m\u001b[0m\n\u001b[0;32m---> 12\u001b[0;31m \u001b[0mrun_episodes\u001b[0m\u001b[0;34m(\u001b[0m\u001b[0;36m800\u001b[0m\u001b[0;34m,\u001b[0m \u001b[0mstatus\u001b[0m\u001b[0;34m)\u001b[0m\u001b[0;34m\u001b[0m\u001b[0m\n\u001b[0m",
      "\u001b[0;32m<ipython-input-18-9270d26611ac>\u001b[0m in \u001b[0;36mrun_episodes\u001b[0;34m(count, status)\u001b[0m\n\u001b[1;32m     39\u001b[0m                 \u001b[0;32mif\u001b[0m \u001b[0msimulation_res\u001b[0m\u001b[0;34m[\u001b[0m\u001b[0;34m'success_rate'\u001b[0m\u001b[0;34m]\u001b[0m \u001b[0;34m>=\u001b[0m \u001b[0msuccess_rate_threshold\u001b[0m\u001b[0;34m:\u001b[0m \u001b[0;31m# threshold = 0.30\u001b[0m\u001b[0;34m\u001b[0m\u001b[0m\n\u001b[1;32m     40\u001b[0m                     \u001b[0magent\u001b[0m\u001b[0;34m.\u001b[0m\u001b[0mexperience_replay_pool\u001b[0m \u001b[0;34m=\u001b[0m \u001b[0;34m[\u001b[0m\u001b[0;34m]\u001b[0m\u001b[0;34m\u001b[0m\u001b[0m\n\u001b[0;32m---> 41\u001b[0;31m                     \u001b[0msimulation_epoch\u001b[0m\u001b[0;34m(\u001b[0m\u001b[0msimulation_epoch_size\u001b[0m\u001b[0;34m)\u001b[0m\u001b[0;34m\u001b[0m\u001b[0m\n\u001b[0m\u001b[1;32m     42\u001b[0m \u001b[0;34m\u001b[0m\u001b[0m\n\u001b[1;32m     43\u001b[0m \u001b[0;31m#             if simulation_res['success_rate'] > best_res['success_rate']:\u001b[0m\u001b[0;34m\u001b[0m\u001b[0;34m\u001b[0m\u001b[0m\n",
      "\u001b[0;32m<ipython-input-17-55b0b7006748>\u001b[0m in \u001b[0;36msimulation_epoch\u001b[0;34m(simulation_epoch_size)\u001b[0m\n\u001b[1;32m      9\u001b[0m         \u001b[0mepisode_over\u001b[0m \u001b[0;34m=\u001b[0m \u001b[0;32mFalse\u001b[0m\u001b[0;34m\u001b[0m\u001b[0m\n\u001b[1;32m     10\u001b[0m         \u001b[0;32mwhile\u001b[0m\u001b[0;34m(\u001b[0m\u001b[0;32mnot\u001b[0m \u001b[0mepisode_over\u001b[0m\u001b[0;34m)\u001b[0m\u001b[0;34m:\u001b[0m\u001b[0;34m\u001b[0m\u001b[0m\n\u001b[0;32m---> 11\u001b[0;31m             \u001b[0mepisode_over\u001b[0m\u001b[0;34m,\u001b[0m \u001b[0mreward\u001b[0m \u001b[0;34m=\u001b[0m \u001b[0mdlg_manager\u001b[0m\u001b[0;34m.\u001b[0m\u001b[0mstep\u001b[0m\u001b[0;34m(\u001b[0m\u001b[0;34m)\u001b[0m\u001b[0;34m\u001b[0m\u001b[0m\n\u001b[0m\u001b[1;32m     12\u001b[0m             \u001b[0mcumulative_reward\u001b[0m \u001b[0;34m+=\u001b[0m \u001b[0mreward\u001b[0m\u001b[0;34m\u001b[0m\u001b[0m\n\u001b[1;32m     13\u001b[0m             \u001b[0;32mif\u001b[0m \u001b[0mepisode_over\u001b[0m\u001b[0;34m:\u001b[0m\u001b[0;34m\u001b[0m\u001b[0m\n",
      "\u001b[0;32m/home/dengl11/CS234-Project/dlg_manager/dlg_manager.py\u001b[0m in \u001b[0;36mstep\u001b[0;34m(self, record_training_data)\u001b[0m\n\u001b[1;32m    107\u001b[0m         \u001b[0;31m########################################################################\u001b[0m\u001b[0;34m\u001b[0m\u001b[0;34m\u001b[0m\u001b[0m\n\u001b[1;32m    108\u001b[0m         \u001b[0;32mif\u001b[0m \u001b[0mrecord_training_data\u001b[0m\u001b[0;34m:\u001b[0m\u001b[0;34m\u001b[0m\u001b[0m\n\u001b[0;32m--> 109\u001b[0;31m             \u001b[0mself\u001b[0m\u001b[0;34m.\u001b[0m\u001b[0magent\u001b[0m\u001b[0;34m.\u001b[0m\u001b[0mregister_experience_replay_tuple\u001b[0m\u001b[0;34m(\u001b[0m\u001b[0mself\u001b[0m\u001b[0;34m.\u001b[0m\u001b[0mstate\u001b[0m\u001b[0;34m,\u001b[0m \u001b[0mself\u001b[0m\u001b[0;34m.\u001b[0m\u001b[0magt_action\u001b[0m\u001b[0;34m,\u001b[0m \u001b[0mself\u001b[0m\u001b[0;34m.\u001b[0m\u001b[0mreward\u001b[0m\u001b[0;34m,\u001b[0m \u001b[0mself\u001b[0m\u001b[0;34m.\u001b[0m\u001b[0mstate_tracker\u001b[0m\u001b[0;34m.\u001b[0m\u001b[0mget_state_for_agent\u001b[0m\u001b[0;34m(\u001b[0m\u001b[0;34m)\u001b[0m\u001b[0;34m,\u001b[0m \u001b[0mself\u001b[0m\u001b[0;34m.\u001b[0m\u001b[0mepisode_done\u001b[0m\u001b[0;34m)\u001b[0m\u001b[0;34m\u001b[0m\u001b[0m\n\u001b[0m\u001b[1;32m    110\u001b[0m \u001b[0;34m\u001b[0m\u001b[0m\n\u001b[1;32m    111\u001b[0m         \u001b[0;32mreturn\u001b[0m \u001b[0;34m(\u001b[0m\u001b[0mself\u001b[0m\u001b[0;34m.\u001b[0m\u001b[0mepisode_done\u001b[0m\u001b[0;34m,\u001b[0m \u001b[0mself\u001b[0m\u001b[0;34m.\u001b[0m\u001b[0mreward\u001b[0m\u001b[0;34m)\u001b[0m\u001b[0;34m\u001b[0m\u001b[0m\n",
      "\u001b[0;32m/home/dengl11/CS234-Project/state_tracker/state_tracker.py\u001b[0m in \u001b[0;36mget_state_for_agent\u001b[0;34m(self)\u001b[0m\n\u001b[1;32m     51\u001b[0m             \u001b[0;34m'agent_action'\u001b[0m\u001b[0;34m:\u001b[0m \u001b[0mself\u001b[0m\u001b[0;34m.\u001b[0m\u001b[0mhist_dic\u001b[0m\u001b[0;34m[\u001b[0m\u001b[0;34m-\u001b[0m\u001b[0;36m2\u001b[0m\u001b[0;34m]\u001b[0m \u001b[0;32mif\u001b[0m \u001b[0mlen\u001b[0m\u001b[0;34m(\u001b[0m\u001b[0mself\u001b[0m\u001b[0;34m.\u001b[0m\u001b[0mhist_dic\u001b[0m\u001b[0;34m)\u001b[0m \u001b[0;34m>\u001b[0m \u001b[0;36m1\u001b[0m \u001b[0;32melse\u001b[0m \u001b[0;32mNone\u001b[0m\u001b[0;34m\u001b[0m\u001b[0m\n\u001b[1;32m     52\u001b[0m         }\n\u001b[0;32m---> 53\u001b[0;31m         \u001b[0;32mreturn\u001b[0m \u001b[0mcopy\u001b[0m\u001b[0;34m.\u001b[0m\u001b[0mdeepcopy\u001b[0m\u001b[0;34m(\u001b[0m\u001b[0mstate\u001b[0m\u001b[0;34m)\u001b[0m\u001b[0;34m\u001b[0m\u001b[0m\n\u001b[0m\u001b[1;32m     54\u001b[0m \u001b[0;34m\u001b[0m\u001b[0m\n\u001b[1;32m     55\u001b[0m     \u001b[0;32mdef\u001b[0m \u001b[0mdialog_history_vectors\u001b[0m\u001b[0;34m(\u001b[0m\u001b[0mself\u001b[0m\u001b[0;34m)\u001b[0m\u001b[0;34m:\u001b[0m\u001b[0;34m\u001b[0m\u001b[0m\n",
      "\u001b[0;32m/usr/lib/python3.5/copy.py\u001b[0m in \u001b[0;36mdeepcopy\u001b[0;34m(x, memo, _nil)\u001b[0m\n\u001b[1;32m    142\u001b[0m \u001b[0;34m\u001b[0m\u001b[0m\n\u001b[1;32m    143\u001b[0m     \u001b[0;32mif\u001b[0m \u001b[0mmemo\u001b[0m \u001b[0;32mis\u001b[0m \u001b[0;32mNone\u001b[0m\u001b[0;34m:\u001b[0m\u001b[0;34m\u001b[0m\u001b[0m\n\u001b[0;32m--> 144\u001b[0;31m         \u001b[0mmemo\u001b[0m \u001b[0;34m=\u001b[0m \u001b[0;34m{\u001b[0m\u001b[0;34m}\u001b[0m\u001b[0;34m\u001b[0m\u001b[0m\n\u001b[0m\u001b[1;32m    145\u001b[0m \u001b[0;34m\u001b[0m\u001b[0m\n\u001b[1;32m    146\u001b[0m     \u001b[0md\u001b[0m \u001b[0;34m=\u001b[0m \u001b[0mid\u001b[0m\u001b[0;34m(\u001b[0m\u001b[0mx\u001b[0m\u001b[0;34m)\u001b[0m\u001b[0;34m\u001b[0m\u001b[0m\n",
      "\u001b[0;31mKeyboardInterrupt\u001b[0m: "
     ]
    }
   ],
   "source": [
    "performance_records = {}\n",
    "performance_records['success_rate'] = {}\n",
    "performance_records['ave_turns'] = {}\n",
    "performance_records['ave_reward'] = {}\n",
    "\n",
    "best_model = {}\n",
    "best_res = {'success_rate': 0, 'ave_reward':float('-inf'), 'ave_turns': float('inf'), 'epoch':0}\n",
    "\n",
    "curve = []\n",
    "losses = []\n",
    "agent.warm_start = 1\n",
    "run_episodes(800, status)"
   ]
  },
  {
   "cell_type": "code",
   "execution_count": 20,
   "metadata": {},
   "outputs": [
    {
     "data": {
      "image/png": "[encoded data removed]",
      "text/plain": [
       "<matplotlib.figure.Figure at 0x7f504017fa20>"
      ]
     },
     "metadata": {},
     "output_type": "display_data"
    }
   ],
   "source": [
    "draw_learning_curve(curve)"
   ]
  },
  {
   "cell_type": "code",
   "execution_count": null,
   "metadata": {
    "collapsed": true
   },
   "outputs": [],
   "source": [
    "draw_loss_curve(losses)"
   ]
  },
  {
   "cell_type": "code",
   "execution_count": null,
   "metadata": {
    "collapsed": true
   },
   "outputs": [],
   "source": [
    "draw_loss_curve(losses[-100:])"
   ]
  },
  {
   "cell_type": "code",
   "execution_count": null,
   "metadata": {
    "collapsed": true
   },
   "outputs": [],
   "source": [
    "saver = tf.train.Saver()"
   ]
  },
  {
   "cell_type": "code",
   "execution_count": null,
   "metadata": {
    "collapsed": true
   },
   "outputs": [],
   "source": [
    "saver.save(agent.model.sess, \"trained_model/tf_400/\", global_step = 400)  "
   ]
  },
  {
   "cell_type": "code",
   "execution_count": null,
   "metadata": {
    "collapsed": true
   },
   "outputs": [],
   "source": []
  }
 ],
 "metadata": {
  "celltoolbar": "Initialization Cell",
  "kernelspec": {
   "display_name": "Python 3",
   "language": "python",
   "name": "python3"
  },
  "language_info": {
   "codemirror_mode": {
    "name": "ipython",
    "version": 3
   },
   "file_extension": ".py",
   "mimetype": "text/x-python",
   "name": "python",
   "nbconvert_exporter": "python",
   "pygments_lexer": "ipython3",
   "version": "3.5.2"
  },
  "latex_envs": {
   "LaTeX_envs_menu_present": true,
   "autocomplete": true,
   "bibliofile": "biblio.bib",
   "cite_by": "apalike",
   "current_citInitial": 1,
   "eqLabelWithNumbers": true,
   "eqNumInitial": 1,
   "hotkeys": {
    "equation": "Ctrl-E",
    "itemize": "Ctrl-I"
   },
   "labels_anchors": false,
   "latex_user_defs": false,
   "report_style_numbering": false,
   "user_envs_cfg": false
  },
  "nbTranslate": {
   "displayLangs": [
    "*"
   ],
   "hotkey": "alt-t",
   "langInMainMenu": true,
   "sourceLang": "en",
   "targetLang": "fr",
   "useGoogleTranslate": true
  },
  "varInspector": {
   "cols": {
    "lenName": 16,
    "lenType": 16,
    "lenVar": 40
   },
   "kernels_config": {
    "python": {
     "delete_cmd_postfix": "",
     "delete_cmd_prefix": "del ",
     "library": "var_list.py",
     "varRefreshCmd": "print(var_dic_list())"
    },
    "r": {
     "delete_cmd_postfix": ") ",
     "delete_cmd_prefix": "rm(",
     "library": "var_list.r",
     "varRefreshCmd": "cat(var_dic_list()) "
    }
   },
   "types_to_exclude": [
    "module",
    "function",
    "builtin_function_or_method",
    "instance",
    "_Feature"
   ],
   "window_display": false
  }
 },
 "nbformat": 4,
 "nbformat_minor": 2
}
