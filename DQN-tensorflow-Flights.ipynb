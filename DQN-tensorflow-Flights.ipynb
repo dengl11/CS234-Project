{
 "cells": [
  {
   "cell_type": "markdown",
   "metadata": {},
   "source": [
    "# DQN\n"
   ]
  },
  {
   "cell_type": "markdown",
   "metadata": {},
   "source": [
    "### Training of DQN in Tensorflow\n",
    "--------------------------"
   ]
  },
  {
   "cell_type": "code",
   "execution_count": 54,
   "metadata": {
    "code_folding": [],
    "init_cell": true
   },
   "outputs": [
    {
     "name": "stdout",
     "output_type": "stream",
     "text": [
      "The autoreload extension is already loaded. To reload it, use:\n",
      "  %reload_ext autoreload\n"
     ]
    }
   ],
   "source": [
    "#\n",
    "from util import *\n",
    "from dlg_manager import *\n",
    "from alg import *\n",
    "from agent import *\n",
    "from user_sim import *\n",
    "from state_tracker import *\n",
    "import random\n",
    "from config import *\n",
    "import matplotlib.pyplot as plt\n",
    "import numpy as np\n",
    "from nlg import *\n",
    "from six.moves import cPickle as pickle\n",
    "import IPython\n",
    "import copy, argparse, json\n",
    "\n",
    "%matplotlib inline\n",
    "%load_ext autoreload\n",
    "%autoreload 2"
   ]
  },
  {
   "cell_type": "markdown",
   "metadata": {},
   "source": [
    "# Load Data\n",
    "-------------------"
   ]
  },
  {
   "cell_type": "markdown",
   "metadata": {},
   "source": [
    "#### Action Set"
   ]
  },
  {
   "cell_type": "code",
   "execution_count": 55,
   "metadata": {
    "code_folding": [],
    "init_cell": true
   },
   "outputs": [
    {
     "name": "stdout",
     "output_type": "stream",
     "text": [
      "keys = 11\n",
      "Sample of dict:\n",
      "- multiple_choice: 6\n",
      "- closing: 5\n",
      "- inform: 1\n",
      "- confirm_question: 2\n",
      "- deny: 9\n"
     ]
    }
   ],
   "source": [
    "#\n",
    "act_set_path = './data/dia_acts.txt'\n",
    "act_set = text_to_dict(act_set_path)\n",
    "sample_dict(act_set)"
   ]
  },
  {
   "cell_type": "markdown",
   "metadata": {},
   "source": [
    "### slot set"
   ]
  },
  {
   "cell_type": "code",
   "execution_count": 56,
   "metadata": {
    "code_folding": [],
    "init_cell": true
   },
   "outputs": [
    {
     "name": "stdout",
     "output_type": "stream",
     "text": [
      "keys = 7\n",
      "Sample of dict:\n",
      "- taskcomplete: 6\n",
      "- travelers: 4\n",
      "- destination1: 0\n",
      "- flightDate1: 2\n",
      "- origin1: 3\n"
     ]
    }
   ],
   "source": [
    "#\n",
    "slots_set_path = \"./parser/slot_set.txt\"\n",
    "slot_set = text_to_dict(slots_set_path)\n",
    "sample_dict(slot_set)"
   ]
  },
  {
   "cell_type": "markdown",
   "metadata": {},
   "source": [
    "### flight dic: info about flights"
   ]
  },
  {
   "cell_type": "code",
   "execution_count": 57,
   "metadata": {
    "code_folding": [],
    "init_cell": true
   },
   "outputs": [
    {
     "name": "stdout",
     "output_type": "stream",
     "text": [
      "keys = 1000\n",
      "Sample of dict:\n",
      "- 489: {'travelers': '1', 'flightDate1': '1', 'destination1': 'SYD', 'origin1': 'BOM', 'flightDate2': '3'}\n"
     ]
    }
   ],
   "source": [
    "#\n",
    "flight_kb_path = \"./parser/fkb.json.p\"\n",
    "flight_kb = pickle.load(open(flight_kb_path, 'rb'), encoding=\"latin\")\n",
    "sample_dict(flight_kb, sample_size=1)"
   ]
  },
  {
   "cell_type": "markdown",
   "metadata": {},
   "source": [
    "# Language Generator (pretrained)\n",
    "-------------------"
   ]
  },
  {
   "cell_type": "code",
   "execution_count": 58,
   "metadata": {
    "code_folding": [],
    "collapsed": true
   },
   "outputs": [],
   "source": [
    "#\n",
    "nlg_model_path ='data/trained_model/nlg/lstm_tanh_relu_[1468202263.38]_2_0.610.p'\n",
    "nlg_model = Nlg()\n",
    "nlg_model.load_nlg_model(nlg_model_path)\n",
    "diaact_nl_pairs_path = \"./parser/flight.nl.pairs.json\"\n",
    "nlg_model.load_predefine_act_nl_pairs(diaact_nl_pairs_path)"
   ]
  },
  {
   "cell_type": "markdown",
   "metadata": {},
   "source": [
    "## Model Params"
   ]
  },
  {
   "cell_type": "code",
   "execution_count": 59,
   "metadata": {
    "code_folding": [],
    "init_cell": true
   },
   "outputs": [
    {
     "name": "stdout",
     "output_type": "stream",
     "text": [
      "eva_metric: 2\n",
      "split_method: 1\n",
      "hidden_size: 100\n",
      "momentum: 0.1\n",
      "slot_rep: 1\n",
      "sdgtype: rmsprop\n",
      "max_epochs: 200\n",
      "batch_size: 16\n",
      "slot_set: data/slot_set.txt\n",
      "pretrained_model_path: None\n",
      "cv_fold: 6\n",
      "save_check_point: 20\n",
      "model: lstm_tanh\n",
      "feed_recurrence: 0\n",
      "decay_rate: 0.999\n",
      "learning_rate: 0.001\n",
      "dia_slot_val: 2\n",
      "data_path: .\\data\\movieMultiLine.Annot.Corrected.Final.v3.csv\n",
      "grad_clip: -0.0001\n",
      "act_set: data/dia_acts.txt\n",
      "valid_test: 0\n",
      "trained_model_path: None\n",
      "init_rnn: 0\n",
      "write_model_dir: .\\checkpoints\\template\\07102016\\\n",
      "check_point: 20\n",
      "reg_cost: 0.001\n",
      "activation_func: relu\n",
      "smooth_eps: 1e-08\n"
     ]
    }
   ],
   "source": [
    "#\n",
    "model_params = pickle.load(open(nlg_model_path, 'rb'), encoding='latin1')\n",
    "params = model_params['params']\n",
    "params['batch_size'] = 16\n",
    "batch_size = 16\n",
    "save_check_point = 20\n",
    "params['trained_model_path'] = None\n",
    "for k in params:\n",
    "    print(\"{}: {}\".format(k, params[k]))"
   ]
  },
  {
   "cell_type": "markdown",
   "metadata": {},
   "source": [
    "# User Simulator\n",
    "-------------------"
   ]
  },
  {
   "cell_type": "markdown",
   "metadata": {},
   "source": [
    "### goal"
   ]
  },
  {
   "cell_type": "code",
   "execution_count": 60,
   "metadata": {
    "code_folding": [],
    "init_cell": true
   },
   "outputs": [
    {
     "name": "stdout",
     "output_type": "stream",
     "text": [
      "goals length: 128\n",
      "Sample the first goal: \n",
      "{'request_slots': {}, 'diaact': 'request', 'inform_slots': {'travelers': '4', 'flightDate1': '2', 'destination1': 'MCO', 'origin1': 'MUC', 'flightDate2': '3'}}\n"
     ]
    }
   ],
   "source": [
    "#\n",
    "goal_file_path = './parser/fg.json.p'\n",
    "all_goal_set = pickle.load(open(goal_file_path, 'rb'), encoding=\"latin\")\n",
    "print(\"goals length: {}\".format(len(all_goal_set)))\n",
    "print(\"Sample the first goal: \\n{}\".format(all_goal_set[0]))"
   ]
  },
  {
   "cell_type": "markdown",
   "metadata": {},
   "source": [
    "### Split goal set"
   ]
  },
  {
   "cell_type": "code",
   "execution_count": 61,
   "metadata": {
    "code_folding": []
   },
   "outputs": [
    {
     "name": "stdout",
     "output_type": "stream",
     "text": [
      "102\n",
      "0\n",
      "26\n",
      "128\n"
     ]
    }
   ],
   "source": [
    "# split goal set\n",
    "split_fold = params.get('split_fold', 5)\n",
    "goal_set = {'train':[], 'valid':[], 'test':[], 'all':[]}\n",
    "for u_goal_id, u_goal in enumerate(all_goal_set):\n",
    "    if u_goal_id % split_fold == 1: goal_set['test'].append(u_goal)\n",
    "    else: goal_set['train'].append(u_goal)\n",
    "    goal_set['all'].append(u_goal)\n",
    "print(len(goal_set['train']))\n",
    "print(len(goal_set['valid']))\n",
    "print(len(goal_set['test']))\n",
    "print(len(goal_set['all']))"
   ]
  },
  {
   "cell_type": "markdown",
   "metadata": {},
   "source": [
    "### user simulator param"
   ]
  },
  {
   "cell_type": "code",
   "execution_count": 62,
   "metadata": {
    "code_folding": [],
    "collapsed": true
   },
   "outputs": [],
   "source": [
    "#\n",
    "usersim_params = {}\n",
    "usersim_params['max_turn'] = 40\n",
    "usersim_params['slot_err_prob'] = 0.00\n",
    "# slot_err_mode: 0 for slot_val only; 1 for three errs\n",
    "usersim_params['slot_err_mode'] = 0\n",
    "usersim_params['intent_err_prob'] = 0\n",
    "# run_mode: 0 for default NL; 1 for dia_act; 2 for both\n",
    "usersim_params['run_mode'] = 0\n",
    "# 0 for dia_act level; 1 for NL level\n",
    "usersim_params['act_level'] = 0\n",
    "# train/test/all; default is all\n",
    "usersim_params['learn_phase'] = 'all'"
   ]
  },
  {
   "cell_type": "markdown",
   "metadata": {},
   "source": [
    "### a flights dictionary for user simulator - slot:possible values"
   ]
  },
  {
   "cell_type": "code",
   "execution_count": 63,
   "metadata": {
    "code_folding": []
   },
   "outputs": [
    {
     "name": "stdout",
     "output_type": "stream",
     "text": [
      "keys = 20\n",
      "Sample of dict:\n",
      "- actor: ['ryan reynolds', 'tina fey']\n"
     ]
    }
   ],
   "source": [
    "#\n",
    "flight_dict_path = './parser/dicts.v3.p'\n",
    "flight_dictionary = pickle.load(open(flight_dict_path, 'rb'), encoding=\"latin\")\n",
    "samples = sample_dict(flight_dictionary, sample_size=1)"
   ]
  },
  {
   "cell_type": "markdown",
   "metadata": {},
   "source": [
    "###  Create a User"
   ]
  },
  {
   "cell_type": "code",
   "execution_count": 64,
   "metadata": {
    "collapsed": true
   },
   "outputs": [],
   "source": [
    "user = RuleSimulator(flight_dictionary, act_set, slot_set, goal_set, usersim_params)\n",
    "# user = AlternateSimulator(flight_dictionary, act_set, slot_set, goal_set, usersim_params)\n",
    "user.set_nlg_model(nlg_model)"
   ]
  },
  {
   "cell_type": "markdown",
   "metadata": {},
   "source": [
    "# Agent\n",
    "-------------------"
   ]
  },
  {
   "cell_type": "markdown",
   "metadata": {},
   "source": [
    "## param"
   ]
  },
  {
   "cell_type": "code",
   "execution_count": 65,
   "metadata": {
    "code_folding": []
   },
   "outputs": [
    {
     "name": "stdout",
     "output_type": "stream",
     "text": [
      "pretrained model path = None\n"
     ]
    }
   ],
   "source": [
    "#\n",
    "agent_params = {}\n",
    "# maximum length of each dialog (default=20, 0=no maximum length)\n",
    "agent_params['max_turn'] = 40\n",
    "# Epsilon to determine stochasticity of epsilon-greedy agent policies\n",
    "agent_params['epsilon'] = 0\n",
    "# run_mode: 0 for default NL; 1 for dia_act; 2 for both\n",
    "agent_params['agent_run_mode'] = 3\n",
    "# 0 for dia_act level; 1 for NL level\n",
    "agent_params['agent_act_level'] = 0\n",
    "\n",
    "############### DQN #################\n",
    "# the size for experience replay\n",
    "agent_params['experience_replay_pool_size'] = 10000\n",
    "# # the hidden size for DQN\n",
    "agent_params['dqn_hidden_size'] = 60\n",
    "agent_params['batch_size'] = 16\n",
    "# # gamma for DQN\n",
    "agent_params['gamma'] = 0.9\n",
    "# # predict model for DQN\n",
    "agent_params['predict_mode'] = True\n",
    "agent_params['trained_model_path'] = params['pretrained_model_path']\n",
    "#####################################\n",
    "print(\"pretrained model path = {}\".format(agent_params['trained_model_path']))\n",
    "# 0: no warm start; 1: warm start for training\n",
    "agent_params['warm_start'] = 1\n",
    "# run_mode: 0 for NL; 1 for dia_act\n",
    "agent_params['cmd_input_mode'] = 0\n",
    "\n",
    "success_rate_threshold = 0.3"
   ]
  },
  {
   "cell_type": "markdown",
   "metadata": {},
   "source": [
    "### create an agent"
   ]
  },
  {
   "cell_type": "code",
   "execution_count": 66,
   "metadata": {
    "code_folding": [],
    "scrolled": false
   },
   "outputs": [
    {
     "name": "stdout",
     "output_type": "stream",
     "text": [
      "80\n"
     ]
    }
   ],
   "source": [
    "# agent = RequestBasicsAgent(movie_kb, act_set, slot_set, agent_params)\n",
    "# agent = AgentDQN(movie_kb, act_set, slot_set, agent_params)\n",
    "# agt = 9\n",
    "agt = 10\n",
    "agent_params['batch_size']  = batch_size\n",
    "if agt == 9:\n",
    "    agent = AgentDQN(flight_kb, act_set, slot_set, agent_params)\n",
    "else:\n",
    "    agent = DQNAgentTF(flight_k.b, act_set, slot_set, agent_params, transfer=False, path=\"trained_model/tf_100/model.ckpt\")\n",
    "\n",
    "agent.set_nlg_model(nlg_model)"
   ]
  },
  {
   "cell_type": "markdown",
   "metadata": {},
   "source": [
    "# Dialog Manager\n",
    "-------------------"
   ]
  },
  {
   "cell_type": "code",
   "execution_count": 67,
   "metadata": {
    "collapsed": true
   },
   "outputs": [],
   "source": [
    "dlg_manager = DlgManager(agent, user, act_set, slot_set, flight_kb)"
   ]
  },
  {
   "cell_type": "markdown",
   "metadata": {},
   "source": [
    "## Running Episodes\n",
    "-------------------"
   ]
  },
  {
   "cell_type": "markdown",
   "metadata": {},
   "source": [
    "### Param"
   ]
  },
  {
   "cell_type": "code",
   "execution_count": 69,
   "metadata": {
    "code_folding": [],
    "collapsed": true
   },
   "outputs": [],
   "source": [
    "#\n",
    "status = {'successes': 0, 'count': 0, 'cumulative_reward': 0}\n",
    "# the size of validation set\n",
    "simulation_epoch_size = 100\n",
    "# the number of epochs for warm start \n",
    "warm_start_epochs = 100\n",
    "# num_episodes = 60"
   ]
  },
  {
   "cell_type": "code",
   "execution_count": 70,
   "metadata": {
    "collapsed": true
   },
   "outputs": [],
   "source": [
    "\"\"\" Warm_Start Simulation (by Rule Policy) \"\"\"\n",
    "def warm_start_simulation():\n",
    "    successes = 0\n",
    "    cumulative_reward = 0\n",
    "    cumulative_turns = 0\n",
    "    \n",
    "    res = {}\n",
    "    for episode in range(warm_start_epochs):\n",
    "        dlg_manager.init_episode()\n",
    "        episode_over = False\n",
    "        while(not episode_over):\n",
    "            episode_over, reward = dlg_manager.step()\n",
    "            cumulative_reward += reward\n",
    "            if episode_over:\n",
    "                if reward > 0: \n",
    "                    successes += 1\n",
    "#                     print (\"warm_start simulation episode %s: Success\" % (episode))\n",
    "#                 else: print (\"warm_start simulation episode %s: Fail\" % (episode))\n",
    "                cumulative_turns += dlg_manager.state_tracker.turn_count\n",
    "        \n",
    "        if len(agent.experience_replay_pool) >= agent.experience_replay_pool_size:\n",
    "            break\n",
    "    \n",
    "    agent.warm_start = 2\n",
    "    res['success_rate'] = float(successes)/simulation_epoch_size\n",
    "    res['ave_reward'] = float(cumulative_reward)/simulation_epoch_size\n",
    "    res['ave_turns'] = float(cumulative_turns)/simulation_epoch_size\n",
    "    print (\"Warm_Start %s epochs, success rate %s, ave reward %s, ave turns %s\" % (episode+1, res['success_rate'], res['ave_reward'], res['ave_turns']))\n",
    "    print (\"Current experience replay buffer size %s\" % (len(agent.experience_replay_pool)))"
   ]
  },
  {
   "cell_type": "code",
   "execution_count": 71,
   "metadata": {
    "collapsed": true
   },
   "outputs": [],
   "source": [
    "def simulation_epoch(simulation_epoch_size):\n",
    "    successes = 0\n",
    "    cumulative_reward = 0\n",
    "    cumulative_turns = 0\n",
    "    \n",
    "    res = {}\n",
    "    for episode in range(simulation_epoch_size):\n",
    "        dlg_manager.init_episode()\n",
    "        episode_over = False\n",
    "        while(not episode_over):\n",
    "            episode_over, reward = dlg_manager.step()\n",
    "            cumulative_reward += reward\n",
    "            if episode_over:\n",
    "                if reward > 0: \n",
    "                    successes += 1\n",
    "#                     print (\"simulation episode %s: Success\" % (episode))\n",
    "#                 else: print (\"simulation episode %s: Fail\" % (episode))\n",
    "                cumulative_turns += dlg_manager.state_tracker.turn_count\n",
    "    \n",
    "    res['success_rate'] = float(successes)/simulation_epoch_size\n",
    "    res['ave_reward'] = float(cumulative_reward)/simulation_epoch_size\n",
    "    res['ave_turns'] = float(cumulative_turns)/simulation_epoch_size\n",
    "    print(\"simulation success rate %s, ave reward %s, ave turns %s\" % (res['success_rate'], res['ave_reward'], res['ave_turns']))\n",
    "    return res"
   ]
  },
  {
   "cell_type": "code",
   "execution_count": 72,
   "metadata": {
    "code_folding": [],
    "collapsed": true,
    "init_cell": true
   },
   "outputs": [],
   "source": [
    "def run_episodes(count, status):\n",
    "    successes = 0\n",
    "    cumulative_reward = 0\n",
    "    cumulative_turns = 0\n",
    "    \n",
    "    \n",
    "    if agt >= 9 and params['trained_model_path'] == None and agent.warm_start == 1:\n",
    "        print ('warm_start starting ...')\n",
    "        warm_start_simulation()\n",
    "        print ('warm_start finished, start RL training ...')\n",
    "    \n",
    "    for episode in range(count):\n",
    "        print (\"----------------- Episode: %s ----------------- \" % (episode))\n",
    "        dlg_manager.init_episode()\n",
    "        episode_over = False\n",
    "        \n",
    "        while(not episode_over):\n",
    "            episode_over, reward = dlg_manager.step()\n",
    "            cumulative_reward += reward\n",
    "                \n",
    "            if episode_over:\n",
    "                if reward > 0:\n",
    "                    print (\"Successful Dialog!\")\n",
    "                    successes += 1\n",
    "#                 else: print (\"Failed Dialog!\")\n",
    "                \n",
    "                cumulative_turns += dlg_manager.state_tracker.turn_count\n",
    "        \n",
    "        # simulation\n",
    "        if agt >= 9 and params['trained_model_path'] == None:\n",
    "            agent.predict_mode = True\n",
    "            simulation_res = simulation_epoch(simulation_epoch_size)\n",
    "            \n",
    "            performance_records['success_rate'][episode] = simulation_res['success_rate']\n",
    "            performance_records['ave_turns'][episode] = simulation_res['ave_turns']\n",
    "            performance_records['ave_reward'][episode] = simulation_res['ave_reward']\n",
    "            \n",
    "            if simulation_res['success_rate'] >= best_res['success_rate']:\n",
    "                if simulation_res['success_rate'] >= success_rate_threshold: # threshold = 0.30\n",
    "                    agent.experience_replay_pool = [] \n",
    "                    simulation_epoch(simulation_epoch_size)\n",
    "                \n",
    "#             if simulation_res['success_rate'] > best_res['success_rate']:\n",
    "#                 best_model['model'] = copy.deepcopy(agent)\n",
    "#                 best_res['success_rate'] = simulation_res['success_rate']\n",
    "#                 best_res['ave_reward'] = simulation_res['ave_reward']\n",
    "#                 best_res['ave_turns'] = simulation_res['ave_turns']\n",
    "#                 best_res['epoch'] = episode\n",
    "                \n",
    "            loss = agent.train(batch_size, 1)\n",
    "            if agt == 10: \n",
    "                agent.model.update_target_params()\n",
    "            else: \n",
    "                agent.clone_dqn = copy.deepcopy(agent.dqn)\n",
    "                \n",
    "            agent.predict_mode = False\n",
    "            \n",
    "            print (\"Simulation success rate %s, Ave reward %s, Ave turns %s, Best success rate %s\" % (performance_records['success_rate'][episode], performance_records['ave_reward'][episode], performance_records['ave_turns'][episode], best_res['success_rate']))\n",
    "#             if episode % save_check_point == 0 and params['trained_model_path'] == None: # save the model every 10 episodes\n",
    "#                 save_model(params['write_model_dir'], agt, best_res['success_rate'], best_model['model'], best_res['epoch'], episode)\n",
    "#                 save_performance_records(params['write_model_dir'], agt, performance_records)\n",
    "        curve.append(successes/(episode+1))\n",
    "        losses.append(loss)\n",
    "        print(\"Progress: %s / %s, Success rate: %s / %s Avg reward: %.2f Avg turns: %.2f\" % (episode+1, count, successes, episode+1, float(cumulative_reward)/(episode+1), float(cumulative_turns)/(episode+1)))\n",
    "    print(\"Success rate: %s / %s Avg reward: %.2f Avg turns: %.2f\" % (successes, count, float(cumulative_reward)/count, float(cumulative_turns)/count))\n",
    "    status['successes'] += successes\n",
    "    status['count'] += count\n",
    "    \n",
    "#     if agt == 9 and params['traained_model_path'] == None:\n",
    "#         save_model(params['write_model_dir'], agt, float(successes)/count, best_model['model'], best_res['epoch'], count)\n",
    "#         save_performance_records(params['write_model_dir'], agt, performance_records)\n"
   ]
  },
  {
   "cell_type": "markdown",
   "metadata": {},
   "source": [
    "## Run a Warm Start"
   ]
  },
  {
   "cell_type": "markdown",
   "metadata": {},
   "source": [
    "# Train & Eval\n",
    "-------------------"
   ]
  },
  {
   "cell_type": "code",
   "execution_count": 73,
   "metadata": {
    "scrolled": false
   },
   "outputs": [
    {
     "name": "stdout",
     "output_type": "stream",
     "text": [
      "warm_start starting ...\n",
      "Warm_Start 100 epochs, success rate 1.0, ave reward 74.0, ave turns 14.0\n",
      "Current experience replay buffer size 700\n",
      "warm_start finished, start RL training ...\n",
      "----------------- Episode: 0 ----------------- \n",
      "simulation success rate 0.0, ave reward -60.0, ave turns 42.0\n",
      "Train on : 2821\n",
      "- cur bellman err 16.1745, experience replay pool 2821\n",
      "Simulation success rate 0.0, Ave reward -60.0, Ave turns 42.0, Best success rate 0\n",
      "Progress: 1 / 100, Success rate: 0 / 1 Avg reward: -60.00 Avg turns: 42.00\n",
      "----------------- Episode: 1 ----------------- \n",
      "simulation success rate 0.0, ave reward -40.0, ave turns 2.0\n",
      "Train on : 2921\n",
      "- cur bellman err 18.0036, experience replay pool 2921\n",
      "Simulation success rate 0.0, Ave reward -40.0, Ave turns 2.0, Best success rate 0\n",
      "Progress: 2 / 100, Success rate: 0 / 2 Avg reward: -50.00 Avg turns: 22.00\n",
      "----------------- Episode: 2 ----------------- \n",
      "simulation success rate 0.0, ave reward -45.42, ave turns 12.84\n",
      "Train on : 3563\n",
      "- cur bellman err 13.2958, experience replay pool 3563\n",
      "Simulation success rate 0.0, Ave reward -45.42, Ave turns 12.84, Best success rate 0\n",
      "Progress: 3 / 100, Success rate: 0 / 3 Avg reward: -53.33 Avg turns: 28.67\n",
      "----------------- Episode: 3 ----------------- \n",
      "simulation success rate 0.0, ave reward -41.6, ave turns 5.2\n",
      "Train on : 3823\n",
      "- cur bellman err 13.3502, experience replay pool 3823\n",
      "Simulation success rate 0.0, Ave reward -41.6, Ave turns 5.2, Best success rate 0\n",
      "Progress: 4 / 100, Success rate: 0 / 4 Avg reward: -50.25 Avg turns: 22.50\n",
      "----------------- Episode: 4 ----------------- \n",
      "simulation success rate 0.0, ave reward -54.4, ave turns 30.8\n",
      "Train on : 5363\n",
      "- cur bellman err 8.9241, experience replay pool 5363\n",
      "Simulation success rate 0.0, Ave reward -54.4, Ave turns 30.8, Best success rate 0\n",
      "Progress: 5 / 100, Success rate: 0 / 5 Avg reward: -49.40 Avg turns: 20.80\n",
      "----------------- Episode: 5 ----------------- \n",
      "simulation success rate 0.0, ave reward -60.0, ave turns 42.0\n",
      "Train on : 7463\n",
      "- cur bellman err 6.5083, experience replay pool 7463\n",
      "Simulation success rate 0.0, Ave reward -60.0, Ave turns 42.0, Best success rate 0\n",
      "Progress: 6 / 100, Success rate: 0 / 6 Avg reward: -51.17 Avg turns: 24.33\n",
      "----------------- Episode: 6 ----------------- \n",
      "simulation success rate 0.0, ave reward -60.0, ave turns 42.0\n",
      "Train on : 9563\n",
      "- cur bellman err 4.4405, experience replay pool 9563\n",
      "Simulation success rate 0.0, Ave reward -60.0, Ave turns 42.0, Best success rate 0\n",
      "Progress: 7 / 100, Success rate: 0 / 7 Avg reward: -52.43 Avg turns: 26.86\n",
      "----------------- Episode: 7 ----------------- \n",
      "simulation success rate 0.0, ave reward -60.0, ave turns 42.0\n",
      "Train on : 11663\n",
      "- cur bellman err 2.4168, experience replay pool 11663\n",
      "Simulation success rate 0.0, Ave reward -60.0, Ave turns 42.0, Best success rate 0\n",
      "Progress: 8 / 100, Success rate: 0 / 8 Avg reward: -53.38 Avg turns: 28.75\n",
      "----------------- Episode: 8 ----------------- \n",
      "simulation success rate 0.0, ave reward -60.0, ave turns 42.0\n",
      "Train on : 13763\n",
      "- cur bellman err 1.1891, experience replay pool 13763\n",
      "Simulation success rate 0.0, Ave reward -60.0, Ave turns 42.0, Best success rate 0\n",
      "Progress: 9 / 100, Success rate: 0 / 9 Avg reward: -54.11 Avg turns: 30.22\n",
      "----------------- Episode: 9 ----------------- \n",
      "Successful Dialog!\n",
      "simulation success rate 0.56, ave reward 11.87, ave turns 32.66\n",
      "simulation success rate 0.58, ave reward 13.7, ave turns 33.8\n",
      "Train on : 1690\n",
      "- cur bellman err 5.7019, experience replay pool 1690\n",
      "Simulation success rate 0.56, Ave reward 11.87, Ave turns 32.66, Best success rate 0\n",
      "Progress: 10 / 100, Success rate: 1 / 10 Avg reward: -41.30 Avg turns: 28.60\n",
      "----------------- Episode: 10 ----------------- \n",
      "Successful Dialog!\n",
      "simulation success rate 1.0, ave reward 69.49, ave turns 23.02\n",
      "simulation success rate 1.0, ave reward 69.13, ave turns 23.74\n",
      "Train on : 1187\n",
      "- cur bellman err 1.9966, experience replay pool 1187\n",
      "Simulation success rate 1.0, Ave reward 69.49, Ave turns 23.02, Best success rate 0\n",
      "Progress: 11 / 100, Success rate: 2 / 11 Avg reward: -31.64 Avg turns: 28.91\n",
      "----------------- Episode: 11 ----------------- \n",
      "simulation success rate 0.79, ave reward 46.02, ave turns 19.56\n",
      "simulation success rate 0.83, ave reward 51.78, ave turns 17.64\n",
      "Train on : 882\n",
      "- cur bellman err 3.9391, experience replay pool 882\n",
      "Simulation success rate 0.79, Ave reward 46.02, Ave turns 19.56, Best success rate 0\n",
      "Progress: 12 / 100, Success rate: 2 / 12 Avg reward: -34.00 Avg turns: 30.00\n",
      "----------------- Episode: 12 ----------------- \n",
      "simulation success rate 0.6, ave reward 16.61, ave turns 32.78\n",
      "simulation success rate 0.69, ave reward 27.75, ave turns 32.1\n",
      "Train on : 1605\n",
      "- cur bellman err 3.6934, experience replay pool 1605\n",
      "Simulation success rate 0.6, Ave reward 16.61, Ave turns 32.78, Best success rate 0\n",
      "Progress: 13 / 100, Success rate: 2 / 13 Avg reward: -36.00 Avg turns: 30.92\n",
      "----------------- Episode: 13 ----------------- \n",
      "simulation success rate 0.0, ave reward -60.0, ave turns 42.0\n",
      "Train on : 3705\n",
      "- cur bellman err 1.5580, experience replay pool 3705\n",
      "Simulation success rate 0.0, Ave reward -60.0, Ave turns 42.0, Best success rate 0\n",
      "Progress: 14 / 100, Success rate: 2 / 14 Avg reward: -37.71 Avg turns: 31.71\n",
      "----------------- Episode: 14 ----------------- \n",
      "Successful Dialog!\n",
      "simulation success rate 1.0, ave reward 74.85, ave turns 12.3\n",
      "simulation success rate 1.0, ave reward 74.72, ave turns 12.56\n",
      "Train on : 628\n",
      "- cur bellman err 2.2013, experience replay pool 628\n",
      "Simulation success rate 1.0, Ave reward 74.85, Ave turns 12.3, Best success rate 0\n",
      "Progress: 15 / 100, Success rate: 3 / 15 Avg reward: -30.20 Avg turns: 30.40\n",
      "----------------- Episode: 15 ----------------- \n",
      "simulation success rate 0.68, ave reward 22.28, ave turns 40.64\n",
      "simulation success rate 0.76, ave reward 31.96, ave turns 40.48\n",
      "Train on : 2024\n",
      "- cur bellman err 1.4816, experience replay pool 2024\n",
      "Simulation success rate 0.68, Ave reward 22.28, Ave turns 40.64, Best success rate 0\n",
      "Progress: 16 / 100, Success rate: 3 / 16 Avg reward: -32.06 Avg turns: 31.12\n",
      "----------------- Episode: 16 ----------------- \n",
      "Successful Dialog!\n",
      "simulation success rate 1.0, ave reward 73.73, ave turns 14.54\n",
      "simulation success rate 1.0, ave reward 73.58, ave turns 14.84\n",
      "Train on : 742\n",
      "- cur bellman err 2.9833, experience replay pool 742\n",
      "Simulation success rate 1.0, Ave reward 73.73, Ave turns 14.54, Best success rate 0\n",
      "Progress: 17 / 100, Success rate: 4 / 17 Avg reward: -25.82 Avg turns: 30.12\n",
      "----------------- Episode: 17 ----------------- \n",
      "simulation success rate 0.0, ave reward -60.0, ave turns 42.0\n",
      "Train on : 2842\n",
      "- cur bellman err 2.2102, experience replay pool 2842\n",
      "Simulation success rate 0.0, Ave reward -60.0, Ave turns 42.0, Best success rate 0\n",
      "Progress: 18 / 100, Success rate: 4 / 18 Avg reward: -27.72 Avg turns: 30.78\n",
      "----------------- Episode: 18 ----------------- \n",
      "simulation success rate 0.0, ave reward -60.0, ave turns 42.0\n",
      "Train on : 4942\n",
      "- cur bellman err 0.8467, experience replay pool 4942\n",
      "Simulation success rate 0.0, Ave reward -60.0, Ave turns 42.0, Best success rate 0\n",
      "Progress: 19 / 100, Success rate: 4 / 19 Avg reward: -29.42 Avg turns: 31.37\n",
      "----------------- Episode: 19 ----------------- \n",
      "Successful Dialog!\n",
      "simulation success rate 0.8, ave reward 40.8, ave turns 32.4\n",
      "simulation success rate 0.8, ave reward 40.8, ave turns 32.4\n",
      "Train on : 1620\n",
      "- cur bellman err 0.8570, experience replay pool 1620\n",
      "Simulation success rate 0.8, Ave reward 40.8, Ave turns 32.4, Best success rate 0\n",
      "Progress: 20 / 100, Success rate: 5 / 20 Avg reward: -24.65 Avg turns: 31.30\n",
      "----------------- Episode: 20 ----------------- \n",
      "Successful Dialog!\n",
      "simulation success rate 1.0, ave reward 74.62, ave turns 12.76\n",
      "simulation success rate 1.0, ave reward 74.86, ave turns 12.28\n",
      "Train on : 614\n",
      "- cur bellman err 0.5995, experience replay pool 614\n",
      "Simulation success rate 1.0, Ave reward 74.62, Ave turns 12.76, Best success rate 0\n",
      "Progress: 21 / 100, Success rate: 6 / 21 Avg reward: -19.90 Avg turns: 30.38\n",
      "----------------- Episode: 21 ----------------- \n",
      "Successful Dialog!\n",
      "simulation success rate 1.0, ave reward 74.07, ave turns 13.86\n",
      "simulation success rate 1.0, ave reward 74.18, ave turns 13.64\n",
      "Train on : 682\n",
      "- cur bellman err 1.7148, experience replay pool 682\n",
      "Simulation success rate 1.0, Ave reward 74.07, Ave turns 13.86, Best success rate 0\n",
      "Progress: 22 / 100, Success rate: 7 / 22 Avg reward: -15.64 Avg turns: 29.64\n",
      "----------------- Episode: 22 ----------------- \n",
      "Successful Dialog!\n"
     ]
    },
    {
     "name": "stdout",
     "output_type": "stream",
     "text": [
      "simulation success rate 1.0, ave reward 74.95, ave turns 12.1\n",
      "simulation success rate 1.0, ave reward 75.07, ave turns 11.86\n",
      "Train on : 593\n",
      "- cur bellman err 0.4838, experience replay pool 593\n",
      "Simulation success rate 1.0, Ave reward 74.95, Ave turns 12.1, Best success rate 0\n",
      "Progress: 23 / 100, Success rate: 8 / 23 Avg reward: -11.65 Avg turns: 28.78\n",
      "----------------- Episode: 23 ----------------- \n",
      "Successful Dialog!\n",
      "simulation success rate 1.0, ave reward 74.09, ave turns 13.82\n",
      "simulation success rate 1.0, ave reward 74.24, ave turns 13.52\n",
      "Train on : 676\n",
      "- cur bellman err 1.2164, experience replay pool 676\n",
      "Simulation success rate 1.0, Ave reward 74.09, Ave turns 13.82, Best success rate 0\n",
      "Progress: 24 / 100, Success rate: 9 / 24 Avg reward: -8.12 Avg turns: 28.25\n",
      "----------------- Episode: 24 ----------------- \n",
      "Successful Dialog!\n",
      "simulation success rate 1.0, ave reward 74.0, ave turns 14.0\n",
      "simulation success rate 1.0, ave reward 74.0, ave turns 14.0\n",
      "Train on : 700\n",
      "- cur bellman err 1.0206, experience replay pool 700\n",
      "Simulation success rate 1.0, Ave reward 74.0, Ave turns 14.0, Best success rate 0\n",
      "Progress: 25 / 100, Success rate: 10 / 25 Avg reward: -4.84 Avg turns: 27.68\n",
      "----------------- Episode: 25 ----------------- \n",
      "Successful Dialog!\n",
      "simulation success rate 1.0, ave reward 74.98, ave turns 12.04\n",
      "simulation success rate 1.0, ave reward 75.1, ave turns 11.8\n",
      "Train on : 590\n",
      "- cur bellman err 0.4604, experience replay pool 590\n",
      "Simulation success rate 1.0, Ave reward 74.98, Ave turns 12.04, Best success rate 0\n",
      "Progress: 26 / 100, Success rate: 11 / 26 Avg reward: -1.77 Avg turns: 27.08\n",
      "----------------- Episode: 26 ----------------- \n",
      "Successful Dialog!\n",
      "simulation success rate 1.0, ave reward 74.18, ave turns 13.64\n",
      "simulation success rate 1.0, ave reward 74.01, ave turns 13.98\n",
      "Train on : 699\n",
      "- cur bellman err 0.5835, experience replay pool 699\n",
      "Simulation success rate 1.0, Ave reward 74.18, Ave turns 13.64, Best success rate 0\n",
      "Progress: 27 / 100, Success rate: 12 / 27 Avg reward: 1.07 Avg turns: 26.52\n",
      "----------------- Episode: 27 ----------------- \n",
      "Successful Dialog!\n",
      "simulation success rate 1.0, ave reward 74.93, ave turns 12.14\n",
      "simulation success rate 1.0, ave reward 74.84, ave turns 12.32\n",
      "Train on : 616\n",
      "- cur bellman err 0.4305, experience replay pool 616\n",
      "Simulation success rate 1.0, Ave reward 74.93, Ave turns 12.14, Best success rate 0\n",
      "Progress: 28 / 100, Success rate: 13 / 28 Avg reward: 3.71 Avg turns: 26.00\n",
      "----------------- Episode: 28 ----------------- \n",
      "Successful Dialog!\n",
      "simulation success rate 1.0, ave reward 74.37, ave turns 13.26\n",
      "simulation success rate 1.0, ave reward 74.25, ave turns 13.5\n",
      "Train on : 675\n",
      "- cur bellman err 0.4953, experience replay pool 675\n",
      "Simulation success rate 1.0, Ave reward 74.37, Ave turns 13.26, Best success rate 0\n",
      "Progress: 29 / 100, Success rate: 14 / 29 Avg reward: 6.17 Avg turns: 25.52\n",
      "----------------- Episode: 29 ----------------- \n",
      "Successful Dialog!\n",
      "simulation success rate 1.0, ave reward 74.78, ave turns 12.44\n",
      "simulation success rate 1.0, ave reward 74.92, ave turns 12.16\n",
      "Train on : 608\n",
      "- cur bellman err 0.3085, experience replay pool 608\n",
      "Simulation success rate 1.0, Ave reward 74.78, Ave turns 12.44, Best success rate 0\n",
      "Progress: 30 / 100, Success rate: 15 / 30 Avg reward: 8.47 Avg turns: 25.07\n",
      "----------------- Episode: 30 ----------------- \n",
      "simulation success rate 0.79, ave reward 46.65, ave turns 18.3\n",
      "simulation success rate 0.76, ave reward 42.6, ave turns 19.2\n",
      "Train on : 960\n",
      "- cur bellman err 0.9621, experience replay pool 960\n",
      "Simulation success rate 0.79, Ave reward 46.65, Ave turns 18.3, Best success rate 0\n",
      "Progress: 31 / 100, Success rate: 15 / 31 Avg reward: 6.26 Avg turns: 25.61\n",
      "----------------- Episode: 31 ----------------- \n",
      "Successful Dialog!\n",
      "simulation success rate 1.0, ave reward 75.05, ave turns 11.9\n",
      "simulation success rate 1.0, ave reward 74.99, ave turns 12.02\n",
      "Train on : 601\n",
      "- cur bellman err 0.2707, experience replay pool 601\n",
      "Simulation success rate 1.0, Ave reward 75.05, Ave turns 11.9, Best success rate 0\n",
      "Progress: 32 / 100, Success rate: 16 / 32 Avg reward: 8.34 Avg turns: 25.31\n",
      "----------------- Episode: 32 ----------------- \n",
      "Successful Dialog!\n",
      "simulation success rate 0.89, ave reward 59.43, ave turns 16.74\n",
      "simulation success rate 0.91, ave reward 61.98, ave turns 16.44\n",
      "Train on : 822\n",
      "- cur bellman err 1.5822, experience replay pool 822\n",
      "Simulation success rate 0.89, Ave reward 59.43, Ave turns 16.74, Best success rate 0\n",
      "Progress: 33 / 100, Success rate: 17 / 33 Avg reward: 10.36 Avg turns: 24.91\n",
      "----------------- Episode: 33 ----------------- \n",
      "Successful Dialog!\n",
      "simulation success rate 1.0, ave reward 74.27, ave turns 13.46\n",
      "simulation success rate 1.0, ave reward 74.37, ave turns 13.26\n",
      "Train on : 663\n",
      "- cur bellman err 0.4293, experience replay pool 663\n",
      "Simulation success rate 1.0, Ave reward 74.27, Ave turns 13.46, Best success rate 0\n",
      "Progress: 34 / 100, Success rate: 18 / 34 Avg reward: 12.24 Avg turns: 24.59\n",
      "----------------- Episode: 34 ----------------- \n",
      "Successful Dialog!\n",
      "simulation success rate 1.0, ave reward 74.75, ave turns 12.5\n",
      "simulation success rate 1.0, ave reward 74.82, ave turns 12.36\n",
      "Train on : 618\n",
      "- cur bellman err 0.4623, experience replay pool 618\n",
      "Simulation success rate 1.0, Ave reward 74.75, Ave turns 12.5, Best success rate 0\n",
      "Progress: 35 / 100, Success rate: 19 / 35 Avg reward: 14.03 Avg turns: 24.23\n",
      "----------------- Episode: 35 ----------------- \n",
      "Successful Dialog!\n",
      "simulation success rate 1.0, ave reward 74.98, ave turns 12.04\n",
      "simulation success rate 1.0, ave reward 74.88, ave turns 12.24\n",
      "Train on : 612\n",
      "- cur bellman err 0.3103, experience replay pool 612\n",
      "Simulation success rate 1.0, Ave reward 74.98, Ave turns 12.04, Best success rate 0\n",
      "Progress: 36 / 100, Success rate: 20 / 36 Avg reward: 15.67 Avg turns: 24.00\n",
      "----------------- Episode: 36 ----------------- \n",
      "Successful Dialog!\n",
      "simulation success rate 1.0, ave reward 74.83, ave turns 12.34\n",
      "simulation success rate 1.0, ave reward 74.76, ave turns 12.48\n",
      "Train on : 624\n",
      "- cur bellman err 0.6331, experience replay pool 624\n",
      "Simulation success rate 1.0, Ave reward 74.83, Ave turns 12.34, Best success rate 0\n",
      "Progress: 37 / 100, Success rate: 21 / 37 Avg reward: 17.27 Avg turns: 23.68\n",
      "----------------- Episode: 37 ----------------- \n",
      "Successful Dialog!\n",
      "simulation success rate 1.0, ave reward 74.93, ave turns 12.14\n",
      "simulation success rate 1.0, ave reward 75.01, ave turns 11.98\n",
      "Train on : 599\n",
      "- cur bellman err 0.1880, experience replay pool 599\n",
      "Simulation success rate 1.0, Ave reward 74.93, Ave turns 12.14, Best success rate 0\n",
      "Progress: 38 / 100, Success rate: 22 / 38 Avg reward: 18.82 Avg turns: 23.32\n",
      "----------------- Episode: 38 ----------------- \n",
      "Successful Dialog!\n",
      "simulation success rate 1.0, ave reward 74.86, ave turns 12.28\n",
      "simulation success rate 1.0, ave reward 74.68, ave turns 12.64\n",
      "Train on : 632\n",
      "- cur bellman err 0.6068, experience replay pool 632\n",
      "Simulation success rate 1.0, Ave reward 74.86, Ave turns 12.28, Best success rate 0\n",
      "Progress: 39 / 100, Success rate: 23 / 39 Avg reward: 20.26 Avg turns: 23.03\n",
      "----------------- Episode: 39 ----------------- \n",
      "Successful Dialog!\n",
      "simulation success rate 1.0, ave reward 74.95, ave turns 12.1\n",
      "simulation success rate 1.0, ave reward 74.98, ave turns 12.04\n",
      "Train on : 602\n",
      "- cur bellman err 0.2113, experience replay pool 602\n",
      "Simulation success rate 1.0, Ave reward 74.95, Ave turns 12.1, Best success rate 0\n",
      "Progress: 40 / 100, Success rate: 24 / 40 Avg reward: 21.65 Avg turns: 22.70\n",
      "----------------- Episode: 40 ----------------- \n",
      "Successful Dialog!\n",
      "simulation success rate 1.0, ave reward 74.85, ave turns 12.3\n",
      "simulation success rate 1.0, ave reward 74.89, ave turns 12.22\n",
      "Train on : 611\n",
      "- cur bellman err 0.4156, experience replay pool 611\n",
      "Simulation success rate 1.0, Ave reward 74.85, Ave turns 12.3, Best success rate 0\n",
      "Progress: 41 / 100, Success rate: 25 / 41 Avg reward: 22.95 Avg turns: 22.44\n",
      "----------------- Episode: 41 ----------------- \n",
      "Successful Dialog!\n",
      "simulation success rate 1.0, ave reward 75.01, ave turns 11.98\n",
      "simulation success rate 1.0, ave reward 75.01, ave turns 11.98\n",
      "Train on : 599\n",
      "- cur bellman err 0.1976, experience replay pool 599\n",
      "Simulation success rate 1.0, Ave reward 75.01, Ave turns 11.98, Best success rate 0\n",
      "Progress: 42 / 100, Success rate: 26 / 42 Avg reward: 24.21 Avg turns: 22.14\n",
      "----------------- Episode: 42 ----------------- \n",
      "Successful Dialog!\n"
     ]
    },
    {
     "name": "stdout",
     "output_type": "stream",
     "text": [
      "simulation success rate 1.0, ave reward 75.01, ave turns 11.98\n",
      "simulation success rate 1.0, ave reward 74.9, ave turns 12.2\n",
      "Train on : 610\n",
      "- cur bellman err 0.3391, experience replay pool 610\n",
      "Simulation success rate 1.0, Ave reward 75.01, Ave turns 11.98, Best success rate 0\n",
      "Progress: 43 / 100, Success rate: 27 / 43 Avg reward: 25.40 Avg turns: 21.91\n",
      "----------------- Episode: 43 ----------------- \n",
      "Successful Dialog!\n",
      "simulation success rate 1.0, ave reward 74.78, ave turns 12.44\n",
      "simulation success rate 1.0, ave reward 74.93, ave turns 12.14\n",
      "Train on : 607\n",
      "- cur bellman err 0.1920, experience replay pool 607\n",
      "Simulation success rate 1.0, Ave reward 74.78, Ave turns 12.44, Best success rate 0\n",
      "Progress: 44 / 100, Success rate: 28 / 44 Avg reward: 26.52 Avg turns: 21.68\n",
      "----------------- Episode: 44 ----------------- \n",
      "Successful Dialog!\n",
      "simulation success rate 1.0, ave reward 74.93, ave turns 12.14\n",
      "simulation success rate 1.0, ave reward 74.88, ave turns 12.24\n",
      "Train on : 612\n",
      "- cur bellman err 0.2846, experience replay pool 612\n",
      "Simulation success rate 1.0, Ave reward 74.93, Ave turns 12.14, Best success rate 0\n",
      "Progress: 45 / 100, Success rate: 29 / 45 Avg reward: 27.60 Avg turns: 21.47\n",
      "----------------- Episode: 45 ----------------- \n",
      "Successful Dialog!\n",
      "simulation success rate 1.0, ave reward 75.12, ave turns 11.76\n",
      "simulation success rate 1.0, ave reward 75.02, ave turns 11.96\n",
      "Train on : 598\n",
      "- cur bellman err 0.1722, experience replay pool 598\n",
      "Simulation success rate 1.0, Ave reward 75.12, Ave turns 11.76, Best success rate 0\n",
      "Progress: 46 / 100, Success rate: 30 / 46 Avg reward: 28.59 Avg turns: 21.35\n",
      "----------------- Episode: 46 ----------------- \n",
      "Successful Dialog!\n",
      "simulation success rate 1.0, ave reward 75.02, ave turns 11.96\n",
      "simulation success rate 1.0, ave reward 75.02, ave turns 11.96\n",
      "Train on : 598\n",
      "- cur bellman err 0.1718, experience replay pool 598\n",
      "Simulation success rate 1.0, Ave reward 75.02, Ave turns 11.96, Best success rate 0\n",
      "Progress: 47 / 100, Success rate: 31 / 47 Avg reward: 29.53 Avg turns: 21.23\n",
      "----------------- Episode: 47 ----------------- \n",
      "Successful Dialog!\n",
      "simulation success rate 1.0, ave reward 74.43, ave turns 13.14\n",
      "simulation success rate 1.0, ave reward 74.76, ave turns 12.48\n",
      "Train on : 624\n",
      "- cur bellman err 0.3288, experience replay pool 624\n",
      "Simulation success rate 1.0, Ave reward 74.43, Ave turns 13.14, Best success rate 0\n",
      "Progress: 48 / 100, Success rate: 32 / 48 Avg reward: 30.48 Avg turns: 21.04\n",
      "----------------- Episode: 48 ----------------- \n",
      "Successful Dialog!\n",
      "simulation success rate 1.0, ave reward 75.05, ave turns 11.9\n",
      "simulation success rate 1.0, ave reward 75.12, ave turns 11.76\n",
      "Train on : 588\n",
      "- cur bellman err 0.1939, experience replay pool 588\n",
      "Simulation success rate 1.0, Ave reward 75.05, Ave turns 11.9, Best success rate 0\n",
      "Progress: 49 / 100, Success rate: 33 / 49 Avg reward: 31.39 Avg turns: 20.86\n",
      "----------------- Episode: 49 ----------------- \n",
      "Successful Dialog!\n",
      "simulation success rate 1.0, ave reward 74.86, ave turns 12.28\n",
      "simulation success rate 1.0, ave reward 74.82, ave turns 12.36\n",
      "Train on : 618\n",
      "- cur bellman err 0.3904, experience replay pool 618\n",
      "Simulation success rate 1.0, Ave reward 74.86, Ave turns 12.28, Best success rate 0\n",
      "Progress: 50 / 100, Success rate: 34 / 50 Avg reward: 32.26 Avg turns: 20.68\n",
      "----------------- Episode: 50 ----------------- \n",
      "Successful Dialog!\n",
      "simulation success rate 1.0, ave reward 74.95, ave turns 12.1\n",
      "simulation success rate 1.0, ave reward 74.88, ave turns 12.24\n",
      "Train on : 612\n",
      "- cur bellman err 0.1952, experience replay pool 612\n",
      "Simulation success rate 1.0, Ave reward 74.95, Ave turns 12.1, Best success rate 0\n",
      "Progress: 51 / 100, Success rate: 35 / 51 Avg reward: 33.10 Avg turns: 20.51\n",
      "----------------- Episode: 51 ----------------- \n",
      "Successful Dialog!\n",
      "simulation success rate 1.0, ave reward 75.02, ave turns 11.96\n",
      "simulation success rate 1.0, ave reward 74.83, ave turns 12.34\n",
      "Train on : 617\n",
      "- cur bellman err 0.1657, experience replay pool 617\n",
      "Simulation success rate 1.0, Ave reward 75.02, Ave turns 11.96, Best success rate 0\n",
      "Progress: 52 / 100, Success rate: 36 / 52 Avg reward: 33.87 Avg turns: 20.42\n",
      "----------------- Episode: 52 ----------------- \n",
      "Successful Dialog!\n",
      "simulation success rate 1.0, ave reward 74.98, ave turns 12.04\n",
      "simulation success rate 1.0, ave reward 75.08, ave turns 11.84\n",
      "Train on : 592\n",
      "- cur bellman err 0.1853, experience replay pool 592\n",
      "Simulation success rate 1.0, Ave reward 74.98, Ave turns 12.04, Best success rate 0\n",
      "Progress: 53 / 100, Success rate: 37 / 53 Avg reward: 34.64 Avg turns: 20.26\n",
      "----------------- Episode: 53 ----------------- \n",
      "Successful Dialog!\n",
      "simulation success rate 1.0, ave reward 74.98, ave turns 12.04\n",
      "simulation success rate 1.0, ave reward 74.97, ave turns 12.06\n",
      "Train on : 603\n",
      "- cur bellman err 0.1341, experience replay pool 603\n",
      "Simulation success rate 1.0, Ave reward 74.98, Ave turns 12.04, Best success rate 0\n",
      "Progress: 54 / 100, Success rate: 38 / 54 Avg reward: 35.39 Avg turns: 20.11\n",
      "----------------- Episode: 54 ----------------- \n",
      "Successful Dialog!\n",
      "simulation success rate 1.0, ave reward 75.04, ave turns 11.92\n",
      "simulation success rate 1.0, ave reward 75.1, ave turns 11.8\n",
      "Train on : 590\n",
      "- cur bellman err 0.1455, experience replay pool 590\n",
      "Simulation success rate 1.0, Ave reward 75.04, Ave turns 11.92, Best success rate 0\n",
      "Progress: 55 / 100, Success rate: 39 / 55 Avg reward: 36.11 Avg turns: 19.96\n",
      "----------------- Episode: 55 ----------------- \n",
      "Successful Dialog!\n",
      "simulation success rate 1.0, ave reward 74.79, ave turns 12.42\n",
      "simulation success rate 1.0, ave reward 74.79, ave turns 12.42\n",
      "Train on : 621\n",
      "- cur bellman err 0.2716, experience replay pool 621\n",
      "Simulation success rate 1.0, Ave reward 74.79, Ave turns 12.42, Best success rate 0\n",
      "Progress: 56 / 100, Success rate: 40 / 56 Avg reward: 36.80 Avg turns: 19.82\n",
      "----------------- Episode: 56 ----------------- \n",
      "Successful Dialog!\n",
      "simulation success rate 1.0, ave reward 74.9, ave turns 12.2\n",
      "simulation success rate 1.0, ave reward 74.97, ave turns 12.06\n",
      "Train on : 603\n",
      "- cur bellman err 0.1626, experience replay pool 603\n",
      "Simulation success rate 1.0, Ave reward 74.9, Ave turns 12.2, Best success rate 0\n",
      "Progress: 57 / 100, Success rate: 41 / 57 Avg reward: 37.47 Avg turns: 19.68\n",
      "----------------- Episode: 57 ----------------- \n",
      "Successful Dialog!\n",
      "simulation success rate 1.0, ave reward 75.04, ave turns 11.92\n",
      "simulation success rate 1.0, ave reward 75.05, ave turns 11.9\n",
      "Train on : 595\n",
      "- cur bellman err 0.1476, experience replay pool 595\n",
      "Simulation success rate 1.0, Ave reward 75.04, Ave turns 11.92, Best success rate 0\n",
      "Progress: 58 / 100, Success rate: 42 / 58 Avg reward: 38.09 Avg turns: 19.62\n",
      "----------------- Episode: 58 ----------------- \n",
      "Successful Dialog!\n",
      "simulation success rate 1.0, ave reward 75.06, ave turns 11.88\n",
      "simulation success rate 1.0, ave reward 75.11, ave turns 11.78\n",
      "Train on : 589\n",
      "- cur bellman err 0.1450, experience replay pool 589\n",
      "Simulation success rate 1.0, Ave reward 75.06, Ave turns 11.88, Best success rate 0\n",
      "Progress: 59 / 100, Success rate: 43 / 59 Avg reward: 38.71 Avg turns: 19.49\n",
      "----------------- Episode: 59 ----------------- \n",
      "Successful Dialog!\n",
      "simulation success rate 1.0, ave reward 74.53, ave turns 12.94\n",
      "simulation success rate 1.0, ave reward 74.45, ave turns 13.1\n",
      "Train on : 655\n",
      "- cur bellman err 0.5339, experience replay pool 655\n",
      "Simulation success rate 1.0, Ave reward 74.53, Ave turns 12.94, Best success rate 0\n",
      "Progress: 60 / 100, Success rate: 44 / 60 Avg reward: 39.32 Avg turns: 19.37\n",
      "----------------- Episode: 60 ----------------- \n",
      "Successful Dialog!\n",
      "simulation success rate 1.0, ave reward 74.74, ave turns 12.52\n",
      "simulation success rate 1.0, ave reward 74.88, ave turns 12.24\n",
      "Train on : 612\n",
      "- cur bellman err 0.2346, experience replay pool 612\n",
      "Simulation success rate 1.0, Ave reward 74.74, Ave turns 12.52, Best success rate 0\n",
      "Progress: 61 / 100, Success rate: 45 / 61 Avg reward: 39.90 Avg turns: 19.25\n",
      "----------------- Episode: 61 ----------------- \n",
      "Successful Dialog!\n",
      "simulation success rate 1.0, ave reward 74.89, ave turns 12.22\n",
      "simulation success rate 1.0, ave reward 74.85, ave turns 12.3\n",
      "Train on : 615\n",
      "- cur bellman err 0.4124, experience replay pool 615\n",
      "Simulation success rate 1.0, Ave reward 74.89, Ave turns 12.22, Best success rate 0\n",
      "Progress: 62 / 100, Success rate: 46 / 62 Avg reward: 40.45 Avg turns: 19.16\n",
      "----------------- Episode: 62 ----------------- \n",
      "Successful Dialog!\n"
     ]
    },
    {
     "name": "stdout",
     "output_type": "stream",
     "text": [
      "simulation success rate 1.0, ave reward 74.98, ave turns 12.04\n",
      "simulation success rate 1.0, ave reward 74.81, ave turns 12.38\n",
      "Train on : 619\n",
      "- cur bellman err 0.1775, experience replay pool 619\n",
      "Simulation success rate 1.0, Ave reward 74.98, Ave turns 12.04, Best success rate 0\n",
      "Progress: 63 / 100, Success rate: 47 / 63 Avg reward: 41.02 Avg turns: 19.02\n",
      "----------------- Episode: 63 ----------------- \n",
      "Successful Dialog!\n",
      "simulation success rate 1.0, ave reward 75.17, ave turns 11.66\n",
      "simulation success rate 1.0, ave reward 75.01, ave turns 11.98\n",
      "Train on : 599\n",
      "- cur bellman err 0.1990, experience replay pool 599\n",
      "Simulation success rate 1.0, Ave reward 75.17, Ave turns 11.66, Best success rate 0\n",
      "Progress: 64 / 100, Success rate: 48 / 64 Avg reward: 41.56 Avg turns: 18.88\n",
      "----------------- Episode: 64 ----------------- \n",
      "Successful Dialog!\n",
      "simulation success rate 1.0, ave reward 75.06, ave turns 11.88\n",
      "simulation success rate 1.0, ave reward 74.97, ave turns 12.06\n",
      "Train on : 603\n",
      "- cur bellman err 0.2190, experience replay pool 603\n",
      "Simulation success rate 1.0, Ave reward 75.06, Ave turns 11.88, Best success rate 0\n",
      "Progress: 65 / 100, Success rate: 49 / 65 Avg reward: 42.08 Avg turns: 18.77\n",
      "----------------- Episode: 65 ----------------- \n",
      "Successful Dialog!\n",
      "simulation success rate 1.0, ave reward 74.96, ave turns 12.08\n",
      "simulation success rate 1.0, ave reward 74.93, ave turns 12.14\n",
      "Train on : 607\n",
      "- cur bellman err 0.1585, experience replay pool 607\n",
      "Simulation success rate 1.0, Ave reward 74.96, Ave turns 12.08, Best success rate 0\n",
      "Progress: 66 / 100, Success rate: 50 / 66 Avg reward: 42.55 Avg turns: 18.73\n",
      "----------------- Episode: 66 ----------------- \n",
      "Successful Dialog!\n",
      "simulation success rate 1.0, ave reward 74.86, ave turns 12.28\n",
      "simulation success rate 1.0, ave reward 74.85, ave turns 12.3\n",
      "Train on : 615\n",
      "- cur bellman err 0.4801, experience replay pool 615\n",
      "Simulation success rate 1.0, Ave reward 74.86, Ave turns 12.28, Best success rate 0\n",
      "Progress: 67 / 100, Success rate: 51 / 67 Avg reward: 43.03 Avg turns: 18.63\n",
      "----------------- Episode: 67 ----------------- \n",
      "Successful Dialog!\n",
      "simulation success rate 1.0, ave reward 74.89, ave turns 12.22\n",
      "simulation success rate 1.0, ave reward 75.1, ave turns 11.8\n",
      "Train on : 590\n",
      "- cur bellman err 0.2346, experience replay pool 590\n",
      "Simulation success rate 1.0, Ave reward 74.89, Ave turns 12.22, Best success rate 0\n",
      "Progress: 68 / 100, Success rate: 52 / 68 Avg reward: 43.50 Avg turns: 18.53\n",
      "----------------- Episode: 68 ----------------- \n",
      "Successful Dialog!\n",
      "simulation success rate 1.0, ave reward 74.86, ave turns 12.28\n",
      "simulation success rate 1.0, ave reward 75.1, ave turns 11.8\n",
      "Train on : 590\n",
      "- cur bellman err 0.1598, experience replay pool 590\n",
      "Simulation success rate 1.0, Ave reward 74.86, Ave turns 12.28, Best success rate 0\n",
      "Progress: 69 / 100, Success rate: 53 / 69 Avg reward: 43.96 Avg turns: 18.43\n",
      "----------------- Episode: 69 ----------------- \n",
      "Successful Dialog!\n",
      "simulation success rate 1.0, ave reward 74.99, ave turns 12.02\n",
      "simulation success rate 1.0, ave reward 74.98, ave turns 12.04\n",
      "Train on : 602\n",
      "- cur bellman err 0.2900, experience replay pool 602\n",
      "Simulation success rate 1.0, Ave reward 74.99, Ave turns 12.02, Best success rate 0\n",
      "Progress: 70 / 100, Success rate: 54 / 70 Avg reward: 44.40 Avg turns: 18.34\n",
      "----------------- Episode: 70 ----------------- \n",
      "Successful Dialog!\n",
      "simulation success rate 1.0, ave reward 74.97, ave turns 12.06\n",
      "simulation success rate 1.0, ave reward 74.99, ave turns 12.02\n",
      "Train on : 601\n",
      "- cur bellman err 0.1625, experience replay pool 601\n",
      "Simulation success rate 1.0, Ave reward 74.97, Ave turns 12.06, Best success rate 0\n",
      "Progress: 71 / 100, Success rate: 55 / 71 Avg reward: 44.83 Avg turns: 18.25\n",
      "----------------- Episode: 71 ----------------- \n",
      "Successful Dialog!\n",
      "simulation success rate 1.0, ave reward 74.2, ave turns 13.6\n",
      "simulation success rate 1.0, ave reward 74.0, ave turns 14.0\n",
      "Train on : 700\n",
      "- cur bellman err 0.6477, experience replay pool 700\n",
      "Simulation success rate 1.0, Ave reward 74.2, Ave turns 13.6, Best success rate 0\n",
      "Progress: 72 / 100, Success rate: 56 / 72 Avg reward: 45.25 Avg turns: 18.17\n",
      "----------------- Episode: 72 ----------------- \n",
      "Successful Dialog!\n",
      "simulation success rate 1.0, ave reward 74.98, ave turns 12.04\n",
      "simulation success rate 1.0, ave reward 75.07, ave turns 11.86\n",
      "Train on : 593\n",
      "- cur bellman err 0.2117, experience replay pool 593\n",
      "Simulation success rate 1.0, Ave reward 74.98, Ave turns 12.04, Best success rate 0\n",
      "Progress: 73 / 100, Success rate: 57 / 73 Avg reward: 45.67 Avg turns: 18.05\n",
      "----------------- Episode: 73 ----------------- \n",
      "Successful Dialog!\n",
      "simulation success rate 1.0, ave reward 74.97, ave turns 12.06\n",
      "simulation success rate 1.0, ave reward 74.84, ave turns 12.32\n",
      "Train on : 616\n",
      "- cur bellman err 0.5533, experience replay pool 616\n",
      "Simulation success rate 1.0, Ave reward 74.97, Ave turns 12.06, Best success rate 0\n",
      "Progress: 74 / 100, Success rate: 58 / 74 Avg reward: 46.07 Avg turns: 17.97\n",
      "----------------- Episode: 74 ----------------- \n",
      "Successful Dialog!\n",
      "simulation success rate 1.0, ave reward 74.94, ave turns 12.12\n",
      "simulation success rate 1.0, ave reward 75.0, ave turns 12.0\n",
      "Train on : 600\n",
      "- cur bellman err 0.2422, experience replay pool 600\n",
      "Simulation success rate 1.0, Ave reward 74.94, Ave turns 12.12, Best success rate 0\n",
      "Progress: 75 / 100, Success rate: 59 / 75 Avg reward: 46.47 Avg turns: 17.87\n",
      "----------------- Episode: 75 ----------------- \n",
      "Successful Dialog!\n",
      "simulation success rate 1.0, ave reward 74.87, ave turns 12.26\n",
      "simulation success rate 1.0, ave reward 74.9, ave turns 12.2\n",
      "Train on : 610\n",
      "- cur bellman err 0.3856, experience replay pool 610\n",
      "Simulation success rate 1.0, Ave reward 74.87, Ave turns 12.26, Best success rate 0\n",
      "Progress: 76 / 100, Success rate: 60 / 76 Avg reward: 46.84 Avg turns: 17.79\n",
      "----------------- Episode: 76 ----------------- \n",
      "Successful Dialog!\n",
      "simulation success rate 1.0, ave reward 74.97, ave turns 12.06\n",
      "simulation success rate 1.0, ave reward 74.93, ave turns 12.14\n",
      "Train on : 607\n",
      "- cur bellman err 0.1485, experience replay pool 607\n",
      "Simulation success rate 1.0, Ave reward 74.97, Ave turns 12.06, Best success rate 0\n",
      "Progress: 77 / 100, Success rate: 61 / 77 Avg reward: 47.21 Avg turns: 17.71\n",
      "----------------- Episode: 77 ----------------- \n",
      "Successful Dialog!\n",
      "simulation success rate 1.0, ave reward 75.22, ave turns 11.56\n",
      "simulation success rate 1.0, ave reward 75.03, ave turns 11.94\n",
      "Train on : 597\n",
      "- cur bellman err 0.1689, experience replay pool 597\n",
      "Simulation success rate 1.0, Ave reward 75.22, Ave turns 11.56, Best success rate 0\n",
      "Progress: 78 / 100, Success rate: 62 / 78 Avg reward: 47.56 Avg turns: 17.64\n",
      "----------------- Episode: 78 ----------------- \n",
      "Successful Dialog!\n",
      "simulation success rate 1.0, ave reward 75.1, ave turns 11.8\n",
      "simulation success rate 1.0, ave reward 75.18, ave turns 11.64\n",
      "Train on : 582\n",
      "- cur bellman err 0.1318, experience replay pool 582\n",
      "Simulation success rate 1.0, Ave reward 75.1, Ave turns 11.8, Best success rate 0\n",
      "Progress: 79 / 100, Success rate: 63 / 79 Avg reward: 47.92 Avg turns: 17.54\n",
      "----------------- Episode: 79 ----------------- \n",
      "Successful Dialog!\n",
      "simulation success rate 1.0, ave reward 75.11, ave turns 11.78\n",
      "simulation success rate 1.0, ave reward 75.17, ave turns 11.66\n",
      "Train on : 583\n",
      "- cur bellman err 0.1693, experience replay pool 583\n",
      "Simulation success rate 1.0, Ave reward 75.11, Ave turns 11.78, Best success rate 0\n",
      "Progress: 80 / 100, Success rate: 64 / 80 Avg reward: 48.26 Avg turns: 17.48\n",
      "----------------- Episode: 80 ----------------- \n",
      "Successful Dialog!\n",
      "simulation success rate 1.0, ave reward 74.92, ave turns 12.16\n",
      "simulation success rate 1.0, ave reward 74.88, ave turns 12.24\n",
      "Train on : 612\n",
      "- cur bellman err 0.3278, experience replay pool 612\n",
      "Simulation success rate 1.0, Ave reward 74.92, Ave turns 12.16, Best success rate 0\n",
      "Progress: 81 / 100, Success rate: 65 / 81 Avg reward: 48.59 Avg turns: 17.41\n",
      "----------------- Episode: 81 ----------------- \n",
      "Successful Dialog!\n",
      "simulation success rate 1.0, ave reward 75.2, ave turns 11.6\n",
      "simulation success rate 1.0, ave reward 75.06, ave turns 11.88\n",
      "Train on : 594\n",
      "- cur bellman err 0.1390, experience replay pool 594\n",
      "Simulation success rate 1.0, Ave reward 75.2, Ave turns 11.6, Best success rate 0\n",
      "Progress: 82 / 100, Success rate: 66 / 82 Avg reward: 48.91 Avg turns: 17.34\n",
      "----------------- Episode: 82 ----------------- \n",
      "Successful Dialog!\n"
     ]
    },
    {
     "name": "stdout",
     "output_type": "stream",
     "text": [
      "simulation success rate 1.0, ave reward 75.1, ave turns 11.8\n",
      "simulation success rate 1.0, ave reward 75.01, ave turns 11.98\n",
      "Train on : 599\n",
      "- cur bellman err 0.1381, experience replay pool 599\n",
      "Simulation success rate 1.0, Ave reward 75.1, Ave turns 11.8, Best success rate 0\n",
      "Progress: 83 / 100, Success rate: 67 / 83 Avg reward: 49.22 Avg turns: 17.30\n",
      "----------------- Episode: 83 ----------------- \n",
      "Successful Dialog!\n",
      "simulation success rate 1.0, ave reward 74.91, ave turns 12.18\n",
      "simulation success rate 1.0, ave reward 74.91, ave turns 12.18\n",
      "Train on : 609\n",
      "- cur bellman err 0.2485, experience replay pool 609\n",
      "Simulation success rate 1.0, Ave reward 74.91, Ave turns 12.18, Best success rate 0\n",
      "Progress: 84 / 100, Success rate: 68 / 84 Avg reward: 49.52 Avg turns: 17.24\n",
      "----------------- Episode: 84 ----------------- \n",
      "Successful Dialog!\n",
      "simulation success rate 1.0, ave reward 75.1, ave turns 11.8\n",
      "simulation success rate 1.0, ave reward 75.11, ave turns 11.78\n",
      "Train on : 589\n",
      "- cur bellman err 0.1274, experience replay pool 589\n",
      "Simulation success rate 1.0, Ave reward 75.1, Ave turns 11.8, Best success rate 0\n",
      "Progress: 85 / 100, Success rate: 69 / 85 Avg reward: 49.82 Avg turns: 17.18\n",
      "----------------- Episode: 85 ----------------- \n",
      "Successful Dialog!\n",
      "simulation success rate 1.0, ave reward 75.22, ave turns 11.56\n",
      "simulation success rate 1.0, ave reward 75.14, ave turns 11.72\n",
      "Train on : 586\n",
      "- cur bellman err 0.1204, experience replay pool 586\n",
      "Simulation success rate 1.0, Ave reward 75.22, Ave turns 11.56, Best success rate 0\n",
      "Progress: 86 / 100, Success rate: 70 / 86 Avg reward: 50.12 Avg turns: 17.12\n",
      "----------------- Episode: 86 ----------------- \n",
      "Successful Dialog!\n",
      "simulation success rate 1.0, ave reward 74.88, ave turns 12.24\n",
      "simulation success rate 1.0, ave reward 74.91, ave turns 12.18\n",
      "Train on : 609\n",
      "- cur bellman err 0.2522, experience replay pool 609\n",
      "Simulation success rate 1.0, Ave reward 74.88, Ave turns 12.24, Best success rate 0\n",
      "Progress: 87 / 100, Success rate: 71 / 87 Avg reward: 50.40 Avg turns: 17.06\n",
      "----------------- Episode: 87 ----------------- \n",
      "Successful Dialog!\n",
      "simulation success rate 1.0, ave reward 75.13, ave turns 11.74\n",
      "simulation success rate 1.0, ave reward 75.15, ave turns 11.7\n",
      "Train on : 585\n",
      "- cur bellman err 0.0996, experience replay pool 585\n",
      "Simulation success rate 1.0, Ave reward 75.13, Ave turns 11.74, Best success rate 0\n",
      "Progress: 88 / 100, Success rate: 72 / 88 Avg reward: 50.68 Avg turns: 17.00\n",
      "----------------- Episode: 88 ----------------- \n",
      "Successful Dialog!\n",
      "simulation success rate 1.0, ave reward 75.23, ave turns 11.54\n",
      "simulation success rate 1.0, ave reward 75.04, ave turns 11.92\n",
      "Train on : 596\n",
      "- cur bellman err 0.1008, experience replay pool 596\n",
      "Simulation success rate 1.0, Ave reward 75.23, Ave turns 11.54, Best success rate 0\n",
      "Progress: 89 / 100, Success rate: 73 / 89 Avg reward: 50.97 Avg turns: 16.92\n",
      "----------------- Episode: 89 ----------------- \n",
      "Successful Dialog!\n",
      "simulation success rate 1.0, ave reward 74.87, ave turns 12.26\n",
      "simulation success rate 1.0, ave reward 74.83, ave turns 12.34\n",
      "Train on : 617\n",
      "- cur bellman err 0.1995, experience replay pool 617\n",
      "Simulation success rate 1.0, Ave reward 74.87, Ave turns 12.26, Best success rate 0\n",
      "Progress: 90 / 100, Success rate: 74 / 90 Avg reward: 51.23 Avg turns: 16.87\n",
      "----------------- Episode: 90 ----------------- \n",
      "Successful Dialog!\n",
      "simulation success rate 1.0, ave reward 75.12, ave turns 11.76\n",
      "simulation success rate 1.0, ave reward 75.07, ave turns 11.86\n",
      "Train on : 593\n",
      "- cur bellman err 0.0761, experience replay pool 593\n",
      "Simulation success rate 1.0, Ave reward 75.12, Ave turns 11.76, Best success rate 0\n",
      "Progress: 91 / 100, Success rate: 75 / 91 Avg reward: 51.49 Avg turns: 16.81\n",
      "----------------- Episode: 91 ----------------- \n",
      "Successful Dialog!\n",
      "simulation success rate 1.0, ave reward 75.11, ave turns 11.78\n",
      "simulation success rate 1.0, ave reward 75.11, ave turns 11.78\n",
      "Train on : 589\n",
      "- cur bellman err 0.0750, experience replay pool 589\n",
      "Simulation success rate 1.0, Ave reward 75.11, Ave turns 11.78, Best success rate 0\n",
      "Progress: 92 / 100, Success rate: 76 / 92 Avg reward: 51.75 Avg turns: 16.76\n",
      "----------------- Episode: 92 ----------------- \n",
      "Successful Dialog!\n",
      "simulation success rate 1.0, ave reward 75.1, ave turns 11.8\n",
      "simulation success rate 1.0, ave reward 75.06, ave turns 11.88\n",
      "Train on : 594\n",
      "- cur bellman err 0.0817, experience replay pool 594\n",
      "Simulation success rate 1.0, Ave reward 75.1, Ave turns 11.8, Best success rate 0\n",
      "Progress: 93 / 100, Success rate: 77 / 93 Avg reward: 52.00 Avg turns: 16.71\n",
      "----------------- Episode: 93 ----------------- \n",
      "Successful Dialog!\n",
      "simulation success rate 1.0, ave reward 75.08, ave turns 11.84\n",
      "simulation success rate 1.0, ave reward 75.03, ave turns 11.94\n",
      "Train on : 597\n",
      "- cur bellman err 0.0956, experience replay pool 597\n",
      "Simulation success rate 1.0, Ave reward 75.08, Ave turns 11.84, Best success rate 0\n",
      "Progress: 94 / 100, Success rate: 78 / 94 Avg reward: 52.23 Avg turns: 16.68\n",
      "----------------- Episode: 94 ----------------- \n",
      "Successful Dialog!\n",
      "simulation success rate 1.0, ave reward 75.02, ave turns 11.96\n",
      "simulation success rate 1.0, ave reward 74.98, ave turns 12.04\n",
      "Train on : 602\n",
      "- cur bellman err 0.0897, experience replay pool 602\n",
      "Simulation success rate 1.0, Ave reward 75.02, Ave turns 11.96, Best success rate 0\n",
      "Progress: 95 / 100, Success rate: 79 / 95 Avg reward: 52.47 Avg turns: 16.63\n",
      "----------------- Episode: 95 ----------------- \n",
      "Successful Dialog!\n",
      "simulation success rate 1.0, ave reward 75.12, ave turns 11.76\n",
      "simulation success rate 1.0, ave reward 75.25, ave turns 11.5\n",
      "Train on : 575\n",
      "- cur bellman err 0.0846, experience replay pool 575\n",
      "Simulation success rate 1.0, Ave reward 75.12, Ave turns 11.76, Best success rate 0\n",
      "Progress: 96 / 100, Success rate: 80 / 96 Avg reward: 52.70 Avg turns: 16.60\n",
      "----------------- Episode: 96 ----------------- \n",
      "Successful Dialog!\n",
      "simulation success rate 1.0, ave reward 75.07, ave turns 11.86\n",
      "simulation success rate 1.0, ave reward 75.13, ave turns 11.74\n",
      "Train on : 587\n",
      "- cur bellman err 0.0739, experience replay pool 587\n",
      "Simulation success rate 1.0, Ave reward 75.07, Ave turns 11.86, Best success rate 0\n",
      "Progress: 97 / 100, Success rate: 81 / 97 Avg reward: 52.93 Avg turns: 16.56\n",
      "----------------- Episode: 97 ----------------- \n",
      "Successful Dialog!\n",
      "simulation success rate 1.0, ave reward 75.16, ave turns 11.68\n",
      "simulation success rate 1.0, ave reward 75.23, ave turns 11.54\n",
      "Train on : 577\n",
      "- cur bellman err 0.0876, experience replay pool 577\n",
      "Simulation success rate 1.0, Ave reward 75.16, Ave turns 11.68, Best success rate 0\n",
      "Progress: 98 / 100, Success rate: 82 / 98 Avg reward: 53.15 Avg turns: 16.51\n",
      "----------------- Episode: 98 ----------------- \n",
      "Successful Dialog!\n",
      "simulation success rate 1.0, ave reward 75.18, ave turns 11.64\n",
      "simulation success rate 1.0, ave reward 75.12, ave turns 11.76\n",
      "Train on : 588\n",
      "- cur bellman err 0.0911, experience replay pool 588\n",
      "Simulation success rate 1.0, Ave reward 75.18, Ave turns 11.64, Best success rate 0\n",
      "Progress: 99 / 100, Success rate: 83 / 99 Avg reward: 53.38 Avg turns: 16.44\n",
      "----------------- Episode: 99 ----------------- \n",
      "Successful Dialog!\n",
      "simulation success rate 1.0, ave reward 75.17, ave turns 11.66\n",
      "simulation success rate 1.0, ave reward 74.95, ave turns 12.1\n",
      "Train on : 605\n",
      "- cur bellman err 0.1423, experience replay pool 605\n",
      "Simulation success rate 1.0, Ave reward 75.17, Ave turns 11.66, Best success rate 0\n",
      "Progress: 100 / 100, Success rate: 84 / 100 Avg reward: 53.61 Avg turns: 16.38\n",
      "Success rate: 84 / 100 Avg reward: 53.61 Avg turns: 16.38\n"
     ]
    }
   ],
   "source": [
    "performance_records = {}\n",
    "performance_records['success_rate'] = {}\n",
    "performance_records['ave_turns'] = {}\n",
    "performance_records['ave_reward'] = {}\n",
    "\n",
    "best_model = {}\n",
    "best_res = {'success_rate': 0, 'ave_reward':float('-inf'), 'ave_turns': float('inf'), 'epoch':0}\n",
    "\n",
    "curve = []\n",
    "losses = []\n",
    "agent.warm_start = 1\n",
    "run_episodes(100, status)"
   ]
  },
  {
   "cell_type": "code",
   "execution_count": 78,
   "metadata": {},
   "outputs": [
    {
     "data": {
      "image/png": "[encoded data removed]",
      "text/plain": [
       "<matplotlib.figure.Figure at 0x7f00502a9cc0>"
      ]
     },
     "metadata": {},
     "output_type": "display_data"
    }
   ],
   "source": [
    "draw_learning_curve(curve)"
   ]
  },
  {
   "cell_type": "code",
   "execution_count": 75,
   "metadata": {},
   "outputs": [
    {
     "data": {
      "image/png": "[encoded data removed]",
      "text/plain": [
       "<matplotlib.figure.Figure at 0x7f004be07978>"
      ]
     },
     "metadata": {},
     "output_type": "display_data"
    }
   ],
   "source": [
    "draw_loss_curve(losses)"
   ]
  },
  {
   "cell_type": "code",
   "execution_count": 81,
   "metadata": {},
   "outputs": [
    {
     "data": {
      "image/png": "[encoded data removed]",
      "text/plain": [
       "<matplotlib.figure.Figure at 0x7f00841578d0>"
      ]
     },
     "metadata": {},
     "output_type": "display_data"
    }
   ],
   "source": [
    "draw_loss_curve(losses[-100:])"
   ]
  },
  {
   "cell_type": "code",
   "execution_count": 82,
   "metadata": {
    "collapsed": true
   },
   "outputs": [],
   "source": [
    "saver = tf.train.Saver()"
   ]
  },
  {
   "cell_type": "code",
   "execution_count": 83,
   "metadata": {},
   "outputs": [
    {
     "data": {
      "text/plain": [
       "'trained_model/flight_100/model.ckpt'"
      ]
     },
     "execution_count": 83,
     "metadata": {},
     "output_type": "execute_result"
    }
   ],
   "source": [
    "saver.save(agent.model.sess, \"trained_model/flight_100/model.ckpt\")  "
   ]
  },
  {
   "cell_type": "code",
   "execution_count": null,
   "metadata": {
    "collapsed": true
   },
   "outputs": [],
   "source": []
  }
 ],
 "metadata": {
  "celltoolbar": "Initialization Cell",
  "kernelspec": {
   "display_name": "Python 3",
   "language": "python",
   "name": "python3"
  },
  "language_info": {
   "codemirror_mode": {
    "name": "ipython",
    "version": 3
   },
   "file_extension": ".py",
   "mimetype": "text/x-python",
   "name": "python",
   "nbconvert_exporter": "python",
   "pygments_lexer": "ipython3",
   "version": "3.5.2"
  },
  "latex_envs": {
   "LaTeX_envs_menu_present": true,
   "autocomplete": true,
   "bibliofile": "biblio.bib",
   "cite_by": "apalike",
   "current_citInitial": 1,
   "eqLabelWithNumbers": true,
   "eqNumInitial": 1,
   "hotkeys": {
    "equation": "Ctrl-E",
    "itemize": "Ctrl-I"
   },
   "labels_anchors": false,
   "latex_user_defs": false,
   "report_style_numbering": false,
   "user_envs_cfg": false
  },
  "nbTranslate": {
   "displayLangs": [
    "*"
   ],
   "hotkey": "alt-t",
   "langInMainMenu": true,
   "sourceLang": "en",
   "targetLang": "fr",
   "useGoogleTranslate": true
  },
  "varInspector": {
   "cols": {
    "lenName": 16,
    "lenType": 16,
    "lenVar": 40
   },
   "kernels_config": {
    "python": {
     "delete_cmd_postfix": "",
     "delete_cmd_prefix": "del ",
     "library": "var_list.py",
     "varRefreshCmd": "print(var_dic_list())"
    },
    "r": {
     "delete_cmd_postfix": ") ",
     "delete_cmd_prefix": "rm(",
     "library": "var_list.r",
     "varRefreshCmd": "cat(var_dic_list()) "
    }
   },
   "types_to_exclude": [
    "module",
    "function",
    "builtin_function_or_method",
    "instance",
    "_Feature"
   ],
   "window_display": false
  }
 },
 "nbformat": 4,
 "nbformat_minor": 2
}
