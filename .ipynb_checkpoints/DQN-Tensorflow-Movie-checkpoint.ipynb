{
 "cells": [
  {
   "cell_type": "markdown",
   "metadata": {},
   "source": [
    "# DQN\n"
   ]
  },
  {
   "cell_type": "markdown",
   "metadata": {},
   "source": [
    "### Training of DQN in Tensorflow\n",
    "--------------------------"
   ]
  },
  {
   "cell_type": "code",
   "execution_count": 1,
   "metadata": {
    "code_folding": []
   },
   "outputs": [
    {
     "name": "stderr",
     "output_type": "stream",
     "text": [
      "/usr/local/lib/python3.5/dist-packages/matplotlib/__init__.py:1401: UserWarning:  This call to matplotlib.use() has no effect\n",
      "because the backend has already been chosen;\n",
      "matplotlib.use() must be called *before* pylab, matplotlib.pyplot,\n",
      "or matplotlib.backends is imported for the first time.\n",
      "\n",
      "  warnings.warn(_use_error_msg)\n"
     ]
    }
   ],
   "source": [
    "#\n",
    "from util import *\n",
    "from dlg_manager import *\n",
    "from alg import *\n",
    "from agent import *\n",
    "from user_sim import *\n",
    "from state_tracker import *\n",
    "import random\n",
    "from config import *\n",
    "import matplotlib.pyplot as plt\n",
    "import numpy as np\n",
    "from nlg import *\n",
    "from six.moves import cPickle as pickle\n",
    "import IPython\n",
    "import copy, argparse, json\n",
    "\n",
    "%matplotlib inline\n",
    "%load_ext autoreload\n",
    "%autoreload 2"
   ]
  },
  {
   "cell_type": "markdown",
   "metadata": {},
   "source": [
    "# Load Data\n",
    "-------------------"
   ]
  },
  {
   "cell_type": "markdown",
   "metadata": {},
   "source": [
    "#### Action Set"
   ]
  },
  {
   "cell_type": "code",
   "execution_count": 2,
   "metadata": {
    "code_folding": []
   },
   "outputs": [
    {
     "name": "stdout",
     "output_type": "stream",
     "text": [
      "keys = 11\n",
      "Sample of dict:\n",
      "- thanks: 7\n",
      "- confirm_answer: 3\n",
      "- closing: 5\n",
      "- multiple_choice: 6\n",
      "- welcome: 8\n"
     ]
    }
   ],
   "source": [
    "#\n",
    "act_set_path = './data/dia_acts.txt'\n",
    "act_set = text_to_dict(act_set_path)\n",
    "sample_dict(act_set)"
   ]
  },
  {
   "cell_type": "markdown",
   "metadata": {},
   "source": [
    "### slot set"
   ]
  },
  {
   "cell_type": "code",
   "execution_count": 3,
   "metadata": {
    "code_folding": []
   },
   "outputs": [
    {
     "name": "stdout",
     "output_type": "stream",
     "text": [
      "keys = 29\n",
      "Sample of dict:\n",
      "- theater: 22\n",
      "- price: 18\n",
      "- video_format: 24\n",
      "- zip: 25\n",
      "- mpaa_rating: 13\n"
     ]
    }
   ],
   "source": [
    "#\n",
    "slots_set_path = \"./data/slot_set.txt\"\n",
    "slot_set = text_to_dict(slots_set_path)\n",
    "sample_dict(slot_set)"
   ]
  },
  {
   "cell_type": "markdown",
   "metadata": {},
   "source": [
    "### movie dic: info about movie"
   ]
  },
  {
   "cell_type": "code",
   "execution_count": 4,
   "metadata": {
    "code_folding": []
   },
   "outputs": [
    {
     "name": "stdout",
     "output_type": "stream",
     "text": [
      "keys = 991\n",
      "Sample of dict:\n",
      "- 65: {'starttime': '12:45pm', 'city': 'johnstown', 'state': 'pennsylvania', 'moviename': 'zootopia', 'video_format': '3d', 'theater': 'cinemas', 'date': 'tomorrow afternoon'}\n"
     ]
    }
   ],
   "source": [
    "#\n",
    "movie_kb_path = \"./data/movie_kb.1k.p\"\n",
    "movie_kb = pickle.load(open(movie_kb_path, 'rb'), encoding=\"latin\")\n",
    "sample_dict(movie_kb, sample_size=1)"
   ]
  },
  {
   "cell_type": "markdown",
   "metadata": {},
   "source": [
    "# Language Generator (pretrained)\n",
    "-------------------"
   ]
  },
  {
   "cell_type": "code",
   "execution_count": 5,
   "metadata": {
    "code_folding": [],
    "collapsed": true
   },
   "outputs": [],
   "source": [
    "#\n",
    "nlg_model_path = './data/trained_model/nlg/lstm_tanh_relu_[1468202263.38]_2_0.610.p'\n",
    "nlg_model = Nlg()\n",
    "nlg_model.load_nlg_model(nlg_model_path)\n",
    "diaact_nl_pairs_path = \"./data/nlg/dia_act_nl_pairs.v6.json\"\n",
    "nlg_model.load_predefine_act_nl_pairs(diaact_nl_pairs_path)"
   ]
  },
  {
   "cell_type": "markdown",
   "metadata": {},
   "source": [
    "## Model Params"
   ]
  },
  {
   "cell_type": "code",
   "execution_count": 6,
   "metadata": {
    "code_folding": []
   },
   "outputs": [
    {
     "name": "stdout",
     "output_type": "stream",
     "text": [
      "valid_test: 0\n",
      "slot_set: data/slot_set.txt\n",
      "batch_size: 16\n",
      "grad_clip: -0.0001\n",
      "max_epochs: 200\n",
      "dia_slot_val: 2\n",
      "slot_rep: 1\n",
      "write_model_dir: .\\checkpoints\\template\\07102016\\\n",
      "activation_func: relu\n",
      "hidden_size: 100\n",
      "pretrained_model_path: None\n",
      "split_method: 1\n",
      "model: lstm_tanh\n",
      "save_check_point: 20\n",
      "init_rnn: 0\n",
      "decay_rate: 0.999\n",
      "check_point: 20\n",
      "sdgtype: rmsprop\n",
      "feed_recurrence: 0\n",
      "momentum: 0.1\n",
      "reg_cost: 0.001\n",
      "cv_fold: 6\n",
      "act_set: data/dia_acts.txt\n",
      "learning_rate: 0.001\n",
      "eva_metric: 2\n",
      "data_path: .\\data\\movieMultiLine.Annot.Corrected.Final.v3.csv\n",
      "smooth_eps: 1e-08\n",
      "trained_model_path: None\n"
     ]
    }
   ],
   "source": [
    "#\n",
    "model_params = pickle.load(open(nlg_model_path, 'rb'), encoding='latin1')\n",
    "params = model_params['params']\n",
    "params['batch_size'] = 16\n",
    "batch_size = 16\n",
    "save_check_point = 20\n",
    "params['trained_model_path'] = None\n",
    "for k in params:\n",
    "    print(\"{}: {}\".format(k, params[k]))"
   ]
  },
  {
   "cell_type": "markdown",
   "metadata": {},
   "source": [
    "# User Simulator\n",
    "-------------------"
   ]
  },
  {
   "cell_type": "markdown",
   "metadata": {},
   "source": [
    "### goal"
   ]
  },
  {
   "cell_type": "code",
   "execution_count": 7,
   "metadata": {
    "code_folding": []
   },
   "outputs": [
    {
     "name": "stdout",
     "output_type": "stream",
     "text": [
      "goals length: 128\n",
      "Sample the first goal: \n",
      "{'request_slots': {}, 'diaact': 'request', 'inform_slots': {'starttime': 'around 2pm', 'city': 'birmingham', 'state': 'al', 'numberofpeople': '1', 'moviename': 'zootopia', 'theater': 'carmike summit 16', 'date': 'today'}}\n"
     ]
    }
   ],
   "source": [
    "#\n",
    "goal_file_path = './data/user_goals_first_turn_template.part.movie.v1.p'\n",
    "all_goal_set = pickle.load(open(goal_file_path, 'rb'), encoding=\"latin\")\n",
    "print(\"goals length: {}\".format(len(all_goal_set)))\n",
    "print(\"Sample the first goal: \\n{}\".format(all_goal_set[0]))"
   ]
  },
  {
   "cell_type": "markdown",
   "metadata": {},
   "source": [
    "### Split goal set"
   ]
  },
  {
   "cell_type": "code",
   "execution_count": 8,
   "metadata": {
    "code_folding": []
   },
   "outputs": [
    {
     "name": "stdout",
     "output_type": "stream",
     "text": [
      "102\n",
      "0\n",
      "26\n",
      "128\n"
     ]
    }
   ],
   "source": [
    "# split goal set\n",
    "split_fold = params.get('split_fold', 5)\n",
    "goal_set = {'train':[], 'valid':[], 'test':[], 'all':[]}\n",
    "for u_goal_id, u_goal in enumerate(all_goal_set):\n",
    "    if u_goal_id % split_fold == 1: goal_set['test'].append(u_goal)\n",
    "    else: goal_set['train'].append(u_goal)\n",
    "    goal_set['all'].append(u_goal)\n",
    "print(len(goal_set['train']))\n",
    "print(len(goal_set['valid']))\n",
    "print(len(goal_set['test']))\n",
    "print(len(goal_set['all']))"
   ]
  },
  {
   "cell_type": "markdown",
   "metadata": {},
   "source": [
    "### user simulator param"
   ]
  },
  {
   "cell_type": "code",
   "execution_count": 9,
   "metadata": {
    "code_folding": [],
    "collapsed": true
   },
   "outputs": [],
   "source": [
    "#\n",
    "usersim_params = {}\n",
    "usersim_params['max_turn'] = 40\n",
    "usersim_params['slot_err_prob'] = 0.00\n",
    "# slot_err_mode: 0 for slot_val only; 1 for three errs\n",
    "usersim_params['slot_err_mode'] = 0\n",
    "usersim_params['intent_err_prob'] = 0\n",
    "# run_mode: 0 for default NL; 1 for dia_act; 2 for both\n",
    "usersim_params['run_mode'] = 0\n",
    "# 0 for dia_act level; 1 for NL level\n",
    "usersim_params['act_level'] = 0\n",
    "# train/test/all; default is all\n",
    "usersim_params['learn_phase'] = 'all'"
   ]
  },
  {
   "cell_type": "markdown",
   "metadata": {},
   "source": [
    "### a movie dictionary for user simulator - slot:possible values"
   ]
  },
  {
   "cell_type": "code",
   "execution_count": 10,
   "metadata": {
    "code_folding": []
   },
   "outputs": [
    {
     "name": "stdout",
     "output_type": "stream",
     "text": [
      "keys = 20\n",
      "Sample of dict:\n",
      "- starttime: ['10:30am', '11:10am', '1:10pm', '1:50pm', '3:45pm', '4:30pm', '5:20pm', '6:30pm', '7:15pm', '9:10pm', '10:30pm', '12:30pm', '9:30pm', '9:30', '8:40pm', '7:00pm', '9:50pm', 'none', 'before 4pm', '12:00', '1:10', '2:40', '3:50', 'around 2pm', '1:30', '4:00', 'night', '11:05am', '1:45pm', '7:20 pm', '4:35pm', '10pm', '10 pm', 'latest showing', '9:00 pm', 'around 6pm', '7:20', '9:10 pm', '8:45 pm', '8:45', '9:50 pm', 'around 3 pm', '12pm', '9:30 pm', '6pm', '9:01pm', '5:30pm', '8:00pm', '10:40pm', '2:30pm', '5:10pm', '10:00pm', '7:15 pm', '7pm', 'around 7pm', 'earliest showing', '12:45pm', '1:15pm', '12:45', '12:35pm', ' 4:05pm', ' 7:05pm', ' 9:55pm', '7:05 pm', 'after dinner', 'after 7:30pm', '10:50pm', '7:50pm', '10:20pm', '8pm', '8:20', '8:15pm', 'between 9 and 10', '10:20', 'after 7pm', '4:40 pm', 'before dinner', '7:10 pm', 'betwenn 8-10 pm', '4 pm', '4:20', '4:20pm', 'from noon to 4pm', '8:30pm', '11:00pm', '11pm', ' Matinee', '4pm to 7pm', '6:55pm', '11:50am', '5:10', '7:50', '10:25', '2:30', '9:25 pm', '2:35 pm', '2:35', 'afternoon', '10:00am', '3:30pm', '6:15pm', '9:00pm', '3:30', '11:30am', '1:05pm', '2:35pm', '4:10pm', '5:40pm', '7:05pm', '8:35pm', '9:55pm', '10:05am', '11:00am', '2:00pm', '4:05pm', '4:50pm', '6:45pm', '7:45pm', '10:45am', '11:15am', '1:00pm', '2:15pm', '4:00pm', '4:45pm', '5:15pm', '7:30pm', 'morning', '7:00 pm', '12:15pm', '3:00pm', '5:45pm', '10:00 pm', '4:50 pm', '7:05', 'around 4pm', '4 PM', '8:00 pm', '8:40', '8:00', '8', '5pm', '5:00 pm', 'around 8 pm', '1:30pm', '4pm', '130pm', 'closest to noon', 'late showing', 'anytime after 7pm', '4:10&&7:00&&9:50pm', '4:40&&7:30&&10:20', '2pm', '2:20 pm', '11:45am', 'around 9pm', '9pm', '8:25pm', '9:05pm', '9:05', '9:45pm', 'around 7 pm', '8:45pm', '5:25pm', '5:25', '317', '10:25pm', '9:55', '6:25', ' 9:00 pm', '7:55pm', '10:45pm', '11:55pm', '10:10am', '1:25pm', '2:20pm', '3:50pm', '7:10pm', '9:35pm', '11:10pm', '12:05am', '7:30', '7:00', 'around 6 pm', '5:20', '6:30', '4:10', '4:40', '10:15pm', '10:15', '12:05pm', '6:25pm', 'after 5 pm', '930pm', '640pm', 'night around 8pm', \"8 o'clock\", '9:20 pm', '9:20', '12:20pm', '3:40pm', '6:50pm', '8:40pm tonight', 'around 8pm', '9:10', '605pm', '6 pm', '2:20PM', '2:20', 'between noon and 4pm', 'early', '10:35', '11:40 am', 'between 2 and 4pm', '6:55', '6:10pm', '7:20pm', '7:25pm', '9:20pm', '2 pm', 'soonest', '12:40pm', '3:40', '6:50', '10:00', '10 o clock', '5:00pm', '7:40pm', '740', '10 cloverfield lane', ' 6:30pm', ' 9:10pm', ' 11:55pm', 'roughly every hour', '9:45 pm', '7', '4:40pm', 'matinee', 'evening', '8:20 pm', 'tonight', '7:30 pm', '8:15 pm', '8:15am', 'after 6 pm', '6:45', ' around 7pm', '4:25 pm', '7:15', '7:10', '10:05', '7:25 pm', 'pm', 'any time', '12:20', 'later in the evening', '12:00pm', 'between 5pm and 6pm', 'between 5 and 6pm', 'around noon', 'soonest upcoming showing', '6:05', '7:25', '1:35 pm', '4:30', 'around 5pm', '2:00 pm', '1:35pm', '9:25pm', '8:10PM', 'evening around 6pm', '6:30 pm', '5:50', '6:40 pm', 'a lot', 'sonnest', '705pm', '635pm', '6:35', '1:15', '7 pm', '6:40pm', 'anytime after 6pm', 'between 8 and 10 pm', '8 pm', '6:00pm', '11:40pm', '1:30 pm', '3:20pm', '8:05', '11:40', 'between 8 and 9pm', '9:25', 'after 7 pm', '5:50pm', '2:25pm', '2:25', 'between say 4pm and 7pm', 'evening around 7', ' 10:30', 'the next', 'the next showing', '2:05 pm', '7:40', '6:00', '8:30', 'between 4pm and 7pm', '730pm', 'early afternoon', ' 7:40pm', ' 10:10pm', '1:50', ' 4:30', ' 7:10', ' 9:50', '2:40pm', 'kinky there', '7:35 pm', '7:35', 'midnight', 'late', 'from 4pm to 7pm', '1:55', '4:25', 'anytime', 'once or twice every hour', '340pm', ' 425pm', '4:25pm', '425pm', '9', '10', 'some time close to that', '11:20am', 'between 8-10 pm', '8:05pm', '10:35pm', 'after 6pm', '11:20', '12:35', 'right now', '1:55pm', '10:05pm', '10:05 pm']\n"
     ]
    }
   ],
   "source": [
    "#\n",
    "movie_dict_path = './data/user/dicts.v3.p'\n",
    "movie_dictionary = pickle.load(open(movie_dict_path, 'rb'), encoding=\"latin\")\n",
    "samples = sample_dict(movie_dictionary, sample_size=1)"
   ]
  },
  {
   "cell_type": "markdown",
   "metadata": {},
   "source": [
    "###  Create a User"
   ]
  },
  {
   "cell_type": "code",
   "execution_count": 11,
   "metadata": {
    "collapsed": true
   },
   "outputs": [],
   "source": [
    "user = RuleSimulator(movie_dictionary, act_set, slot_set, goal_set, usersim_params)\n",
    "user.set_nlg_model(nlg_model)"
   ]
  },
  {
   "cell_type": "markdown",
   "metadata": {},
   "source": [
    "# Agent\n",
    "-------------------"
   ]
  },
  {
   "cell_type": "markdown",
   "metadata": {},
   "source": [
    "## param"
   ]
  },
  {
   "cell_type": "code",
   "execution_count": 12,
   "metadata": {
    "code_folding": []
   },
   "outputs": [
    {
     "name": "stdout",
     "output_type": "stream",
     "text": [
      "pretrained model path = None\n"
     ]
    }
   ],
   "source": [
    "#\n",
    "agent_params = {}\n",
    "# maximum length of each dialog (default=20, 0=no maximum length)\n",
    "agent_params['max_turn'] = 40\n",
    "# Epsilon to determine stochasticity of epsilon-greedy agent policies\n",
    "agent_params['epsilon'] = 0\n",
    "# run_mode: 0 for default NL; 1 for dia_act; 2 for both\n",
    "agent_params['agent_run_mode'] = 3\n",
    "# 0 for dia_act level; 1 for NL level\n",
    "agent_params['agent_act_level'] = 0\n",
    "\n",
    "############### DQN #################\n",
    "# the size for experience replay\n",
    "agent_params['experience_replay_pool_size'] = 10000\n",
    "# # the hidden size for DQN\n",
    "agent_params['dqn_hidden_size'] = 60\n",
    "agent_params['batch_size'] = 16\n",
    "# # gamma for DQN\n",
    "agent_params['gamma'] = 0.9\n",
    "# # predict model for DQN\n",
    "agent_params['predict_mode'] = True\n",
    "agent_params['trained_model_path'] = params['pretrained_model_path']\n",
    "#####################################\n",
    "print(\"pretrained model path = {}\".format(agent_params['trained_model_path']))\n",
    "# 0: no warm start; 1: warm start for training\n",
    "agent_params['warm_start'] = 1\n",
    "# run_mode: 0 for NL; 1 for dia_act\n",
    "agent_params['cmd_input_mode'] = 0\n",
    "\n",
    "success_rate_threshold = 0.3"
   ]
  },
  {
   "cell_type": "markdown",
   "metadata": {},
   "source": [
    "### create an agent"
   ]
  },
  {
   "cell_type": "code",
   "execution_count": 13,
   "metadata": {
    "code_folding": [],
    "scrolled": false
   },
   "outputs": [
    {
     "name": "stdout",
     "output_type": "stream",
     "text": [
      "act_cardinality  11\n",
      "feasible_actions 43\n",
      "80\n"
     ]
    }
   ],
   "source": [
    "# agent = RequestBasicsAgent(movie_kb, act_set, slot_set, agent_params)\n",
    "# agent = AgentDQN(movie_kb, act_set, slot_set, agent_params)\n",
    "# agt = 9\n",
    "agt = 10\n",
    "agent_params['batch_size']  = batch_size\n",
    "if agt == 9:\n",
    "    agent = AgentDQN(movie_kb, act_set, slot_set, agent_params)\n",
    "else:\n",
    "    agent = DQNAgentTF(movie_kb, act_set, slot_set, agent_params)\n",
    "\n",
    "agent.set_nlg_model(nlg_model)"
   ]
  },
  {
   "cell_type": "markdown",
   "metadata": {},
   "source": [
    "# Dialog Manager\n",
    "-------------------"
   ]
  },
  {
   "cell_type": "code",
   "execution_count": 14,
   "metadata": {
    "collapsed": true
   },
   "outputs": [],
   "source": [
    "dlg_manager = DlgManager(agent, user, act_set, slot_set, movie_kb)"
   ]
  },
  {
   "cell_type": "markdown",
   "metadata": {},
   "source": [
    "## Running Episodes\n",
    "-------------------"
   ]
  },
  {
   "cell_type": "markdown",
   "metadata": {},
   "source": [
    "### Param"
   ]
  },
  {
   "cell_type": "code",
   "execution_count": 15,
   "metadata": {
    "code_folding": [],
    "collapsed": true
   },
   "outputs": [],
   "source": [
    "#\n",
    "status = {'successes': 0, 'count': 0, 'cumulative_reward': 0}\n",
    "# the size of validation set\n",
    "simulation_epoch_size = 100\n",
    "# the number of epochs for warm start \n",
    "warm_start_epochs = 200\n",
    "# num_episodes = 60"
   ]
  },
  {
   "cell_type": "code",
   "execution_count": 16,
   "metadata": {
    "collapsed": true
   },
   "outputs": [],
   "source": [
    "\"\"\" Warm_Start Simulation (by Rule Policy) \"\"\"\n",
    "def warm_start_simulation():\n",
    "    successes = 0\n",
    "    cumulative_reward = 0\n",
    "    cumulative_turns = 0\n",
    "    \n",
    "    res = {}\n",
    "    for episode in range(warm_start_epochs):\n",
    "        dlg_manager.init_episode()\n",
    "        episode_over = False\n",
    "        while(not episode_over):\n",
    "            episode_over, reward = dlg_manager.step()\n",
    "            cumulative_reward += reward\n",
    "            if episode_over:\n",
    "                if reward > 0: \n",
    "                    successes += 1\n",
    "#                     print (\"warm_start simulation episode %s: Success\" % (episode))\n",
    "#                 else: print (\"warm_start simulation episode %s: Fail\" % (episode))\n",
    "                cumulative_turns += dlg_manager.state_tracker.turn_count\n",
    "        \n",
    "        if len(agent.experience_replay_pool) >= agent.experience_replay_pool_size:\n",
    "            break\n",
    "    \n",
    "    agent.warm_start = 2\n",
    "    res['success_rate'] = float(successes)/simulation_epoch_size\n",
    "    res['ave_reward'] = float(cumulative_reward)/simulation_epoch_size\n",
    "    res['ave_turns'] = float(cumulative_turns)/simulation_epoch_size\n",
    "    print (\"Warm_Start %s epochs, success rate %s, ave reward %s, ave turns %s\" % (episode+1, res['success_rate'], res['ave_reward'], res['ave_turns']))\n",
    "    print (\"Current experience replay buffer size %s\" % (len(agent.experience_replay_pool)))"
   ]
  },
  {
   "cell_type": "code",
   "execution_count": 17,
   "metadata": {
    "collapsed": true
   },
   "outputs": [],
   "source": [
    "def simulation_epoch(simulation_epoch_size):\n",
    "    successes = 0\n",
    "    cumulative_reward = 0\n",
    "    cumulative_turns = 0\n",
    "    \n",
    "    res = {}\n",
    "    for episode in range(simulation_epoch_size):\n",
    "        dlg_manager.init_episode()\n",
    "        episode_over = False\n",
    "        while(not episode_over):\n",
    "            episode_over, reward = dlg_manager.step()\n",
    "            cumulative_reward += reward\n",
    "            if episode_over:\n",
    "                if reward > 0: \n",
    "                    successes += 1\n",
    "#                     print (\"simulation episode %s: Success\" % (episode))\n",
    "#                 else: print (\"simulation episode %s: Fail\" % (episode))\n",
    "                cumulative_turns += dlg_manager.state_tracker.turn_count\n",
    "    \n",
    "    res['success_rate'] = float(successes)/simulation_epoch_size\n",
    "    res['ave_reward'] = float(cumulative_reward)/simulation_epoch_size\n",
    "    res['ave_turns'] = float(cumulative_turns)/simulation_epoch_size\n",
    "    print(\"simulation success rate %s, ave reward %s, ave turns %s\" % (res['success_rate'], res['ave_reward'], res['ave_turns']))\n",
    "    return res"
   ]
  },
  {
   "cell_type": "code",
   "execution_count": 18,
   "metadata": {
    "code_folding": [],
    "collapsed": true
   },
   "outputs": [],
   "source": [
    "def run_episodes(count, status):\n",
    "    successes = 0\n",
    "    cumulative_reward = 0\n",
    "    cumulative_turns = 0\n",
    "    \n",
    "    \n",
    "    if agt >= 9 and params['trained_model_path'] == None and agent.warm_start == 1:\n",
    "        print ('warm_start starting ...')\n",
    "        warm_start_simulation()\n",
    "        print ('warm_start finished, start RL training ...')\n",
    "    \n",
    "    for episode in range(count):\n",
    "        print (\"----------------- Episode: %s ----------------- \" % (episode))\n",
    "        dlg_manager.init_episode()\n",
    "        episode_over = False\n",
    "        \n",
    "        while(not episode_over):\n",
    "            episode_over, reward = dlg_manager.step()\n",
    "            cumulative_reward += reward\n",
    "                \n",
    "            if episode_over:\n",
    "                if reward > 0:\n",
    "                    print (\"Successful Dialog!\")\n",
    "                    successes += 1\n",
    "#                 else: print (\"Failed Dialog!\")\n",
    "                \n",
    "                cumulative_turns += dlg_manager.state_tracker.turn_count\n",
    "        \n",
    "        # simulation\n",
    "        if agt >= 9 and params['trained_model_path'] == None:\n",
    "            agent.predict_mode = True\n",
    "            simulation_res = simulation_epoch(simulation_epoch_size)\n",
    "            \n",
    "            performance_records['success_rate'][episode] = simulation_res['success_rate']\n",
    "            performance_records['ave_turns'][episode] = simulation_res['ave_turns']\n",
    "            performance_records['ave_reward'][episode] = simulation_res['ave_reward']\n",
    "            \n",
    "            if simulation_res['success_rate'] >= best_res['success_rate']:\n",
    "                if simulation_res['success_rate'] >= success_rate_threshold: # threshold = 0.30\n",
    "                    agent.experience_replay_pool = [] \n",
    "                    simulation_epoch(simulation_epoch_size)\n",
    "                \n",
    "#             if simulation_res['success_rate'] > best_res['success_rate']:\n",
    "#                 best_model['model'] = copy.deepcopy(agent)\n",
    "#                 best_res['success_rate'] = simulation_res['success_rate']\n",
    "#                 best_res['ave_reward'] = simulation_res['ave_reward']\n",
    "#                 best_res['ave_turns'] = simulation_res['ave_turns']\n",
    "#                 best_res['epoch'] = episode\n",
    "                \n",
    "            loss = agent.train(batch_size, 1)\n",
    "            if agt == 10: \n",
    "                agent.model.update_target_params()\n",
    "            else: \n",
    "                agent.clone_dqn = copy.deepcopy(agent.dqn)\n",
    "                \n",
    "            agent.predict_mode = False\n",
    "            \n",
    "            print (\"Simulation success rate %s, Ave reward %s, Ave turns %s, Best success rate %s\" % (performance_records['success_rate'][episode], performance_records['ave_reward'][episode], performance_records['ave_turns'][episode], best_res['success_rate']))\n",
    "#             if episode % save_check_point == 0 and params['trained_model_path'] == None: # save the model every 10 episodes\n",
    "#                 save_model(params['write_model_dir'], agt, best_res['success_rate'], best_model['model'], best_res['epoch'], episode)\n",
    "#                 save_performance_records(params['write_model_dir'], agt, performance_records)\n",
    "        curve.append(successes/(episode+1))\n",
    "        losses.append(loss)\n",
    "        print(\"Progress: %s / %s, Success rate: %s / %s Avg reward: %.2f Avg turns: %.2f\" % (episode+1, count, successes, episode+1, float(cumulative_reward)/(episode+1), float(cumulative_turns)/(episode+1)))\n",
    "    print(\"Success rate: %s / %s Avg reward: %.2f Avg turns: %.2f\" % (successes, count, float(cumulative_reward)/count, float(cumulative_turns)/count))\n",
    "    status['successes'] += successes\n",
    "    status['count'] += count\n",
    "    \n",
    "#     if agt == 9 and params['traained_model_path'] == None:\n",
    "#         save_model(params['write_model_dir'], agt, float(successes)/count, best_model['model'], best_res['epoch'], count)\n",
    "#         save_performance_records(params['write_model_dir'], agt, performance_records)\n"
   ]
  },
  {
   "cell_type": "markdown",
   "metadata": {},
   "source": [
    "## Run a Warm Start"
   ]
  },
  {
   "cell_type": "markdown",
   "metadata": {},
   "source": [
    "# Train & Eval\n",
    "-------------------"
   ]
  },
  {
   "cell_type": "code",
   "execution_count": 19,
   "metadata": {
    "scrolled": false
   },
   "outputs": [
    {
     "name": "stdout",
     "output_type": "stream",
     "text": [
      "warm_start starting ...\n",
      "Warm_Start 200 epochs, success rate 0.85, ave reward 8.0, ave turns 32.0\n",
      "Current experience replay buffer size 1600\n",
      "warm_start finished, start RL training ...\n",
      "----------------- Episode: 0 ----------------- \n",
      "simulation success rate 0.0, ave reward -60.0, ave turns 42.0\n",
      "Train on : 3721\n",
      "- cur bellman err 12.6583, experience replay pool 3721\n",
      "Simulation success rate 0.0, Ave reward -60.0, Ave turns 42.0, Best success rate 0\n",
      "Progress: 1 / 100, Success rate: 0 / 1 Avg reward: -60.00 Avg turns: 42.00\n",
      "----------------- Episode: 1 ----------------- \n",
      "simulation success rate 0.0, ave reward -46.22, ave turns 14.44\n",
      "Train on : 4443\n",
      "- cur bellman err 10.3989, experience replay pool 4443\n",
      "Simulation success rate 0.0, Ave reward -46.22, Ave turns 14.44, Best success rate 0\n",
      "Progress: 2 / 100, Success rate: 0 / 2 Avg reward: -50.00 Avg turns: 22.00\n",
      "----------------- Episode: 2 ----------------- \n",
      "simulation success rate 0.0, ave reward -54.56, ave turns 31.12\n",
      "Train on : 5999\n",
      "- cur bellman err 6.6612, experience replay pool 5999\n",
      "Simulation success rate 0.0, Ave reward -54.56, Ave turns 31.12, Best success rate 0\n",
      "Progress: 3 / 100, Success rate: 0 / 3 Avg reward: -53.33 Avg turns: 28.67\n",
      "----------------- Episode: 3 ----------------- \n",
      "simulation success rate 0.0, ave reward -60.0, ave turns 42.0\n",
      "Train on : 8099\n",
      "- cur bellman err 4.2090, experience replay pool 8099\n",
      "Simulation success rate 0.0, Ave reward -60.0, Ave turns 42.0, Best success rate 0\n",
      "Progress: 4 / 100, Success rate: 0 / 4 Avg reward: -55.00 Avg turns: 32.00\n",
      "----------------- Episode: 4 ----------------- \n",
      "simulation success rate 0.0, ave reward -59.21, ave turns 40.42\n",
      "Train on : 10120\n",
      "- cur bellman err 3.0221, experience replay pool 10120\n",
      "Simulation success rate 0.0, Ave reward -59.21, Ave turns 40.42, Best success rate 0\n",
      "Progress: 5 / 100, Success rate: 0 / 5 Avg reward: -56.00 Avg turns: 34.00\n",
      "----------------- Episode: 5 ----------------- \n",
      "simulation success rate 0.0, ave reward -59.65, ave turns 41.3\n",
      "Train on : 12185\n",
      "- cur bellman err 2.1671, experience replay pool 12185\n",
      "Simulation success rate 0.0, Ave reward -59.65, Ave turns 41.3, Best success rate 0\n",
      "Progress: 6 / 100, Success rate: 0 / 6 Avg reward: -53.83 Avg turns: 29.67\n",
      "----------------- Episode: 6 ----------------- \n",
      "simulation success rate 0.0, ave reward -59.19, ave turns 40.38\n",
      "Train on : 14204\n",
      "- cur bellman err 1.9543, experience replay pool 14204\n",
      "Simulation success rate 0.0, Ave reward -59.19, Ave turns 40.38, Best success rate 0\n",
      "Progress: 7 / 100, Success rate: 0 / 7 Avg reward: -54.71 Avg turns: 31.43\n",
      "----------------- Episode: 7 ----------------- \n",
      "simulation success rate 0.05, ave reward -52.8, ave turns 39.6\n",
      "Train on : 16184\n",
      "- cur bellman err 1.5303, experience replay pool 16184\n",
      "Simulation success rate 0.05, Ave reward -52.8, Ave turns 39.6, Best success rate 0\n",
      "Progress: 8 / 100, Success rate: 0 / 8 Avg reward: -55.38 Avg turns: 32.75\n",
      "----------------- Episode: 8 ----------------- \n",
      "Successful Dialog!\n",
      "simulation success rate 0.05, ave reward -51.48, ave turns 36.96\n",
      "Train on : 18032\n",
      "- cur bellman err 1.5551, experience replay pool 18032\n",
      "Simulation success rate 0.05, Ave reward -51.48, Ave turns 36.96, Best success rate 0\n",
      "Progress: 9 / 100, Success rate: 1 / 9 Avg reward: -41.11 Avg turns: 30.89\n",
      "----------------- Episode: 9 ----------------- \n",
      "simulation success rate 0.03, ave reward -55.95, ave turns 41.1\n",
      "Train on : 20087\n",
      "- cur bellman err 0.9470, experience replay pool 20087\n",
      "Simulation success rate 0.03, Ave reward -55.95, Ave turns 41.1, Best success rate 0\n",
      "Progress: 10 / 100, Success rate: 1 / 10 Avg reward: -43.00 Avg turns: 32.00\n",
      "----------------- Episode: 10 ----------------- \n",
      "simulation success rate 0.06, ave reward -51.75, ave turns 39.9\n",
      "Train on : 22082\n",
      "- cur bellman err 1.0073, experience replay pool 22082\n",
      "Simulation success rate 0.06, Ave reward -51.75, Ave turns 39.9, Best success rate 0\n",
      "Progress: 11 / 100, Success rate: 1 / 11 Avg reward: -44.55 Avg turns: 32.91\n",
      "----------------- Episode: 11 ----------------- \n",
      "simulation success rate 0.05, ave reward -52.67, ave turns 39.34\n",
      "Train on : 24049\n",
      "- cur bellman err 0.8788, experience replay pool 24049\n",
      "Simulation success rate 0.05, Ave reward -52.67, Ave turns 39.34, Best success rate 0\n",
      "Progress: 12 / 100, Success rate: 1 / 12 Avg reward: -45.83 Avg turns: 33.67\n",
      "----------------- Episode: 12 ----------------- \n",
      "simulation success rate 0.13, ave reward -42.49, ave turns 38.18\n",
      "Train on : 25958\n",
      "- cur bellman err 0.6850, experience replay pool 25958\n",
      "Simulation success rate 0.13, Ave reward -42.49, Ave turns 38.18, Best success rate 0\n",
      "Progress: 13 / 100, Success rate: 1 / 13 Avg reward: -46.92 Avg turns: 34.31\n",
      "----------------- Episode: 13 ----------------- \n",
      "simulation success rate 0.11, ave reward -44.37, ave turns 37.14\n",
      "Train on : 27815\n",
      "- cur bellman err 0.6818, experience replay pool 27815\n",
      "Simulation success rate 0.11, Ave reward -44.37, Ave turns 37.14, Best success rate 0\n",
      "Progress: 14 / 100, Success rate: 1 / 14 Avg reward: -47.86 Avg turns: 34.86\n",
      "----------------- Episode: 14 ----------------- \n",
      "simulation success rate 0.01, ave reward -58.65, ave turns 41.7\n",
      "Train on : 29900\n",
      "- cur bellman err 0.5151, experience replay pool 29900\n",
      "Simulation success rate 0.01, Ave reward -58.65, Ave turns 41.7, Best success rate 0\n",
      "Progress: 15 / 100, Success rate: 1 / 15 Avg reward: -48.67 Avg turns: 35.33\n",
      "----------------- Episode: 15 ----------------- \n",
      "simulation success rate 0.0, ave reward -60.0, ave turns 42.0\n",
      "Train on : 32000\n",
      "- cur bellman err 0.5131, experience replay pool 32000\n",
      "Simulation success rate 0.0, Ave reward -60.0, Ave turns 42.0, Best success rate 0\n",
      "Progress: 16 / 100, Success rate: 1 / 16 Avg reward: -49.38 Avg turns: 35.75\n",
      "----------------- Episode: 16 ----------------- \n",
      "simulation success rate 0.08, ave reward -49.22, ave turns 39.64\n",
      "Train on : 33982\n",
      "- cur bellman err 0.4834, experience replay pool 33982\n",
      "Simulation success rate 0.08, Ave reward -49.22, Ave turns 39.64, Best success rate 0\n",
      "Progress: 17 / 100, Success rate: 1 / 17 Avg reward: -50.00 Avg turns: 36.12\n",
      "----------------- Episode: 17 ----------------- \n",
      "simulation success rate 0.29, ave reward -21.26, ave turns 34.12\n",
      "Train on : 35688\n",
      "- cur bellman err 0.4875, experience replay pool 35688\n",
      "Simulation success rate 0.29, Ave reward -21.26, Ave turns 34.12, Best success rate 0\n",
      "Progress: 18 / 100, Success rate: 1 / 18 Avg reward: -50.56 Avg turns: 36.44\n",
      "----------------- Episode: 18 ----------------- \n",
      "simulation success rate 0.33, ave reward -14.56, ave turns 30.32\n",
      "simulation success rate 0.32, ave reward -15.04, ave turns 28.88\n",
      "Train on : 1444\n",
      "- cur bellman err 5.6445, experience replay pool 1444\n",
      "Simulation success rate 0.33, Ave reward -14.56, Ave turns 30.32, Best success rate 0\n",
      "Progress: 19 / 100, Success rate: 1 / 19 Avg reward: -50.26 Avg turns: 35.16\n",
      "----------------- Episode: 19 ----------------- \n",
      "simulation success rate 0.13, ave reward -41.95, ave turns 37.1\n",
      "Train on : 3299\n",
      "- cur bellman err 2.4134, experience replay pool 3299\n",
      "Simulation success rate 0.13, Ave reward -41.95, Ave turns 37.1, Best success rate 0\n",
      "Progress: 20 / 100, Success rate: 1 / 20 Avg reward: -50.75 Avg turns: 35.50\n",
      "----------------- Episode: 20 ----------------- \n",
      "Successful Dialog!\n",
      "simulation success rate 0.41, ave reward -4.98, ave turns 30.36\n",
      "simulation success rate 0.31, ave reward -18.41, ave turns 33.22\n",
      "Train on : 1661\n",
      "- cur bellman err 1.1749, experience replay pool 1661\n",
      "Simulation success rate 0.41, Ave reward -4.98, Ave turns 30.36, Best success rate 0\n",
      "Progress: 21 / 100, Success rate: 2 / 21 Avg reward: -44.86 Avg turns: 34.57\n",
      "----------------- Episode: 21 ----------------- \n",
      "Successful Dialog!\n",
      "simulation success rate 0.35, ave reward -13.4, ave turns 32.8\n",
      "simulation success rate 0.37, ave reward -10.87, ave turns 32.54\n",
      "Train on : 1627\n",
      "- cur bellman err 1.3777, experience replay pool 1627\n",
      "Simulation success rate 0.35, Ave reward -13.4, Ave turns 32.8, Best success rate 0\n",
      "Progress: 22 / 100, Success rate: 3 / 22 Avg reward: -39.64 Avg turns: 34.00\n",
      "----------------- Episode: 22 ----------------- \n",
      "Successful Dialog!\n",
      "simulation success rate 0.36, ave reward -11.68, ave turns 31.76\n",
      "simulation success rate 0.43, ave reward -2.79, ave turns 30.78\n",
      "Train on : 1539\n"
     ]
    },
    {
     "name": "stdout",
     "output_type": "stream",
     "text": [
      "- cur bellman err 1.5574, experience replay pool 1539\n",
      "Simulation success rate 0.36, Ave reward -11.68, Ave turns 31.76, Best success rate 0\n",
      "Progress: 23 / 100, Success rate: 4 / 23 Avg reward: -34.74 Avg turns: 33.22\n",
      "----------------- Episode: 23 ----------------- \n",
      "simulation success rate 0.01, ave reward -58.22, ave turns 40.84\n",
      "Train on : 3581\n",
      "- cur bellman err 1.2188, experience replay pool 3581\n",
      "Simulation success rate 0.01, Ave reward -58.22, Ave turns 40.84, Best success rate 0\n",
      "Progress: 24 / 100, Success rate: 4 / 24 Avg reward: -35.79 Avg turns: 33.58\n",
      "----------------- Episode: 24 ----------------- \n",
      "Successful Dialog!\n",
      "simulation success rate 0.39, ave reward -7.62, ave turns 30.84\n",
      "simulation success rate 0.43, ave reward -2.19, ave turns 29.58\n",
      "Train on : 1479\n",
      "- cur bellman err 3.0119, experience replay pool 1479\n",
      "Simulation success rate 0.39, Ave reward -7.62, Ave turns 30.84, Best success rate 0\n",
      "Progress: 25 / 100, Success rate: 5 / 25 Avg reward: -31.56 Avg turns: 33.12\n",
      "----------------- Episode: 25 ----------------- \n",
      "simulation success rate 0.03, ave reward -55.79, ave turns 40.78\n",
      "Train on : 3518\n",
      "- cur bellman err 1.3748, experience replay pool 3518\n",
      "Simulation success rate 0.03, Ave reward -55.79, Ave turns 40.78, Best success rate 0\n",
      "Progress: 26 / 100, Success rate: 5 / 26 Avg reward: -32.65 Avg turns: 33.46\n",
      "----------------- Episode: 26 ----------------- \n",
      "simulation success rate 0.36, ave reward -11.85, ave turns 32.1\n",
      "simulation success rate 0.41, ave reward -5.25, ave turns 30.9\n",
      "Train on : 1545\n",
      "- cur bellman err 1.8491, experience replay pool 1545\n",
      "Simulation success rate 0.36, Ave reward -11.85, Ave turns 32.1, Best success rate 0\n",
      "Progress: 27 / 100, Success rate: 5 / 27 Avg reward: -33.67 Avg turns: 33.78\n",
      "----------------- Episode: 27 ----------------- \n",
      "simulation success rate 0.41, ave reward -4.71, ave turns 29.82\n",
      "simulation success rate 0.48, ave reward 4.85, ave turns 27.5\n",
      "Train on : 1375\n",
      "- cur bellman err 1.6719, experience replay pool 1375\n",
      "Simulation success rate 0.41, Ave reward -4.71, Ave turns 29.82, Best success rate 0\n",
      "Progress: 28 / 100, Success rate: 5 / 28 Avg reward: -34.61 Avg turns: 34.07\n",
      "----------------- Episode: 28 ----------------- \n",
      "Successful Dialog!\n",
      "simulation success rate 0.57, ave reward 18.92, ave turns 20.96\n",
      "simulation success rate 0.68, ave reward 33.15, ave turns 18.9\n",
      "Train on : 945\n",
      "- cur bellman err 5.9619, experience replay pool 945\n",
      "Simulation success rate 0.57, Ave reward 18.92, Ave turns 20.96, Best success rate 0\n",
      "Progress: 29 / 100, Success rate: 6 / 29 Avg reward: -30.97 Avg turns: 33.59\n",
      "----------------- Episode: 29 ----------------- \n",
      "simulation success rate 0.53, ave reward 12.79, ave turns 23.62\n",
      "simulation success rate 0.4, ave reward -4.72, ave turns 27.44\n",
      "Train on : 1372\n",
      "- cur bellman err 6.8530, experience replay pool 1372\n",
      "Simulation success rate 0.53, Ave reward 12.79, Ave turns 23.62, Best success rate 0\n",
      "Progress: 30 / 100, Success rate: 6 / 30 Avg reward: -31.93 Avg turns: 33.87\n",
      "----------------- Episode: 30 ----------------- \n",
      "Successful Dialog!\n",
      "simulation success rate 0.31, ave reward -18.4, ave turns 33.2\n",
      "simulation success rate 0.35, ave reward -13.25, ave turns 32.5\n",
      "Train on : 1625\n",
      "- cur bellman err 1.8503, experience replay pool 1625\n",
      "Simulation success rate 0.31, Ave reward -18.4, Ave turns 33.2, Best success rate 0\n",
      "Progress: 31 / 100, Success rate: 7 / 31 Avg reward: -28.52 Avg turns: 33.23\n",
      "----------------- Episode: 31 ----------------- \n",
      "simulation success rate 0.15, ave reward -39.6, ave turns 37.2\n",
      "Train on : 3485\n",
      "- cur bellman err 1.5130, experience replay pool 3485\n",
      "Simulation success rate 0.15, Ave reward -39.6, Ave turns 37.2, Best success rate 0\n",
      "Progress: 32 / 100, Success rate: 7 / 32 Avg reward: -29.50 Avg turns: 33.50\n",
      "----------------- Episode: 32 ----------------- \n",
      "Successful Dialog!\n",
      "simulation success rate 0.51, ave reward 10.3, ave turns 23.8\n",
      "simulation success rate 0.55, ave reward 16.44, ave turns 21.12\n",
      "Train on : 1056\n",
      "- cur bellman err 9.7668, experience replay pool 1056\n",
      "Simulation success rate 0.51, Ave reward 10.3, Ave turns 23.8, Best success rate 0\n",
      "Progress: 33 / 100, Success rate: 8 / 33 Avg reward: -26.33 Avg turns: 32.85\n",
      "----------------- Episode: 33 ----------------- \n",
      "Successful Dialog!\n",
      "simulation success rate 0.63, ave reward 24.34, ave turns 24.52\n",
      "simulation success rate 0.61, ave reward 21.82, ave turns 24.76\n",
      "Train on : 1238\n",
      "- cur bellman err 5.3800, experience replay pool 1238\n",
      "Simulation success rate 0.63, Ave reward 24.34, Ave turns 24.52, Best success rate 0\n",
      "Progress: 34 / 100, Success rate: 9 / 34 Avg reward: -23.50 Avg turns: 32.53\n",
      "----------------- Episode: 34 ----------------- \n",
      "simulation success rate 0.25, ave reward -26.08, ave turns 34.16\n",
      "Train on : 2946\n",
      "- cur bellman err 4.4100, experience replay pool 2946\n",
      "Simulation success rate 0.25, Ave reward -26.08, Ave turns 34.16, Best success rate 0\n",
      "Progress: 35 / 100, Success rate: 9 / 35 Avg reward: -24.54 Avg turns: 32.80\n",
      "----------------- Episode: 35 ----------------- \n",
      "Successful Dialog!\n",
      "simulation success rate 0.64, ave reward 25.31, ave turns 24.98\n",
      "simulation success rate 0.67, ave reward 28.54, ave turns 25.72\n",
      "Train on : 1286\n",
      "- cur bellman err 3.9042, experience replay pool 1286\n",
      "Simulation success rate 0.64, Ave reward 25.31, Ave turns 24.98, Best success rate 0\n",
      "Progress: 36 / 100, Success rate: 10 / 36 Avg reward: -21.83 Avg turns: 32.33\n",
      "----------------- Episode: 36 ----------------- \n",
      "simulation success rate 0.58, ave reward 18.47, ave turns 24.26\n",
      "simulation success rate 0.54, ave reward 13.89, ave turns 23.82\n",
      "Train on : 1191\n",
      "- cur bellman err 7.5897, experience replay pool 1191\n",
      "Simulation success rate 0.58, Ave reward 18.47, Ave turns 24.26, Best success rate 0\n",
      "Progress: 37 / 100, Success rate: 10 / 37 Avg reward: -22.86 Avg turns: 32.59\n",
      "----------------- Episode: 37 ----------------- \n",
      "Successful Dialog!\n",
      "simulation success rate 0.61, ave reward 21.31, ave turns 25.78\n",
      "simulation success rate 0.64, ave reward 25.57, ave turns 24.46\n",
      "Train on : 1223\n",
      "- cur bellman err 5.8313, experience replay pool 1223\n",
      "Simulation success rate 0.61, Ave reward 21.31, Ave turns 25.78, Best success rate 0\n",
      "Progress: 38 / 100, Success rate: 11 / 38 Avg reward: -20.34 Avg turns: 32.16\n",
      "----------------- Episode: 38 ----------------- \n",
      "Successful Dialog!\n",
      "simulation success rate 0.61, ave reward 22.71, ave turns 22.98\n",
      "simulation success rate 0.6, ave reward 20.57, ave turns 24.86\n",
      "Train on : 1243\n",
      "- cur bellman err 3.8626, experience replay pool 1243\n",
      "Simulation success rate 0.61, Ave reward 22.71, Ave turns 22.98, Best success rate 0\n",
      "Progress: 39 / 100, Success rate: 12 / 39 Avg reward: -17.92 Avg turns: 31.69\n",
      "----------------- Episode: 39 ----------------- \n",
      "Successful Dialog!\n",
      "simulation success rate 0.57, ave reward 17.11, ave turns 24.58\n",
      "simulation success rate 0.43, ave reward -0.03, ave turns 25.26\n",
      "Train on : 1263\n",
      "- cur bellman err 8.4110, experience replay pool 1263\n",
      "Simulation success rate 0.57, Ave reward 17.11, Ave turns 24.58, Best success rate 0\n",
      "Progress: 40 / 100, Success rate: 13 / 40 Avg reward: -15.62 Avg turns: 31.25\n",
      "----------------- Episode: 40 ----------------- \n",
      "Successful Dialog!\n",
      "simulation success rate 0.66, ave reward 28.23, ave turns 23.94\n",
      "simulation success rate 0.64, ave reward 25.91, ave turns 23.78\n",
      "Train on : 1189\n",
      "- cur bellman err 5.1958, experience replay pool 1189\n",
      "Simulation success rate 0.66, Ave reward 28.23, Ave turns 23.94, Best success rate 0\n",
      "Progress: 41 / 100, Success rate: 14 / 41 Avg reward: -13.46 Avg turns: 30.88\n",
      "----------------- Episode: 41 ----------------- \n",
      "simulation success rate 0.6, ave reward 21.08, ave turns 23.84\n",
      "simulation success rate 0.6, ave reward 21.41, ave turns 23.18\n",
      "Train on : 1159\n",
      "- cur bellman err 3.7609, experience replay pool 1159\n",
      "Simulation success rate 0.6, Ave reward 21.08, Ave turns 23.84, Best success rate 0\n",
      "Progress: 42 / 100, Success rate: 14 / 42 Avg reward: -14.57 Avg turns: 31.14\n",
      "----------------- Episode: 42 ----------------- \n",
      "simulation success rate 0.6, ave reward 21.37, ave turns 23.26\n",
      "simulation success rate 0.51, ave reward 9.99, ave turns 24.42\n",
      "Train on : 1221\n",
      "- cur bellman err 7.6499, experience replay pool 1221\n",
      "Simulation success rate 0.6, Ave reward 21.37, Ave turns 23.26, Best success rate 0\n",
      "Progress: 43 / 100, Success rate: 14 / 43 Avg reward: -15.63 Avg turns: 31.40\n",
      "----------------- Episode: 43 ----------------- \n",
      "Successful Dialog!\n"
     ]
    },
    {
     "name": "stdout",
     "output_type": "stream",
     "text": [
      "simulation success rate 0.69, ave reward 33.95, ave turns 19.7\n",
      "simulation success rate 0.55, ave reward 15.57, ave turns 22.86\n",
      "Train on : 1143\n",
      "- cur bellman err 5.3550, experience replay pool 1143\n",
      "Simulation success rate 0.69, Ave reward 33.95, Ave turns 19.7, Best success rate 0\n",
      "Progress: 44 / 100, Success rate: 15 / 44 Avg reward: -13.57 Avg turns: 30.95\n",
      "----------------- Episode: 44 ----------------- \n",
      "simulation success rate 0.64, ave reward 26.8, ave turns 22.0\n",
      "simulation success rate 0.64, ave reward 26.92, ave turns 21.76\n",
      "Train on : 1088\n",
      "- cur bellman err 5.2960, experience replay pool 1088\n",
      "Simulation success rate 0.64, Ave reward 26.8, Ave turns 22.0, Best success rate 0\n",
      "Progress: 45 / 100, Success rate: 15 / 45 Avg reward: -14.60 Avg turns: 31.20\n",
      "----------------- Episode: 45 ----------------- \n",
      "simulation success rate 0.49, ave reward 7.77, ave turns 24.06\n",
      "simulation success rate 0.61, ave reward 23.0, ave turns 22.4\n",
      "Train on : 1120\n",
      "- cur bellman err 3.9831, experience replay pool 1120\n",
      "Simulation success rate 0.49, Ave reward 7.77, Ave turns 24.06, Best success rate 0\n",
      "Progress: 46 / 100, Success rate: 15 / 46 Avg reward: -15.59 Avg turns: 31.43\n",
      "----------------- Episode: 46 ----------------- \n",
      "Successful Dialog!\n",
      "simulation success rate 0.69, ave reward 33.04, ave turns 21.52\n",
      "simulation success rate 0.68, ave reward 31.73, ave turns 21.74\n",
      "Train on : 1087\n",
      "- cur bellman err 5.1399, experience replay pool 1087\n",
      "Simulation success rate 0.69, Ave reward 33.04, Ave turns 21.52, Best success rate 0\n",
      "Progress: 47 / 100, Success rate: 16 / 47 Avg reward: -13.96 Avg turns: 31.62\n",
      "----------------- Episode: 47 ----------------- \n",
      "Successful Dialog!\n",
      "simulation success rate 0.7, ave reward 35.87, ave turns 18.26\n",
      "simulation success rate 0.7, ave reward 34.24, ave turns 21.52\n",
      "Train on : 1076\n",
      "- cur bellman err 7.2810, experience replay pool 1076\n",
      "Simulation success rate 0.7, Ave reward 35.87, Ave turns 18.26, Best success rate 0\n",
      "Progress: 48 / 100, Success rate: 17 / 48 Avg reward: -12.08 Avg turns: 31.17\n",
      "----------------- Episode: 48 ----------------- \n",
      "Successful Dialog!\n",
      "simulation success rate 0.65, ave reward 27.88, ave turns 22.24\n",
      "simulation success rate 0.74, ave reward 39.34, ave turns 20.92\n",
      "Train on : 1046\n",
      "- cur bellman err 9.8492, experience replay pool 1046\n",
      "Simulation success rate 0.65, Ave reward 27.88, Ave turns 22.24, Best success rate 0\n",
      "Progress: 49 / 100, Success rate: 18 / 49 Avg reward: -10.57 Avg turns: 31.31\n",
      "----------------- Episode: 49 ----------------- \n",
      "Successful Dialog!\n",
      "simulation success rate 0.68, ave reward 31.47, ave turns 22.26\n",
      "simulation success rate 0.71, ave reward 36.14, ave turns 20.12\n",
      "Train on : 1006\n",
      "- cur bellman err 7.8807, experience replay pool 1006\n",
      "Simulation success rate 0.68, Ave reward 31.47, Ave turns 22.26, Best success rate 0\n",
      "Progress: 50 / 100, Success rate: 19 / 50 Avg reward: -9.12 Avg turns: 31.44\n",
      "----------------- Episode: 50 ----------------- \n",
      "Successful Dialog!\n",
      "simulation success rate 0.79, ave reward 44.96, ave turns 21.68\n",
      "simulation success rate 0.76, ave reward 40.87, ave turns 22.66\n",
      "Train on : 1133\n",
      "- cur bellman err 7.8788, experience replay pool 1133\n",
      "Simulation success rate 0.79, Ave reward 44.96, Ave turns 21.68, Best success rate 0\n",
      "Progress: 51 / 100, Success rate: 20 / 51 Avg reward: -7.47 Avg turns: 31.06\n",
      "----------------- Episode: 51 ----------------- \n",
      "Successful Dialog!\n",
      "simulation success rate 0.78, ave reward 46.08, ave turns 17.04\n",
      "simulation success rate 0.75, ave reward 41.07, ave turns 19.86\n",
      "Train on : 993\n",
      "- cur bellman err 9.8346, experience replay pool 993\n",
      "Simulation success rate 0.78, Ave reward 46.08, Ave turns 17.04, Best success rate 0\n",
      "Progress: 52 / 100, Success rate: 21 / 52 Avg reward: -6.06 Avg turns: 31.04\n",
      "----------------- Episode: 52 ----------------- \n",
      "Successful Dialog!\n",
      "simulation success rate 0.77, ave reward 43.03, ave turns 20.74\n",
      "simulation success rate 0.82, ave reward 49.36, ave turns 20.08\n",
      "Train on : 1004\n",
      "- cur bellman err 10.0284, experience replay pool 1004\n",
      "Simulation success rate 0.77, Ave reward 43.03, Ave turns 20.74, Best success rate 0\n",
      "Progress: 53 / 100, Success rate: 22 / 53 Avg reward: -4.53 Avg turns: 30.68\n",
      "----------------- Episode: 53 ----------------- \n",
      "simulation success rate 0.8, ave reward 49.2, ave turns 15.6\n",
      "simulation success rate 0.77, ave reward 45.83, ave turns 15.14\n",
      "Train on : 757\n",
      "- cur bellman err 8.4193, experience replay pool 757\n",
      "Simulation success rate 0.8, Ave reward 49.2, Ave turns 15.6, Best success rate 0\n",
      "Progress: 54 / 100, Success rate: 22 / 54 Avg reward: -5.28 Avg turns: 30.33\n",
      "----------------- Episode: 54 ----------------- \n",
      "Successful Dialog!\n",
      "simulation success rate 0.86, ave reward 56.13, ave turns 16.14\n",
      "simulation success rate 0.92, ave reward 63.47, ave turns 15.86\n",
      "Train on : 793\n",
      "- cur bellman err 7.0669, experience replay pool 793\n",
      "Simulation success rate 0.86, Ave reward 56.13, Ave turns 16.14, Best success rate 0\n",
      "Progress: 55 / 100, Success rate: 23 / 55 Avg reward: -3.82 Avg turns: 30.00\n",
      "----------------- Episode: 55 ----------------- \n",
      "simulation success rate 0.81, ave reward 50.73, ave turns 14.94\n",
      "simulation success rate 0.78, ave reward 46.18, ave turns 16.84\n",
      "Train on : 842\n",
      "- cur bellman err 10.4549, experience replay pool 842\n",
      "Simulation success rate 0.81, Ave reward 50.73, Ave turns 14.94, Best success rate 0\n",
      "Progress: 56 / 100, Success rate: 23 / 56 Avg reward: -4.59 Avg turns: 29.75\n",
      "----------------- Episode: 56 ----------------- \n",
      "simulation success rate 0.8, ave reward 48.99, ave turns 16.02\n",
      "simulation success rate 0.8, ave reward 48.69, ave turns 16.62\n",
      "Train on : 831\n",
      "- cur bellman err 6.9891, experience replay pool 831\n",
      "Simulation success rate 0.8, Ave reward 48.99, Ave turns 16.02, Best success rate 0\n",
      "Progress: 57 / 100, Success rate: 23 / 57 Avg reward: -5.56 Avg turns: 29.96\n",
      "----------------- Episode: 57 ----------------- \n",
      "Successful Dialog!\n",
      "simulation success rate 0.83, ave reward 53.22, ave turns 14.76\n",
      "simulation success rate 0.76, ave reward 43.99, ave turns 16.42\n",
      "Train on : 821\n",
      "- cur bellman err 12.1429, experience replay pool 821\n",
      "Simulation success rate 0.83, Ave reward 53.22, Ave turns 14.76, Best success rate 0\n",
      "Progress: 58 / 100, Success rate: 24 / 58 Avg reward: -4.17 Avg turns: 29.66\n",
      "----------------- Episode: 58 ----------------- \n",
      "Successful Dialog!\n",
      "simulation success rate 0.77, ave reward 44.92, ave turns 16.96\n",
      "simulation success rate 0.83, ave reward 52.87, ave turns 15.46\n",
      "Train on : 773\n",
      "- cur bellman err 8.0609, experience replay pool 773\n",
      "Simulation success rate 0.77, Ave reward 44.92, Ave turns 16.96, Best success rate 0\n",
      "Progress: 59 / 100, Success rate: 25 / 59 Avg reward: -2.85 Avg turns: 29.39\n",
      "----------------- Episode: 59 ----------------- \n",
      "Successful Dialog!\n",
      "simulation success rate 0.71, ave reward 36.14, ave turns 20.12\n",
      "simulation success rate 0.75, ave reward 41.12, ave turns 19.76\n",
      "Train on : 988\n",
      "- cur bellman err 5.9214, experience replay pool 988\n",
      "Simulation success rate 0.71, Ave reward 36.14, Ave turns 20.12, Best success rate 0\n",
      "Progress: 60 / 100, Success rate: 26 / 60 Avg reward: -1.58 Avg turns: 29.17\n",
      "----------------- Episode: 60 ----------------- \n",
      "Successful Dialog!\n",
      "simulation success rate 0.76, ave reward 43.62, ave turns 17.16\n",
      "simulation success rate 0.78, ave reward 46.88, ave turns 15.44\n",
      "Train on : 772\n",
      "- cur bellman err 9.7197, experience replay pool 772\n",
      "Simulation success rate 0.76, Ave reward 43.62, Ave turns 17.16, Best success rate 0\n",
      "Progress: 61 / 100, Success rate: 27 / 61 Avg reward: -0.30 Avg turns: 28.82\n",
      "----------------- Episode: 61 ----------------- \n",
      "Successful Dialog!\n",
      "simulation success rate 0.84, ave reward 53.81, ave turns 15.98\n",
      "simulation success rate 0.84, ave reward 54.24, ave turns 15.12\n",
      "Train on : 756\n",
      "- cur bellman err 9.7450, experience replay pool 756\n",
      "Simulation success rate 0.84, Ave reward 53.81, Ave turns 15.98, Best success rate 0\n",
      "Progress: 62 / 100, Success rate: 28 / 62 Avg reward: 0.92 Avg turns: 28.55\n",
      "----------------- Episode: 62 ----------------- \n",
      "Successful Dialog!\n",
      "simulation success rate 0.84, ave reward 53.93, ave turns 15.74\n",
      "simulation success rate 0.79, ave reward 47.28, ave turns 17.04\n",
      "Train on : 852\n",
      "- cur bellman err 5.4845, experience replay pool 852\n",
      "Simulation success rate 0.84, Ave reward 53.93, Ave turns 15.74, Best success rate 0\n",
      "Progress: 63 / 100, Success rate: 29 / 63 Avg reward: 2.08 Avg turns: 28.32\n",
      "----------------- Episode: 63 ----------------- \n",
      "Successful Dialog!\n"
     ]
    },
    {
     "name": "stdout",
     "output_type": "stream",
     "text": [
      "simulation success rate 0.8, ave reward 49.79, ave turns 14.42\n",
      "simulation success rate 0.84, ave reward 54.53, ave turns 14.54\n",
      "Train on : 727\n",
      "- cur bellman err 7.6394, experience replay pool 727\n",
      "Simulation success rate 0.8, Ave reward 49.79, Ave turns 14.42, Best success rate 0\n",
      "Progress: 64 / 100, Success rate: 30 / 64 Avg reward: 3.19 Avg turns: 28.12\n",
      "----------------- Episode: 64 ----------------- \n",
      "Successful Dialog!\n",
      "simulation success rate 0.73, ave reward 40.06, ave turns 17.08\n",
      "simulation success rate 0.84, ave reward 54.44, ave turns 14.72\n",
      "Train on : 736\n",
      "- cur bellman err 7.2236, experience replay pool 736\n",
      "Simulation success rate 0.73, Ave reward 40.06, Ave turns 17.08, Best success rate 0\n",
      "Progress: 65 / 100, Success rate: 31 / 65 Avg reward: 4.31 Avg turns: 27.85\n",
      "----------------- Episode: 65 ----------------- \n",
      "Successful Dialog!\n",
      "simulation success rate 0.79, ave reward 47.65, ave turns 16.3\n",
      "simulation success rate 0.82, ave reward 50.8, ave turns 17.2\n",
      "Train on : 860\n",
      "- cur bellman err 6.9514, experience replay pool 860\n",
      "Simulation success rate 0.79, Ave reward 47.65, Ave turns 16.3, Best success rate 0\n",
      "Progress: 66 / 100, Success rate: 32 / 66 Avg reward: 5.41 Avg turns: 27.55\n",
      "----------------- Episode: 66 ----------------- \n",
      "Successful Dialog!\n",
      "simulation success rate 0.84, ave reward 54.31, ave turns 14.98\n",
      "simulation success rate 0.87, ave reward 57.83, ave turns 15.14\n",
      "Train on : 757\n",
      "- cur bellman err 4.5981, experience replay pool 757\n",
      "Simulation success rate 0.84, Ave reward 54.31, Ave turns 14.98, Best success rate 0\n",
      "Progress: 67 / 100, Success rate: 33 / 67 Avg reward: 6.45 Avg turns: 27.31\n",
      "----------------- Episode: 67 ----------------- \n",
      "Successful Dialog!\n",
      "simulation success rate 0.83, ave reward 53.07, ave turns 15.06\n",
      "simulation success rate 0.84, ave reward 54.19, ave turns 15.22\n",
      "Train on : 761\n",
      "- cur bellman err 8.7330, experience replay pool 761\n",
      "Simulation success rate 0.83, Ave reward 53.07, Ave turns 15.06, Best success rate 0\n",
      "Progress: 68 / 100, Success rate: 34 / 68 Avg reward: 7.46 Avg turns: 27.09\n",
      "----------------- Episode: 68 ----------------- \n",
      "Successful Dialog!\n",
      "simulation success rate 0.82, ave reward 51.31, ave turns 16.18\n",
      "simulation success rate 0.85, ave reward 55.39, ave turns 15.22\n",
      "Train on : 761\n",
      "- cur bellman err 8.1212, experience replay pool 761\n",
      "Simulation success rate 0.82, Ave reward 51.31, Ave turns 16.18, Best success rate 0\n",
      "Progress: 69 / 100, Success rate: 35 / 69 Avg reward: 8.43 Avg turns: 26.87\n",
      "----------------- Episode: 69 ----------------- \n",
      "simulation success rate 0.8, ave reward 48.09, ave turns 17.82\n",
      "simulation success rate 0.89, ave reward 59.99, ave turns 15.62\n",
      "Train on : 781\n",
      "- cur bellman err 4.7946, experience replay pool 781\n",
      "Simulation success rate 0.8, Ave reward 48.09, Ave turns 17.82, Best success rate 0\n",
      "Progress: 70 / 100, Success rate: 35 / 70 Avg reward: 7.46 Avg turns: 27.09\n",
      "----------------- Episode: 70 ----------------- \n",
      "Successful Dialog!\n",
      "simulation success rate 0.81, ave reward 50.33, ave turns 15.74\n",
      "simulation success rate 0.85, ave reward 55.38, ave turns 15.24\n",
      "Train on : 762\n",
      "- cur bellman err 6.6658, experience replay pool 762\n",
      "Simulation success rate 0.81, Ave reward 50.33, Ave turns 15.74, Best success rate 0\n",
      "Progress: 71 / 100, Success rate: 36 / 71 Avg reward: 8.41 Avg turns: 26.87\n",
      "----------------- Episode: 71 ----------------- \n",
      "Successful Dialog!\n",
      "simulation success rate 0.79, ave reward 46.57, ave turns 18.46\n",
      "simulation success rate 0.74, ave reward 40.51, ave turns 18.58\n",
      "Train on : 929\n",
      "- cur bellman err 5.1312, experience replay pool 929\n",
      "Simulation success rate 0.79, Ave reward 46.57, Ave turns 18.46, Best success rate 0\n",
      "Progress: 72 / 100, Success rate: 37 / 72 Avg reward: 9.26 Avg turns: 26.81\n",
      "----------------- Episode: 72 ----------------- \n",
      "Successful Dialog!\n",
      "simulation success rate 0.83, ave reward 51.93, ave turns 17.34\n",
      "simulation success rate 0.75, ave reward 41.22, ave turns 19.56\n",
      "Train on : 978\n",
      "- cur bellman err 3.3724, experience replay pool 978\n",
      "Simulation success rate 0.83, Ave reward 51.93, Ave turns 17.34, Best success rate 0\n",
      "Progress: 73 / 100, Success rate: 38 / 73 Avg reward: 10.16 Avg turns: 26.60\n",
      "----------------- Episode: 73 ----------------- \n",
      "Successful Dialog!\n",
      "simulation success rate 0.87, ave reward 57.71, ave turns 15.38\n",
      "simulation success rate 0.78, ave reward 46.91, ave turns 15.38\n",
      "Train on : 769\n",
      "- cur bellman err 9.2123, experience replay pool 769\n",
      "Simulation success rate 0.87, Ave reward 57.71, Ave turns 15.38, Best success rate 0\n",
      "Progress: 74 / 100, Success rate: 39 / 74 Avg reward: 11.04 Avg turns: 26.41\n",
      "----------------- Episode: 74 ----------------- \n",
      "Successful Dialog!\n",
      "simulation success rate 0.81, ave reward 49.83, ave turns 16.74\n",
      "simulation success rate 0.76, ave reward 43.66, ave turns 17.08\n",
      "Train on : 854\n",
      "- cur bellman err 8.4520, experience replay pool 854\n",
      "Simulation success rate 0.81, Ave reward 49.83, Ave turns 16.74, Best success rate 0\n",
      "Progress: 75 / 100, Success rate: 40 / 75 Avg reward: 11.89 Avg turns: 26.21\n",
      "----------------- Episode: 75 ----------------- \n",
      "Successful Dialog!\n",
      "simulation success rate 0.86, ave reward 55.78, ave turns 16.84\n",
      "simulation success rate 0.81, ave reward 49.05, ave turns 18.3\n",
      "Train on : 915\n",
      "- cur bellman err 3.8335, experience replay pool 915\n",
      "Simulation success rate 0.86, Ave reward 55.78, Ave turns 16.84, Best success rate 0\n",
      "Progress: 76 / 100, Success rate: 41 / 76 Avg reward: 12.72 Avg turns: 26.03\n",
      "----------------- Episode: 76 ----------------- \n",
      "Successful Dialog!\n",
      "simulation success rate 0.8, ave reward 48.21, ave turns 17.58\n",
      "simulation success rate 0.8, ave reward 48.84, ave turns 16.32\n",
      "Train on : 816\n",
      "- cur bellman err 5.1038, experience replay pool 816\n",
      "Simulation success rate 0.8, Ave reward 48.21, Ave turns 17.58, Best success rate 0\n",
      "Progress: 77 / 100, Success rate: 42 / 77 Avg reward: 13.55 Avg turns: 25.82\n",
      "----------------- Episode: 77 ----------------- \n",
      "Successful Dialog!\n",
      "simulation success rate 0.84, ave reward 54.03, ave turns 15.54\n",
      "simulation success rate 0.87, ave reward 58.53, ave turns 13.74\n",
      "Train on : 687\n",
      "- cur bellman err 7.6031, experience replay pool 687\n",
      "Simulation success rate 0.84, Ave reward 54.03, Ave turns 15.54, Best success rate 0\n",
      "Progress: 78 / 100, Success rate: 43 / 78 Avg reward: 14.35 Avg turns: 25.62\n",
      "----------------- Episode: 78 ----------------- \n",
      "simulation success rate 0.92, ave reward 64.86, ave turns 13.08\n",
      "simulation success rate 0.83, ave reward 52.63, ave turns 15.94\n",
      "Train on : 797\n",
      "- cur bellman err 5.9858, experience replay pool 797\n",
      "Simulation success rate 0.92, Ave reward 64.86, Ave turns 13.08, Best success rate 0\n",
      "Progress: 79 / 100, Success rate: 43 / 79 Avg reward: 13.51 Avg turns: 25.62\n",
      "----------------- Episode: 79 ----------------- \n",
      "Successful Dialog!\n",
      "simulation success rate 0.82, ave reward 52.1, ave turns 14.6\n",
      "simulation success rate 0.77, ave reward 44.31, ave turns 18.18\n",
      "Train on : 909\n",
      "- cur bellman err 4.7488, experience replay pool 909\n",
      "Simulation success rate 0.82, Ave reward 52.1, Ave turns 14.6, Best success rate 0\n",
      "Progress: 80 / 100, Success rate: 44 / 80 Avg reward: 14.26 Avg turns: 25.48\n",
      "----------------- Episode: 80 ----------------- \n",
      "Successful Dialog!\n",
      "simulation success rate 0.84, ave reward 53.95, ave turns 15.7\n",
      "simulation success rate 0.81, ave reward 50.6, ave turns 15.2\n",
      "Train on : 760\n",
      "- cur bellman err 7.4357, experience replay pool 760\n",
      "Simulation success rate 0.84, Ave reward 53.95, Ave turns 15.7, Best success rate 0\n",
      "Progress: 81 / 100, Success rate: 45 / 81 Avg reward: 15.02 Avg turns: 25.28\n",
      "----------------- Episode: 81 ----------------- \n",
      "Successful Dialog!\n",
      "simulation success rate 0.8, ave reward 48.07, ave turns 17.86\n",
      "simulation success rate 0.87, ave reward 58.17, ave turns 14.46\n",
      "Train on : 723\n",
      "- cur bellman err 5.7355, experience replay pool 723\n",
      "Simulation success rate 0.8, Ave reward 48.07, Ave turns 17.86, Best success rate 0\n",
      "Progress: 82 / 100, Success rate: 46 / 82 Avg reward: 15.74 Avg turns: 25.15\n",
      "----------------- Episode: 82 ----------------- \n",
      "Successful Dialog!\n",
      "simulation success rate 0.85, ave reward 55.45, ave turns 15.1\n",
      "simulation success rate 0.85, ave reward 55.38, ave turns 15.24\n",
      "Train on : 762\n",
      "- cur bellman err 4.2745, experience replay pool 762\n",
      "Simulation success rate 0.85, Ave reward 55.45, Ave turns 15.1, Best success rate 0\n",
      "Progress: 83 / 100, Success rate: 47 / 83 Avg reward: 16.46 Avg turns: 24.99\n",
      "----------------- Episode: 83 ----------------- \n",
      "Successful Dialog!\n"
     ]
    },
    {
     "name": "stdout",
     "output_type": "stream",
     "text": [
      "simulation success rate 0.8, ave reward 49.07, ave turns 15.86\n",
      "simulation success rate 0.79, ave reward 47.57, ave turns 16.46\n",
      "Train on : 823\n",
      "- cur bellman err 5.6878, experience replay pool 823\n",
      "Simulation success rate 0.8, Ave reward 49.07, Ave turns 15.86, Best success rate 0\n",
      "Progress: 84 / 100, Success rate: 48 / 84 Avg reward: 17.15 Avg turns: 24.83\n",
      "----------------- Episode: 84 ----------------- \n",
      "simulation success rate 0.84, ave reward 53.5, ave turns 16.6\n",
      "simulation success rate 0.79, ave reward 47.8, ave turns 16.0\n",
      "Train on : 800\n",
      "- cur bellman err 9.5263, experience replay pool 800\n",
      "Simulation success rate 0.84, Ave reward 53.5, Ave turns 16.6, Best success rate 0\n",
      "Progress: 85 / 100, Success rate: 48 / 85 Avg reward: 16.25 Avg turns: 25.04\n",
      "----------------- Episode: 85 ----------------- \n",
      "Successful Dialog!\n",
      "simulation success rate 0.89, ave reward 59.91, ave turns 15.78\n",
      "simulation success rate 0.79, ave reward 46.49, ave turns 18.62\n",
      "Train on : 931\n",
      "- cur bellman err 4.2391, experience replay pool 931\n",
      "Simulation success rate 0.89, Ave reward 59.91, Ave turns 15.78, Best success rate 0\n",
      "Progress: 86 / 100, Success rate: 49 / 86 Avg reward: 16.95 Avg turns: 24.84\n",
      "----------------- Episode: 86 ----------------- \n",
      "Successful Dialog!\n",
      "simulation success rate 0.86, ave reward 56.31, ave turns 15.78\n",
      "simulation success rate 0.82, ave reward 51.01, ave turns 16.78\n",
      "Train on : 839\n",
      "- cur bellman err 6.0174, experience replay pool 839\n",
      "Simulation success rate 0.86, Ave reward 56.31, Ave turns 15.78, Best success rate 0\n",
      "Progress: 87 / 100, Success rate: 50 / 87 Avg reward: 17.63 Avg turns: 24.67\n",
      "----------------- Episode: 87 ----------------- \n",
      "simulation success rate 0.86, ave reward 56.58, ave turns 15.24\n",
      "simulation success rate 0.8, ave reward 49.18, ave turns 15.64\n",
      "Train on : 782\n",
      "- cur bellman err 10.5959, experience replay pool 782\n",
      "Simulation success rate 0.86, Ave reward 56.58, Ave turns 15.24, Best success rate 0\n",
      "Progress: 88 / 100, Success rate: 50 / 88 Avg reward: 16.75 Avg turns: 24.86\n",
      "----------------- Episode: 88 ----------------- \n",
      "Successful Dialog!\n",
      "simulation success rate 0.83, ave reward 52.72, ave turns 15.76\n",
      "simulation success rate 0.91, ave reward 63.36, ave turns 13.68\n",
      "Train on : 684\n",
      "- cur bellman err 5.4412, experience replay pool 684\n",
      "Simulation success rate 0.83, Ave reward 52.72, Ave turns 15.76, Best success rate 0\n",
      "Progress: 89 / 100, Success rate: 51 / 89 Avg reward: 17.39 Avg turns: 24.74\n",
      "----------------- Episode: 89 ----------------- \n",
      "Successful Dialog!\n",
      "simulation success rate 0.78, ave reward 45.95, ave turns 17.3\n",
      "simulation success rate 0.86, ave reward 56.85, ave turns 14.7\n",
      "Train on : 735\n",
      "- cur bellman err 6.3223, experience replay pool 735\n",
      "Simulation success rate 0.78, Ave reward 45.95, Ave turns 17.3, Best success rate 0\n",
      "Progress: 90 / 100, Success rate: 52 / 90 Avg reward: 18.02 Avg turns: 24.62\n",
      "----------------- Episode: 90 ----------------- \n",
      "Successful Dialog!\n",
      "simulation success rate 0.83, ave reward 52.2, ave turns 16.8\n",
      "simulation success rate 0.81, ave reward 49.72, ave turns 16.96\n",
      "Train on : 848\n",
      "- cur bellman err 5.9997, experience replay pool 848\n",
      "Simulation success rate 0.83, Ave reward 52.2, Ave turns 16.8, Best success rate 0\n",
      "Progress: 91 / 100, Success rate: 53 / 91 Avg reward: 18.64 Avg turns: 24.51\n",
      "----------------- Episode: 91 ----------------- \n",
      "Successful Dialog!\n",
      "simulation success rate 0.83, ave reward 53.03, ave turns 15.14\n",
      "simulation success rate 0.81, ave reward 50.16, ave turns 16.08\n",
      "Train on : 804\n",
      "- cur bellman err 4.0006, experience replay pool 804\n",
      "Simulation success rate 0.83, Ave reward 53.03, Ave turns 15.14, Best success rate 0\n",
      "Progress: 92 / 100, Success rate: 54 / 92 Avg reward: 19.26 Avg turns: 24.35\n",
      "----------------- Episode: 92 ----------------- \n",
      "Successful Dialog!\n",
      "simulation success rate 0.76, ave reward 43.07, ave turns 18.26\n",
      "simulation success rate 0.81, ave reward 49.38, ave turns 17.64\n",
      "Train on : 882\n",
      "- cur bellman err 4.0659, experience replay pool 882\n",
      "Simulation success rate 0.76, Ave reward 43.07, Ave turns 18.26, Best success rate 0\n",
      "Progress: 93 / 100, Success rate: 55 / 93 Avg reward: 19.82 Avg turns: 24.30\n",
      "----------------- Episode: 93 ----------------- \n",
      "Successful Dialog!\n",
      "simulation success rate 0.81, ave reward 50.31, ave turns 15.78\n",
      "simulation success rate 0.84, ave reward 53.68, ave turns 16.24\n",
      "Train on : 812\n",
      "- cur bellman err 3.2843, experience replay pool 812\n",
      "Simulation success rate 0.81, Ave reward 50.31, Ave turns 15.78, Best success rate 0\n",
      "Progress: 94 / 100, Success rate: 56 / 94 Avg reward: 20.40 Avg turns: 24.17\n",
      "----------------- Episode: 94 ----------------- \n",
      "Successful Dialog!\n",
      "simulation success rate 0.78, ave reward 46.54, ave turns 16.12\n",
      "simulation success rate 0.8, ave reward 49.05, ave turns 15.9\n",
      "Train on : 795\n",
      "- cur bellman err 6.0000, experience replay pool 795\n",
      "Simulation success rate 0.78, Ave reward 46.54, Ave turns 16.12, Best success rate 0\n",
      "Progress: 95 / 100, Success rate: 57 / 95 Avg reward: 20.99 Avg turns: 24.02\n",
      "----------------- Episode: 95 ----------------- \n",
      "Successful Dialog!\n",
      "simulation success rate 0.89, ave reward 60.33, ave turns 14.94\n",
      "simulation success rate 0.86, ave reward 56.13, ave turns 16.14\n",
      "Train on : 807\n",
      "- cur bellman err 5.9900, experience replay pool 807\n",
      "Simulation success rate 0.89, Ave reward 60.33, Ave turns 14.94, Best success rate 0\n",
      "Progress: 96 / 100, Success rate: 58 / 96 Avg reward: 21.54 Avg turns: 23.92\n",
      "----------------- Episode: 96 ----------------- \n",
      "simulation success rate 0.82, ave reward 51.08, ave turns 16.64\n",
      "simulation success rate 0.87, ave reward 57.39, ave turns 16.02\n",
      "Train on : 801\n",
      "- cur bellman err 3.2932, experience replay pool 801\n",
      "Simulation success rate 0.82, Ave reward 51.08, Ave turns 16.64, Best success rate 0\n",
      "Progress: 97 / 100, Success rate: 58 / 97 Avg reward: 20.70 Avg turns: 24.10\n",
      "----------------- Episode: 97 ----------------- \n",
      "simulation success rate 0.78, ave reward 47.15, ave turns 14.9\n",
      "simulation success rate 0.85, ave reward 55.19, ave turns 15.62\n",
      "Train on : 781\n",
      "- cur bellman err 5.3611, experience replay pool 781\n",
      "Simulation success rate 0.78, Ave reward 47.15, Ave turns 14.9, Best success rate 0\n",
      "Progress: 98 / 100, Success rate: 58 / 98 Avg reward: 19.88 Avg turns: 24.29\n",
      "----------------- Episode: 98 ----------------- \n",
      "simulation success rate 0.77, ave reward 45.09, ave turns 16.62\n",
      "simulation success rate 0.82, ave reward 51.8, ave turns 15.2\n",
      "Train on : 760\n",
      "- cur bellman err 8.1443, experience replay pool 760\n",
      "Simulation success rate 0.77, Ave reward 45.09, Ave turns 16.62, Best success rate 0\n",
      "Progress: 99 / 100, Success rate: 58 / 99 Avg reward: 19.13 Avg turns: 24.34\n",
      "----------------- Episode: 99 ----------------- \n",
      "Successful Dialog!\n",
      "simulation success rate 0.83, ave reward 52.15, ave turns 16.9\n",
      "simulation success rate 0.81, ave reward 49.91, ave turns 16.58\n",
      "Train on : 829\n",
      "- cur bellman err 6.1396, experience replay pool 829\n",
      "Simulation success rate 0.83, Ave reward 52.15, Ave turns 16.9, Best success rate 0\n",
      "Progress: 100 / 100, Success rate: 59 / 100 Avg reward: 19.68 Avg turns: 24.24\n",
      "Success rate: 59 / 100 Avg reward: 19.68 Avg turns: 24.24\n"
     ]
    }
   ],
   "source": [
    "performance_records = {}\n",
    "performance_records['success_rate'] = {}\n",
    "performance_records['ave_turns'] = {}\n",
    "performance_records['ave_reward'] = {}\n",
    "\n",
    "best_model = {}\n",
    "best_res = {'success_rate': 0, 'ave_reward':float('-inf'), 'ave_turns': float('inf'), 'epoch':0}\n",
    "\n",
    "curve = []\n",
    "losses = []\n",
    "agent.warm_start = 1\n",
    "run_episodes(100, status)"
   ]
  },
  {
   "cell_type": "code",
   "execution_count": 26,
   "metadata": {},
   "outputs": [
    {
     "data": {
      "image/png": "[encoded data removed]",
      "text/plain": [
       "<matplotlib.figure.Figure at 0x7f3fb8e380f0>"
      ]
     },
     "metadata": {},
     "output_type": "display_data"
    }
   ],
   "source": [
    "draw_learning_curve(curve)"
   ]
  },
  {
   "cell_type": "code",
   "execution_count": 21,
   "metadata": {},
   "outputs": [
    {
     "data": {
      "image/png": "[encoded data removed]",
      "text/plain": [
       "<matplotlib.figure.Figure at 0x7f3fb8ee6588>"
      ]
     },
     "metadata": {},
     "output_type": "display_data"
    }
   ],
   "source": [
    "draw_loss_curve(losses)"
   ]
  },
  {
   "cell_type": "code",
   "execution_count": 22,
   "metadata": {},
   "outputs": [
    {
     "data": {
      "image/png": "[encoded data removed]",
      "text/plain": [
       "<matplotlib.figure.Figure at 0x7f3fb8e1b8d0>"
      ]
     },
     "metadata": {},
     "output_type": "display_data"
    }
   ],
   "source": [
    "draw_loss_curve(losses[-100:])"
   ]
  },
  {
   "cell_type": "code",
   "execution_count": 23,
   "metadata": {
    "collapsed": true
   },
   "outputs": [],
   "source": [
    "saver = tf.train.Saver()"
   ]
  },
  {
   "cell_type": "code",
   "execution_count": 24,
   "metadata": {
    "collapsed": true
   },
   "outputs": [],
   "source": [
    "# saver.save(agent.model.sess, \"trained_model/tf_400/\", global_step = 400)  "
   ]
  },
  {
   "cell_type": "code",
   "execution_count": null,
   "metadata": {
    "collapsed": true
   },
   "outputs": [],
   "source": []
  },
  {
   "cell_type": "code",
   "execution_count": null,
   "metadata": {
    "collapsed": true
   },
   "outputs": [],
   "source": []
  },
  {
   "cell_type": "code",
   "execution_count": null,
   "metadata": {
    "collapsed": true
   },
   "outputs": [],
   "source": []
  },
  {
   "cell_type": "code",
   "execution_count": null,
   "metadata": {
    "collapsed": true
   },
   "outputs": [],
   "source": []
  },
  {
   "cell_type": "code",
   "execution_count": null,
   "metadata": {
    "collapsed": true
   },
   "outputs": [],
   "source": []
  },
  {
   "cell_type": "code",
   "execution_count": null,
   "metadata": {
    "collapsed": true
   },
   "outputs": [],
   "source": []
  },
  {
   "cell_type": "code",
   "execution_count": null,
   "metadata": {
    "collapsed": true
   },
   "outputs": [],
   "source": []
  }
 ],
 "metadata": {
  "kernelspec": {
   "display_name": "Python 3",
   "language": "python",
   "name": "python3"
  },
  "language_info": {
   "codemirror_mode": {
    "name": "ipython",
    "version": 3
   },
   "file_extension": ".py",
   "mimetype": "text/x-python",
   "name": "python",
   "nbconvert_exporter": "python",
   "pygments_lexer": "ipython3",
   "version": "3.5.2"
  },
  "latex_envs": {
   "LaTeX_envs_menu_present": true,
   "autocomplete": true,
   "bibliofile": "biblio.bib",
   "cite_by": "apalike",
   "current_citInitial": 1,
   "eqLabelWithNumbers": true,
   "eqNumInitial": 1,
   "hotkeys": {
    "equation": "Ctrl-E",
    "itemize": "Ctrl-I"
   },
   "labels_anchors": false,
   "latex_user_defs": false,
   "report_style_numbering": false,
   "user_envs_cfg": false
  },
  "nbTranslate": {
   "displayLangs": [
    "*"
   ],
   "hotkey": "alt-t",
   "langInMainMenu": true,
   "sourceLang": "en",
   "targetLang": "fr",
   "useGoogleTranslate": true
  },
  "varInspector": {
   "cols": {
    "lenName": 16,
    "lenType": 16,
    "lenVar": 40
   },
   "kernels_config": {
    "python": {
     "delete_cmd_postfix": "",
     "delete_cmd_prefix": "del ",
     "library": "var_list.py",
     "varRefreshCmd": "print(var_dic_list())"
    },
    "r": {
     "delete_cmd_postfix": ") ",
     "delete_cmd_prefix": "rm(",
     "library": "var_list.r",
     "varRefreshCmd": "cat(var_dic_list()) "
    }
   },
   "types_to_exclude": [
    "module",
    "function",
    "builtin_function_or_method",
    "instance",
    "_Feature"
   ],
   "window_display": false
  }
 },
 "nbformat": 4,
 "nbformat_minor": 2
}
