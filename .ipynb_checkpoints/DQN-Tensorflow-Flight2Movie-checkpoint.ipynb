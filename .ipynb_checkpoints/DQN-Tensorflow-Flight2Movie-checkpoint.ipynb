{
 "cells": [
  {
   "cell_type": "markdown",
   "metadata": {},
   "source": [
    "# Train on Movie Data with trained model on Flight \n"
   ]
  },
  {
   "cell_type": "markdown",
   "metadata": {},
   "source": [
    "### Training of DQN in Tensorflow\n",
    "--------------------------"
   ]
  },
  {
   "cell_type": "code",
   "execution_count": 14,
   "metadata": {
    "code_folding": []
   },
   "outputs": [
    {
     "name": "stdout",
     "output_type": "stream",
     "text": [
      "The autoreload extension is already loaded. To reload it, use:\n",
      "  %reload_ext autoreload\n"
     ]
    }
   ],
   "source": [
    "#\n",
    "from util import *\n",
    "from dlg_manager import *\n",
    "from alg import *\n",
    "from agent import *\n",
    "from user_sim import *\n",
    "from state_tracker import *\n",
    "import random\n",
    "from config import *\n",
    "import matplotlib.pyplot as plt\n",
    "import numpy as np\n",
    "from nlg import *\n",
    "from six.moves import cPickle as pickle\n",
    "import IPython\n",
    "import copy, argparse, json\n",
    "\n",
    "%matplotlib inline\n",
    "%load_ext autoreload\n",
    "%autoreload 2"
   ]
  },
  {
   "cell_type": "markdown",
   "metadata": {},
   "source": [
    "# Load Data\n",
    "-------------------"
   ]
  },
  {
   "cell_type": "markdown",
   "metadata": {},
   "source": [
    "#### Action Set"
   ]
  },
  {
   "cell_type": "code",
   "execution_count": 15,
   "metadata": {
    "code_folding": []
   },
   "outputs": [
    {
     "name": "stdout",
     "output_type": "stream",
     "text": [
      "keys = 11\n",
      "Sample of dict:\n",
      "- deny: 9\n",
      "- request: 0\n",
      "- inform: 1\n",
      "- confirm_question: 2\n",
      "- greeting: 4\n"
     ]
    }
   ],
   "source": [
    "#\n",
    "act_set_path = './data/dia_acts.txt'\n",
    "act_set = text_to_dict(act_set_path)\n",
    "sample_dict(act_set)"
   ]
  },
  {
   "cell_type": "markdown",
   "metadata": {},
   "source": [
    "### slot set"
   ]
  },
  {
   "cell_type": "code",
   "execution_count": 16,
   "metadata": {
    "code_folding": []
   },
   "outputs": [
    {
     "name": "stdout",
     "output_type": "stream",
     "text": [
      "keys = 29\n",
      "Sample of dict:\n",
      "- ticket: 27\n",
      "- numberofkids: 15\n",
      "- critic_rating: 4\n",
      "- video_format: 24\n",
      "- mpaa_rating: 13\n"
     ]
    }
   ],
   "source": [
    "#\n",
    "slots_set_path = \"./data/slot_set.txt\"\n",
    "slot_set = text_to_dict(slots_set_path)\n",
    "sample_dict(slot_set)"
   ]
  },
  {
   "cell_type": "markdown",
   "metadata": {},
   "source": [
    "### movie dic: info about movie"
   ]
  },
  {
   "cell_type": "code",
   "execution_count": 17,
   "metadata": {
    "code_folding": []
   },
   "outputs": [
    {
     "name": "stdout",
     "output_type": "stream",
     "text": [
      "keys = 991\n",
      "Sample of dict:\n",
      "- 632: {'theater': '', 'date': 'june 17 2016', 'moviename': 'finding dory'}\n"
     ]
    }
   ],
   "source": [
    "#\n",
    "movie_kb_path = \"./data/movie_kb.1k.p\"\n",
    "movie_kb = pickle.load(open(movie_kb_path, 'rb'), encoding=\"latin\")\n",
    "sample_dict(movie_kb, sample_size=1)"
   ]
  },
  {
   "cell_type": "markdown",
   "metadata": {},
   "source": [
    "# Language Generator (pretrained)\n",
    "-------------------"
   ]
  },
  {
   "cell_type": "code",
   "execution_count": 18,
   "metadata": {
    "code_folding": [],
    "collapsed": true
   },
   "outputs": [],
   "source": [
    "#\n",
    "nlg_model_path = './data/trained_model/nlg/lstm_tanh_relu_[1468202263.38]_2_0.610.p'\n",
    "nlg_model = Nlg()\n",
    "nlg_model.load_nlg_model(nlg_model_path)\n",
    "diaact_nl_pairs_path = \"./data/nlg/dia_act_nl_pairs.v6.json\"\n",
    "nlg_model.load_predefine_act_nl_pairs(diaact_nl_pairs_path)"
   ]
  },
  {
   "cell_type": "markdown",
   "metadata": {},
   "source": [
    "## Model Params"
   ]
  },
  {
   "cell_type": "code",
   "execution_count": 19,
   "metadata": {
    "code_folding": []
   },
   "outputs": [
    {
     "name": "stdout",
     "output_type": "stream",
     "text": [
      "trained_model_path: None\n",
      "grad_clip: -0.0001\n",
      "valid_test: 0\n",
      "pretrained_model_path: None\n",
      "learning_rate: 0.001\n",
      "save_check_point: 20\n",
      "sdgtype: rmsprop\n",
      "smooth_eps: 1e-08\n",
      "batch_size: 16\n",
      "data_path: .\\data\\movieMultiLine.Annot.Corrected.Final.v3.csv\n",
      "slot_set: data/slot_set.txt\n",
      "dia_slot_val: 2\n",
      "reg_cost: 0.001\n",
      "eva_metric: 2\n",
      "act_set: data/dia_acts.txt\n",
      "momentum: 0.1\n",
      "init_rnn: 0\n",
      "write_model_dir: .\\checkpoints\\template\\07102016\\\n",
      "model: lstm_tanh\n",
      "slot_rep: 1\n",
      "decay_rate: 0.999\n",
      "max_epochs: 200\n",
      "cv_fold: 6\n",
      "feed_recurrence: 0\n",
      "split_method: 1\n",
      "hidden_size: 100\n",
      "check_point: 20\n",
      "activation_func: relu\n"
     ]
    }
   ],
   "source": [
    "#\n",
    "model_params = pickle.load(open(nlg_model_path, 'rb'), encoding='latin1')\n",
    "params = model_params['params']\n",
    "params['batch_size'] = 16\n",
    "batch_size = 16\n",
    "save_check_point = 20\n",
    "params['trained_model_path'] = None\n",
    "for k in params:\n",
    "    print(\"{}: {}\".format(k, params[k]))"
   ]
  },
  {
   "cell_type": "markdown",
   "metadata": {},
   "source": [
    "# User Simulator\n",
    "-------------------"
   ]
  },
  {
   "cell_type": "markdown",
   "metadata": {},
   "source": [
    "### goal"
   ]
  },
  {
   "cell_type": "code",
   "execution_count": 20,
   "metadata": {
    "code_folding": []
   },
   "outputs": [
    {
     "name": "stdout",
     "output_type": "stream",
     "text": [
      "goals length: 128\n",
      "Sample the first goal: \n",
      "{'inform_slots': {'numberofpeople': '1', 'theater': 'carmike summit 16', 'date': 'today', 'moviename': 'zootopia', 'starttime': 'around 2pm', 'city': 'birmingham', 'state': 'al'}, 'request_slots': {}, 'diaact': 'request'}\n"
     ]
    }
   ],
   "source": [
    "#\n",
    "goal_file_path = './data/user_goals_first_turn_template.part.movie.v1.p'\n",
    "all_goal_set = pickle.load(open(goal_file_path, 'rb'), encoding=\"latin\")\n",
    "print(\"goals length: {}\".format(len(all_goal_set)))\n",
    "print(\"Sample the first goal: \\n{}\".format(all_goal_set[0]))"
   ]
  },
  {
   "cell_type": "markdown",
   "metadata": {},
   "source": [
    "### Split goal set"
   ]
  },
  {
   "cell_type": "code",
   "execution_count": 21,
   "metadata": {
    "code_folding": []
   },
   "outputs": [
    {
     "name": "stdout",
     "output_type": "stream",
     "text": [
      "102\n",
      "0\n",
      "26\n",
      "128\n"
     ]
    }
   ],
   "source": [
    "# split goal set\n",
    "split_fold = params.get('split_fold', 5)\n",
    "goal_set = {'train':[], 'valid':[], 'test':[], 'all':[]}\n",
    "for u_goal_id, u_goal in enumerate(all_goal_set):\n",
    "    if u_goal_id % split_fold == 1: goal_set['test'].append(u_goal)\n",
    "    else: goal_set['train'].append(u_goal)\n",
    "    goal_set['all'].append(u_goal)\n",
    "print(len(goal_set['train']))\n",
    "print(len(goal_set['valid']))\n",
    "print(len(goal_set['test']))\n",
    "print(len(goal_set['all']))"
   ]
  },
  {
   "cell_type": "markdown",
   "metadata": {},
   "source": [
    "### user simulator param"
   ]
  },
  {
   "cell_type": "code",
   "execution_count": 22,
   "metadata": {
    "code_folding": [],
    "collapsed": true
   },
   "outputs": [],
   "source": [
    "#\n",
    "usersim_params = {}\n",
    "usersim_params['max_turn'] = 40\n",
    "usersim_params['slot_err_prob'] = 0.00\n",
    "# slot_err_mode: 0 for slot_val only; 1 for three errs\n",
    "usersim_params['slot_err_mode'] = 0\n",
    "usersim_params['intent_err_prob'] = 0\n",
    "# run_mode: 0 for default NL; 1 for dia_act; 2 for both\n",
    "usersim_params['run_mode'] = 0\n",
    "# 0 for dia_act level; 1 for NL level\n",
    "usersim_params['act_level'] = 0\n",
    "# train/test/all; default is all\n",
    "usersim_params['learn_phase'] = 'all'"
   ]
  },
  {
   "cell_type": "markdown",
   "metadata": {},
   "source": [
    "### a movie dictionary for user simulator - slot:possible values"
   ]
  },
  {
   "cell_type": "code",
   "execution_count": 23,
   "metadata": {
    "code_folding": []
   },
   "outputs": [
    {
     "name": "stdout",
     "output_type": "stream",
     "text": [
      "keys = 20\n",
      "Sample of dict:\n",
      "- mpaa_rating: ['pg', 'rated pg', 'pg13', 'best', 'appropriate for the whole family', 'r']\n"
     ]
    }
   ],
   "source": [
    "#\n",
    "movie_dict_path = './data/user/dicts.v3.p'\n",
    "movie_dictionary = pickle.load(open(movie_dict_path, 'rb'), encoding=\"latin\")\n",
    "samples = sample_dict(movie_dictionary, sample_size=1)"
   ]
  },
  {
   "cell_type": "markdown",
   "metadata": {},
   "source": [
    "###  Create a User"
   ]
  },
  {
   "cell_type": "code",
   "execution_count": 24,
   "metadata": {
    "collapsed": true
   },
   "outputs": [],
   "source": [
    "user = RuleSimulator(movie_dictionary, act_set, slot_set, goal_set, usersim_params)\n",
    "user.set_nlg_model(nlg_model)"
   ]
  },
  {
   "cell_type": "markdown",
   "metadata": {},
   "source": [
    "# Agent\n",
    "-------------------"
   ]
  },
  {
   "cell_type": "markdown",
   "metadata": {},
   "source": [
    "## param"
   ]
  },
  {
   "cell_type": "code",
   "execution_count": 25,
   "metadata": {
    "code_folding": []
   },
   "outputs": [
    {
     "name": "stdout",
     "output_type": "stream",
     "text": [
      "pretrained model path = None\n"
     ]
    }
   ],
   "source": [
    "#\n",
    "agent_params = {}\n",
    "# maximum length of each dialog (default=20, 0=no maximum length)\n",
    "agent_params['max_turn'] = 40\n",
    "# Epsilon to determine stochasticity of epsilon-greedy agent policies\n",
    "agent_params['epsilon'] = 0\n",
    "# run_mode: 0 for default NL; 1 for dia_act; 2 for both\n",
    "agent_params['agent_run_mode'] = 3\n",
    "# 0 for dia_act level; 1 for NL level\n",
    "agent_params['agent_act_level'] = 0\n",
    "\n",
    "############### DQN #################\n",
    "# the size for experience replay\n",
    "agent_params['experience_replay_pool_size'] = 10000\n",
    "# # the hidden size for DQN\n",
    "agent_params['dqn_hidden_size'] = 60\n",
    "agent_params['batch_size'] = 16\n",
    "# # gamma for DQN\n",
    "agent_params['gamma'] = 0.9\n",
    "# # predict model for DQN\n",
    "agent_params['predict_mode'] = True\n",
    "agent_params['trained_model_path'] = params['pretrained_model_path']\n",
    "#####################################\n",
    "print(\"pretrained model path = {}\".format(agent_params['trained_model_path']))\n",
    "# 0: no warm start; 1: warm start for training\n",
    "agent_params['warm_start'] = 1\n",
    "# run_mode: 0 for NL; 1 for dia_act\n",
    "agent_params['cmd_input_mode'] = 0\n",
    "\n",
    "success_rate_threshold = 0.3"
   ]
  },
  {
   "cell_type": "markdown",
   "metadata": {},
   "source": [
    "### create an agent"
   ]
  },
  {
   "cell_type": "code",
   "execution_count": 27,
   "metadata": {
    "code_folding": [],
    "scrolled": false
   },
   "outputs": [
    {
     "name": "stdout",
     "output_type": "stream",
     "text": [
      "act_cardinality  11\n",
      "feasible_actions 43\n",
      "80\n",
      "INFO:tensorflow:Restoring parameters from trained_model/flight_100/model.ckpt\n"
     ]
    }
   ],
   "source": [
    "# agent = RequestBasicsAgent(movie_kb, act_set, slot_set, agent_params)\n",
    "# agent = AgentDQN(movie_kb, act_set, slot_set, agent_params)\n",
    "# agt = 9\n",
    "agt = 10\n",
    "agent_params['batch_size']  = batch_size\n",
    "if agt == 9:\n",
    "    agent = AgentDQN(movie_kb,batch_size, act_set, slot_set, agent_params)\n",
    "else:\n",
    "    agent = DQNAgentTF(movie_kb, act_set, slot_set, agent_params, transfer=True, path=\"trained_model/flight_100/model.ckpt\")\n",
    "\n",
    "agent.set_nlg_model(nlg_model)"
   ]
  },
  {
   "cell_type": "markdown",
   "metadata": {},
   "source": [
    "# Dialog Manager\n",
    "-------------------"
   ]
  },
  {
   "cell_type": "code",
   "execution_count": 28,
   "metadata": {
    "collapsed": true
   },
   "outputs": [],
   "source": [
    "dlg_manager = DlgManager(agent, user, act_set, slot_set, movie_kb)"
   ]
  },
  {
   "cell_type": "markdown",
   "metadata": {},
   "source": [
    "## Running Episodes\n",
    "-------------------"
   ]
  },
  {
   "cell_type": "markdown",
   "metadata": {},
   "source": [
    "### Param"
   ]
  },
  {
   "cell_type": "code",
   "execution_count": 29,
   "metadata": {
    "code_folding": [],
    "collapsed": true
   },
   "outputs": [],
   "source": [
    "#\n",
    "status = {'successes': 0, 'count': 0, 'cumulative_reward': 0}\n",
    "# the size of validation set\n",
    "simulation_epoch_size = 100\n",
    "# the number of epochs for warm start \n",
    "warm_start_epochs = 100\n",
    "# num_episodes = 60"
   ]
  },
  {
   "cell_type": "code",
   "execution_count": 30,
   "metadata": {
    "collapsed": true
   },
   "outputs": [],
   "source": [
    "\"\"\" Warm_Start Simulation (by Rule Policy) \"\"\"\n",
    "def warm_start_simulation():\n",
    "    successes = 0\n",
    "    cumulative_reward = 0\n",
    "    cumulative_turns = 0\n",
    "    \n",
    "    res = {}\n",
    "    for episode in range(warm_start_epochs):\n",
    "        dlg_manager.init_episode()\n",
    "        episode_over = False\n",
    "        while(not episode_over):\n",
    "            episode_over, reward = dlg_manager.step()\n",
    "            cumulative_reward += reward\n",
    "            if episode_over:\n",
    "                if reward > 0: \n",
    "                    successes += 1\n",
    "#                     print (\"warm_start simulation episode %s: Success\" % (episode))\n",
    "#                 else: print (\"warm_start simulation episode %s: Fail\" % (episode))\n",
    "                cumulative_turns += dlg_manager.state_tracker.turn_count\n",
    "        \n",
    "        if len(agent.experience_replay_pool) >= agent.experience_replay_pool_size:\n",
    "            break\n",
    "    \n",
    "    agent.warm_start = 2\n",
    "    res['success_rate'] = float(successes)/simulation_epoch_size\n",
    "    res['ave_reward'] = float(cumulative_reward)/simulation_epoch_size\n",
    "    res['ave_turns'] = float(cumulative_turns)/simulation_epoch_size\n",
    "    print (\"Warm_Start %s epochs, success rate %s, ave reward %s, ave turns %s\" % (episode+1, res['success_rate'], res['ave_reward'], res['ave_turns']))\n",
    "    print (\"Current experience replay buffer size %s\" % (len(agent.experience_replay_pool)))"
   ]
  },
  {
   "cell_type": "code",
   "execution_count": 31,
   "metadata": {
    "collapsed": true
   },
   "outputs": [],
   "source": [
    "def simulation_epoch(simulation_epoch_size):\n",
    "    successes = 0\n",
    "    cumulative_reward = 0\n",
    "    cumulative_turns = 0\n",
    "    \n",
    "    res = {}\n",
    "    for episode in range(simulation_epoch_size):\n",
    "        dlg_manager.init_episode()\n",
    "        episode_over = False\n",
    "        while(not episode_over):\n",
    "            episode_over, reward = dlg_manager.step()\n",
    "            cumulative_reward += reward\n",
    "            if episode_over:\n",
    "                if reward > 0: \n",
    "                    successes += 1\n",
    "#                     print (\"simulation episode %s: Success\" % (episode))\n",
    "#                 else: print (\"simulation episode %s: Fail\" % (episode))\n",
    "                cumulative_turns += dlg_manager.state_tracker.turn_count\n",
    "    \n",
    "    res['success_rate'] = float(successes)/simulation_epoch_size\n",
    "    res['ave_reward'] = float(cumulative_reward)/simulation_epoch_size\n",
    "    res['ave_turns'] = float(cumulative_turns)/simulation_epoch_size\n",
    "    print(\"simulation success rate %s, ave reward %s, ave turns %s\" % (res['success_rate'], res['ave_reward'], res['ave_turns']))\n",
    "    return res"
   ]
  },
  {
   "cell_type": "code",
   "execution_count": 32,
   "metadata": {
    "code_folding": [],
    "collapsed": true
   },
   "outputs": [],
   "source": [
    "def run_episodes(count, status):\n",
    "    successes = 0\n",
    "    cumulative_reward = 0\n",
    "    cumulative_turns = 0\n",
    "    \n",
    "    \n",
    "    if agt >= 9 and params['trained_model_path'] == None and agent.warm_start == 1:\n",
    "        print ('warm_start starting ...')\n",
    "        warm_start_simulation()\n",
    "        print ('warm_start finished, start RL training ...')\n",
    "    \n",
    "    for episode in range(count):\n",
    "        print (\"----------------- Episode: %s ----------------- \" % (episode))\n",
    "        dlg_manager.init_episode()\n",
    "        episode_over = False\n",
    "        \n",
    "        while(not episode_over):\n",
    "            episode_over, reward = dlg_manager.step()\n",
    "            cumulative_reward += reward\n",
    "                \n",
    "            if episode_over:\n",
    "                if reward > 0:\n",
    "                    print (\"Successful Dialog!\")\n",
    "                    successes += 1\n",
    "#                 else: print (\"Failed Dialog!\")\n",
    "                \n",
    "                cumulative_turns += dlg_manager.state_tracker.turn_count\n",
    "        \n",
    "        # simulation\n",
    "        if agt >= 9 and params['trained_model_path'] == None:\n",
    "            agent.predict_mode = True\n",
    "            simulation_res = simulation_epoch(simulation_epoch_size)\n",
    "            \n",
    "            performance_records['success_rate'][episode] = simulation_res['success_rate']\n",
    "            performance_records['ave_turns'][episode] = simulation_res['ave_turns']\n",
    "            performance_records['ave_reward'][episode] = simulation_res['ave_reward']\n",
    "            \n",
    "            if simulation_res['success_rate'] >= best_res['success_rate']:\n",
    "                if simulation_res['success_rate'] >= success_rate_threshold: # threshold = 0.30\n",
    "                    agent.experience_replay_pool = [] \n",
    "                    simulation_epoch(simulation_epoch_size)\n",
    "                \n",
    "#             if simulation_res['success_rate'] > best_res['success_rate']:\n",
    "#                 best_model['model'] = copy.deepcopy(agent)\n",
    "#                 best_res['success_rate'] = simulation_res['success_rate']\n",
    "#                 best_res['ave_reward'] = simulation_res['ave_reward']\n",
    "#                 best_res['ave_turns'] = simulation_res['ave_turns']\n",
    "#                 best_res['epoch'] = episode\n",
    "                \n",
    "            loss = agent.train(batch_size, 1)\n",
    "            if agt == 10: \n",
    "                agent.model.update_target_params()\n",
    "            else: \n",
    "                agent.clone_dqn = copy.deepcopy(agent.dqn)\n",
    "                \n",
    "            agent.predict_mode = False\n",
    "            \n",
    "            print (\"Simulation success rate %s, Ave reward %s, Ave turns %s, Best success rate %s\" % (performance_records['success_rate'][episode], performance_records['ave_reward'][episode], performance_records['ave_turns'][episode], best_res['success_rate']))\n",
    "#             if episode % save_check_point == 0 and params['trained_model_path'] == None: # save the model every 10 episodes\n",
    "#                 save_model(params['write_model_dir'], agt, best_res['success_rate'], best_model['model'], best_res['epoch'], episode)\n",
    "#                 save_performance_records(params['write_model_dir'], agt, performance_records)\n",
    "        curve.append(successes/(episode+1))\n",
    "        losses.append(loss)\n",
    "        print(\"Progress: %s / %s, Success rate: %s / %s Avg reward: %.2f Avg turns: %.2f\" % (episode+1, count, successes, episode+1, float(cumulative_reward)/(episode+1), float(cumulative_turns)/(episode+1)))\n",
    "    print(\"Success rate: %s / %s Avg reward: %.2f Avg turns: %.2f\" % (successes, count, float(cumulative_reward)/count, float(cumulative_turns)/count))\n",
    "    status['successes'] += successes\n",
    "    status['count'] += count\n",
    "    \n",
    "#     if agt == 9 and params['traained_model_path'] == None:\n",
    "#         save_model(params['write_model_dir'], agt, float(successes)/count, best_model['model'], best_res['epoch'], count)\n",
    "#         save_performance_records(params['write_model_dir'], agt, performance_records)\n"
   ]
  },
  {
   "cell_type": "markdown",
   "metadata": {},
   "source": [
    "## Run a Warm Start"
   ]
  },
  {
   "cell_type": "markdown",
   "metadata": {},
   "source": [
    "# Train & Eval\n",
    "-------------------"
   ]
  },
  {
   "cell_type": "code",
   "execution_count": 33,
   "metadata": {
    "scrolled": true
   },
   "outputs": [
    {
     "name": "stdout",
     "output_type": "stream",
     "text": [
      "warm_start starting ...\n",
      "Warm_Start 100 epochs, success rate 0.5, ave reward 13.0, ave turns 16.0\n",
      "Current experience replay buffer size 800\n",
      "warm_start finished, start RL training ...\n",
      "----------------- Episode: 0 ----------------- \n",
      "simulation success rate 0.0, ave reward -60.0, ave turns 42.0\n",
      "Train on : 2921\n",
      "- cur bellman err 9.0404, experience replay pool 2921\n",
      "Simulation success rate 0.0, Ave reward -60.0, Ave turns 42.0, Best success rate 0\n",
      "Progress: 1 / 100, Success rate: 0 / 1 Avg reward: -60.00 Avg turns: 42.00\n",
      "----------------- Episode: 1 ----------------- \n",
      "simulation success rate 0.0, ave reward -40.47, ave turns 2.94\n",
      "Train on : 3068\n",
      "- cur bellman err 12.6463, experience replay pool 3068\n",
      "Simulation success rate 0.0, Ave reward -40.47, Ave turns 2.94, Best success rate 0\n",
      "Progress: 2 / 100, Success rate: 0 / 2 Avg reward: -50.00 Avg turns: 22.00\n",
      "----------------- Episode: 2 ----------------- \n",
      "simulation success rate 0.0, ave reward -60.0, ave turns 42.0\n",
      "Train on : 5168\n",
      "- cur bellman err 7.3623, experience replay pool 5168\n",
      "Simulation success rate 0.0, Ave reward -60.0, Ave turns 42.0, Best success rate 0\n",
      "Progress: 3 / 100, Success rate: 0 / 3 Avg reward: -53.33 Avg turns: 28.67\n",
      "----------------- Episode: 3 ----------------- \n",
      "simulation success rate 0.0, ave reward -56.28, ave turns 34.56\n",
      "Train on : 6896\n",
      "- cur bellman err 4.5278, experience replay pool 6896\n",
      "Simulation success rate 0.0, Ave reward -56.28, Ave turns 34.56, Best success rate 0\n",
      "Progress: 4 / 100, Success rate: 0 / 4 Avg reward: -55.00 Avg turns: 32.00\n",
      "----------------- Episode: 4 ----------------- \n",
      "simulation success rate 0.0, ave reward -59.89, ave turns 41.78\n",
      "Train on : 8985\n",
      "- cur bellman err 2.3849, experience replay pool 8985\n",
      "Simulation success rate 0.0, Ave reward -59.89, Ave turns 41.78, Best success rate 0\n",
      "Progress: 5 / 100, Success rate: 0 / 5 Avg reward: -56.00 Avg turns: 34.00\n",
      "----------------- Episode: 5 ----------------- \n",
      "simulation success rate 0.0, ave reward -58.82, ave turns 39.64\n",
      "Train on : 10967\n",
      "- cur bellman err 1.4910, experience replay pool 10967\n",
      "Simulation success rate 0.0, Ave reward -58.82, Ave turns 39.64, Best success rate 0\n",
      "Progress: 6 / 100, Success rate: 0 / 6 Avg reward: -56.67 Avg turns: 35.33\n",
      "----------------- Episode: 6 ----------------- \n",
      "simulation success rate 0.0, ave reward -60.0, ave turns 42.0\n",
      "Train on : 13067\n",
      "- cur bellman err 0.8545, experience replay pool 13067\n",
      "Simulation success rate 0.0, Ave reward -60.0, Ave turns 42.0, Best success rate 0\n",
      "Progress: 7 / 100, Success rate: 0 / 7 Avg reward: -57.14 Avg turns: 36.29\n",
      "----------------- Episode: 7 ----------------- \n",
      "simulation success rate 0.02, ave reward -57.34, ave turns 41.48\n",
      "Train on : 15141\n",
      "- cur bellman err 0.6548, experience replay pool 15141\n",
      "Simulation success rate 0.02, Ave reward -57.34, Ave turns 41.48, Best success rate 0\n",
      "Progress: 8 / 100, Success rate: 0 / 8 Avg reward: -57.50 Avg turns: 37.00\n",
      "----------------- Episode: 8 ----------------- \n",
      "simulation success rate 0.0, ave reward -59.99, ave turns 41.98\n",
      "Train on : 17240\n",
      "- cur bellman err 0.5883, experience replay pool 17240\n",
      "Simulation success rate 0.0, Ave reward -59.99, Ave turns 41.98, Best success rate 0\n",
      "Progress: 9 / 100, Success rate: 0 / 9 Avg reward: -57.78 Avg turns: 37.56\n",
      "----------------- Episode: 9 ----------------- \n",
      "simulation success rate 0.0, ave reward -59.79, ave turns 41.58\n",
      "Train on : 19319\n",
      "- cur bellman err 0.5639, experience replay pool 19319\n",
      "Simulation success rate 0.0, Ave reward -59.79, Ave turns 41.58, Best success rate 0\n",
      "Progress: 10 / 100, Success rate: 0 / 10 Avg reward: -58.00 Avg turns: 38.00\n",
      "----------------- Episode: 10 ----------------- \n",
      "simulation success rate 0.0, ave reward -59.47, ave turns 40.94\n",
      "Train on : 21366\n",
      "- cur bellman err 0.6554, experience replay pool 21366\n",
      "Simulation success rate 0.0, Ave reward -59.47, Ave turns 40.94, Best success rate 0\n",
      "Progress: 11 / 100, Success rate: 0 / 11 Avg reward: -57.91 Avg turns: 37.82\n",
      "----------------- Episode: 11 ----------------- \n",
      "simulation success rate 0.0, ave reward -59.69, ave turns 41.38\n",
      "Train on : 23435\n",
      "- cur bellman err 0.4938, experience replay pool 23435\n",
      "Simulation success rate 0.0, Ave reward -59.69, Ave turns 41.38, Best success rate 0\n",
      "Progress: 12 / 100, Success rate: 0 / 12 Avg reward: -58.08 Avg turns: 38.17\n",
      "----------------- Episode: 12 ----------------- \n",
      "simulation success rate 0.08, ave reward -49.24, ave turns 39.68\n",
      "Train on : 25419\n",
      "- cur bellman err 0.3799, experience replay pool 25419\n",
      "Simulation success rate 0.08, Ave reward -49.24, Ave turns 39.68, Best success rate 0\n",
      "Progress: 13 / 100, Success rate: 0 / 13 Avg reward: -57.23 Avg turns: 36.46\n",
      "----------------- Episode: 13 ----------------- \n",
      "simulation success rate 0.12, ave reward -43.77, ave turns 38.34\n",
      "Train on : 27336\n",
      "- cur bellman err 0.4177, experience replay pool 27336\n",
      "Simulation success rate 0.12, Ave reward -43.77, Ave turns 38.34, Best success rate 0\n",
      "Progress: 14 / 100, Success rate: 0 / 14 Avg reward: -57.43 Avg turns: 36.86\n",
      "----------------- Episode: 14 ----------------- \n",
      "simulation success rate 0.11, ave reward -45.42, ave turns 39.24\n",
      "Train on : 29298\n",
      "- cur bellman err 0.4991, experience replay pool 29298\n",
      "Simulation success rate 0.11, Ave reward -45.42, Ave turns 39.24, Best success rate 0\n",
      "Progress: 15 / 100, Success rate: 0 / 15 Avg reward: -57.60 Avg turns: 37.20\n",
      "----------------- Episode: 15 ----------------- \n",
      "simulation success rate 0.15, ave reward -39.74, ave turns 37.48\n",
      "Train on : 31172\n",
      "- cur bellman err 0.4616, experience replay pool 31172\n",
      "Simulation success rate 0.15, Ave reward -39.74, Ave turns 37.48, Best success rate 0\n",
      "Progress: 16 / 100, Success rate: 0 / 16 Avg reward: -57.75 Avg turns: 37.50\n",
      "----------------- Episode: 16 ----------------- \n",
      "simulation success rate 0.44, ave reward -1.49, ave turns 30.58\n",
      "simulation success rate 0.37, ave reward -10.36, ave turns 31.52\n",
      "Train on : 1576\n",
      "- cur bellman err 1.7063, experience replay pool 1576\n",
      "Simulation success rate 0.44, Ave reward -1.49, Ave turns 30.58, Best success rate 0\n",
      "Progress: 17 / 100, Success rate: 0 / 17 Avg reward: -57.88 Avg turns: 37.76\n",
      "----------------- Episode: 17 ----------------- \n",
      "Successful Dialog!\n",
      "simulation success rate 0.39, ave reward -9.12, ave turns 33.84\n",
      "simulation success rate 0.28, ave reward -23.7, ave turns 36.6\n",
      "Train on : 1830\n",
      "- cur bellman err 2.6214, experience replay pool 1830\n",
      "Simulation success rate 0.39, Ave reward -9.12, Ave turns 33.84, Best success rate 0\n",
      "Progress: 18 / 100, Success rate: 1 / 18 Avg reward: -50.78 Avg turns: 36.89\n",
      "----------------- Episode: 18 ----------------- \n",
      "simulation success rate 0.12, ave reward -40.45, ave turns 31.7\n",
      "Train on : 3415\n",
      "- cur bellman err 3.9590, experience replay pool 3415\n",
      "Simulation success rate 0.12, Ave reward -40.45, Ave turns 31.7, Best success rate 0\n",
      "Progress: 19 / 100, Success rate: 1 / 19 Avg reward: -51.26 Avg turns: 37.16\n",
      "----------------- Episode: 19 ----------------- \n",
      "simulation success rate 0.12, ave reward -43.23, ave turns 37.26\n",
      "Train on : 5278\n",
      "- cur bellman err 2.2674, experience replay pool 5278\n",
      "Simulation success rate 0.12, Ave reward -43.23, Ave turns 37.26, Best success rate 0\n",
      "Progress: 20 / 100, Success rate: 1 / 20 Avg reward: -51.70 Avg turns: 37.40\n",
      "----------------- Episode: 20 ----------------- \n",
      "Successful Dialog!\n",
      "simulation success rate 0.37, ave reward -10.42, ave turns 31.64\n",
      "simulation success rate 0.45, ave reward -1.91, ave turns 33.82\n",
      "Train on : 1691\n",
      "- cur bellman err 1.8253, experience replay pool 1691\n",
      "Simulation success rate 0.37, Ave reward -10.42, Ave turns 31.64, Best success rate 0\n",
      "Progress: 21 / 100, Success rate: 2 / 21 Avg reward: -45.76 Avg turns: 36.38\n",
      "----------------- Episode: 21 ----------------- \n",
      "simulation success rate 0.34, ave reward -13.32, ave turns 30.24\n",
      "simulation success rate 0.47, ave reward 4.27, ave turns 26.26\n",
      "Train on : 1313\n",
      "- cur bellman err 4.6097, experience replay pool 1313\n",
      "Simulation success rate 0.34, Ave reward -13.32, Ave turns 30.24, Best success rate 0\n",
      "Progress: 22 / 100, Success rate: 2 / 22 Avg reward: -46.41 Avg turns: 36.64\n",
      "----------------- Episode: 22 ----------------- \n",
      "Successful Dialog!\n",
      "simulation success rate 0.39, ave reward -7.01, ave turns 29.62\n"
     ]
    },
    {
     "name": "stdout",
     "output_type": "stream",
     "text": [
      "simulation success rate 0.3, ave reward -19.18, ave turns 32.36\n",
      "Train on : 1618\n",
      "- cur bellman err 2.6091, experience replay pool 1618\n",
      "Simulation success rate 0.39, Ave reward -7.01, Ave turns 29.62, Best success rate 0\n",
      "Progress: 23 / 100, Success rate: 3 / 23 Avg reward: -41.13 Avg turns: 35.57\n",
      "----------------- Episode: 23 ----------------- \n",
      "simulation success rate 0.49, ave reward 5.73, ave turns 28.14\n",
      "simulation success rate 0.44, ave reward -1.05, ave turns 29.7\n",
      "Train on : 1485\n",
      "- cur bellman err 1.8807, experience replay pool 1485\n",
      "Simulation success rate 0.49, Ave reward 5.73, Ave turns 28.14, Best success rate 0\n",
      "Progress: 24 / 100, Success rate: 3 / 24 Avg reward: -41.92 Avg turns: 35.83\n",
      "----------------- Episode: 24 ----------------- \n",
      "simulation success rate 0.0, ave reward -60.0, ave turns 42.0\n",
      "Train on : 3585\n",
      "- cur bellman err 1.3211, experience replay pool 3585\n",
      "Simulation success rate 0.0, Ave reward -60.0, Ave turns 42.0, Best success rate 0\n",
      "Progress: 25 / 100, Success rate: 3 / 25 Avg reward: -42.64 Avg turns: 36.08\n",
      "----------------- Episode: 25 ----------------- \n",
      "simulation success rate 0.34, ave reward -14.22, ave turns 32.04\n",
      "simulation success rate 0.32, ave reward -16.68, ave turns 32.16\n",
      "Train on : 1608\n",
      "- cur bellman err 1.3916, experience replay pool 1608\n",
      "Simulation success rate 0.34, Ave reward -14.22, Ave turns 32.04, Best success rate 0\n",
      "Progress: 26 / 100, Success rate: 3 / 26 Avg reward: -43.31 Avg turns: 36.31\n",
      "----------------- Episode: 26 ----------------- \n",
      "Successful Dialog!\n",
      "simulation success rate 0.42, ave reward -3.25, ave turns 29.3\n",
      "simulation success rate 0.4, ave reward -5.91, ave turns 29.82\n",
      "Train on : 1491\n",
      "- cur bellman err 1.5283, experience replay pool 1491\n",
      "Simulation success rate 0.42, Ave reward -3.25, Ave turns 29.3, Best success rate 0\n",
      "Progress: 27 / 100, Success rate: 4 / 27 Avg reward: -38.93 Avg turns: 35.41\n",
      "----------------- Episode: 27 ----------------- \n",
      "simulation success rate 0.45, ave reward 0.82, ave turns 28.36\n",
      "simulation success rate 0.38, ave reward -8.67, ave turns 30.54\n",
      "Train on : 1527\n",
      "- cur bellman err 1.1077, experience replay pool 1527\n",
      "Simulation success rate 0.45, Ave reward 0.82, Ave turns 28.36, Best success rate 0\n",
      "Progress: 28 / 100, Success rate: 4 / 28 Avg reward: -39.68 Avg turns: 35.64\n",
      "----------------- Episode: 28 ----------------- \n",
      "Successful Dialog!\n",
      "simulation success rate 0.45, ave reward 0.68, ave turns 28.64\n",
      "simulation success rate 0.41, ave reward -4.51, ave turns 29.42\n",
      "Train on : 1471\n",
      "- cur bellman err 1.4052, experience replay pool 1471\n",
      "Simulation success rate 0.45, Ave reward 0.68, Ave turns 28.64, Best success rate 0\n",
      "Progress: 29 / 100, Success rate: 5 / 29 Avg reward: -35.72 Avg turns: 34.83\n",
      "----------------- Episode: 29 ----------------- \n",
      "Successful Dialog!\n",
      "simulation success rate 0.36, ave reward -11.38, ave turns 31.16\n",
      "simulation success rate 0.39, ave reward -7.34, ave turns 30.28\n",
      "Train on : 1514\n",
      "- cur bellman err 1.2778, experience replay pool 1514\n",
      "Simulation success rate 0.36, Ave reward -11.38, Ave turns 31.16, Best success rate 0\n",
      "Progress: 30 / 100, Success rate: 6 / 30 Avg reward: -32.00 Avg turns: 34.00\n",
      "----------------- Episode: 30 ----------------- \n",
      "simulation success rate 0.41, ave reward -4.67, ave turns 29.74\n",
      "simulation success rate 0.43, ave reward -1.97, ave turns 29.14\n",
      "Train on : 1457\n",
      "- cur bellman err 1.5355, experience replay pool 1457\n",
      "Simulation success rate 0.41, Ave reward -4.67, Ave turns 29.74, Best success rate 0\n",
      "Progress: 31 / 100, Success rate: 6 / 31 Avg reward: -32.90 Avg turns: 34.26\n",
      "----------------- Episode: 31 ----------------- \n",
      "simulation success rate 0.42, ave reward -3.15, ave turns 29.1\n",
      "simulation success rate 0.4, ave reward -5.9, ave turns 29.8\n",
      "Train on : 1490\n",
      "- cur bellman err 1.9781, experience replay pool 1490\n",
      "Simulation success rate 0.42, Ave reward -3.15, Ave turns 29.1, Best success rate 0\n",
      "Progress: 32 / 100, Success rate: 6 / 32 Avg reward: -33.75 Avg turns: 34.50\n",
      "----------------- Episode: 32 ----------------- \n",
      "Successful Dialog!\n",
      "simulation success rate 0.54, ave reward 12.44, ave turns 26.72\n",
      "simulation success rate 0.56, ave reward 15.3, ave turns 25.8\n",
      "Train on : 1290\n",
      "- cur bellman err 3.4900, experience replay pool 1290\n",
      "Simulation success rate 0.54, Ave reward 12.44, Ave turns 26.72, Best success rate 0\n",
      "Progress: 33 / 100, Success rate: 7 / 33 Avg reward: -30.42 Avg turns: 33.76\n",
      "----------------- Episode: 33 ----------------- \n",
      "simulation success rate 0.59, ave reward 20.99, ave turns 21.62\n",
      "simulation success rate 0.48, ave reward 7.37, ave turns 22.46\n",
      "Train on : 1123\n",
      "- cur bellman err 5.4500, experience replay pool 1123\n",
      "Simulation success rate 0.59, Ave reward 20.99, Ave turns 21.62, Best success rate 0\n",
      "Progress: 34 / 100, Success rate: 7 / 34 Avg reward: -31.29 Avg turns: 34.00\n",
      "----------------- Episode: 34 ----------------- \n",
      "simulation success rate 0.48, ave reward 6.73, ave turns 23.74\n",
      "simulation success rate 0.51, ave reward 10.6, ave turns 23.2\n",
      "Train on : 1160\n",
      "- cur bellman err 4.0140, experience replay pool 1160\n",
      "Simulation success rate 0.48, Ave reward 6.73, Ave turns 23.74, Best success rate 0\n",
      "Progress: 35 / 100, Success rate: 7 / 35 Avg reward: -31.77 Avg turns: 33.54\n",
      "----------------- Episode: 35 ----------------- \n",
      "Successful Dialog!\n",
      "simulation success rate 0.52, ave reward 10.54, ave turns 25.72\n",
      "simulation success rate 0.47, ave reward 3.49, ave turns 27.82\n",
      "Train on : 1391\n",
      "- cur bellman err 2.3943, experience replay pool 1391\n",
      "Simulation success rate 0.52, Ave reward 10.54, Ave turns 25.72, Best success rate 0\n",
      "Progress: 36 / 100, Success rate: 8 / 36 Avg reward: -29.11 Avg turns: 33.56\n",
      "----------------- Episode: 36 ----------------- \n",
      "Successful Dialog!\n",
      "simulation success rate 0.59, ave reward 19.5, ave turns 24.6\n",
      "simulation success rate 0.55, ave reward 15.32, ave turns 23.36\n",
      "Train on : 1168\n",
      "- cur bellman err 3.5371, experience replay pool 1168\n",
      "Simulation success rate 0.59, Ave reward 19.5, Ave turns 24.6, Best success rate 0\n",
      "Progress: 37 / 100, Success rate: 9 / 37 Avg reward: -26.46 Avg turns: 33.30\n",
      "----------------- Episode: 37 ----------------- \n",
      "simulation success rate 0.37, ave reward -9.03, ave turns 28.86\n",
      "simulation success rate 0.49, ave reward 6.71, ave turns 26.18\n",
      "Train on : 1309\n",
      "- cur bellman err 5.1474, experience replay pool 1309\n",
      "Simulation success rate 0.37, Ave reward -9.03, Ave turns 28.86, Best success rate 0\n",
      "Progress: 38 / 100, Success rate: 9 / 38 Avg reward: -27.00 Avg turns: 32.84\n",
      "----------------- Episode: 38 ----------------- \n",
      "Successful Dialog!\n",
      "simulation success rate 0.51, ave reward 10.2, ave turns 24.0\n",
      "simulation success rate 0.58, ave reward 18.63, ave turns 23.94\n",
      "Train on : 1197\n",
      "- cur bellman err 5.0690, experience replay pool 1197\n",
      "Simulation success rate 0.51, Ave reward 10.2, Ave turns 24.0, Best success rate 0\n",
      "Progress: 39 / 100, Success rate: 10 / 39 Avg reward: -24.44 Avg turns: 32.41\n",
      "----------------- Episode: 39 ----------------- \n",
      "Successful Dialog!\n",
      "simulation success rate 0.51, ave reward 9.56, ave turns 25.28\n",
      "simulation success rate 0.64, ave reward 27.6, ave turns 20.4\n",
      "Train on : 1020\n",
      "- cur bellman err 5.7766, experience replay pool 1020\n",
      "Simulation success rate 0.51, Ave reward 9.56, Ave turns 25.28, Best success rate 0\n",
      "Progress: 40 / 100, Success rate: 11 / 40 Avg reward: -21.93 Avg turns: 31.85\n",
      "----------------- Episode: 40 ----------------- \n",
      "simulation success rate 0.49, ave reward 7.04, ave turns 25.52\n",
      "simulation success rate 0.51, ave reward 9.46, ave turns 25.48\n",
      "Train on : 1274\n",
      "- cur bellman err 5.1759, experience replay pool 1274\n",
      "Simulation success rate 0.49, Ave reward 7.04, Ave turns 25.52, Best success rate 0\n",
      "Progress: 41 / 100, Success rate: 11 / 41 Avg reward: -22.85 Avg turns: 32.10\n",
      "----------------- Episode: 41 ----------------- \n",
      "simulation success rate 0.54, ave reward 12.95, ave turns 25.7\n",
      "simulation success rate 0.56, ave reward 15.65, ave turns 25.1\n",
      "Train on : 1255\n",
      "- cur bellman err 3.9234, experience replay pool 1255\n",
      "Simulation success rate 0.54, Ave reward 12.95, Ave turns 25.7, Best success rate 0\n",
      "Progress: 42 / 100, Success rate: 11 / 42 Avg reward: -23.74 Avg turns: 32.33\n",
      "----------------- Episode: 42 ----------------- \n",
      "Successful Dialog!\n",
      "simulation success rate 0.49, ave reward 6.8, ave turns 26.0\n"
     ]
    },
    {
     "name": "stdout",
     "output_type": "stream",
     "text": [
      "simulation success rate 0.58, ave reward 18.52, ave turns 24.16\n",
      "Train on : 1208\n",
      "- cur bellman err 3.3848, experience replay pool 1208\n",
      "Simulation success rate 0.49, Ave reward 6.8, Ave turns 26.0, Best success rate 0\n",
      "Progress: 43 / 100, Success rate: 12 / 43 Avg reward: -21.47 Avg turns: 31.91\n",
      "----------------- Episode: 43 ----------------- \n",
      "Successful Dialog!\n",
      "simulation success rate 0.67, ave reward 31.29, ave turns 20.22\n",
      "simulation success rate 0.63, ave reward 26.08, ave turns 21.04\n",
      "Train on : 1052\n",
      "- cur bellman err 5.9276, experience replay pool 1052\n",
      "Simulation success rate 0.67, Ave reward 31.29, Ave turns 20.22, Best success rate 0\n",
      "Progress: 44 / 100, Success rate: 13 / 44 Avg reward: -19.25 Avg turns: 31.41\n",
      "----------------- Episode: 44 ----------------- \n",
      "simulation success rate 0.56, ave reward 15.27, ave turns 25.86\n",
      "simulation success rate 0.54, ave reward 12.71, ave turns 26.18\n",
      "Train on : 1309\n",
      "- cur bellman err 3.9510, experience replay pool 1309\n",
      "Simulation success rate 0.56, Ave reward 15.27, Ave turns 25.86, Best success rate 0\n",
      "Progress: 45 / 100, Success rate: 13 / 45 Avg reward: -20.16 Avg turns: 31.64\n",
      "----------------- Episode: 45 ----------------- \n",
      "Successful Dialog!\n",
      "simulation success rate 0.57, ave reward 17.77, ave turns 23.26\n",
      "simulation success rate 0.46, ave reward 2.4, ave turns 27.6\n",
      "Train on : 1380\n",
      "- cur bellman err 2.4059, experience replay pool 1380\n",
      "Simulation success rate 0.57, Ave reward 17.77, Ave turns 23.26, Best success rate 0\n",
      "Progress: 46 / 100, Success rate: 14 / 46 Avg reward: -18.09 Avg turns: 31.22\n",
      "----------------- Episode: 46 ----------------- \n",
      "simulation success rate 0.59, ave reward 19.79, ave turns 24.02\n",
      "simulation success rate 0.65, ave reward 27.85, ave turns 22.3\n",
      "Train on : 1115\n",
      "- cur bellman err 3.2675, experience replay pool 1115\n",
      "Simulation success rate 0.59, Ave reward 19.79, Ave turns 24.02, Best success rate 0\n",
      "Progress: 47 / 100, Success rate: 14 / 47 Avg reward: -18.98 Avg turns: 31.45\n",
      "----------------- Episode: 47 ----------------- \n",
      "Successful Dialog!\n",
      "simulation success rate 0.55, ave reward 15.1, ave turns 23.8\n",
      "simulation success rate 0.6, ave reward 22.34, ave turns 21.32\n",
      "Train on : 1066\n",
      "- cur bellman err 5.6989, experience replay pool 1066\n",
      "Simulation success rate 0.55, Ave reward 15.1, Ave turns 23.8, Best success rate 0\n",
      "Progress: 48 / 100, Success rate: 15 / 48 Avg reward: -17.08 Avg turns: 31.17\n",
      "----------------- Episode: 48 ----------------- \n",
      "Successful Dialog!\n",
      "simulation success rate 0.64, ave reward 26.84, ave turns 21.92\n",
      "simulation success rate 0.51, ave reward 8.98, ave turns 26.44\n",
      "Train on : 1322\n",
      "- cur bellman err 3.7529, experience replay pool 1322\n",
      "Simulation success rate 0.64, Ave reward 26.84, Ave turns 21.92, Best success rate 0\n",
      "Progress: 49 / 100, Success rate: 16 / 49 Avg reward: -15.20 Avg turns: 30.78\n",
      "----------------- Episode: 49 ----------------- \n",
      "Successful Dialog!\n",
      "simulation success rate 0.55, ave reward 14.77, ave turns 24.46\n",
      "simulation success rate 0.52, ave reward 11.58, ave turns 23.64\n",
      "Train on : 1182\n",
      "- cur bellman err 4.0329, experience replay pool 1182\n",
      "Simulation success rate 0.55, Ave reward 14.77, Ave turns 24.46, Best success rate 0\n",
      "Progress: 50 / 100, Success rate: 17 / 50 Avg reward: -13.40 Avg turns: 30.40\n",
      "----------------- Episode: 50 ----------------- \n",
      "simulation success rate 0.64, ave reward 26.99, ave turns 21.62\n",
      "simulation success rate 0.55, ave reward 14.74, ave turns 24.52\n",
      "Train on : 1226\n",
      "- cur bellman err 4.8999, experience replay pool 1226\n",
      "Simulation success rate 0.64, Ave reward 26.99, Ave turns 21.62, Best success rate 0\n",
      "Progress: 51 / 100, Success rate: 17 / 51 Avg reward: -14.31 Avg turns: 30.63\n",
      "----------------- Episode: 51 ----------------- \n",
      "Successful Dialog!\n",
      "simulation success rate 0.56, ave reward 15.67, ave turns 25.06\n",
      "simulation success rate 0.59, ave reward 20.4, ave turns 22.8\n",
      "Train on : 1140\n",
      "- cur bellman err 4.0084, experience replay pool 1140\n",
      "Simulation success rate 0.56, Ave reward 15.67, Ave turns 25.06, Best success rate 0\n",
      "Progress: 52 / 100, Success rate: 18 / 52 Avg reward: -12.58 Avg turns: 30.23\n",
      "----------------- Episode: 52 ----------------- \n",
      "simulation success rate 0.53, ave reward 11.64, ave turns 25.92\n",
      "simulation success rate 0.44, ave reward 0.24, ave turns 27.12\n",
      "Train on : 1356\n",
      "- cur bellman err 2.2879, experience replay pool 1356\n",
      "Simulation success rate 0.53, Ave reward 11.64, Ave turns 25.92, Best success rate 0\n",
      "Progress: 53 / 100, Success rate: 18 / 53 Avg reward: -13.47 Avg turns: 30.45\n",
      "----------------- Episode: 53 ----------------- \n",
      "simulation success rate 0.56, ave reward 15.87, ave turns 24.66\n",
      "simulation success rate 0.54, ave reward 13.33, ave turns 24.94\n",
      "Train on : 1247\n",
      "- cur bellman err 3.3691, experience replay pool 1247\n",
      "Simulation success rate 0.56, Ave reward 15.87, Ave turns 24.66, Best success rate 0\n",
      "Progress: 54 / 100, Success rate: 18 / 54 Avg reward: -14.33 Avg turns: 30.67\n",
      "----------------- Episode: 54 ----------------- \n",
      "Successful Dialog!\n",
      "simulation success rate 0.51, ave reward 9.38, ave turns 25.64\n",
      "simulation success rate 0.54, ave reward 14.09, ave turns 23.42\n",
      "Train on : 1171\n",
      "- cur bellman err 4.0857, experience replay pool 1171\n",
      "Simulation success rate 0.51, Ave reward 9.38, Ave turns 25.64, Best success rate 0\n",
      "Progress: 55 / 100, Success rate: 19 / 55 Avg reward: -12.71 Avg turns: 30.33\n",
      "----------------- Episode: 55 ----------------- \n",
      "simulation success rate 0.6, ave reward 21.14, ave turns 23.72\n",
      "simulation success rate 0.6, ave reward 21.24, ave turns 23.52\n",
      "Train on : 1176\n",
      "- cur bellman err 3.7837, experience replay pool 1176\n",
      "Simulation success rate 0.6, Ave reward 21.14, Ave turns 23.72, Best success rate 0\n",
      "Progress: 56 / 100, Success rate: 19 / 56 Avg reward: -13.55 Avg turns: 30.54\n",
      "----------------- Episode: 56 ----------------- \n",
      "simulation success rate 0.5, ave reward 7.7, ave turns 26.6\n",
      "simulation success rate 0.54, ave reward 13.13, ave turns 25.34\n",
      "Train on : 1267\n",
      "- cur bellman err 2.9306, experience replay pool 1267\n",
      "Simulation success rate 0.5, Ave reward 7.7, Ave turns 26.6, Best success rate 0\n",
      "Progress: 57 / 100, Success rate: 19 / 57 Avg reward: -14.37 Avg turns: 30.74\n",
      "----------------- Episode: 57 ----------------- \n",
      "simulation success rate 0.56, ave reward 16.57, ave turns 23.26\n",
      "simulation success rate 0.51, ave reward 9.88, ave turns 24.64\n",
      "Train on : 1232\n",
      "- cur bellman err 3.7567, experience replay pool 1232\n",
      "Simulation success rate 0.56, Ave reward 16.57, Ave turns 23.26, Best success rate 0\n",
      "Progress: 58 / 100, Success rate: 19 / 58 Avg reward: -15.14 Avg turns: 30.90\n",
      "----------------- Episode: 58 ----------------- \n",
      "Successful Dialog!\n",
      "simulation success rate 0.52, ave reward 11.14, ave turns 24.52\n",
      "simulation success rate 0.59, ave reward 20.99, ave turns 21.62\n",
      "Train on : 1081\n",
      "- cur bellman err 4.2953, experience replay pool 1081\n",
      "Simulation success rate 0.52, Ave reward 11.14, Ave turns 24.52, Best success rate 0\n",
      "Progress: 59 / 100, Success rate: 20 / 59 Avg reward: -13.61 Avg turns: 30.58\n",
      "----------------- Episode: 59 ----------------- \n",
      "simulation success rate 0.62, ave reward 23.75, ave turns 23.3\n",
      "simulation success rate 0.58, ave reward 18.33, ave turns 24.54\n",
      "Train on : 1227\n",
      "- cur bellman err 3.0652, experience replay pool 1227\n",
      "Simulation success rate 0.62, Ave reward 23.75, Ave turns 23.3, Best success rate 0\n",
      "Progress: 60 / 100, Success rate: 20 / 60 Avg reward: -14.38 Avg turns: 30.77\n",
      "----------------- Episode: 60 ----------------- \n",
      "simulation success rate 0.52, ave reward 10.13, ave turns 26.54\n",
      "simulation success rate 0.55, ave reward 14.29, ave turns 25.42\n",
      "Train on : 1271\n",
      "- cur bellman err 2.5032, experience replay pool 1271\n",
      "Simulation success rate 0.52, Ave reward 10.13, Ave turns 26.54, Best success rate 0\n",
      "Progress: 61 / 100, Success rate: 20 / 61 Avg reward: -15.11 Avg turns: 30.92\n",
      "----------------- Episode: 61 ----------------- \n",
      "Successful Dialog!\n",
      "simulation success rate 0.6, ave reward 21.67, ave turns 22.66\n",
      "simulation success rate 0.56, ave reward 15.77, ave turns 24.86\n",
      "Train on : 1243\n",
      "- cur bellman err 3.6835, experience replay pool 1243\n",
      "Simulation success rate 0.6, Ave reward 21.67, Ave turns 22.66, Best success rate 0\n",
      "Progress: 62 / 100, Success rate: 21 / 62 Avg reward: -13.65 Avg turns: 30.58\n",
      "----------------- Episode: 62 ----------------- \n"
     ]
    },
    {
     "name": "stdout",
     "output_type": "stream",
     "text": [
      "simulation success rate 0.58, ave reward 18.11, ave turns 24.98\n",
      "simulation success rate 0.59, ave reward 19.7, ave turns 24.2\n",
      "Train on : 1210\n",
      "- cur bellman err 2.7357, experience replay pool 1210\n",
      "Simulation success rate 0.58, Ave reward 18.11, Ave turns 24.98, Best success rate 0\n",
      "Progress: 63 / 100, Success rate: 21 / 63 Avg reward: -14.38 Avg turns: 30.76\n",
      "----------------- Episode: 63 ----------------- \n",
      "simulation success rate 0.55, ave reward 14.68, ave turns 24.64\n",
      "simulation success rate 0.52, ave reward 10.77, ave turns 25.26\n",
      "Train on : 1263\n",
      "- cur bellman err 4.4376, experience replay pool 1263\n",
      "Simulation success rate 0.55, Ave reward 14.68, Ave turns 24.64, Best success rate 0\n",
      "Progress: 64 / 100, Success rate: 21 / 64 Avg reward: -15.00 Avg turns: 30.75\n",
      "----------------- Episode: 64 ----------------- \n",
      "Successful Dialog!\n",
      "simulation success rate 0.63, ave reward 24.93, ave turns 23.34\n",
      "simulation success rate 0.58, ave reward 18.79, ave turns 23.62\n",
      "Train on : 1181\n",
      "- cur bellman err 7.1336, experience replay pool 1181\n",
      "Simulation success rate 0.63, Ave reward 24.93, Ave turns 23.34, Best success rate 0\n",
      "Progress: 65 / 100, Success rate: 22 / 65 Avg reward: -13.63 Avg turns: 30.49\n",
      "----------------- Episode: 65 ----------------- \n",
      "Successful Dialog!\n",
      "simulation success rate 0.55, ave reward 15.52, ave turns 22.96\n",
      "simulation success rate 0.61, ave reward 23.17, ave turns 22.06\n",
      "Train on : 1103\n",
      "- cur bellman err 5.8862, experience replay pool 1103\n",
      "Simulation success rate 0.55, Ave reward 15.52, Ave turns 22.96, Best success rate 0\n",
      "Progress: 66 / 100, Success rate: 23 / 66 Avg reward: -12.29 Avg turns: 30.21\n",
      "----------------- Episode: 66 ----------------- \n",
      "Successful Dialog!\n",
      "simulation success rate 0.65, ave reward 27.64, ave turns 22.72\n",
      "simulation success rate 0.66, ave reward 29.16, ave turns 22.08\n",
      "Train on : 1104\n",
      "- cur bellman err 7.9283, experience replay pool 1104\n",
      "Simulation success rate 0.65, Ave reward 27.64, Ave turns 22.72, Best success rate 0\n",
      "Progress: 67 / 100, Success rate: 24 / 67 Avg reward: -10.97 Avg turns: 29.91\n",
      "----------------- Episode: 67 ----------------- \n",
      "simulation success rate 0.68, ave reward 33.41, ave turns 18.38\n",
      "simulation success rate 0.79, ave reward 47.38, ave turns 16.84\n",
      "Train on : 842\n",
      "- cur bellman err 10.4262, experience replay pool 842\n",
      "Simulation success rate 0.68, Ave reward 33.41, Ave turns 18.38, Best success rate 0\n",
      "Progress: 68 / 100, Success rate: 24 / 68 Avg reward: -11.69 Avg turns: 30.09\n",
      "----------------- Episode: 68 ----------------- \n",
      "Successful Dialog!\n",
      "simulation success rate 0.68, ave reward 33.17, ave turns 18.86\n",
      "simulation success rate 0.65, ave reward 28.96, ave turns 20.08\n",
      "Train on : 1004\n",
      "- cur bellman err 6.0891, experience replay pool 1004\n",
      "Simulation success rate 0.68, Ave reward 33.17, Ave turns 18.86, Best success rate 0\n",
      "Progress: 69 / 100, Success rate: 25 / 69 Avg reward: -10.43 Avg turns: 29.83\n",
      "----------------- Episode: 69 ----------------- \n",
      "simulation success rate 0.64, ave reward 28.02, ave turns 19.56\n",
      "simulation success rate 0.65, ave reward 30.23, ave turns 17.54\n",
      "Train on : 877\n",
      "- cur bellman err 11.6319, experience replay pool 877\n",
      "Simulation success rate 0.64, Ave reward 28.02, Ave turns 19.56, Best success rate 0\n",
      "Progress: 70 / 100, Success rate: 25 / 70 Avg reward: -11.14 Avg turns: 30.00\n",
      "----------------- Episode: 70 ----------------- \n",
      "Successful Dialog!\n",
      "simulation success rate 0.77, ave reward 45.39, ave turns 16.02\n",
      "simulation success rate 0.81, ave reward 49.64, ave turns 17.12\n",
      "Train on : 856\n",
      "- cur bellman err 6.8275, experience replay pool 856\n",
      "Simulation success rate 0.77, Ave reward 45.39, Ave turns 16.02, Best success rate 0\n",
      "Progress: 71 / 100, Success rate: 26 / 71 Avg reward: -9.93 Avg turns: 29.75\n",
      "----------------- Episode: 71 ----------------- \n",
      "Successful Dialog!\n",
      "simulation success rate 0.72, ave reward 38.18, ave turns 18.44\n",
      "simulation success rate 0.62, ave reward 25.91, ave turns 18.98\n",
      "Train on : 949\n",
      "- cur bellman err 7.8549, experience replay pool 949\n",
      "Simulation success rate 0.72, Ave reward 38.18, Ave turns 18.44, Best success rate 0\n",
      "Progress: 72 / 100, Success rate: 27 / 72 Avg reward: -8.75 Avg turns: 29.50\n",
      "----------------- Episode: 72 ----------------- \n",
      "Successful Dialog!\n",
      "simulation success rate 0.78, ave reward 46.11, ave turns 16.98\n",
      "simulation success rate 0.77, ave reward 45.12, ave turns 16.56\n",
      "Train on : 828\n",
      "- cur bellman err 8.5509, experience replay pool 828\n",
      "Simulation success rate 0.78, Ave reward 46.11, Ave turns 16.98, Best success rate 0\n",
      "Progress: 73 / 100, Success rate: 28 / 73 Avg reward: -7.63 Avg turns: 29.32\n",
      "----------------- Episode: 73 ----------------- \n",
      "Successful Dialog!\n",
      "simulation success rate 0.77, ave reward 44.52, ave turns 17.76\n",
      "simulation success rate 0.86, ave reward 56.56, ave turns 15.28\n",
      "Train on : 764\n",
      "- cur bellman err 8.4212, experience replay pool 764\n",
      "Simulation success rate 0.77, Ave reward 44.52, Ave turns 17.76, Best success rate 0\n",
      "Progress: 74 / 100, Success rate: 29 / 74 Avg reward: -6.51 Avg turns: 29.08\n",
      "----------------- Episode: 74 ----------------- \n",
      "Successful Dialog!\n",
      "simulation success rate 0.72, ave reward 38.79, ave turns 17.22\n",
      "simulation success rate 0.66, ave reward 30.35, ave turns 19.7\n",
      "Train on : 985\n",
      "- cur bellman err 6.1331, experience replay pool 985\n",
      "Simulation success rate 0.72, Ave reward 38.79, Ave turns 17.22, Best success rate 0\n",
      "Progress: 75 / 100, Success rate: 30 / 75 Avg reward: -5.43 Avg turns: 28.85\n",
      "----------------- Episode: 75 ----------------- \n",
      "simulation success rate 0.81, ave reward 50.31, ave turns 15.78\n",
      "simulation success rate 0.75, ave reward 42.12, ave turns 17.76\n",
      "Train on : 888\n",
      "- cur bellman err 6.5532, experience replay pool 888\n",
      "Simulation success rate 0.81, Ave reward 50.31, Ave turns 15.78, Best success rate 0\n",
      "Progress: 76 / 100, Success rate: 30 / 76 Avg reward: -5.93 Avg turns: 28.61\n",
      "----------------- Episode: 76 ----------------- \n",
      "simulation success rate 0.81, ave reward 49.5, ave turns 17.4\n",
      "simulation success rate 0.89, ave reward 60.38, ave turns 14.84\n",
      "Train on : 742\n",
      "- cur bellman err 6.8653, experience replay pool 742\n",
      "Simulation success rate 0.81, Ave reward 49.5, Ave turns 17.4, Best success rate 0\n",
      "Progress: 77 / 100, Success rate: 30 / 77 Avg reward: -6.64 Avg turns: 28.78\n",
      "----------------- Episode: 77 ----------------- \n",
      "Successful Dialog!\n",
      "simulation success rate 0.81, ave reward 50.38, ave turns 15.64\n",
      "simulation success rate 0.76, ave reward 43.38, ave turns 17.64\n",
      "Train on : 882\n",
      "- cur bellman err 5.8020, experience replay pool 882\n",
      "Simulation success rate 0.81, Ave reward 50.38, Ave turns 15.64, Best success rate 0\n",
      "Progress: 78 / 100, Success rate: 31 / 78 Avg reward: -5.59 Avg turns: 28.56\n",
      "----------------- Episode: 78 ----------------- \n",
      "Successful Dialog!\n",
      "simulation success rate 0.79, ave reward 47.3, ave turns 17.0\n",
      "simulation success rate 0.71, ave reward 37.27, ave turns 17.86\n",
      "Train on : 893\n",
      "- cur bellman err 8.6920, experience replay pool 893\n",
      "Simulation success rate 0.79, Ave reward 47.3, Ave turns 17.0, Best success rate 0\n",
      "Progress: 79 / 100, Success rate: 32 / 79 Avg reward: -4.61 Avg turns: 28.43\n",
      "----------------- Episode: 79 ----------------- \n",
      "Successful Dialog!\n",
      "simulation success rate 0.84, ave reward 53.97, ave turns 15.66\n",
      "simulation success rate 0.87, ave reward 57.95, ave turns 14.9\n",
      "Train on : 745\n",
      "- cur bellman err 6.6857, experience replay pool 745\n",
      "Simulation success rate 0.84, Ave reward 53.97, Ave turns 15.66, Best success rate 0\n",
      "Progress: 80 / 100, Success rate: 33 / 80 Avg reward: -3.61 Avg turns: 28.23\n",
      "----------------- Episode: 80 ----------------- \n",
      "Successful Dialog!\n",
      "simulation success rate 0.86, ave reward 56.15, ave turns 16.1\n",
      "simulation success rate 0.78, ave reward 46.58, ave turns 16.04\n",
      "Train on : 802\n",
      "- cur bellman err 11.0703, experience replay pool 802\n",
      "Simulation success rate 0.86, Ave reward 56.15, Ave turns 16.1, Best success rate 0\n",
      "Progress: 81 / 100, Success rate: 34 / 81 Avg reward: -2.65 Avg turns: 28.05\n",
      "----------------- Episode: 81 ----------------- \n",
      "Successful Dialog!\n",
      "simulation success rate 0.84, ave reward 53.65, ave turns 16.3\n",
      "simulation success rate 0.82, ave reward 50.79, ave turns 17.22\n",
      "Train on : 861\n",
      "- cur bellman err 5.9844, experience replay pool 861\n",
      "Simulation success rate 0.84, Ave reward 53.65, Ave turns 16.3, Best success rate 0\n",
      "Progress: 82 / 100, Success rate: 35 / 82 Avg reward: -1.74 Avg turns: 27.93\n",
      "----------------- Episode: 82 ----------------- \n",
      "Successful Dialog!\n"
     ]
    },
    {
     "name": "stdout",
     "output_type": "stream",
     "text": [
      "simulation success rate 0.78, ave reward 46.83, ave turns 15.54\n",
      "simulation success rate 0.83, ave reward 53.83, ave turns 13.54\n",
      "Train on : 677\n",
      "- cur bellman err 13.2299, experience replay pool 677\n",
      "Simulation success rate 0.78, Ave reward 46.83, Ave turns 15.54, Best success rate 0\n",
      "Progress: 83 / 100, Success rate: 36 / 83 Avg reward: -0.83 Avg turns: 27.76\n",
      "----------------- Episode: 83 ----------------- \n",
      "Successful Dialog!\n",
      "simulation success rate 0.86, ave reward 56.76, ave turns 14.88\n",
      "simulation success rate 0.75, ave reward 42.21, ave turns 17.58\n",
      "Train on : 879\n",
      "- cur bellman err 6.4630, experience replay pool 879\n",
      "Simulation success rate 0.86, Ave reward 56.76, Ave turns 14.88, Best success rate 0\n",
      "Progress: 84 / 100, Success rate: 37 / 84 Avg reward: 0.06 Avg turns: 27.60\n",
      "----------------- Episode: 84 ----------------- \n",
      "Successful Dialog!\n",
      "simulation success rate 0.82, ave reward 51.13, ave turns 16.54\n",
      "simulation success rate 0.84, ave reward 53.77, ave turns 16.06\n",
      "Train on : 803\n",
      "- cur bellman err 7.4251, experience replay pool 803\n",
      "Simulation success rate 0.82, Ave reward 51.13, Ave turns 16.54, Best success rate 0\n",
      "Progress: 85 / 100, Success rate: 38 / 85 Avg reward: 0.94 Avg turns: 27.41\n",
      "----------------- Episode: 85 ----------------- \n",
      "Successful Dialog!\n",
      "simulation success rate 0.81, ave reward 50.44, ave turns 15.52\n",
      "simulation success rate 0.84, ave reward 54.24, ave turns 15.12\n",
      "Train on : 756\n",
      "- cur bellman err 7.8137, experience replay pool 756\n",
      "Simulation success rate 0.81, Ave reward 50.44, Ave turns 15.52, Best success rate 0\n",
      "Progress: 86 / 100, Success rate: 39 / 86 Avg reward: 1.80 Avg turns: 27.23\n",
      "----------------- Episode: 86 ----------------- \n",
      "Successful Dialog!\n",
      "simulation success rate 0.9, ave reward 61.98, ave turns 14.04\n",
      "simulation success rate 0.8, ave reward 48.72, ave turns 16.56\n",
      "Train on : 828\n",
      "- cur bellman err 4.2147, experience replay pool 828\n",
      "Simulation success rate 0.9, Ave reward 61.98, Ave turns 14.04, Best success rate 0\n",
      "Progress: 87 / 100, Success rate: 40 / 87 Avg reward: 2.64 Avg turns: 27.06\n",
      "----------------- Episode: 87 ----------------- \n",
      "Successful Dialog!\n",
      "simulation success rate 0.87, ave reward 57.96, ave turns 14.88\n",
      "simulation success rate 0.75, ave reward 42.78, ave turns 16.44\n",
      "Train on : 822\n",
      "- cur bellman err 7.3477, experience replay pool 822\n",
      "Simulation success rate 0.87, Ave reward 57.96, Ave turns 14.88, Best success rate 0\n",
      "Progress: 88 / 100, Success rate: 41 / 88 Avg reward: 3.45 Avg turns: 26.91\n",
      "----------------- Episode: 88 ----------------- \n",
      "Successful Dialog!\n",
      "simulation success rate 0.87, ave reward 57.36, ave turns 16.08\n",
      "simulation success rate 0.84, ave reward 53.76, ave turns 16.08\n",
      "Train on : 804\n",
      "- cur bellman err 5.2902, experience replay pool 804\n",
      "Simulation success rate 0.87, Ave reward 57.36, Ave turns 16.08, Best success rate 0\n",
      "Progress: 89 / 100, Success rate: 42 / 89 Avg reward: 4.26 Avg turns: 26.74\n",
      "----------------- Episode: 89 ----------------- \n",
      "Successful Dialog!\n",
      "simulation success rate 0.9, ave reward 62.28, ave turns 13.44\n",
      "simulation success rate 0.81, ave reward 51.1, ave turns 14.2\n",
      "Train on : 710\n",
      "- cur bellman err 9.6156, experience replay pool 710\n",
      "Simulation success rate 0.9, Ave reward 62.28, Ave turns 13.44, Best success rate 0\n",
      "Progress: 90 / 100, Success rate: 43 / 90 Avg reward: 5.07 Avg turns: 26.53\n",
      "----------------- Episode: 90 ----------------- \n",
      "Successful Dialog!\n",
      "simulation success rate 0.81, ave reward 50.01, ave turns 16.38\n",
      "simulation success rate 0.89, ave reward 60.67, ave turns 14.26\n",
      "Train on : 713\n",
      "- cur bellman err 7.7714, experience replay pool 713\n",
      "Simulation success rate 0.81, Ave reward 50.01, Ave turns 16.38, Best success rate 0\n",
      "Progress: 91 / 100, Success rate: 44 / 91 Avg reward: 5.84 Avg turns: 26.37\n",
      "----------------- Episode: 91 ----------------- \n",
      "Successful Dialog!\n",
      "simulation success rate 0.82, ave reward 51.36, ave turns 16.08\n",
      "simulation success rate 0.87, ave reward 57.8, ave turns 15.2\n",
      "Train on : 760\n",
      "- cur bellman err 5.6265, experience replay pool 760\n",
      "Simulation success rate 0.82, Ave reward 51.36, Ave turns 16.08, Best success rate 0\n",
      "Progress: 92 / 100, Success rate: 45 / 92 Avg reward: 6.60 Avg turns: 26.20\n",
      "----------------- Episode: 92 ----------------- \n",
      "Successful Dialog!\n",
      "simulation success rate 0.83, ave reward 53.22, ave turns 14.76\n",
      "simulation success rate 0.81, ave reward 49.7, ave turns 17.0\n",
      "Train on : 850\n",
      "- cur bellman err 5.1415, experience replay pool 850\n",
      "Simulation success rate 0.83, Ave reward 53.22, Ave turns 14.76, Best success rate 0\n",
      "Progress: 93 / 100, Success rate: 46 / 93 Avg reward: 7.34 Avg turns: 26.02\n",
      "----------------- Episode: 93 ----------------- \n",
      "Successful Dialog!\n",
      "simulation success rate 0.84, ave reward 54.16, ave turns 15.28\n",
      "simulation success rate 0.86, ave reward 57.03, ave turns 14.34\n",
      "Train on : 717\n",
      "- cur bellman err 4.9870, experience replay pool 717\n",
      "Simulation success rate 0.84, Ave reward 54.16, Ave turns 15.28, Best success rate 0\n",
      "Progress: 94 / 100, Success rate: 47 / 94 Avg reward: 8.06 Avg turns: 25.87\n",
      "----------------- Episode: 94 ----------------- \n",
      "Successful Dialog!\n",
      "simulation success rate 0.79, ave reward 47.42, ave turns 16.76\n",
      "simulation success rate 0.8, ave reward 48.82, ave turns 16.36\n",
      "Train on : 818\n",
      "- cur bellman err 5.1375, experience replay pool 818\n",
      "Simulation success rate 0.79, Ave reward 47.42, Ave turns 16.76, Best success rate 0\n",
      "Progress: 95 / 100, Success rate: 48 / 95 Avg reward: 8.77 Avg turns: 25.73\n",
      "----------------- Episode: 95 ----------------- \n",
      "Successful Dialog!\n",
      "simulation success rate 0.77, ave reward 44.59, ave turns 17.62\n",
      "simulation success rate 0.84, ave reward 53.85, ave turns 15.9\n",
      "Train on : 795\n",
      "- cur bellman err 4.1135, experience replay pool 795\n",
      "Simulation success rate 0.77, Ave reward 44.59, Ave turns 17.62, Best success rate 0\n",
      "Progress: 96 / 100, Success rate: 49 / 96 Avg reward: 9.45 Avg turns: 25.60\n",
      "----------------- Episode: 96 ----------------- \n",
      "Successful Dialog!\n",
      "simulation success rate 0.8, ave reward 48.82, ave turns 16.36\n",
      "simulation success rate 0.8, ave reward 48.86, ave turns 16.28\n",
      "Train on : 814\n",
      "- cur bellman err 3.1927, experience replay pool 814\n",
      "Simulation success rate 0.8, Ave reward 48.82, Ave turns 16.36, Best success rate 0\n",
      "Progress: 97 / 100, Success rate: 50 / 97 Avg reward: 10.12 Avg turns: 25.46\n",
      "----------------- Episode: 97 ----------------- \n",
      "Successful Dialog!\n",
      "simulation success rate 0.77, ave reward 44.51, ave turns 17.78\n",
      "simulation success rate 0.85, ave reward 55.4, ave turns 15.2\n",
      "Train on : 760\n",
      "- cur bellman err 4.9685, experience replay pool 760\n",
      "Simulation success rate 0.77, Ave reward 44.51, Ave turns 17.78, Best success rate 0\n",
      "Progress: 98 / 100, Success rate: 51 / 98 Avg reward: 10.80 Avg turns: 25.31\n",
      "----------------- Episode: 98 ----------------- \n",
      "Successful Dialog!\n",
      "simulation success rate 0.85, ave reward 55.27, ave turns 15.46\n",
      "simulation success rate 0.81, ave reward 50.39, ave turns 15.62\n",
      "Train on : 781\n",
      "- cur bellman err 10.1363, experience replay pool 781\n",
      "Simulation success rate 0.85, Ave reward 55.27, Ave turns 15.46, Best success rate 0\n",
      "Progress: 99 / 100, Success rate: 52 / 99 Avg reward: 11.43 Avg turns: 25.19\n",
      "----------------- Episode: 99 ----------------- \n",
      "Successful Dialog!\n",
      "simulation success rate 0.86, ave reward 56.51, ave turns 15.38\n",
      "simulation success rate 0.85, ave reward 55.52, ave turns 14.96\n",
      "Train on : 748\n",
      "- cur bellman err 3.5387, experience replay pool 748\n",
      "Simulation success rate 0.86, Ave reward 56.51, Ave turns 15.38, Best success rate 0\n",
      "Progress: 100 / 100, Success rate: 53 / 100 Avg reward: 12.05 Avg turns: 25.10\n",
      "Success rate: 53 / 100 Avg reward: 12.05 Avg turns: 25.10\n"
     ]
    }
   ],
   "source": [
    "performance_records = {}\n",
    "performance_records['success_rate'] = {}\n",
    "performance_records['ave_turns'] = {}\n",
    "performance_records['ave_reward'] = {}\n",
    "\n",
    "best_model = {}\n",
    "best_res = {'success_rate': 0, 'ave_reward':float('-inf'), 'ave_turns': float('inf'), 'epoch':0}\n",
    "\n",
    "curve = []\n",
    "losses = []\n",
    "agent.warm_start = 1\n",
    "run_episodes(100, status)"
   ]
  },
  {
   "cell_type": "raw",
   "metadata": {},
   "source": []
  },
  {
   "cell_type": "code",
   "execution_count": 36,
   "metadata": {},
   "outputs": [
    {
     "data": {
      "image/png": "[encoded data removed]",
      "text/plain": [
       "<matplotlib.figure.Figure at 0x7f3df1f225c0>"
      ]
     },
     "metadata": {},
     "output_type": "display_data"
    }
   ],
   "source": [
    "draw_learning_curve(curve)"
   ]
  },
  {
   "cell_type": "code",
   "execution_count": 34,
   "metadata": {},
   "outputs": [
    {
     "data": {
      "image/png": "[encoded data removed]",
      "text/plain": [
       "<matplotlib.figure.Figure at 0x7f3df004a2e8>"
      ]
     },
     "metadata": {},
     "output_type": "display_data"
    }
   ],
   "source": [
    "draw_loss_curve(losses)"
   ]
  },
  {
   "cell_type": "code",
   "execution_count": null,
   "metadata": {},
   "outputs": [],
   "source": [
    "draw_loss_curve(losses[-100:])"
   ]
  },
  {
   "cell_type": "code",
   "execution_count": null,
   "metadata": {
    "collapsed": true
   },
   "outputs": [],
   "source": [
    "saver = tf.train.Saver()"
   ]
  },
  {
   "cell_type": "code",
   "execution_count": null,
   "metadata": {
    "collapsed": true
   },
   "outputs": [],
   "source": [
    "#saver.save(agent.model.sess, \"trained_model/tf_400/\", global_step = 400)  "
   ]
  },
  {
   "cell_type": "code",
   "execution_count": null,
   "metadata": {
    "collapsed": true
   },
   "outputs": [],
   "source": []
  }
 ],
 "metadata": {
  "kernelspec": {
   "display_name": "Python 3",
   "language": "python",
   "name": "python3"
  },
  "language_info": {
   "codemirror_mode": {
    "name": "ipython",
    "version": 3
   },
   "file_extension": ".py",
   "mimetype": "text/x-python",
   "name": "python",
   "nbconvert_exporter": "python",
   "pygments_lexer": "ipython3",
   "version": "3.5.2"
  },
  "latex_envs": {
   "LaTeX_envs_menu_present": true,
   "autocomplete": true,
   "bibliofile": "biblio.bib",
   "cite_by": "apalike",
   "current_citInitial": 1,
   "eqLabelWithNumbers": true,
   "eqNumInitial": 1,
   "hotkeys": {
    "equation": "Ctrl-E",
    "itemize": "Ctrl-I"
   },
   "labels_anchors": false,
   "latex_user_defs": false,
   "report_style_numbering": false,
   "user_envs_cfg": false
  },
  "nbTranslate": {
   "displayLangs": [
    "*"
   ],
   "hotkey": "alt-t",
   "langInMainMenu": true,
   "sourceLang": "en",
   "targetLang": "fr",
   "useGoogleTranslate": true
  },
  "varInspector": {
   "cols": {
    "lenName": 16,
    "lenType": 16,
    "lenVar": 40
   },
   "kernels_config": {
    "python": {
     "delete_cmd_postfix": "",
     "delete_cmd_prefix": "del ",
     "library": "var_list.py",
     "varRefreshCmd": "print(var_dic_list())"
    },
    "r": {
     "delete_cmd_postfix": ") ",
     "delete_cmd_prefix": "rm(",
     "library": "var_list.r",
     "varRefreshCmd": "cat(var_dic_list()) "
    }
   },
   "types_to_exclude": [
    "module",
    "function",
    "builtin_function_or_method",
    "instance",
    "_Feature"
   ],
   "window_display": false
  }
 },
 "nbformat": 4,
 "nbformat_minor": 2
}
