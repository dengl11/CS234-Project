{
 "cells": [
  {
   "cell_type": "markdown",
   "metadata": {},
   "source": [
    "# DSTC-2 Datasets Loading\n",
    "\n",
    "### Look into DSTC-2 and understand its structure"
   ]
  },
  {
   "cell_type": "markdown",
   "metadata": {},
   "source": [
    "## Load Libraries"
   ]
  },
  {
   "cell_type": "code",
   "execution_count": 1,
   "metadata": {
    "collapsed": true
   },
   "outputs": [],
   "source": [
    "import os, json, re\n",
    "from IPython.display import display, HTML\n",
    "import pandas as pd"
   ]
  },
  {
   "cell_type": "markdown",
   "metadata": {},
   "source": [
    "## Parameters"
   ]
  },
  {
   "cell_type": "code",
   "execution_count": 2,
   "metadata": {
    "collapsed": true
   },
   "outputs": [],
   "source": [
    "dataset_name = \"dstc2_dev\"\n",
    "src_folder = \"data/dstc2_traindev\""
   ]
  },
  {
   "cell_type": "code",
   "execution_count": 3,
   "metadata": {
    "collapsed": true
   },
   "outputs": [],
   "source": [
    "class dataset_walker(object):\n",
    "        \n",
    "    def __init__(self,dataset,labels=False,dataroot=None):\n",
    "        if \"[\" in dataset :\n",
    "            self.datasets = json.loads(dataset)\n",
    "        elif type(dataset) == type([]) :\n",
    "            self.datasets= dataset\n",
    "        else:\n",
    "            self.datasets = [dataset]\n",
    "            self.dataset = dataset\n",
    "        self.dataset_session_lists = [os.path.join(src_folder, 'scripts', 'config', dataset_name + '.flist') for dataset in self.datasets]\n",
    "           \n",
    "        self.labels = labels\n",
    "        if (dataroot == None):\n",
    "            self.dataroot = os.path.join(src_folder,'data')\n",
    "        else:\n",
    "            self.dataroot = os.path.join(os.path.abspath(dataroot))\n",
    "\n",
    "        # load dataset (list of calls)\n",
    "        self.session_list = []\n",
    "        for dataset_session_list in self.dataset_session_lists :\n",
    "            f = open(dataset_session_list)\n",
    "            for line in f:\n",
    "                line = line.strip()\n",
    "                #line = re.sub('/',r'\\\\',line)\n",
    "                #line = re.sub(r'\\\\+$','',line)\n",
    "                if (line in self.session_list):\n",
    "                    raise(RuntimeError,'Call appears twice: %s' % (line))\n",
    "                self.session_list.append(line)\n",
    "            f.close() \n",
    "    \n",
    "    def session_id_to_call(self, session_id):\n",
    "        session_id_list = session_id.split('/')\n",
    "        session_dirname = os.path.join(self.dataroot, *session_id_list)\n",
    "        applog_filename = os.path.join(session_dirname,'log.json')\n",
    "        if (self.labels):\n",
    "            labels_filename = os.path.join(session_dirname,'label.json')\n",
    "            if (not os.path.exists(labels_filename)):\n",
    "                raise(RuntimeError,'Cant score : cant open labels file %s' % (labels_filename))\n",
    "        else:\n",
    "            labels_filename = None\n",
    "        return Call(applog_filename,labels_filename)\n",
    "    \n",
    "    def __getitem__(self, i):\n",
    "        return self.session_id_to_call(self.session_list[i])\n",
    "    \n",
    "    def __iter__(self):\n",
    "        print(\"iter\")\n",
    "        for session_id in self.session_list:\n",
    "            yield self.session_id_to_call(session_id)\n",
    "            \n",
    "    def __len__(self, ):\n",
    "        return len(self.session_list)"
   ]
  },
  {
   "cell_type": "code",
   "execution_count": 4,
   "metadata": {
    "collapsed": true
   },
   "outputs": [],
   "source": [
    "class Call(object):\n",
    "    def __init__(self,applog_filename,labels_filename):\n",
    "        self.applog_filename = applog_filename\n",
    "        self.labels_filename = labels_filename\n",
    "        f = open(applog_filename)\n",
    "        self.log = json.load(f)\n",
    "        f.close()\n",
    "        if (labels_filename != None):\n",
    "            f = open(labels_filename)\n",
    "            self.labels = json.load(f)\n",
    "            f.close()\n",
    "        else:\n",
    "            self.labels = None\n",
    "\n",
    "    def __iter__(self):\n",
    "        if (self.labels_filename != None):\n",
    "            for (log,labels) in zip(self.log['turns'],self.labels['turns']):\n",
    "                yield (log,labels)\n",
    "        else: \n",
    "            for log in self.log['turns']:\n",
    "                yield (log,None)\n",
    "                \n",
    "    def __len__(self, ):\n",
    "        return len(self.log['turns'])"
   ]
  },
  {
   "cell_type": "code",
   "execution_count": 5,
   "metadata": {
    "collapsed": false
   },
   "outputs": [
    {
     "ename": "IOError",
     "evalue": "[Errno 2] No such file or directory: 'data/dstc2_traindev/scripts/config/dstc2_dev.flist'",
     "output_type": "error",
     "traceback": [
      "\u001b[0;31m---------------------------------------------------------------------------\u001b[0m",
      "\u001b[0;31mIOError\u001b[0m                                   Traceback (most recent call last)",
      "\u001b[0;32m<ipython-input-5-afaace6a2f8f>\u001b[0m in \u001b[0;36m<module>\u001b[0;34m()\u001b[0m\n\u001b[0;32m----> 1\u001b[0;31m \u001b[0mdataset\u001b[0m \u001b[0;34m=\u001b[0m \u001b[0mdataset_walker\u001b[0m\u001b[0;34m(\u001b[0m\u001b[0mdataset_name\u001b[0m\u001b[0;34m)\u001b[0m\u001b[0;34m\u001b[0m\u001b[0m\n\u001b[0m\u001b[1;32m      2\u001b[0m \u001b[0;32mprint\u001b[0m\u001b[0;34m(\u001b[0m\u001b[0;34m\"Total Datasets: {}\"\u001b[0m\u001b[0;34m.\u001b[0m\u001b[0mformat\u001b[0m\u001b[0;34m(\u001b[0m\u001b[0mlen\u001b[0m\u001b[0;34m(\u001b[0m\u001b[0mdataset\u001b[0m\u001b[0;34m)\u001b[0m\u001b[0;34m)\u001b[0m\u001b[0;34m)\u001b[0m\u001b[0;34m\u001b[0m\u001b[0m\n\u001b[1;32m      3\u001b[0m \u001b[0;34m\u001b[0m\u001b[0m\n\u001b[1;32m      4\u001b[0m \u001b[0mdisplay\u001b[0m\u001b[0;34m(\u001b[0m\u001b[0mHTML\u001b[0m\u001b[0;34m(\u001b[0m\u001b[0;34m'<h1>Session</h1>'\u001b[0m\u001b[0;34m)\u001b[0m\u001b[0;34m)\u001b[0m\u001b[0;34m\u001b[0m\u001b[0m\n\u001b[1;32m      5\u001b[0m \u001b[0;34m\u001b[0m\u001b[0m\n",
      "\u001b[0;32m<ipython-input-3-42e2137f0668>\u001b[0m in \u001b[0;36m__init__\u001b[0;34m(self, dataset, labels, dataroot)\u001b[0m\n\u001b[1;32m     20\u001b[0m         \u001b[0mself\u001b[0m\u001b[0;34m.\u001b[0m\u001b[0msession_list\u001b[0m \u001b[0;34m=\u001b[0m \u001b[0;34m[\u001b[0m\u001b[0;34m]\u001b[0m\u001b[0;34m\u001b[0m\u001b[0m\n\u001b[1;32m     21\u001b[0m         \u001b[0;32mfor\u001b[0m \u001b[0mdataset_session_list\u001b[0m \u001b[0;32min\u001b[0m \u001b[0mself\u001b[0m\u001b[0;34m.\u001b[0m\u001b[0mdataset_session_lists\u001b[0m \u001b[0;34m:\u001b[0m\u001b[0;34m\u001b[0m\u001b[0m\n\u001b[0;32m---> 22\u001b[0;31m             \u001b[0mf\u001b[0m \u001b[0;34m=\u001b[0m \u001b[0mopen\u001b[0m\u001b[0;34m(\u001b[0m\u001b[0mdataset_session_list\u001b[0m\u001b[0;34m)\u001b[0m\u001b[0;34m\u001b[0m\u001b[0m\n\u001b[0m\u001b[1;32m     23\u001b[0m             \u001b[0;32mfor\u001b[0m \u001b[0mline\u001b[0m \u001b[0;32min\u001b[0m \u001b[0mf\u001b[0m\u001b[0;34m:\u001b[0m\u001b[0;34m\u001b[0m\u001b[0m\n\u001b[1;32m     24\u001b[0m                 \u001b[0mline\u001b[0m \u001b[0;34m=\u001b[0m \u001b[0mline\u001b[0m\u001b[0;34m.\u001b[0m\u001b[0mstrip\u001b[0m\u001b[0;34m(\u001b[0m\u001b[0;34m)\u001b[0m\u001b[0;34m\u001b[0m\u001b[0m\n",
      "\u001b[0;31mIOError\u001b[0m: [Errno 2] No such file or directory: 'data/dstc2_traindev/scripts/config/dstc2_dev.flist'"
     ]
    }
   ],
   "source": [
    "dataset = dataset_walker(dataset_name)\n",
    "print(\"Total Datasets: {}\".format(len(dataset)))\n",
    "\n",
    "display(HTML('<h1>Session</h1>'))\n",
    "\n",
    "log = dataset[1].log\n",
    "table = pd.DataFrame.from_dict(log, orient='index')\n",
    "display(table)\n",
    "\n",
    "display(HTML('<h1>Turns</h1>'))\n",
    "\n",
    "turns = log[\"turns\"]\n",
    "display(pd.DataFrame(turns))\n",
    "\n",
    "display(HTML('<h1>Single Turn</h1>'))\n",
    "turn = turns[0]\n",
    "print(turn['input']['live'])\n",
    "display(pd.DataFrame(turn))\n"
   ]
  },
  {
   "cell_type": "code",
   "execution_count": null,
   "metadata": {
    "collapsed": true
   },
   "outputs": [],
   "source": []
  }
 ],
 "metadata": {
  "kernelspec": {
   "display_name": "Python 2",
   "language": "python",
   "name": "python2"
  },
  "language_info": {
   "codemirror_mode": {
    "name": "ipython",
    "version": 2
   },
   "file_extension": ".py",
   "mimetype": "text/x-python",
   "name": "python",
   "nbconvert_exporter": "python",
   "pygments_lexer": "ipython2",
   "version": "2.7.11"
  }
 },
 "nbformat": 4,
 "nbformat_minor": 2
}
